{
 "cells": [
  {
   "cell_type": "code",
   "execution_count": 57,
   "metadata": {},
   "outputs": [],
   "source": [
    "import numpy as np\n",
    "import pandas as pd\n",
    "import dask.array as da\n",
    "from sklearn.linear_model import Ridge, RidgeCV"
   ]
  },
  {
   "cell_type": "code",
   "execution_count": 64,
   "metadata": {},
   "outputs": [
    {
     "data": {
      "text/plain": [
       "(array([2, 4, 6]),\n",
       " array([[1, 2, 3],\n",
       "        [1, 2, 3]]))"
      ]
     },
     "execution_count": 64,
     "metadata": {},
     "output_type": "execute_result"
    }
   ],
   "source": [
    "df = pd.DataFrame({'x': [np.array([1,2,3]), np.array([1,2,3])]})\n",
    "df['x'].sum(), np.vstack(df['x'].array)"
   ]
  },
  {
   "cell_type": "code",
   "execution_count": 168,
   "metadata": {},
   "outputs": [
    {
     "data": {
      "text/html": [
       "<table>\n",
       "<tr>\n",
       "<td>\n",
       "<table>\n",
       "  <thead>\n",
       "    <tr><td> </td><th> Array </th><th> Chunk </th></tr>\n",
       "  </thead>\n",
       "  <tbody>\n",
       "    <tr><th> Bytes </th><td> 800 B </td> <td> 200 B </td></tr>\n",
       "    <tr><th> Shape </th><td> (10, 10) </td> <td> (5, 5) </td></tr>\n",
       "    <tr><th> Count </th><td> 10 Tasks </td><td> 4 Chunks </td></tr>\n",
       "    <tr><th> Type </th><td> int64 </td><td> numpy.ndarray </td></tr>\n",
       "  </tbody>\n",
       "</table>\n",
       "</td>\n",
       "<td>\n",
       "<svg width=\"170\" height=\"170\" style=\"stroke:rgb(0,0,0);stroke-width:1\" >\n",
       "\n",
       "  <!-- Horizontal lines -->\n",
       "  <line x1=\"0\" y1=\"0\" x2=\"120\" y2=\"0\" style=\"stroke-width:2\" />\n",
       "  <line x1=\"0\" y1=\"60\" x2=\"120\" y2=\"60\" />\n",
       "  <line x1=\"0\" y1=\"120\" x2=\"120\" y2=\"120\" style=\"stroke-width:2\" />\n",
       "\n",
       "  <!-- Vertical lines -->\n",
       "  <line x1=\"0\" y1=\"0\" x2=\"0\" y2=\"120\" style=\"stroke-width:2\" />\n",
       "  <line x1=\"60\" y1=\"0\" x2=\"60\" y2=\"120\" />\n",
       "  <line x1=\"120\" y1=\"0\" x2=\"120\" y2=\"120\" style=\"stroke-width:2\" />\n",
       "\n",
       "  <!-- Colored Rectangle -->\n",
       "  <polygon points=\"0.000000,0.000000 120.000000,0.000000 120.000000,120.000000 0.000000,120.000000\" style=\"fill:#ECB172A0;stroke-width:0\"/>\n",
       "\n",
       "  <!-- Text -->\n",
       "  <text x=\"60.000000\" y=\"140.000000\" font-size=\"1.0rem\" font-weight=\"100\" text-anchor=\"middle\" >10</text>\n",
       "  <text x=\"140.000000\" y=\"60.000000\" font-size=\"1.0rem\" font-weight=\"100\" text-anchor=\"middle\" transform=\"rotate(0,140.000000,60.000000)\">10</text>\n",
       "</svg>\n",
       "</td>\n",
       "</tr>\n",
       "</table>"
      ],
      "text/plain": [
       "dask.array<rechunk-merge, shape=(10, 10), dtype=int64, chunksize=(5, 5), chunktype=numpy.ndarray>"
      ]
     },
     "execution_count": 168,
     "metadata": {},
     "output_type": "execute_result"
    }
   ],
   "source": [
    "x = da.arange(100).reshape(10, 10).rechunk(chunks=(5, 5))\n",
    "y = da.arange(50).reshape(10, 5).rechunk(chunks=(5, 5))\n",
    "x"
   ]
  },
  {
   "cell_type": "code",
   "execution_count": 173,
   "metadata": {},
   "outputs": [
    {
     "data": {
      "text/html": [
       "<table>\n",
       "<tr>\n",
       "<td>\n",
       "<table>\n",
       "  <thead>\n",
       "    <tr><td> </td><th> Array </th><th> Chunk </th></tr>\n",
       "  </thead>\n",
       "  <tbody>\n",
       "    <tr><th> Bytes </th><td> 800 B </td> <td> 800 B </td></tr>\n",
       "    <tr><th> Shape </th><td> (10, 10) </td> <td> (10, 10) </td></tr>\n",
       "    <tr><th> Count </th><td> 11 Tasks </td><td> 1 Chunks </td></tr>\n",
       "    <tr><th> Type </th><td> int64 </td><td> numpy.ndarray </td></tr>\n",
       "  </tbody>\n",
       "</table>\n",
       "</td>\n",
       "<td>\n",
       "<svg width=\"170\" height=\"170\" style=\"stroke:rgb(0,0,0);stroke-width:1\" >\n",
       "\n",
       "  <!-- Horizontal lines -->\n",
       "  <line x1=\"0\" y1=\"0\" x2=\"120\" y2=\"0\" style=\"stroke-width:2\" />\n",
       "  <line x1=\"0\" y1=\"120\" x2=\"120\" y2=\"120\" style=\"stroke-width:2\" />\n",
       "\n",
       "  <!-- Vertical lines -->\n",
       "  <line x1=\"0\" y1=\"0\" x2=\"0\" y2=\"120\" style=\"stroke-width:2\" />\n",
       "  <line x1=\"120\" y1=\"0\" x2=\"120\" y2=\"120\" style=\"stroke-width:2\" />\n",
       "\n",
       "  <!-- Colored Rectangle -->\n",
       "  <polygon points=\"0.000000,0.000000 120.000000,0.000000 120.000000,120.000000 0.000000,120.000000\" style=\"fill:#ECB172A0;stroke-width:0\"/>\n",
       "\n",
       "  <!-- Text -->\n",
       "  <text x=\"60.000000\" y=\"140.000000\" font-size=\"1.0rem\" font-weight=\"100\" text-anchor=\"middle\" >10</text>\n",
       "  <text x=\"140.000000\" y=\"60.000000\" font-size=\"1.0rem\" font-weight=\"100\" text-anchor=\"middle\" transform=\"rotate(0,140.000000,60.000000)\">10</text>\n",
       "</svg>\n",
       "</td>\n",
       "</tr>\n",
       "</table>"
      ],
      "text/plain": [
       "dask.array<rechunk-merge, shape=(10, 10), dtype=int64, chunksize=(10, 10), chunktype=numpy.ndarray>"
      ]
     },
     "execution_count": 173,
     "metadata": {},
     "output_type": "execute_result"
    }
   ],
   "source": [
    "x.rechunk(chunks=(10, -1))"
   ]
  },
  {
   "cell_type": "code",
   "execution_count": 144,
   "metadata": {},
   "outputs": [
    {
     "data": {
      "text/plain": [
       "array([[  0,   0,   0,   0,   0,  -5,  -5,  -5,  -5,  -5],\n",
       "       [ -5,  -5,  -5,  -5,  -5, -10, -10, -10, -10, -10],\n",
       "       [-10, -10, -10, -10, -10, -15, -15, -15, -15, -15],\n",
       "       [-15, -15, -15, -15, -15, -20, -20, -20, -20, -20],\n",
       "       [-20, -20, -20, -20, -20, -25, -25, -25, -25, -25],\n",
       "       [-25, -25, -25, -25, -25, -30, -30, -30, -30, -30],\n",
       "       [-30, -30, -30, -30, -30, -35, -35, -35, -35, -35],\n",
       "       [-35, -35, -35, -35, -35, -40, -40, -40, -40, -40],\n",
       "       [-40, -40, -40, -40, -40, -45, -45, -45, -45, -45],\n",
       "       [-45, -45, -45, -45, -45, -50, -50, -50, -50, -50]])"
      ]
     },
     "execution_count": 144,
     "metadata": {},
     "output_type": "execute_result"
    }
   ],
   "source": [
    "def fn(x, y):\n",
    "    return y - x\n",
    "da.map_blocks(fn, x, y).compute()"
   ]
  },
  {
   "cell_type": "markdown",
   "metadata": {},
   "source": [
    "### Helper Functions"
   ]
  },
  {
   "cell_type": "markdown",
   "metadata": {},
   "source": [
    "-----\n",
    "Finding boundaries within a contig:"
   ]
  },
  {
   "cell_type": "code",
   "execution_count": 152,
   "metadata": {},
   "outputs": [
    {
     "data": {
      "text/plain": [
       "array([0, 1])"
      ]
     },
     "execution_count": 152,
     "metadata": {},
     "output_type": "execute_result"
    }
   ],
   "source": [
    "np.diff([1, 1, 2])"
   ]
  },
  {
   "cell_type": "code",
   "execution_count": 163,
   "metadata": {},
   "outputs": [],
   "source": [
    "def get_block_boundaries(x, size):\n",
    "    assert x.ndim == 1\n",
    "    assert size > 0\n",
    "    breaks = np.argwhere(np.diff(x, prepend=x[0]))[:,0]\n",
    "    breaks = np.concatenate(([0], breaks, [x.size]))\n",
    "    index = np.concatenate([\n",
    "        np.arange(breaks[i], breaks[i+1], size)\n",
    "        for i in range(breaks.size-1)\n",
    "    ])\n",
    "    sizes = np.diff(index, append=x.size)\n",
    "    return index, sizes\n",
    "    \n",
    "\n",
    "def test_block_boundaries():\n",
    "    def check(x, size):\n",
    "        idx, sizes = get_block_boundaries(x, size)\n",
    "        assert sizes.sum() == x.size\n",
    "        assert idx.ndim == sizes.ndim == 1\n",
    "        assert idx.size == sizes.size\n",
    "        chunks = []\n",
    "        for i in range(idx.size):\n",
    "            start, stop = idx[i], idx[i] + sizes[i]\n",
    "            chunk = x[slice(start, stop)]\n",
    "            assert len(chunk) <= size\n",
    "            chunks.append(chunk)\n",
    "        np.testing.assert_equal(np.concatenate(chunks), x)\n",
    "\n",
    "    arrays = [\n",
    "        np.array([0]),\n",
    "        np.array([0, 0]),\n",
    "        np.array([0, 1]),\n",
    "        np.array([0, 1, 1, 1]),\n",
    "        np.array([0, 1, 1, 1, 1, 10]),\n",
    "        np.array([0, 1, 1, 1, 2, 2, 3, 5]),\n",
    "        np.array([0, 1, 1, 2, 2, 2, 5, 5, 5, 5, 5, 8, 8, 8, 8, 10])\n",
    "    ]\n",
    "    for x in arrays:\n",
    "        for size in [1, 2, 3]:\n",
    "            check(x, size)\n",
    "        check(x, x.size)\n",
    "\n",
    "test_block_boundaries()"
   ]
  },
  {
   "cell_type": "code",
   "execution_count": 165,
   "metadata": {},
   "outputs": [
    {
     "data": {
      "text/plain": [
       "(array([ 0,  1,  3,  5,  6,  8, 10]), array([1, 2, 2, 1, 2, 2, 1]))"
      ]
     },
     "execution_count": 165,
     "metadata": {},
     "output_type": "execute_result"
    }
   ],
   "source": [
    "get_block_boundaries(np.array([0, 1, 1, 5, 5, 5, 8, 8, 8, 8, 10]), 2)"
   ]
  },
  {
   "cell_type": "markdown",
   "metadata": {},
   "source": [
    "-----\n",
    "\n",
    "Ridge regression within blocks:"
   ]
  },
  {
   "cell_type": "code",
   "execution_count": 387,
   "metadata": {},
   "outputs": [
    {
     "name": "stdout",
     "output_type": "stream",
     "text": [
      "(20, 5) (20, 3) (5, 3)\n",
      "(7, 5, 3)\n"
     ]
    }
   ],
   "source": [
    "from sklearn.linear_model import Ridge\n",
    "\n",
    "def ridge_regression(X, Y, a):\n",
    "    \"\"\"Multi-outcome, multi-parameter ridge regression via SVD.\"\"\"\n",
    "    U, s, Vt = np.linalg.svd(X, full_matrices=False)\n",
    "    UtY = np.dot(U.T, Y)\n",
    "    V = np.expand_dims(Vt.T, 0)\n",
    "    s = np.expand_dims(s, 0)\n",
    "    a = np.expand_dims(a, -1)\n",
    "    d = np.expand_dims(s / (s ** 2 + a), -1)\n",
    "    d_UtY = d * UtY\n",
    "    # returns (n_alpha, n_covariate, n_outcome)\n",
    "    return np.matmul(V, d_UtY)\n",
    "\n",
    "def test_ridge_regression():\n",
    "    n, p, y = 20, 5, 3\n",
    "    np.random.seed(0)\n",
    "    X = np.random.normal(size=(n, p))\n",
    "    B = np.random.normal(size=(p, y))\n",
    "    Y = X @ B \n",
    "    alphas = np.array([0., .001, .01, .1, 1, 10, 100])\n",
    "    # X, Y = X.T @ X, X.T @ Y # Regression is the same after projection -- move to separate test?\n",
    "    b = ridge_regression(X, Y, alphas)\n",
    "    assert b.ndim == 3\n",
    "    assert b.shape == (alphas.size,) + B.shape\n",
    "    # Check no regularization case\n",
    "    np.testing.assert_allclose(b[0], B)\n",
    "    for i, a in enumerate(alphas):\n",
    "        est = Ridge(alpha=a, fit_intercept=False, normalize=False, solver='svd')\n",
    "        est.fit(X, Y)\n",
    "        np.testing.assert_allclose(est.coef_.T, b[i])\n",
    "        \n",
    "test_ridge_regression()"
   ]
  },
  {
   "cell_type": "code",
   "execution_count": 336,
   "metadata": {},
   "outputs": [],
   "source": [
    "#ridge_regression(np.random.normal(size=(3, 10)), np.random.normal(size=(3, 2)), [.01, .1])"
   ]
  },
  {
   "cell_type": "markdown",
   "metadata": {},
   "source": [
    "------\n",
    "\n",
    "R2 score"
   ]
  },
  {
   "cell_type": "code",
   "execution_count": 521,
   "metadata": {},
   "outputs": [],
   "source": [
    "def r2_score(YP, Y):\n",
    "    # https://github.com/projectglow/glow/blob/f3edf5bb8fe9c2d2e1a374d4402032ba5ce08e29/python/glow/wgr/linear_model/functions.py#L227\n",
    "    # Observations must be in last dimension\n",
    "    assert YP.shape[-1] == Y.shape[-1]\n",
    "    YP, Y = np.broadcast_arrays(YP, Y)\n",
    "    tot = np.power(Y - Y.mean(axis=-1, keepdims=True), 2)\n",
    "    tot = tot.sum(axis=-1, keepdims=True)\n",
    "    res = np.power(Y - YP, 2)\n",
    "    res = res.sum(axis=-1, keepdims=True)\n",
    "    r2 = 1 - (res / tot)\n",
    "    return r2[..., 0]\n",
    "    \n",
    "\n",
    "def test_r2_score():\n",
    "    n, p, y = 20, 5, 3\n",
    "    np.random.seed(0)\n",
    "    X = np.random.normal(size=(n, p))\n",
    "    B = np.random.normal(size=(p, y))\n",
    "    Y = (X @ B).T\n",
    "    YP = Y + np.random.normal(size=(6, 8, y, n), scale=.1)\n",
    "    \n",
    "    # Test case with perfect predictions\n",
    "    np.testing.assert_allclose(r2_score(Y, Y), 1)\n",
    "    \n",
    "    # Test case with near perfect predictions and extra\n",
    "    # loop dimensions\n",
    "    r2_actual = r2_score(YP, Y)\n",
    "    assert r2_actual.shape == YP.shape[:-1]\n",
    "    r2_expected = np.array([\n",
    "        r2_score(YP[i, j, k], Y[k])\n",
    "        for i in range(YP.shape[0])\n",
    "        for j in range(YP.shape[1])\n",
    "        for k in range(y)\n",
    "    ])\n",
    "    # This will ensure that aggregations occurred across\n",
    "    # the correct axis and that the loop dimensions can\n",
    "    # be recapitulated with an explicit set of nested loops\n",
    "    np.testing.assert_allclose(r2_actual.ravel(), r2_expected)\n",
    "\n",
    "test_r2_score()"
   ]
  },
  {
   "cell_type": "markdown",
   "metadata": {},
   "source": [
    "### Implementation"
   ]
  },
  {
   "cell_type": "code",
   "execution_count": 361,
   "metadata": {},
   "outputs": [
    {
     "data": {
      "text/plain": [
       "((25, 2), (20, 25), (25, 3), (20,))"
      ]
     },
     "execution_count": 361,
     "metadata": {},
     "output_type": "execute_result"
    }
   ],
   "source": [
    "m, n, c, y = 20, 25, 2, 3\n",
    "np.random.seed(0)\n",
    "X = np.random.normal(size=(n, c))\n",
    "BX = np.random.normal(size=(X.shape[1], 1)) \n",
    "G = np.random.choice([0, 1, 2], size=(m, n))\n",
    "BG = np.random.normal(size=(m, y))\n",
    "#contigs = np.sort(np.arange(m) // 10)\n",
    "contigs = np.ones(m, dtype=int)\n",
    "\n",
    "Y = X @ BX + G.T @ BG + np.random.normal(size=(n, y), scale=.001)\n",
    "X.shape, G.shape, Y.shape, contigs.shape"
   ]
  },
  {
   "cell_type": "code",
   "execution_count": 362,
   "metadata": {},
   "outputs": [
    {
     "data": {
      "text/plain": [
       "array([1, 1, 1, 1, 1, 1, 1, 1, 1, 1, 1, 1, 1, 1, 1, 1, 1, 1, 1, 1])"
      ]
     },
     "execution_count": 362,
     "metadata": {},
     "output_type": "execute_result"
    }
   ],
   "source": [
    "contigs"
   ]
  },
  {
   "cell_type": "code",
   "execution_count": 363,
   "metadata": {},
   "outputs": [
    {
     "data": {
      "text/plain": [
       "(0, 1, 2)"
      ]
     },
     "execution_count": 363,
     "metadata": {},
     "output_type": "execute_result"
    }
   ],
   "source": [
    "tuple(i for i in range(3))"
   ]
  },
  {
   "cell_type": "code",
   "execution_count": 525,
   "metadata": {},
   "outputs": [
    {
     "data": {
      "text/html": [
       "<table>\n",
       "<tr>\n",
       "<td>\n",
       "<table>\n",
       "  <thead>\n",
       "    <tr><td> </td><th> Array </th><th> Chunk </th></tr>\n",
       "  </thead>\n",
       "  <tbody>\n",
       "    <tr><th> Bytes </th><td> 96 B </td> <td> 32 B </td></tr>\n",
       "    <tr><th> Shape </th><td> (4, 3) </td> <td> (4, 1) </td></tr>\n",
       "    <tr><th> Count </th><td> 1209 Tasks </td><td> 3 Chunks </td></tr>\n",
       "    <tr><th> Type </th><td> float64 </td><td> numpy.ndarray </td></tr>\n",
       "  </tbody>\n",
       "</table>\n",
       "</td>\n",
       "<td>\n",
       "<svg width=\"140\" height=\"170\" style=\"stroke:rgb(0,0,0);stroke-width:1\" >\n",
       "\n",
       "  <!-- Horizontal lines -->\n",
       "  <line x1=\"0\" y1=\"0\" x2=\"90\" y2=\"0\" style=\"stroke-width:2\" />\n",
       "  <line x1=\"0\" y1=\"120\" x2=\"90\" y2=\"120\" style=\"stroke-width:2\" />\n",
       "\n",
       "  <!-- Vertical lines -->\n",
       "  <line x1=\"0\" y1=\"0\" x2=\"0\" y2=\"120\" style=\"stroke-width:2\" />\n",
       "  <line x1=\"30\" y1=\"0\" x2=\"30\" y2=\"120\" />\n",
       "  <line x1=\"60\" y1=\"0\" x2=\"60\" y2=\"120\" />\n",
       "  <line x1=\"90\" y1=\"0\" x2=\"90\" y2=\"120\" style=\"stroke-width:2\" />\n",
       "\n",
       "  <!-- Colored Rectangle -->\n",
       "  <polygon points=\"0.000000,0.000000 90.000000,0.000000 90.000000,120.000000 0.000000,120.000000\" style=\"fill:#ECB172A0;stroke-width:0\"/>\n",
       "\n",
       "  <!-- Text -->\n",
       "  <text x=\"45.000000\" y=\"140.000000\" font-size=\"1.0rem\" font-weight=\"100\" text-anchor=\"middle\" >3</text>\n",
       "  <text x=\"110.000000\" y=\"60.000000\" font-size=\"1.0rem\" font-weight=\"100\" text-anchor=\"middle\" transform=\"rotate(0,110.000000,60.000000)\">4</text>\n",
       "</svg>\n",
       "</td>\n",
       "</tr>\n",
       "</table>"
      ],
      "text/plain": [
       "dask.array<getitem, shape=(4, 3), dtype=float64, chunksize=(4, 1), chunktype=numpy.ndarray>"
      ]
     },
     "execution_count": 525,
     "metadata": {},
     "output_type": "execute_result"
    }
   ],
   "source": [
    "def _alphas(n_cols):\n",
    "    # https://github.com/projectglow/glow/blob/f3edf5bb8fe9c2d2e1a374d4402032ba5ce08e29/python/glow/wgr/linear_model/ridge_model.py#L80\n",
    "    #heritability_vals = [0.99, 0.75, 0.50, 0.25, 0.01]\n",
    "    heritability_vals = [0.99, 0.75, 0.50, 0.25]\n",
    "    return np.array([n_cols / h for h in heritability_vals])\n",
    "\n",
    "\n",
    "def assert_chunks(x, block_shape, chunk_shape):\n",
    "    assert x.numblocks == block_shape, \\\n",
    "        f'Expecting block shape {block_shape}, found {x.numblocks}' \n",
    "    assert x.chunksize == chunk_shape, \\\n",
    "        f'Expecting chunk shape {chunk_shape}, found {x.chunksize}' \n",
    "    \n",
    "    \n",
    "def stack(x):\n",
    "    return da.stack([x.blocks[i] for i in range(x.numblocks[0])])\n",
    "\n",
    "def unstack(x):\n",
    "    return da.concatenate([x.blocks[i][0] for i in range(x.numblocks[0])])\n",
    "\n",
    "def ridge_regression_cv(X, Y, alphas):\n",
    "    assert alphas.ndim == 1\n",
    "    assert X.ndim == 2\n",
    "    assert Y.ndim == 2\n",
    "    assert X.numblocks[1] == 1\n",
    "    assert Y.numblocks[1] == 1\n",
    "    assert X.chunks[0] == Y.chunks[0]\n",
    "    n_block, n_covar, n_outcome, n_alpha = \\\n",
    "        X.numblocks[0], X.shape[1], Y.shape[1], alphas.shape[0]\n",
    "\n",
    "    # Project samples and outcomes noting that resulting chunks are\n",
    "    # of fixed size even if the chunks along the observation dim \n",
    "    # are not uniform (i.e. |X.chunks[0]| != 1)\n",
    "    XtX = stack(da.map_blocks(lambda x: x.T @ x, X, chunks=(X.shape[1],)*2))\n",
    "    assert_chunks(XtX, (n_block, 1, 1), (1, n_covar, n_covar))\n",
    "    XtY = stack(da.map_blocks(lambda x, y: x.T @ y, X, Y, chunks=(n_covar, n_outcome)))\n",
    "    assert_chunks(XtY, (n_block, 1, 1), (1, n_covar, n_outcome))\n",
    "\n",
    "    # Invert the projections in each block so that each\n",
    "    # contains data from all other blocks *except* itself\n",
    "    XtX = unstack(XtX.sum(axis=0) - XtX)\n",
    "    assert_chunks(XtX, (n_block, 1), (n_covar, n_covar))\n",
    "    XtY = unstack(XtY.sum(axis=0) - XtY)\n",
    "    assert_chunks(XtY, (n_block, 1), (n_covar, n_outcome))\n",
    "    assert XtX.numblocks == XtY.numblocks\n",
    "\n",
    "    # Regress for all outcomes/alphas and add new axis for ridge parameters\n",
    "    B = da.map_blocks(\n",
    "        lambda x, y: ridge_regression(x, y, a=alphas),\n",
    "        XtX, XtY, chunks=(alphas.size, X.shape[1], Y.shape[1]),\n",
    "        new_axis=[0]\n",
    "    )\n",
    "    assert_chunks(B, (1, n_block, 1), (n_alpha, n_covar, n_outcome))\n",
    "\n",
    "    # Generate predictions for all outcomes/alphas\n",
    "    assert B.numblocks == (1,) + X.numblocks\n",
    "    YP = da.map_blocks(\n",
    "        # Chunk shape: (n_alpha, n_obs, n_outcome)\n",
    "        lambda x, b: x @ b, X, B, \n",
    "        chunks=(alphas.size, X.chunks[0], Y.shape[1])\n",
    "    )\n",
    "    assert_chunks(YP, (1, n_block, 1), (n_alpha, X.chunks[0][0], n_outcome))\n",
    "\n",
    "    # print('B', B.numblocks, B.shape, B.chunksize)\n",
    "    return XtX, XtY, B, YP\n",
    "    \n",
    "    \n",
    "def _level_1(G, X, Y):\n",
    "    assert G.ndim == 2\n",
    "    assert X.ndim == 2\n",
    "    assert Y.ndim == 2\n",
    "    assert len(set(map(len, [G, X, Y]))) == 1\n",
    "    assert G.numblocks[0] == X.numblocks[0] == Y.numblocks[0]\n",
    "    assert X.numblocks[1] == Y.numblocks[1] == 1\n",
    "    alphas = _alphas(G.shape[1])\n",
    "    n_sample = G.shape[0]\n",
    "    n_outcome = Y.shape[1]\n",
    "    n_alpha = alphas.size\n",
    "    \n",
    "    YP = []\n",
    "    for i in range(G.numblocks[1]):\n",
    "        # Extract all sample blocks for one variant block\n",
    "        GB = G.blocks[:, i]\n",
    "        # Prepend covariates and chunk along first dim only\n",
    "        XGB = da.concatenate((X, GB), axis=1)\n",
    "        XGB = XGB.rechunk(chunks=(None, -1))\n",
    "        # Fit and predict folds for each parameter and outcome\n",
    "        YPB = ridge_regression_cv(XGB, Y, alphas)[-1]\n",
    "        assert YPB.shape == (n_alpha, n_sample, n_outcome)\n",
    "        # Normalize predictions to zero-mean, unit-variance\n",
    "        YPB = (YPB - YPB.mean(axis=1, keepdims=True)) / YPB.std(axis=1, keepdims=True)\n",
    "        YP.append(YPB)\n",
    "    # Stack as (n_variant_block, n_alpha, n_sample, n_outcome)\n",
    "    YP = da.stack(YP, axis=0)\n",
    "    return YP\n",
    "    \n",
    "\n",
    "def _level_2(YP, X, Y):\n",
    "    assert YP.ndim == 4\n",
    "    assert X.ndim == 2\n",
    "    assert Y.ndim == 2\n",
    "    n_variant_block, n_alpha_1 = YP.shape[:2]\n",
    "    n_sample, n_outcome = Y.shape\n",
    "    n_covar = X.shape[1]\n",
    "    # Tranpose for refit on level 1 predictions\n",
    "    YP = YP.transpose((3, 2, 0, 1))\n",
    "    assert YP.shape == (n_outcome, n_sample, n_variant_block, n_alpha_1)\n",
    "    assert YP.numblocks[1] == X.numblocks[0] == Y.numblocks[0]\n",
    "    alphas = _alphas(YP.shape[2] * YP.shape[3])\n",
    "    n_alpha_2 = alphas.size\n",
    "    \n",
    "    YR = []\n",
    "    for i in range(n_outcome):\n",
    "        # Slice and reshape to new 2D covariate matrix\n",
    "        XPB = YP[i].reshape((n_sample, -1))\n",
    "        # Prepend covariates and chunk along first dim only\n",
    "        XPB = da.concatenate((X, XPB), axis=1)\n",
    "        XPB = XPB.rechunk(chunks=(None, -1))\n",
    "        assert XPB.shape == (n_sample, n_variant_block * n_alpha_1 + n_covar)\n",
    "        assert XPB.numblocks == (Y.numblocks[0], 1)\n",
    "        # Extract outcome vector\n",
    "        YB = Y[:, [i]]\n",
    "        assert XPB.ndim == YB.ndim == 2\n",
    "        # Fit and predict folds for each parameter \n",
    "        YPB = ridge_regression_cv(XPB, YB, alphas)[-1]\n",
    "        assert YPB.shape == (n_alpha_2, n_sample, 1)\n",
    "        YPB = da.transpose(YPB, (0, 2, 1))\n",
    "        assert YPB.shape == (n_alpha_2, 1, n_sample)\n",
    "        YR.append(YPB)\n",
    "        \n",
    "    YR = da.concatenate(YR, axis=1)\n",
    "    assert YR.shape == (n_alpha_2, n_outcome, n_sample)\n",
    "    R2 = r2_score(YR, Y.T)\n",
    "    assert R2.shape == (n_alpha_2, n_outcome)\n",
    "    R2 = da.argmax(R2, axis=0)\n",
    "    return R2\n",
    "        \n",
    "        \n",
    "    \n",
    "def regenie(G, X, Y, contigs, variant_block_size, sample_block_size, orthogonalize=False, add_intercept=True, normalize=True):\n",
    "    assert len(set(map(len, [G, X, Y]))) == 1\n",
    "    n_sample, n_variant = Y.shape[0], G.shape[1]\n",
    "    \n",
    "    if normalize:\n",
    "        G = (G - G.mean(axis=0)) / G.std(axis=0)\n",
    "        Y = (Y - Y.mean(axis=0)) / Y.std(axis=0)\n",
    "        if X is not None:\n",
    "            X = (X - X.mean(axis=0)) / X.std(axis=0)\n",
    "        \n",
    "    G, X, Y = da.asarray(G), da.asarray(X), da.asarray(Y)\n",
    "    if X is None:\n",
    "        X = da.zeros(shape=(n_sample, 0), dtype=G.dtype)\n",
    "    if add_intercept:\n",
    "        X = da.concatenate((da.ones(shape=(n_sample, 1), dtype=X.dtype), X), axis=1)\n",
    "        \n",
    "    if orthogonalize:\n",
    "        G = G - X @ da.linalg.lstsq(X, G, rcond=None)[0]\n",
    "        Y = Y - X @ da.linalg.lstsq(X, Y, rcond=None)[0]\n",
    "        G = G / G.std(axis=0)\n",
    "        Y = Y / Y.std(axis=0)\n",
    "        X = da.zeros(shape=(n_sample, 0), dtype=G.dtype)\n",
    "        \n",
    "    variant_block_index, variant_block_size = get_block_boundaries(contigs, variant_block_size)\n",
    "    G = G.rechunk(chunks=(sample_block_size, tuple(variant_block_size)))\n",
    "    X = X.rechunk(chunks=(sample_block_size, -1))\n",
    "    Y = Y.rechunk(chunks=(sample_block_size, -1))\n",
    "  \n",
    "    YP1 = _level_1(G, X, Y)\n",
    "    YP2 = _level_2(YP1, X, Y)\n",
    "    return G, X, Y, YP1, YP2\n",
    "#     YB, bc = _level_0(G, X, Y, contigs, block_size=block_size)\n",
    "#     assert len(np.unique(bc)) == len(np.unique(contigs))\n",
    "#     _level_1(YB, Y, bc)\n",
    "#     print(YB.shape)\n",
    "\n",
    "# TODO: mean scale Y\n",
    "res = regenie(G.T, X, Y, contigs, variant_block_size=8, sample_block_size=5)\n",
    "res[-1]"
   ]
  },
  {
   "cell_type": "code",
   "execution_count": 523,
   "metadata": {},
   "outputs": [
    {
     "data": {
      "text/html": [
       "<table>\n",
       "<tr>\n",
       "<td>\n",
       "<table>\n",
       "  <thead>\n",
       "    <tr><td> </td><th> Array </th><th> Chunk </th></tr>\n",
       "  </thead>\n",
       "  <tbody>\n",
       "    <tr><th> Bytes </th><td> 2.40 kB </td> <td> 160 B </td></tr>\n",
       "    <tr><th> Shape </th><td> (4, 3, 25) </td> <td> (4, 1, 5) </td></tr>\n",
       "    <tr><th> Count </th><td> 1018 Tasks </td><td> 15 Chunks </td></tr>\n",
       "    <tr><th> Type </th><td> float64 </td><td> numpy.ndarray </td></tr>\n",
       "  </tbody>\n",
       "</table>\n",
       "</td>\n",
       "<td>\n",
       "<svg width=\"204\" height=\"113\" style=\"stroke:rgb(0,0,0);stroke-width:1\" >\n",
       "\n",
       "  <!-- Horizontal lines -->\n",
       "  <line x1=\"10\" y1=\"0\" x2=\"34\" y2=\"24\" style=\"stroke-width:2\" />\n",
       "  <line x1=\"10\" y1=\"13\" x2=\"34\" y2=\"37\" />\n",
       "  <line x1=\"10\" y1=\"26\" x2=\"34\" y2=\"50\" />\n",
       "  <line x1=\"10\" y1=\"39\" x2=\"34\" y2=\"63\" style=\"stroke-width:2\" />\n",
       "\n",
       "  <!-- Vertical lines -->\n",
       "  <line x1=\"10\" y1=\"0\" x2=\"10\" y2=\"39\" style=\"stroke-width:2\" />\n",
       "  <line x1=\"34\" y1=\"24\" x2=\"34\" y2=\"63\" style=\"stroke-width:2\" />\n",
       "\n",
       "  <!-- Colored Rectangle -->\n",
       "  <polygon points=\"10.000000,0.000000 34.125751,24.125751 34.125751,63.706946 10.000000,39.581195\" style=\"fill:#ECB172A0;stroke-width:0\"/>\n",
       "\n",
       "  <!-- Horizontal lines -->\n",
       "  <line x1=\"10\" y1=\"0\" x2=\"130\" y2=\"0\" style=\"stroke-width:2\" />\n",
       "  <line x1=\"34\" y1=\"24\" x2=\"154\" y2=\"24\" style=\"stroke-width:2\" />\n",
       "\n",
       "  <!-- Vertical lines -->\n",
       "  <line x1=\"10\" y1=\"0\" x2=\"34\" y2=\"24\" style=\"stroke-width:2\" />\n",
       "  <line x1=\"34\" y1=\"0\" x2=\"58\" y2=\"24\" />\n",
       "  <line x1=\"58\" y1=\"0\" x2=\"82\" y2=\"24\" />\n",
       "  <line x1=\"82\" y1=\"0\" x2=\"106\" y2=\"24\" />\n",
       "  <line x1=\"106\" y1=\"0\" x2=\"130\" y2=\"24\" />\n",
       "  <line x1=\"130\" y1=\"0\" x2=\"154\" y2=\"24\" style=\"stroke-width:2\" />\n",
       "\n",
       "  <!-- Colored Rectangle -->\n",
       "  <polygon points=\"10.000000,0.000000 130.000000,0.000000 154.125751,24.125751 34.125751,24.125751\" style=\"fill:#ECB172A0;stroke-width:0\"/>\n",
       "\n",
       "  <!-- Horizontal lines -->\n",
       "  <line x1=\"34\" y1=\"24\" x2=\"154\" y2=\"24\" style=\"stroke-width:2\" />\n",
       "  <line x1=\"34\" y1=\"37\" x2=\"154\" y2=\"37\" />\n",
       "  <line x1=\"34\" y1=\"50\" x2=\"154\" y2=\"50\" />\n",
       "  <line x1=\"34\" y1=\"63\" x2=\"154\" y2=\"63\" style=\"stroke-width:2\" />\n",
       "\n",
       "  <!-- Vertical lines -->\n",
       "  <line x1=\"34\" y1=\"24\" x2=\"34\" y2=\"63\" style=\"stroke-width:2\" />\n",
       "  <line x1=\"58\" y1=\"24\" x2=\"58\" y2=\"63\" />\n",
       "  <line x1=\"82\" y1=\"24\" x2=\"82\" y2=\"63\" />\n",
       "  <line x1=\"106\" y1=\"24\" x2=\"106\" y2=\"63\" />\n",
       "  <line x1=\"130\" y1=\"24\" x2=\"130\" y2=\"63\" />\n",
       "  <line x1=\"154\" y1=\"24\" x2=\"154\" y2=\"63\" style=\"stroke-width:2\" />\n",
       "\n",
       "  <!-- Colored Rectangle -->\n",
       "  <polygon points=\"34.125751,24.125751 154.125751,24.125751 154.125751,63.706946 34.125751,63.706946\" style=\"fill:#ECB172A0;stroke-width:0\"/>\n",
       "\n",
       "  <!-- Text -->\n",
       "  <text x=\"94.125751\" y=\"83.706946\" font-size=\"1.0rem\" font-weight=\"100\" text-anchor=\"middle\" >25</text>\n",
       "  <text x=\"174.125751\" y=\"43.916348\" font-size=\"1.0rem\" font-weight=\"100\" text-anchor=\"middle\" transform=\"rotate(0,174.125751,43.916348)\">3</text>\n",
       "  <text x=\"12.062875\" y=\"71.644071\" font-size=\"1.0rem\" font-weight=\"100\" text-anchor=\"middle\" transform=\"rotate(45,12.062875,71.644071)\">4</text>\n",
       "</svg>\n",
       "</td>\n",
       "</tr>\n",
       "</table>"
      ],
      "text/plain": [
       "dask.array<concatenate, shape=(4, 3, 25), dtype=float64, chunksize=(4, 1, 5), chunktype=numpy.ndarray>"
      ]
     },
     "execution_count": 523,
     "metadata": {},
     "output_type": "execute_result"
    }
   ],
   "source": [
    "a = res[-1]\n",
    "a"
   ]
  },
  {
   "cell_type": "code",
   "execution_count": 464,
   "metadata": {},
   "outputs": [
    {
     "data": {
      "text/plain": [
       "(3, 25, 12)"
      ]
     },
     "execution_count": 464,
     "metadata": {},
     "output_type": "execute_result"
    }
   ],
   "source": [
    "a.compute().shape"
   ]
  },
  {
   "cell_type": "code",
   "execution_count": null,
   "metadata": {},
   "outputs": [],
   "source": [
    "a.tr"
   ]
  },
  {
   "cell_type": "code",
   "execution_count": 435,
   "metadata": {},
   "outputs": [
    {
     "data": {
      "text/html": [
       "<table>\n",
       "<tr>\n",
       "<td>\n",
       "<table>\n",
       "  <thead>\n",
       "    <tr><td> </td><th> Array </th><th> Chunk </th></tr>\n",
       "  </thead>\n",
       "  <tbody>\n",
       "    <tr><th> Bytes </th><td> 4.00 kB </td> <td> 800 B </td></tr>\n",
       "    <tr><th> Shape </th><td> (5, 10, 10) </td> <td> (1, 10, 10) </td></tr>\n",
       "    <tr><th> Count </th><td> 11 Tasks </td><td> 5 Chunks </td></tr>\n",
       "    <tr><th> Type </th><td> float64 </td><td> numpy.ndarray </td></tr>\n",
       "  </tbody>\n",
       "</table>\n",
       "</td>\n",
       "<td>\n",
       "<svg width=\"215\" height=\"205\" style=\"stroke:rgb(0,0,0);stroke-width:1\" >\n",
       "\n",
       "  <!-- Horizontal lines -->\n",
       "  <line x1=\"10\" y1=\"0\" x2=\"45\" y2=\"35\" style=\"stroke-width:2\" />\n",
       "  <line x1=\"10\" y1=\"120\" x2=\"45\" y2=\"155\" style=\"stroke-width:2\" />\n",
       "\n",
       "  <!-- Vertical lines -->\n",
       "  <line x1=\"10\" y1=\"0\" x2=\"10\" y2=\"120\" style=\"stroke-width:2\" />\n",
       "  <line x1=\"17\" y1=\"7\" x2=\"17\" y2=\"127\" />\n",
       "  <line x1=\"24\" y1=\"14\" x2=\"24\" y2=\"134\" />\n",
       "  <line x1=\"31\" y1=\"21\" x2=\"31\" y2=\"141\" />\n",
       "  <line x1=\"38\" y1=\"28\" x2=\"38\" y2=\"148\" />\n",
       "  <line x1=\"45\" y1=\"35\" x2=\"45\" y2=\"155\" style=\"stroke-width:2\" />\n",
       "\n",
       "  <!-- Colored Rectangle -->\n",
       "  <polygon points=\"10.000000,0.000000 45.294118,35.294118 45.294118,155.294118 10.000000,120.000000\" style=\"fill:#ECB172A0;stroke-width:0\"/>\n",
       "\n",
       "  <!-- Horizontal lines -->\n",
       "  <line x1=\"10\" y1=\"0\" x2=\"130\" y2=\"0\" style=\"stroke-width:2\" />\n",
       "  <line x1=\"17\" y1=\"7\" x2=\"137\" y2=\"7\" />\n",
       "  <line x1=\"24\" y1=\"14\" x2=\"144\" y2=\"14\" />\n",
       "  <line x1=\"31\" y1=\"21\" x2=\"151\" y2=\"21\" />\n",
       "  <line x1=\"38\" y1=\"28\" x2=\"158\" y2=\"28\" />\n",
       "  <line x1=\"45\" y1=\"35\" x2=\"165\" y2=\"35\" style=\"stroke-width:2\" />\n",
       "\n",
       "  <!-- Vertical lines -->\n",
       "  <line x1=\"10\" y1=\"0\" x2=\"45\" y2=\"35\" style=\"stroke-width:2\" />\n",
       "  <line x1=\"130\" y1=\"0\" x2=\"165\" y2=\"35\" style=\"stroke-width:2\" />\n",
       "\n",
       "  <!-- Colored Rectangle -->\n",
       "  <polygon points=\"10.000000,0.000000 130.000000,0.000000 165.294118,35.294118 45.294118,35.294118\" style=\"fill:#ECB172A0;stroke-width:0\"/>\n",
       "\n",
       "  <!-- Horizontal lines -->\n",
       "  <line x1=\"45\" y1=\"35\" x2=\"165\" y2=\"35\" style=\"stroke-width:2\" />\n",
       "  <line x1=\"45\" y1=\"155\" x2=\"165\" y2=\"155\" style=\"stroke-width:2\" />\n",
       "\n",
       "  <!-- Vertical lines -->\n",
       "  <line x1=\"45\" y1=\"35\" x2=\"45\" y2=\"155\" style=\"stroke-width:2\" />\n",
       "  <line x1=\"165\" y1=\"35\" x2=\"165\" y2=\"155\" style=\"stroke-width:2\" />\n",
       "\n",
       "  <!-- Colored Rectangle -->\n",
       "  <polygon points=\"45.294118,35.294118 165.294118,35.294118 165.294118,155.294118 45.294118,155.294118\" style=\"fill:#ECB172A0;stroke-width:0\"/>\n",
       "\n",
       "  <!-- Text -->\n",
       "  <text x=\"105.294118\" y=\"175.294118\" font-size=\"1.0rem\" font-weight=\"100\" text-anchor=\"middle\" >10</text>\n",
       "  <text x=\"185.294118\" y=\"95.294118\" font-size=\"1.0rem\" font-weight=\"100\" text-anchor=\"middle\" transform=\"rotate(0,185.294118,95.294118)\">10</text>\n",
       "  <text x=\"17.647059\" y=\"157.647059\" font-size=\"1.0rem\" font-weight=\"100\" text-anchor=\"middle\" transform=\"rotate(45,17.647059,157.647059)\">5</text>\n",
       "</svg>\n",
       "</td>\n",
       "</tr>\n",
       "</table>"
      ],
      "text/plain": [
       "dask.array<rechunk-merge, shape=(5, 10, 10), dtype=float64, chunksize=(1, 10, 10), chunktype=numpy.ndarray>"
      ]
     },
     "execution_count": 435,
     "metadata": {},
     "output_type": "execute_result"
    }
   ],
   "source": [
    "a = da.ones(shape=(5, 10, 10)).rechunk((1, 10, 10))\n",
    "a"
   ]
  },
  {
   "cell_type": "code",
   "execution_count": 436,
   "metadata": {},
   "outputs": [
    {
     "data": {
      "text/html": [
       "<table>\n",
       "<tr>\n",
       "<td>\n",
       "<table>\n",
       "  <thead>\n",
       "    <tr><td> </td><th> Array </th><th> Chunk </th></tr>\n",
       "  </thead>\n",
       "  <tbody>\n",
       "    <tr><th> Bytes </th><td> 4.00 kB </td> <td> 800 B </td></tr>\n",
       "    <tr><th> Shape </th><td> (50, 10) </td> <td> (10, 10) </td></tr>\n",
       "    <tr><th> Count </th><td> 26 Tasks </td><td> 5 Chunks </td></tr>\n",
       "    <tr><th> Type </th><td> float64 </td><td> numpy.ndarray </td></tr>\n",
       "  </tbody>\n",
       "</table>\n",
       "</td>\n",
       "<td>\n",
       "<svg width=\"92\" height=\"170\" style=\"stroke:rgb(0,0,0);stroke-width:1\" >\n",
       "\n",
       "  <!-- Horizontal lines -->\n",
       "  <line x1=\"0\" y1=\"0\" x2=\"42\" y2=\"0\" style=\"stroke-width:2\" />\n",
       "  <line x1=\"0\" y1=\"24\" x2=\"42\" y2=\"24\" />\n",
       "  <line x1=\"0\" y1=\"48\" x2=\"42\" y2=\"48\" />\n",
       "  <line x1=\"0\" y1=\"72\" x2=\"42\" y2=\"72\" />\n",
       "  <line x1=\"0\" y1=\"96\" x2=\"42\" y2=\"96\" />\n",
       "  <line x1=\"0\" y1=\"120\" x2=\"42\" y2=\"120\" style=\"stroke-width:2\" />\n",
       "\n",
       "  <!-- Vertical lines -->\n",
       "  <line x1=\"0\" y1=\"0\" x2=\"0\" y2=\"120\" style=\"stroke-width:2\" />\n",
       "  <line x1=\"42\" y1=\"0\" x2=\"42\" y2=\"120\" style=\"stroke-width:2\" />\n",
       "\n",
       "  <!-- Colored Rectangle -->\n",
       "  <polygon points=\"0.000000,0.000000 42.009890,0.000000 42.009890,120.000000 0.000000,120.000000\" style=\"fill:#ECB172A0;stroke-width:0\"/>\n",
       "\n",
       "  <!-- Text -->\n",
       "  <text x=\"21.004945\" y=\"140.000000\" font-size=\"1.0rem\" font-weight=\"100\" text-anchor=\"middle\" >10</text>\n",
       "  <text x=\"62.009890\" y=\"60.000000\" font-size=\"1.0rem\" font-weight=\"100\" text-anchor=\"middle\" transform=\"rotate(0,62.009890,60.000000)\">50</text>\n",
       "</svg>\n",
       "</td>\n",
       "</tr>\n",
       "</table>"
      ],
      "text/plain": [
       "dask.array<concatenate, shape=(50, 10), dtype=float64, chunksize=(10, 10), chunktype=numpy.ndarray>"
      ]
     },
     "execution_count": 436,
     "metadata": {},
     "output_type": "execute_result"
    }
   ],
   "source": [
    "da.concatenate([a.blocks[i][0] for i in range(a.numblocks[0])])"
   ]
  },
  {
   "cell_type": "code",
   "execution_count": null,
   "metadata": {},
   "outputs": [],
   "source": []
  },
  {
   "cell_type": "code",
   "execution_count": 427,
   "metadata": {},
   "outputs": [
    {
     "data": {
      "text/html": [
       "<table>\n",
       "<tr>\n",
       "<td>\n",
       "<table>\n",
       "  <thead>\n",
       "    <tr><td> </td><th> Array </th><th> Chunk </th></tr>\n",
       "  </thead>\n",
       "  <tbody>\n",
       "    <tr><th> Bytes </th><td> 15.00 kB </td> <td> 600 B </td></tr>\n",
       "    <tr><th> Shape </th><td> (25, 25, 3) </td> <td> (5, 5, 3) </td></tr>\n",
       "    <tr><th> Count </th><td> 480 Tasks </td><td> 25 Chunks </td></tr>\n",
       "    <tr><th> Type </th><td> float64 </td><td> numpy.ndarray </td></tr>\n",
       "  </tbody>\n",
       "</table>\n",
       "</td>\n",
       "<td>\n",
       "<svg width=\"170\" height=\"240\" style=\"stroke:rgb(0,0,0);stroke-width:1\" >\n",
       "\n",
       "  <!-- Horizontal lines -->\n",
       "  <line x1=\"10\" y1=\"0\" x2=\"80\" y2=\"70\" style=\"stroke-width:2\" />\n",
       "  <line x1=\"10\" y1=\"24\" x2=\"80\" y2=\"94\" />\n",
       "  <line x1=\"10\" y1=\"48\" x2=\"80\" y2=\"118\" />\n",
       "  <line x1=\"10\" y1=\"72\" x2=\"80\" y2=\"142\" />\n",
       "  <line x1=\"10\" y1=\"96\" x2=\"80\" y2=\"166\" />\n",
       "  <line x1=\"10\" y1=\"120\" x2=\"80\" y2=\"190\" style=\"stroke-width:2\" />\n",
       "\n",
       "  <!-- Vertical lines -->\n",
       "  <line x1=\"10\" y1=\"0\" x2=\"10\" y2=\"120\" style=\"stroke-width:2\" />\n",
       "  <line x1=\"24\" y1=\"14\" x2=\"24\" y2=\"134\" />\n",
       "  <line x1=\"38\" y1=\"28\" x2=\"38\" y2=\"148\" />\n",
       "  <line x1=\"52\" y1=\"42\" x2=\"52\" y2=\"162\" />\n",
       "  <line x1=\"66\" y1=\"56\" x2=\"66\" y2=\"176\" />\n",
       "  <line x1=\"80\" y1=\"70\" x2=\"80\" y2=\"190\" style=\"stroke-width:2\" />\n",
       "\n",
       "  <!-- Colored Rectangle -->\n",
       "  <polygon points=\"10.000000,0.000000 80.588235,70.588235 80.588235,190.588235 10.000000,120.000000\" style=\"fill:#ECB172A0;stroke-width:0\"/>\n",
       "\n",
       "  <!-- Horizontal lines -->\n",
       "  <line x1=\"10\" y1=\"0\" x2=\"49\" y2=\"0\" style=\"stroke-width:2\" />\n",
       "  <line x1=\"24\" y1=\"14\" x2=\"63\" y2=\"14\" />\n",
       "  <line x1=\"38\" y1=\"28\" x2=\"77\" y2=\"28\" />\n",
       "  <line x1=\"52\" y1=\"42\" x2=\"91\" y2=\"42\" />\n",
       "  <line x1=\"66\" y1=\"56\" x2=\"106\" y2=\"56\" />\n",
       "  <line x1=\"80\" y1=\"70\" x2=\"120\" y2=\"70\" style=\"stroke-width:2\" />\n",
       "\n",
       "  <!-- Vertical lines -->\n",
       "  <line x1=\"10\" y1=\"0\" x2=\"80\" y2=\"70\" style=\"stroke-width:2\" />\n",
       "  <line x1=\"49\" y1=\"0\" x2=\"120\" y2=\"70\" style=\"stroke-width:2\" />\n",
       "\n",
       "  <!-- Colored Rectangle -->\n",
       "  <polygon points=\"10.000000,0.000000 49.581195,0.000000 120.169430,70.588235 80.588235,70.588235\" style=\"fill:#ECB172A0;stroke-width:0\"/>\n",
       "\n",
       "  <!-- Horizontal lines -->\n",
       "  <line x1=\"80\" y1=\"70\" x2=\"120\" y2=\"70\" style=\"stroke-width:2\" />\n",
       "  <line x1=\"80\" y1=\"94\" x2=\"120\" y2=\"94\" />\n",
       "  <line x1=\"80\" y1=\"118\" x2=\"120\" y2=\"118\" />\n",
       "  <line x1=\"80\" y1=\"142\" x2=\"120\" y2=\"142\" />\n",
       "  <line x1=\"80\" y1=\"166\" x2=\"120\" y2=\"166\" />\n",
       "  <line x1=\"80\" y1=\"190\" x2=\"120\" y2=\"190\" style=\"stroke-width:2\" />\n",
       "\n",
       "  <!-- Vertical lines -->\n",
       "  <line x1=\"80\" y1=\"70\" x2=\"80\" y2=\"190\" style=\"stroke-width:2\" />\n",
       "  <line x1=\"120\" y1=\"70\" x2=\"120\" y2=\"190\" style=\"stroke-width:2\" />\n",
       "\n",
       "  <!-- Colored Rectangle -->\n",
       "  <polygon points=\"80.588235,70.588235 120.169430,70.588235 120.169430,190.588235 80.588235,190.588235\" style=\"fill:#ECB172A0;stroke-width:0\"/>\n",
       "\n",
       "  <!-- Text -->\n",
       "  <text x=\"100.378833\" y=\"210.588235\" font-size=\"1.0rem\" font-weight=\"100\" text-anchor=\"middle\" >3</text>\n",
       "  <text x=\"140.169430\" y=\"130.588235\" font-size=\"1.0rem\" font-weight=\"100\" text-anchor=\"middle\" transform=\"rotate(0,140.169430,130.588235)\">25</text>\n",
       "  <text x=\"35.294118\" y=\"175.294118\" font-size=\"1.0rem\" font-weight=\"100\" text-anchor=\"middle\" transform=\"rotate(45,35.294118,175.294118)\">25</text>\n",
       "</svg>\n",
       "</td>\n",
       "</tr>\n",
       "</table>"
      ],
      "text/plain": [
       "dask.array<getitem, shape=(25, 25, 3), dtype=float64, chunksize=(5, 5, 3), chunktype=numpy.ndarray>"
      ]
     },
     "execution_count": 427,
     "metadata": {},
     "output_type": "execute_result"
    }
   ],
   "source": [
    "res[-1].blocks[0][0]"
   ]
  },
  {
   "cell_type": "code",
   "execution_count": 421,
   "metadata": {},
   "outputs": [
    {
     "data": {
      "text/html": [
       "<table>\n",
       "<tr>\n",
       "<td>\n",
       "<table>\n",
       "  <thead>\n",
       "    <tr><td> </td><th> Array </th><th> Chunk </th></tr>\n",
       "  </thead>\n",
       "  <tbody>\n",
       "    <tr><th> Bytes </th><td> 2.20 kB </td> <td> 440 B </td></tr>\n",
       "    <tr><th> Shape </th><td> (25, 11) </td> <td> (5, 11) </td></tr>\n",
       "    <tr><th> Count </th><td> 75 Tasks </td><td> 5 Chunks </td></tr>\n",
       "    <tr><th> Type </th><td> float64 </td><td> numpy.ndarray </td></tr>\n",
       "  </tbody>\n",
       "</table>\n",
       "</td>\n",
       "<td>\n",
       "<svg width=\"102\" height=\"170\" style=\"stroke:rgb(0,0,0);stroke-width:1\" >\n",
       "\n",
       "  <!-- Horizontal lines -->\n",
       "  <line x1=\"0\" y1=\"0\" x2=\"52\" y2=\"0\" style=\"stroke-width:2\" />\n",
       "  <line x1=\"0\" y1=\"24\" x2=\"52\" y2=\"24\" />\n",
       "  <line x1=\"0\" y1=\"48\" x2=\"52\" y2=\"48\" />\n",
       "  <line x1=\"0\" y1=\"72\" x2=\"52\" y2=\"72\" />\n",
       "  <line x1=\"0\" y1=\"96\" x2=\"52\" y2=\"96\" />\n",
       "  <line x1=\"0\" y1=\"120\" x2=\"52\" y2=\"120\" style=\"stroke-width:2\" />\n",
       "\n",
       "  <!-- Vertical lines -->\n",
       "  <line x1=\"0\" y1=\"0\" x2=\"0\" y2=\"120\" style=\"stroke-width:2\" />\n",
       "  <line x1=\"52\" y1=\"0\" x2=\"52\" y2=\"120\" style=\"stroke-width:2\" />\n",
       "\n",
       "  <!-- Colored Rectangle -->\n",
       "  <polygon points=\"0.000000,0.000000 52.800000,0.000000 52.800000,120.000000 0.000000,120.000000\" style=\"fill:#ECB172A0;stroke-width:0\"/>\n",
       "\n",
       "  <!-- Text -->\n",
       "  <text x=\"26.400000\" y=\"140.000000\" font-size=\"1.0rem\" font-weight=\"100\" text-anchor=\"middle\" >11</text>\n",
       "  <text x=\"72.800000\" y=\"60.000000\" font-size=\"1.0rem\" font-weight=\"100\" text-anchor=\"middle\" transform=\"rotate(0,72.800000,60.000000)\">25</text>\n",
       "</svg>\n",
       "</td>\n",
       "</tr>\n",
       "</table>"
      ],
      "text/plain": [
       "dask.array<rechunk-merge, shape=(25, 11), dtype=float64, chunksize=(5, 11), chunktype=numpy.ndarray>"
      ]
     },
     "execution_count": 421,
     "metadata": {},
     "output_type": "execute_result"
    }
   ],
   "source": [
    "a = res[-1][0][0]\n",
    "a"
   ]
  },
  {
   "cell_type": "code",
   "execution_count": 415,
   "metadata": {},
   "outputs": [
    {
     "data": {
      "text/html": [
       "<table>\n",
       "<tr>\n",
       "<td>\n",
       "<table>\n",
       "  <thead>\n",
       "    <tr><td> </td><th> Array </th><th> Chunk </th></tr>\n",
       "  </thead>\n",
       "  <tbody>\n",
       "    <tr><th> Bytes </th><td> 2.20 kB </td> <td> 440 B </td></tr>\n",
       "    <tr><th> Shape </th><td> (25, 11) </td> <td> (5, 11) </td></tr>\n",
       "    <tr><th> Count </th><td> 75 Tasks </td><td> 5 Chunks </td></tr>\n",
       "    <tr><th> Type </th><td> float64 </td><td> numpy.ndarray </td></tr>\n",
       "  </tbody>\n",
       "</table>\n",
       "</td>\n",
       "<td>\n",
       "<svg width=\"102\" height=\"170\" style=\"stroke:rgb(0,0,0);stroke-width:1\" >\n",
       "\n",
       "  <!-- Horizontal lines -->\n",
       "  <line x1=\"0\" y1=\"0\" x2=\"52\" y2=\"0\" style=\"stroke-width:2\" />\n",
       "  <line x1=\"0\" y1=\"24\" x2=\"52\" y2=\"24\" />\n",
       "  <line x1=\"0\" y1=\"48\" x2=\"52\" y2=\"48\" />\n",
       "  <line x1=\"0\" y1=\"72\" x2=\"52\" y2=\"72\" />\n",
       "  <line x1=\"0\" y1=\"96\" x2=\"52\" y2=\"96\" />\n",
       "  <line x1=\"0\" y1=\"120\" x2=\"52\" y2=\"120\" style=\"stroke-width:2\" />\n",
       "\n",
       "  <!-- Vertical lines -->\n",
       "  <line x1=\"0\" y1=\"0\" x2=\"0\" y2=\"120\" style=\"stroke-width:2\" />\n",
       "  <line x1=\"52\" y1=\"0\" x2=\"52\" y2=\"120\" style=\"stroke-width:2\" />\n",
       "\n",
       "  <!-- Colored Rectangle -->\n",
       "  <polygon points=\"0.000000,0.000000 52.800000,0.000000 52.800000,120.000000 0.000000,120.000000\" style=\"fill:#ECB172A0;stroke-width:0\"/>\n",
       "\n",
       "  <!-- Text -->\n",
       "  <text x=\"26.400000\" y=\"140.000000\" font-size=\"1.0rem\" font-weight=\"100\" text-anchor=\"middle\" >11</text>\n",
       "  <text x=\"72.800000\" y=\"60.000000\" font-size=\"1.0rem\" font-weight=\"100\" text-anchor=\"middle\" transform=\"rotate(0,72.800000,60.000000)\">25</text>\n",
       "</svg>\n",
       "</td>\n",
       "</tr>\n",
       "</table>"
      ],
      "text/plain": [
       "dask.array<rechunk-merge, shape=(25, 11), dtype=float64, chunksize=(5, 11), chunktype=numpy.ndarray>"
      ]
     },
     "execution_count": 415,
     "metadata": {},
     "output_type": "execute_result"
    }
   ],
   "source": [
    "res[-1][0][-3]"
   ]
  },
  {
   "cell_type": "code",
   "execution_count": 416,
   "metadata": {},
   "outputs": [
    {
     "data": {
      "text/html": [
       "<table>\n",
       "<tr>\n",
       "<td>\n",
       "<table>\n",
       "  <thead>\n",
       "    <tr><td> </td><th> Array </th><th> Chunk </th></tr>\n",
       "  </thead>\n",
       "  <tbody>\n",
       "    <tr><th> Bytes </th><td> 5.28 kB </td> <td> 1.06 kB </td></tr>\n",
       "    <tr><th> Shape </th><td> (20, 11, 3) </td> <td> (4, 11, 3) </td></tr>\n",
       "    <tr><th> Count </th><td> 134 Tasks </td><td> 5 Chunks </td></tr>\n",
       "    <tr><th> Type </th><td> float64 </td><td> numpy.ndarray </td></tr>\n",
       "  </tbody>\n",
       "</table>\n",
       "</td>\n",
       "<td>\n",
       "<svg width=\"171\" height=\"186\" style=\"stroke:rgb(0,0,0);stroke-width:1\" >\n",
       "\n",
       "  <!-- Horizontal lines -->\n",
       "  <line x1=\"10\" y1=\"0\" x2=\"80\" y2=\"70\" style=\"stroke-width:2\" />\n",
       "  <line x1=\"10\" y1=\"66\" x2=\"80\" y2=\"136\" style=\"stroke-width:2\" />\n",
       "\n",
       "  <!-- Vertical lines -->\n",
       "  <line x1=\"10\" y1=\"0\" x2=\"10\" y2=\"66\" style=\"stroke-width:2\" />\n",
       "  <line x1=\"24\" y1=\"14\" x2=\"24\" y2=\"80\" />\n",
       "  <line x1=\"38\" y1=\"28\" x2=\"38\" y2=\"94\" />\n",
       "  <line x1=\"52\" y1=\"42\" x2=\"52\" y2=\"108\" />\n",
       "  <line x1=\"66\" y1=\"56\" x2=\"66\" y2=\"122\" />\n",
       "  <line x1=\"80\" y1=\"70\" x2=\"80\" y2=\"136\" style=\"stroke-width:2\" />\n",
       "\n",
       "  <!-- Colored Rectangle -->\n",
       "  <polygon points=\"10.000000,0.000000 80.588235,70.588235 80.588235,136.588235 10.000000,66.000000\" style=\"fill:#ECB172A0;stroke-width:0\"/>\n",
       "\n",
       "  <!-- Horizontal lines -->\n",
       "  <line x1=\"10\" y1=\"0\" x2=\"50\" y2=\"0\" style=\"stroke-width:2\" />\n",
       "  <line x1=\"24\" y1=\"14\" x2=\"64\" y2=\"14\" />\n",
       "  <line x1=\"38\" y1=\"28\" x2=\"78\" y2=\"28\" />\n",
       "  <line x1=\"52\" y1=\"42\" x2=\"93\" y2=\"42\" />\n",
       "  <line x1=\"66\" y1=\"56\" x2=\"107\" y2=\"56\" />\n",
       "  <line x1=\"80\" y1=\"70\" x2=\"121\" y2=\"70\" style=\"stroke-width:2\" />\n",
       "\n",
       "  <!-- Vertical lines -->\n",
       "  <line x1=\"10\" y1=\"0\" x2=\"80\" y2=\"70\" style=\"stroke-width:2\" />\n",
       "  <line x1=\"50\" y1=\"0\" x2=\"121\" y2=\"70\" style=\"stroke-width:2\" />\n",
       "\n",
       "  <!-- Colored Rectangle -->\n",
       "  <polygon points=\"10.000000,0.000000 50.706369,0.000000 121.294605,70.588235 80.588235,70.588235\" style=\"fill:#ECB172A0;stroke-width:0\"/>\n",
       "\n",
       "  <!-- Horizontal lines -->\n",
       "  <line x1=\"80\" y1=\"70\" x2=\"121\" y2=\"70\" style=\"stroke-width:2\" />\n",
       "  <line x1=\"80\" y1=\"136\" x2=\"121\" y2=\"136\" style=\"stroke-width:2\" />\n",
       "\n",
       "  <!-- Vertical lines -->\n",
       "  <line x1=\"80\" y1=\"70\" x2=\"80\" y2=\"136\" style=\"stroke-width:2\" />\n",
       "  <line x1=\"121\" y1=\"70\" x2=\"121\" y2=\"136\" style=\"stroke-width:2\" />\n",
       "\n",
       "  <!-- Colored Rectangle -->\n",
       "  <polygon points=\"80.588235,70.588235 121.294605,70.588235 121.294605,136.588235 80.588235,136.588235\" style=\"fill:#ECB172A0;stroke-width:0\"/>\n",
       "\n",
       "  <!-- Text -->\n",
       "  <text x=\"100.941420\" y=\"156.588235\" font-size=\"1.0rem\" font-weight=\"100\" text-anchor=\"middle\" >3</text>\n",
       "  <text x=\"141.294605\" y=\"103.588235\" font-size=\"1.0rem\" font-weight=\"100\" text-anchor=\"middle\" transform=\"rotate(0,141.294605,103.588235)\">11</text>\n",
       "  <text x=\"35.294118\" y=\"121.294118\" font-size=\"1.0rem\" font-weight=\"100\" text-anchor=\"middle\" transform=\"rotate(45,35.294118,121.294118)\">20</text>\n",
       "</svg>\n",
       "</td>\n",
       "</tr>\n",
       "</table>"
      ],
      "text/plain": [
       "dask.array<lambda, shape=(20, 11, 3), dtype=float64, chunksize=(4, 11, 3), chunktype=numpy.ndarray>"
      ]
     },
     "execution_count": 416,
     "metadata": {},
     "output_type": "execute_result"
    }
   ],
   "source": [
    "res[-1][0][-2]"
   ]
  },
  {
   "cell_type": "code",
   "execution_count": 417,
   "metadata": {},
   "outputs": [
    {
     "data": {
      "text/html": [
       "<table>\n",
       "<tr>\n",
       "<td>\n",
       "<table>\n",
       "  <thead>\n",
       "    <tr><td> </td><th> Array </th><th> Chunk </th></tr>\n",
       "  </thead>\n",
       "  <tbody>\n",
       "    <tr><th> Bytes </th><td> 12.00 kB </td> <td> 480 B </td></tr>\n",
       "    <tr><th> Shape </th><td> (20, 25, 3) </td> <td> (4, 5, 3) </td></tr>\n",
       "    <tr><th> Count </th><td> 159 Tasks </td><td> 25 Chunks </td></tr>\n",
       "    <tr><th> Type </th><td> float64 </td><td> numpy.ndarray </td></tr>\n",
       "  </tbody>\n",
       "</table>\n",
       "</td>\n",
       "<td>\n",
       "<svg width=\"156\" height=\"226\" style=\"stroke:rgb(0,0,0);stroke-width:1\" >\n",
       "\n",
       "  <!-- Horizontal lines -->\n",
       "  <line x1=\"10\" y1=\"0\" x2=\"66\" y2=\"56\" style=\"stroke-width:2\" />\n",
       "  <line x1=\"10\" y1=\"24\" x2=\"66\" y2=\"80\" />\n",
       "  <line x1=\"10\" y1=\"48\" x2=\"66\" y2=\"104\" />\n",
       "  <line x1=\"10\" y1=\"72\" x2=\"66\" y2=\"128\" />\n",
       "  <line x1=\"10\" y1=\"96\" x2=\"66\" y2=\"152\" />\n",
       "  <line x1=\"10\" y1=\"120\" x2=\"66\" y2=\"176\" style=\"stroke-width:2\" />\n",
       "\n",
       "  <!-- Vertical lines -->\n",
       "  <line x1=\"10\" y1=\"0\" x2=\"10\" y2=\"120\" style=\"stroke-width:2\" />\n",
       "  <line x1=\"21\" y1=\"11\" x2=\"21\" y2=\"131\" />\n",
       "  <line x1=\"32\" y1=\"22\" x2=\"32\" y2=\"142\" />\n",
       "  <line x1=\"43\" y1=\"33\" x2=\"43\" y2=\"153\" />\n",
       "  <line x1=\"55\" y1=\"45\" x2=\"55\" y2=\"165\" />\n",
       "  <line x1=\"66\" y1=\"56\" x2=\"66\" y2=\"176\" style=\"stroke-width:2\" />\n",
       "\n",
       "  <!-- Colored Rectangle -->\n",
       "  <polygon points=\"10.000000,0.000000 66.470588,56.470588 66.470588,176.470588 10.000000,120.000000\" style=\"fill:#ECB172A0;stroke-width:0\"/>\n",
       "\n",
       "  <!-- Horizontal lines -->\n",
       "  <line x1=\"10\" y1=\"0\" x2=\"49\" y2=\"0\" style=\"stroke-width:2\" />\n",
       "  <line x1=\"21\" y1=\"11\" x2=\"60\" y2=\"11\" />\n",
       "  <line x1=\"32\" y1=\"22\" x2=\"72\" y2=\"22\" />\n",
       "  <line x1=\"43\" y1=\"33\" x2=\"83\" y2=\"33\" />\n",
       "  <line x1=\"55\" y1=\"45\" x2=\"94\" y2=\"45\" />\n",
       "  <line x1=\"66\" y1=\"56\" x2=\"106\" y2=\"56\" style=\"stroke-width:2\" />\n",
       "\n",
       "  <!-- Vertical lines -->\n",
       "  <line x1=\"10\" y1=\"0\" x2=\"66\" y2=\"56\" style=\"stroke-width:2\" />\n",
       "  <line x1=\"49\" y1=\"0\" x2=\"106\" y2=\"56\" style=\"stroke-width:2\" />\n",
       "\n",
       "  <!-- Colored Rectangle -->\n",
       "  <polygon points=\"10.000000,0.000000 49.581195,0.000000 106.051783,56.470588 66.470588,56.470588\" style=\"fill:#ECB172A0;stroke-width:0\"/>\n",
       "\n",
       "  <!-- Horizontal lines -->\n",
       "  <line x1=\"66\" y1=\"56\" x2=\"106\" y2=\"56\" style=\"stroke-width:2\" />\n",
       "  <line x1=\"66\" y1=\"80\" x2=\"106\" y2=\"80\" />\n",
       "  <line x1=\"66\" y1=\"104\" x2=\"106\" y2=\"104\" />\n",
       "  <line x1=\"66\" y1=\"128\" x2=\"106\" y2=\"128\" />\n",
       "  <line x1=\"66\" y1=\"152\" x2=\"106\" y2=\"152\" />\n",
       "  <line x1=\"66\" y1=\"176\" x2=\"106\" y2=\"176\" style=\"stroke-width:2\" />\n",
       "\n",
       "  <!-- Vertical lines -->\n",
       "  <line x1=\"66\" y1=\"56\" x2=\"66\" y2=\"176\" style=\"stroke-width:2\" />\n",
       "  <line x1=\"106\" y1=\"56\" x2=\"106\" y2=\"176\" style=\"stroke-width:2\" />\n",
       "\n",
       "  <!-- Colored Rectangle -->\n",
       "  <polygon points=\"66.470588,56.470588 106.051783,56.470588 106.051783,176.470588 66.470588,176.470588\" style=\"fill:#ECB172A0;stroke-width:0\"/>\n",
       "\n",
       "  <!-- Text -->\n",
       "  <text x=\"86.261186\" y=\"196.470588\" font-size=\"1.0rem\" font-weight=\"100\" text-anchor=\"middle\" >3</text>\n",
       "  <text x=\"126.051783\" y=\"116.470588\" font-size=\"1.0rem\" font-weight=\"100\" text-anchor=\"middle\" transform=\"rotate(0,126.051783,116.470588)\">25</text>\n",
       "  <text x=\"28.235294\" y=\"168.235294\" font-size=\"1.0rem\" font-weight=\"100\" text-anchor=\"middle\" transform=\"rotate(45,28.235294,168.235294)\">20</text>\n",
       "</svg>\n",
       "</td>\n",
       "</tr>\n",
       "</table>"
      ],
      "text/plain": [
       "dask.array<fn, shape=(20, 25, 3), dtype=float64, chunksize=(4, 5, 3), chunktype=numpy.ndarray>"
      ]
     },
     "execution_count": 417,
     "metadata": {},
     "output_type": "execute_result"
    }
   ],
   "source": [
    "res[-1][0][-1]"
   ]
  },
  {
   "cell_type": "code",
   "execution_count": 418,
   "metadata": {},
   "outputs": [
    {
     "name": "stdout",
     "output_type": "stream",
     "text": [
      "(5, 11)(5, 11) (4, 11, 3)\n",
      "(5, 11) (4, 11, 3)\n",
      "(5, 11)(5, 11) (4, 11, 3)\n",
      " (5, 11) (4, 11, 3)\n",
      "(4, 11, 3)\n",
      " (4, 11, 3)\n",
      "(5, 11) (4, 11, 3)\n",
      "(5, 11) (5, 11)(4, 11, 3)\n",
      " (4, 11, 3)\n"
     ]
    },
    {
     "data": {
      "text/plain": [
       "((4, 4, 4, 4, 4), (5, 5, 5, 5, 5), (3,))"
      ]
     },
     "execution_count": 418,
     "metadata": {},
     "output_type": "execute_result"
    }
   ],
   "source": [
    "res[-1][0][-1].compute_chunk_sizes().chunks"
   ]
  },
  {
   "cell_type": "code",
   "execution_count": 412,
   "metadata": {},
   "outputs": [
    {
     "name": "stdout",
     "output_type": "stream",
     "text": [
      "(5, 11) (4, 11, 3)\n",
      "(5, 11) (4, 11, 3)\n",
      "(5, 11) (4, 11, 3)\n",
      "(5, 11) (4, 11, 3)\n",
      "(5, 11) (4, 11, 3)\n",
      "(5, 11) (4, 11, 3)\n",
      "(5, 11) (4, 11, 3)\n",
      "(5, 11) (4, 11, 3)\n",
      "(5, 11) (4, 11, 3)\n",
      "(5, 11) (4, 11, 3)\n",
      "(5, 11) (4, 11, 3)\n",
      "(5, 11) (4, 11, 3)\n",
      "(5, 11) (4, 11, 3)\n",
      "(5, 11) (4, 11, 3)\n",
      "(5, 11) (4, 11, 3)\n",
      "(5, 11) (4, 11, 3)\n",
      "(5, 11) (4, 11, 3)\n",
      "(5, 11) (4, 11, 3)\n",
      "(5, 11) (4, 11, 3)\n",
      "(5, 11) (4, 11, 3)\n",
      "(5, 11) (4, 11, 3)\n",
      "(5, 11) (4, 11, 3)\n",
      "(5, 11) (4, 11, 3)\n",
      "(5, 11) (4, 11, 3)\n",
      "(5, 11) (4, 11, 3)\n"
     ]
    },
    {
     "data": {
      "text/plain": [
       "(20, 25, 3)"
      ]
     },
     "execution_count": 412,
     "metadata": {},
     "output_type": "execute_result"
    }
   ],
   "source": [
    "res[-1][0][-1].compute(scheduler='single-threaded').shape"
   ]
  }
 ],
 "metadata": {
  "kernelspec": {
   "display_name": "Python 3",
   "language": "python",
   "name": "python3"
  },
  "language_info": {
   "codemirror_mode": {
    "name": "ipython",
    "version": 3
   },
   "file_extension": ".py",
   "mimetype": "text/x-python",
   "name": "python",
   "nbconvert_exporter": "python",
   "pygments_lexer": "ipython3",
   "version": "3.7.6"
  }
 },
 "nbformat": 4,
 "nbformat_minor": 4
}
