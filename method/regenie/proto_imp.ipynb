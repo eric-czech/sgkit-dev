{
 "cells": [
  {
   "cell_type": "code",
   "execution_count": 2,
   "metadata": {},
   "outputs": [],
   "source": [
    "import numpy as np\n",
    "import pandas as pd\n",
    "import dask.array as da\n",
    "from sklearn.linear_model import Ridge, RidgeCV\n",
    "%load_ext autoreload\n",
    "%autoreload 2"
   ]
  },
  {
   "cell_type": "markdown",
   "metadata": {},
   "source": [
    "### Helper Functions"
   ]
  },
  {
   "cell_type": "markdown",
   "metadata": {},
   "source": [
    "-----\n",
    "Finding boundaries within a contig:"
   ]
  },
  {
   "cell_type": "code",
   "execution_count": 163,
   "metadata": {},
   "outputs": [],
   "source": [
    "def get_block_boundaries(x, size):\n",
    "    assert x.ndim == 1\n",
    "    assert size > 0\n",
    "    breaks = np.argwhere(np.diff(x, prepend=x[0]))[:,0]\n",
    "    breaks = np.concatenate(([0], breaks, [x.size]))\n",
    "    index = np.concatenate([\n",
    "        np.arange(breaks[i], breaks[i+1], size)\n",
    "        for i in range(breaks.size-1)\n",
    "    ])\n",
    "    sizes = np.diff(index, append=x.size)\n",
    "    return index, sizes\n",
    "    \n",
    "\n",
    "def test_block_boundaries():\n",
    "    def check(x, size):\n",
    "        idx, sizes = get_block_boundaries(x, size)\n",
    "        assert sizes.sum() == x.size\n",
    "        assert idx.ndim == sizes.ndim == 1\n",
    "        assert idx.size == sizes.size\n",
    "        chunks = []\n",
    "        for i in range(idx.size):\n",
    "            start, stop = idx[i], idx[i] + sizes[i]\n",
    "            chunk = x[slice(start, stop)]\n",
    "            assert len(chunk) <= size\n",
    "            chunks.append(chunk)\n",
    "        np.testing.assert_equal(np.concatenate(chunks), x)\n",
    "\n",
    "    arrays = [\n",
    "        np.array([0]),\n",
    "        np.array([0, 0]),\n",
    "        np.array([0, 1]),\n",
    "        np.array([0, 1, 1, 1]),\n",
    "        np.array([0, 1, 1, 1, 1, 10]),\n",
    "        np.array([0, 1, 1, 1, 2, 2, 3, 5]),\n",
    "        np.array([0, 1, 1, 2, 2, 2, 5, 5, 5, 5, 5, 8, 8, 8, 8, 10])\n",
    "    ]\n",
    "    for x in arrays:\n",
    "        for size in [1, 2, 3]:\n",
    "            check(x, size)\n",
    "        check(x, x.size)\n",
    "\n",
    "test_block_boundaries()"
   ]
  },
  {
   "cell_type": "code",
   "execution_count": 165,
   "metadata": {},
   "outputs": [
    {
     "data": {
      "text/plain": [
       "(array([ 0,  1,  3,  5,  6,  8, 10]), array([1, 2, 2, 1, 2, 2, 1]))"
      ]
     },
     "execution_count": 165,
     "metadata": {},
     "output_type": "execute_result"
    }
   ],
   "source": [
    "get_block_boundaries(np.array([0, 1, 1, 5, 5, 5, 8, 8, 8, 8, 10]), 2)"
   ]
  },
  {
   "cell_type": "markdown",
   "metadata": {},
   "source": [
    "-----\n",
    "\n",
    "Ridge regression within blocks:"
   ]
  },
  {
   "cell_type": "code",
   "execution_count": 719,
   "metadata": {},
   "outputs": [],
   "source": [
    "from sklearn.linear_model import Ridge\n",
    "\n",
    "# TODO: Is there a way to solve for B in XtX @ B = XtY without inverse?\n",
    "# - SVD is equivalent, but only when n <= p and alpha = 0\n",
    "def ridge_regression_svd(X, Y, a):\n",
    "    \"\"\"Multi-outcome, multi-parameter ridge regression via SVD.\"\"\"\n",
    "    U, s, Vt = np.linalg.svd(X, full_matrices=False)\n",
    "    UtY = np.dot(U.T, Y)\n",
    "    V = np.expand_dims(Vt.T, 0)\n",
    "    s = np.expand_dims(s, 0)\n",
    "    a = np.expand_dims(a, -1)\n",
    "    d = np.expand_dims(s / (s ** 2 + a), -1)\n",
    "    d_UtY = d * UtY\n",
    "    # returns (n_alpha, n_covariate, n_outcome)\n",
    "    return np.matmul(V, d_UtY)\n",
    "\n",
    "\n",
    "def _test_data(n, p, y):\n",
    "    np.random.seed(0)\n",
    "    X = np.random.normal(size=(n, p))\n",
    "    B = np.random.normal(size=(p, y))\n",
    "    Y = X @ B \n",
    "    return X, B, Y\n",
    "\n",
    "\n",
    "def test_ridge_projection():\n",
    "    def check(n, p, y, alphas):\n",
    "        X, B, Y = _test_data(n, p, y)\n",
    "        XtX, XtY = X.T @ X, X.T @ Y\n",
    "        b1 = ridge_regression_svd(X, Y, alphas)\n",
    "        b2 = ridge_regression_svd(XtX, XtY, alphas)\n",
    "        assert b1.ndim == 3\n",
    "        assert b1.shape == (alphas.size,) + B.shape\n",
    "        assert b2.shape == b2.shape\n",
    "        np.testing.assert_allclose(b1, b2)\n",
    "        \n",
    "    # In order for SVD ridge to have the same solution for (X, Y)\n",
    "    # as (XtX, XtY), alpha must be 0 and n >= p\n",
    "    shapes = [\n",
    "        (10, 1, 1),\n",
    "        (10, 5, 3),\n",
    "        (10, 10, 3),\n",
    "        (1000, 50, 10),\n",
    "    ]\n",
    "    alphas = np.array([0])\n",
    "    for shape in shapes:\n",
    "        check(*shape, alphas)\n",
    "        \n",
    "def test_ridge_regression():\n",
    "    def check(n, p, y, alphas):\n",
    "        X, B, Y = _test_data(n, p, y)\n",
    "        b = ridge_regression_svd(X, Y, alphas)\n",
    "        assert b.ndim == 3\n",
    "        assert b.shape == (alphas.size,) + B.shape\n",
    "        if n >= p:\n",
    "            # Check no regularization case only if (n >= p)\n",
    "            np.testing.assert_allclose(b[0], B)\n",
    "        for i, a in enumerate(alphas):\n",
    "            if a == 0:\n",
    "                continue\n",
    "            est = Ridge(alpha=a, fit_intercept=False, normalize=False, solver='svd', random_state=0)\n",
    "            est.fit(X, Y)\n",
    "            np.testing.assert_allclose(est.coef_.T, b[i])\n",
    "            \n",
    "    shapes = [\n",
    "        (1, 1, 1),\n",
    "        (10, 1, 1),\n",
    "        (1, 10, 1),\n",
    "        (10, 5, 3),\n",
    "        (5, 10, 3),\n",
    "        (10, 10, 3),\n",
    "        (1000, 50, 10),\n",
    "        (50, 1000, 10)\n",
    "    ]\n",
    "    alphas = np.array([0., .001, .01, .1, 1, 10, 100, 1000])\n",
    "    for shape in shapes:\n",
    "        check(*shape, alphas)\n",
    "        \n",
    "test_ridge_regression()\n",
    "test_ridge_projection()"
   ]
  },
  {
   "cell_type": "code",
   "execution_count": 738,
   "metadata": {},
   "outputs": [],
   "source": [
    "from sklearn.linear_model import Ridge\n",
    "\n",
    "def ridge_regression(XtX, XtY, alphas):\n",
    "    \"\"\"Multi-outcome, multi-parameter ridge regression.\"\"\"\n",
    "    assert XtX.shape[0] == XtX.shape[1] == XtY.shape[0]\n",
    "    diags = np.stack([\n",
    "        np.eye(XtX.shape[0]) * alphas[i]\n",
    "        for i in range(len(alphas))\n",
    "    ])\n",
    "    return np.linalg.inv(XtX + diags) @ XtY\n",
    "\n",
    "\n",
    "def _test_data(n, p, y):\n",
    "    np.random.seed(0)\n",
    "    X = np.random.normal(size=(n, p))\n",
    "    B = np.random.normal(size=(p, y))\n",
    "    Y = X @ B \n",
    "    return X, B, Y\n",
    "        \n",
    "def test_ridge_regression():\n",
    "    def check(n, p, y, alphas):\n",
    "        X, B, Y = _test_data(n, p, y)\n",
    "        XtX, XtY = X.T @ X, X.T @ Y\n",
    "        b = ridge_regression(XtX, XtY, alphas)\n",
    "        assert b.ndim == 3\n",
    "        assert b.shape == (alphas.size,) + B.shape\n",
    "#         if n >= p:\n",
    "#             # Check no regularization case only if (n >= p)\n",
    "#             np.testing.assert_allclose(b[0], B)\n",
    "        for i, a in enumerate(alphas):\n",
    "            if a == 0:\n",
    "                continue\n",
    "            est = Ridge(alpha=a, fit_intercept=False, normalize=False, solver='lsqr', random_state=0)\n",
    "            est.fit(X, Y)\n",
    "            np.testing.assert_allclose(est.coef_.T, b[i], atol=1e-2)\n",
    "            \n",
    "    shapes = [\n",
    "#         (1, 1, 1),\n",
    "#         (10, 1, 1),\n",
    "#         (1, 10, 1),\n",
    "        (10, 5, 3),\n",
    "        #(5, 10, 3),\n",
    "        (10, 9, 3),\n",
    "        (1000, 50, 10),\n",
    "        #(50, 1000, 10)\n",
    "    ]\n",
    "    alphas = np.array([.001, .01, .1, 1, 10, 100, 1000])\n",
    "    for shape in shapes:\n",
    "        check(*shape, alphas)\n",
    "        \n",
    "# Ridge using inv of XtX and XtY is not the same as sklearn?\n",
    "test_ridge_regression()"
   ]
  },
  {
   "cell_type": "markdown",
   "metadata": {},
   "source": [
    "------\n",
    "\n",
    "R2 score"
   ]
  },
  {
   "cell_type": "code",
   "execution_count": 521,
   "metadata": {},
   "outputs": [],
   "source": [
    "def r2_score(YP, Y):\n",
    "    # https://github.com/projectglow/glow/blob/f3edf5bb8fe9c2d2e1a374d4402032ba5ce08e29/python/glow/wgr/linear_model/functions.py#L227\n",
    "    # Observations must be in last dimension\n",
    "    # Returns -inf if the number of observations is 1\n",
    "    # Returns nan if any values are nan\n",
    "    assert YP.shape[-1] == Y.shape[-1]\n",
    "    YP, Y = np.broadcast_arrays(YP, Y)\n",
    "    tot = np.power(Y - Y.mean(axis=-1, keepdims=True), 2)\n",
    "    tot = tot.sum(axis=-1, keepdims=True)\n",
    "    res = np.power(Y - YP, 2)\n",
    "    res = res.sum(axis=-1, keepdims=True)\n",
    "    r2 = 1 - (res / tot)\n",
    "    return r2[..., 0]\n",
    "    \n",
    "\n",
    "def test_r2_score():\n",
    "    n, p, y = 20, 5, 3\n",
    "    np.random.seed(0)\n",
    "    X = np.random.normal(size=(n, p))\n",
    "    B = np.random.normal(size=(p, y))\n",
    "    Y = (X @ B).T\n",
    "    YP = Y + np.random.normal(size=(6, 8, y, n), scale=.1)\n",
    "    \n",
    "    # Test case with perfect predictions\n",
    "    np.testing.assert_allclose(r2_score(Y, Y), 1)\n",
    "    \n",
    "    # Test case with near perfect predictions and extra\n",
    "    # loop dimensions\n",
    "    r2_actual = r2_score(YP, Y)\n",
    "    assert r2_actual.shape == YP.shape[:-1]\n",
    "    r2_expected = np.array([\n",
    "        r2_score(YP[i, j, k], Y[k])\n",
    "        for i in range(YP.shape[0])\n",
    "        for j in range(YP.shape[1])\n",
    "        for k in range(y)\n",
    "    ])\n",
    "    # This will ensure that aggregations occurred across\n",
    "    # the correct axis and that the loop dimensions can\n",
    "    # be recapitulated with an explicit set of nested loops\n",
    "    np.testing.assert_allclose(r2_actual.ravel(), r2_expected)\n",
    "\n",
    "test_r2_score()"
   ]
  },
  {
   "cell_type": "markdown",
   "metadata": {},
   "source": [
    "### Implementation"
   ]
  },
  {
   "cell_type": "code",
   "execution_count": 93,
   "metadata": {},
   "outputs": [],
   "source": [
    "from sgkit.stats import regenie"
   ]
  },
  {
   "cell_type": "code",
   "execution_count": 94,
   "metadata": {},
   "outputs": [
    {
     "data": {
      "text/plain": [
       "(array([0, 3, 5, 8]), array([3, 2, 3, 1]))"
      ]
     },
     "execution_count": 94,
     "metadata": {},
     "output_type": "execute_result"
    }
   ],
   "source": [
    "contigs = np.array([1, 1, 1, 1, 1, 2, 2, 2, 2])\n",
    "variant_chunk_start, variant_chunk_size = regenie.get_block_boundaries(contigs, 3)\n",
    "variant_chunk_start, variant_chunk_size"
   ]
  },
  {
   "cell_type": "code",
   "execution_count": 95,
   "metadata": {},
   "outputs": [
    {
     "data": {
      "text/plain": [
       "array([1, 1, 2, 2])"
      ]
     },
     "execution_count": 95,
     "metadata": {},
     "output_type": "execute_result"
    }
   ],
   "source": [
    "contigs[variant_chunk_start]"
   ]
  },
  {
   "cell_type": "code",
   "execution_count": 125,
   "metadata": {},
   "outputs": [
    {
     "data": {
      "text/plain": [
       "((25, 2), (20, 25), (25, 3), (20,))"
      ]
     },
     "execution_count": 125,
     "metadata": {},
     "output_type": "execute_result"
    }
   ],
   "source": [
    "m, n, c, y = 20, 25, 2, 3\n",
    "np.random.seed(0)\n",
    "X = np.random.normal(size=(n, c))\n",
    "BX = np.random.normal(size=(X.shape[1], 1)) \n",
    "G = np.random.choice([0, 1, 2], size=(m, n))\n",
    "BG = np.random.normal(size=(m, y))\n",
    "contigs = np.sort(np.arange(m) // 2)\n",
    "#contigs = np.ones(m, dtype=int)\n",
    "\n",
    "Y = X @ BX + G.T @ BG + np.random.normal(size=(n, y), scale=.001)\n",
    "X.shape, G.shape, Y.shape, contigs.shape"
   ]
  },
  {
   "cell_type": "code",
   "execution_count": 126,
   "metadata": {},
   "outputs": [
    {
     "data": {
      "text/plain": [
       "array([0, 0, 1, 1, 2, 2, 3, 3, 4, 4, 5, 5, 6, 6, 7, 7, 8, 8, 9, 9])"
      ]
     },
     "execution_count": 126,
     "metadata": {},
     "output_type": "execute_result"
    }
   ],
   "source": [
    "contigs"
   ]
  },
  {
   "cell_type": "code",
   "execution_count": 127,
   "metadata": {},
   "outputs": [
    {
     "data": {
      "text/html": [
       "<table>\n",
       "<tr>\n",
       "<td>\n",
       "<table>\n",
       "  <thead>\n",
       "    <tr><td> </td><th> Array </th><th> Chunk </th></tr>\n",
       "  </thead>\n",
       "  <tbody>\n",
       "    <tr><th> Bytes </th><td> 2.76 kB </td> <td> 552 B </td></tr>\n",
       "    <tr><th> Shape </th><td> (115, 3) </td> <td> (23, 3) </td></tr>\n",
       "    <tr><th> Count </th><td> 2546 Tasks </td><td> 5 Chunks </td></tr>\n",
       "    <tr><th> Type </th><td> float64 </td><td> numpy.ndarray </td></tr>\n",
       "  </tbody>\n",
       "</table>\n",
       "</td>\n",
       "<td>\n",
       "<svg width=\"80\" height=\"170\" style=\"stroke:rgb(0,0,0);stroke-width:1\" >\n",
       "\n",
       "  <!-- Horizontal lines -->\n",
       "  <line x1=\"0\" y1=\"0\" x2=\"30\" y2=\"0\" style=\"stroke-width:2\" />\n",
       "  <line x1=\"0\" y1=\"24\" x2=\"30\" y2=\"24\" />\n",
       "  <line x1=\"0\" y1=\"48\" x2=\"30\" y2=\"48\" />\n",
       "  <line x1=\"0\" y1=\"72\" x2=\"30\" y2=\"72\" />\n",
       "  <line x1=\"0\" y1=\"96\" x2=\"30\" y2=\"96\" />\n",
       "  <line x1=\"0\" y1=\"120\" x2=\"30\" y2=\"120\" style=\"stroke-width:2\" />\n",
       "\n",
       "  <!-- Vertical lines -->\n",
       "  <line x1=\"0\" y1=\"0\" x2=\"0\" y2=\"120\" style=\"stroke-width:2\" />\n",
       "  <line x1=\"30\" y1=\"0\" x2=\"30\" y2=\"120\" style=\"stroke-width:2\" />\n",
       "\n",
       "  <!-- Colored Rectangle -->\n",
       "  <polygon points=\"0.000000,0.000000 30.560922,0.000000 30.560922,120.000000 0.000000,120.000000\" style=\"fill:#ECB172A0;stroke-width:0\"/>\n",
       "\n",
       "  <!-- Text -->\n",
       "  <text x=\"15.280461\" y=\"140.000000\" font-size=\"1.0rem\" font-weight=\"100\" text-anchor=\"middle\" >3</text>\n",
       "  <text x=\"50.560922\" y=\"60.000000\" font-size=\"1.0rem\" font-weight=\"100\" text-anchor=\"middle\" transform=\"rotate(-90,50.560922,60.000000)\">115</text>\n",
       "</svg>\n",
       "</td>\n",
       "</tr>\n",
       "</table>"
      ],
      "text/plain": [
       "dask.array<rechunk-merge, shape=(115, 3), dtype=float64, chunksize=(23, 3), chunktype=numpy.ndarray>"
      ]
     },
     "execution_count": 127,
     "metadata": {},
     "output_type": "execute_result"
    }
   ],
   "source": [
    "alphas = np.array([1000., 2500.])\n",
    "res = regenie.regenie(\n",
    "    G.T, X, Y, contigs, \n",
    "    variant_block_size=8, \n",
    "    sample_block_size=6, \n",
    "    normalize=False, \n",
    "    alphas=alphas\n",
    ")\n",
    "YP1, YP2, B2, L3 = res\n",
    "B2"
   ]
  },
  {
   "cell_type": "code",
   "execution_count": 128,
   "metadata": {},
   "outputs": [
    {
     "data": {
      "text/html": [
       "<table>\n",
       "<tr>\n",
       "<td>\n",
       "<table>\n",
       "  <thead>\n",
       "    <tr><td> </td><th> Array </th><th> Chunk </th></tr>\n",
       "  </thead>\n",
       "  <tbody>\n",
       "    <tr><th> Bytes </th><td> 6.00 kB </td> <td> 144 B </td></tr>\n",
       "    <tr><th> Shape </th><td> (10, 25, 3) </td> <td> (1, 6, 3) </td></tr>\n",
       "    <tr><th> Count </th><td> 4481 Tasks </td><td> 50 Chunks </td></tr>\n",
       "    <tr><th> Type </th><td> float64 </td><td> numpy.ndarray </td></tr>\n",
       "  </tbody>\n",
       "</table>\n",
       "</td>\n",
       "<td>\n",
       "<svg width=\"127\" height=\"198\" style=\"stroke:rgb(0,0,0);stroke-width:1\" >\n",
       "\n",
       "  <!-- Horizontal lines -->\n",
       "  <line x1=\"10\" y1=\"0\" x2=\"38\" y2=\"28\" style=\"stroke-width:2\" />\n",
       "  <line x1=\"10\" y1=\"28\" x2=\"38\" y2=\"57\" />\n",
       "  <line x1=\"10\" y1=\"57\" x2=\"38\" y2=\"85\" />\n",
       "  <line x1=\"10\" y1=\"86\" x2=\"38\" y2=\"114\" />\n",
       "  <line x1=\"10\" y1=\"115\" x2=\"38\" y2=\"143\" />\n",
       "  <line x1=\"10\" y1=\"120\" x2=\"38\" y2=\"148\" style=\"stroke-width:2\" />\n",
       "\n",
       "  <!-- Vertical lines -->\n",
       "  <line x1=\"10\" y1=\"0\" x2=\"10\" y2=\"120\" style=\"stroke-width:2\" />\n",
       "  <line x1=\"12\" y1=\"2\" x2=\"12\" y2=\"122\" />\n",
       "  <line x1=\"15\" y1=\"5\" x2=\"15\" y2=\"125\" />\n",
       "  <line x1=\"18\" y1=\"8\" x2=\"18\" y2=\"128\" />\n",
       "  <line x1=\"21\" y1=\"11\" x2=\"21\" y2=\"131\" />\n",
       "  <line x1=\"24\" y1=\"14\" x2=\"24\" y2=\"134\" />\n",
       "  <line x1=\"26\" y1=\"16\" x2=\"26\" y2=\"136\" />\n",
       "  <line x1=\"29\" y1=\"19\" x2=\"29\" y2=\"139\" />\n",
       "  <line x1=\"32\" y1=\"22\" x2=\"32\" y2=\"142\" />\n",
       "  <line x1=\"35\" y1=\"25\" x2=\"35\" y2=\"145\" />\n",
       "  <line x1=\"38\" y1=\"28\" x2=\"38\" y2=\"148\" style=\"stroke-width:2\" />\n",
       "\n",
       "  <!-- Colored Rectangle -->\n",
       "  <polygon points=\"10.000000,0.000000 38.235294,28.235294 38.235294,148.235294 10.000000,120.000000\" style=\"fill:#ECB172A0;stroke-width:0\"/>\n",
       "\n",
       "  <!-- Horizontal lines -->\n",
       "  <line x1=\"10\" y1=\"0\" x2=\"49\" y2=\"0\" style=\"stroke-width:2\" />\n",
       "  <line x1=\"12\" y1=\"2\" x2=\"52\" y2=\"2\" />\n",
       "  <line x1=\"15\" y1=\"5\" x2=\"55\" y2=\"5\" />\n",
       "  <line x1=\"18\" y1=\"8\" x2=\"58\" y2=\"8\" />\n",
       "  <line x1=\"21\" y1=\"11\" x2=\"60\" y2=\"11\" />\n",
       "  <line x1=\"24\" y1=\"14\" x2=\"63\" y2=\"14\" />\n",
       "  <line x1=\"26\" y1=\"16\" x2=\"66\" y2=\"16\" />\n",
       "  <line x1=\"29\" y1=\"19\" x2=\"69\" y2=\"19\" />\n",
       "  <line x1=\"32\" y1=\"22\" x2=\"72\" y2=\"22\" />\n",
       "  <line x1=\"35\" y1=\"25\" x2=\"74\" y2=\"25\" />\n",
       "  <line x1=\"38\" y1=\"28\" x2=\"77\" y2=\"28\" style=\"stroke-width:2\" />\n",
       "\n",
       "  <!-- Vertical lines -->\n",
       "  <line x1=\"10\" y1=\"0\" x2=\"38\" y2=\"28\" style=\"stroke-width:2\" />\n",
       "  <line x1=\"49\" y1=\"0\" x2=\"77\" y2=\"28\" style=\"stroke-width:2\" />\n",
       "\n",
       "  <!-- Colored Rectangle -->\n",
       "  <polygon points=\"10.000000,0.000000 49.581195,0.000000 77.816489,28.235294 38.235294,28.235294\" style=\"fill:#ECB172A0;stroke-width:0\"/>\n",
       "\n",
       "  <!-- Horizontal lines -->\n",
       "  <line x1=\"38\" y1=\"28\" x2=\"77\" y2=\"28\" style=\"stroke-width:2\" />\n",
       "  <line x1=\"38\" y1=\"57\" x2=\"77\" y2=\"57\" />\n",
       "  <line x1=\"38\" y1=\"85\" x2=\"77\" y2=\"85\" />\n",
       "  <line x1=\"38\" y1=\"114\" x2=\"77\" y2=\"114\" />\n",
       "  <line x1=\"38\" y1=\"143\" x2=\"77\" y2=\"143\" />\n",
       "  <line x1=\"38\" y1=\"148\" x2=\"77\" y2=\"148\" style=\"stroke-width:2\" />\n",
       "\n",
       "  <!-- Vertical lines -->\n",
       "  <line x1=\"38\" y1=\"28\" x2=\"38\" y2=\"148\" style=\"stroke-width:2\" />\n",
       "  <line x1=\"77\" y1=\"28\" x2=\"77\" y2=\"148\" style=\"stroke-width:2\" />\n",
       "\n",
       "  <!-- Colored Rectangle -->\n",
       "  <polygon points=\"38.235294,28.235294 77.816489,28.235294 77.816489,148.235294 38.235294,148.235294\" style=\"fill:#ECB172A0;stroke-width:0\"/>\n",
       "\n",
       "  <!-- Text -->\n",
       "  <text x=\"58.025892\" y=\"168.235294\" font-size=\"1.0rem\" font-weight=\"100\" text-anchor=\"middle\" >3</text>\n",
       "  <text x=\"97.816489\" y=\"88.235294\" font-size=\"1.0rem\" font-weight=\"100\" text-anchor=\"middle\" transform=\"rotate(0,97.816489,88.235294)\">25</text>\n",
       "  <text x=\"14.117647\" y=\"154.117647\" font-size=\"1.0rem\" font-weight=\"100\" text-anchor=\"middle\" transform=\"rotate(45,14.117647,154.117647)\">10</text>\n",
       "</svg>\n",
       "</td>\n",
       "</tr>\n",
       "</table>"
      ],
      "text/plain": [
       "dask.array<stack, shape=(10, 25, 3), dtype=float64, chunksize=(1, 6, 3), chunktype=numpy.ndarray>"
      ]
     },
     "execution_count": 128,
     "metadata": {},
     "output_type": "execute_result"
    }
   ],
   "source": [
    "L3"
   ]
  },
  {
   "cell_type": "code",
   "execution_count": 129,
   "metadata": {},
   "outputs": [
    {
     "data": {
      "text/plain": [
       "(10, 25, 3)"
      ]
     },
     "execution_count": 129,
     "metadata": {},
     "output_type": "execute_result"
    }
   ],
   "source": [
    "L3.compute().shape"
   ]
  },
  {
   "cell_type": "code",
   "execution_count": 107,
   "metadata": {},
   "outputs": [
    {
     "data": {
      "text/plain": [
       "(25, 3)"
      ]
     },
     "execution_count": 107,
     "metadata": {},
     "output_type": "execute_result"
    }
   ],
   "source": [
    "L3[-1].compute().shape"
   ]
  },
  {
   "cell_type": "code",
   "execution_count": 90,
   "metadata": {},
   "outputs": [
    {
     "data": {
      "text/plain": [
       "(3, 5, 3, 2)"
      ]
     },
     "execution_count": 90,
     "metadata": {},
     "output_type": "execute_result"
    }
   ],
   "source": [
    "L3[-2].compute().shape"
   ]
  },
  {
   "cell_type": "code",
   "execution_count": 85,
   "metadata": {},
   "outputs": [
    {
     "data": {
      "text/plain": [
       "(3, 2, 25, 3)"
      ]
     },
     "execution_count": 85,
     "metadata": {},
     "output_type": "execute_result"
    }
   ],
   "source": [
    "YP1.compute().shape"
   ]
  },
  {
   "cell_type": "code",
   "execution_count": 86,
   "metadata": {},
   "outputs": [
    {
     "data": {
      "text/plain": [
       "(25, 3)"
      ]
     },
     "execution_count": 86,
     "metadata": {},
     "output_type": "execute_result"
    }
   ],
   "source": [
    "YP2.compute().shape"
   ]
  },
  {
   "cell_type": "code",
   "execution_count": 87,
   "metadata": {},
   "outputs": [
    {
     "data": {
      "text/plain": [
       "(45, 3)"
      ]
     },
     "execution_count": 87,
     "metadata": {},
     "output_type": "execute_result"
    }
   ],
   "source": [
    "B2.compute().shape"
   ]
  },
  {
   "cell_type": "code",
   "execution_count": 70,
   "metadata": {},
   "outputs": [
    {
     "data": {
      "text/plain": [
       "(2, 3, 4, 5)"
      ]
     },
     "execution_count": 70,
     "metadata": {},
     "output_type": "execute_result"
    }
   ],
   "source": [
    "x = np.arange(120).reshape(2, 3, 4, 5)\n",
    "x = np.asarray(x, order='F')\n",
    "x.shape"
   ]
  },
  {
   "cell_type": "code",
   "execution_count": 76,
   "metadata": {},
   "outputs": [
    {
     "data": {
      "text/plain": [
       "array([20, 21, 22, 23, 24])"
      ]
     },
     "execution_count": 76,
     "metadata": {},
     "output_type": "execute_result"
    }
   ],
   "source": [
    "x[0, 1, 0]"
   ]
  },
  {
   "cell_type": "code",
   "execution_count": 75,
   "metadata": {},
   "outputs": [
    {
     "data": {
      "text/plain": [
       "array([20, 21, 22, 23, 24])"
      ]
     },
     "execution_count": 75,
     "metadata": {},
     "output_type": "execute_result"
    }
   ],
   "source": [
    "x.reshape((2, 3, 20)).reshape((2, 3, 4, 5))[0, 1, 0]"
   ]
  },
  {
   "cell_type": "code",
   "execution_count": null,
   "metadata": {},
   "outputs": [],
   "source": []
  }
 ],
 "metadata": {
  "kernelspec": {
   "display_name": "Python 3",
   "language": "python",
   "name": "python3"
  },
  "language_info": {
   "codemirror_mode": {
    "name": "ipython",
    "version": 3
   },
   "file_extension": ".py",
   "mimetype": "text/x-python",
   "name": "python",
   "nbconvert_exporter": "python",
   "pygments_lexer": "ipython3",
   "version": "3.7.6"
  }
 },
 "nbformat": 4,
 "nbformat_minor": 4
}
