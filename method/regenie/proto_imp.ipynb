{
 "cells": [
  {
   "cell_type": "code",
   "execution_count": 57,
   "metadata": {},
   "outputs": [],
   "source": [
    "import numpy as np\n",
    "import pandas as pd\n",
    "from sklearn.linear_model import Ridge, RidgeCV"
   ]
  },
  {
   "cell_type": "markdown",
   "metadata": {},
   "source": [
    "### Helper Functions"
   ]
  },
  {
   "cell_type": "markdown",
   "metadata": {},
   "source": [
    "-----\n",
    "Finding boundaries within a contig:"
   ]
  },
  {
   "cell_type": "code",
   "execution_count": 33,
   "metadata": {},
   "outputs": [],
   "source": [
    "def get_block_boundaries(x, size):\n",
    "    assert x.ndim == 1\n",
    "    assert size > 0\n",
    "    blocks = np.argwhere(np.diff(x, prepend=x[0]))[:,0]\n",
    "    blocks = np.concatenate(([0], blocks, [x.size]))\n",
    "    return np.concatenate([\n",
    "        list(range(blocks[i], blocks[i+1], size))\n",
    "        for i in range(blocks.size-1)\n",
    "    ])\n",
    "\n",
    "\n",
    "def test_block_boundaries():\n",
    "    def check(x, size):\n",
    "        idx = get_block_boundaries(x, size)\n",
    "        chunks = []\n",
    "        for i in range(idx.size):\n",
    "            start, stop = idx[i], idx[i+1] if i+1 < idx.size else None\n",
    "            chunk = x[slice(start, stop)]\n",
    "            assert len(chunk) <= size\n",
    "            chunks.append(chunk)\n",
    "        np.testing.assert_equal(np.concatenate(chunks), x)\n",
    "\n",
    "    arrays = [\n",
    "        np.array([0]),\n",
    "        np.array([0, 0]),\n",
    "        np.array([0, 1]),\n",
    "        np.array([0, 1, 1, 1]),\n",
    "        np.array([0, 1, 1, 1, 1, 10]),\n",
    "        np.array([0, 1, 1, 1, 2, 2, 3, 5]),\n",
    "        np.array([0, 1, 1, 2, 2, 2, 3, 3, 3, 3, 3, 4, 4, 4, 4, 5])\n",
    "    ]\n",
    "    for x in arrays:\n",
    "        for size in [1, 2, 3]:\n",
    "            check(x, size)\n",
    "        check(x, x.size)\n",
    "\n",
    "test_block_boundaries()"
   ]
  },
  {
   "cell_type": "code",
   "execution_count": 22,
   "metadata": {},
   "outputs": [
    {
     "data": {
      "text/plain": [
       "array([0, 1, 2])"
      ]
     },
     "execution_count": 22,
     "metadata": {},
     "output_type": "execute_result"
    }
   ],
   "source": [
    "get_block_boundaries(np.array([0, 1, 3, 3]), 2)"
   ]
  },
  {
   "cell_type": "markdown",
   "metadata": {},
   "source": [
    "### Implementation"
   ]
  },
  {
   "cell_type": "code",
   "execution_count": 54,
   "metadata": {},
   "outputs": [
    {
     "data": {
      "text/plain": [
       "((25, 2), (20, 25), (25, 3), (20,))"
      ]
     },
     "execution_count": 54,
     "metadata": {},
     "output_type": "execute_result"
    }
   ],
   "source": [
    "m, n, c, y = 20, 25, 2, 3\n",
    "np.random.seed(0)\n",
    "X = np.random.normal(size=(n, c))\n",
    "BX = np.random.normal(size=(X.shape[1], 1)) \n",
    "G = np.random.choice([0, 1, 2], size=(m, n))\n",
    "BG = np.random.normal(size=(m, y))\n",
    "contigs = np.sort(np.arange(m) // 6)\n",
    "\n",
    "Y = X @ BX + G.T @ BG + np.random.normal(size=(n, y), scale=.001)\n",
    "X.shape, G.shape, Y.shape, contigs.shape"
   ]
  },
  {
   "cell_type": "code",
   "execution_count": 55,
   "metadata": {},
   "outputs": [
    {
     "data": {
      "text/plain": [
       "array([0, 0, 0, 0, 0, 0, 1, 1, 1, 1, 1, 1, 2, 2, 2, 2, 2, 2, 3, 3])"
      ]
     },
     "execution_count": 55,
     "metadata": {},
     "output_type": "execute_result"
    }
   ],
   "source": [
    "contigs"
   ]
  },
  {
   "cell_type": "code",
   "execution_count": null,
   "metadata": {},
   "outputs": [],
   "source": []
  },
  {
   "cell_type": "code",
   "execution_count": 56,
   "metadata": {},
   "outputs": [
    {
     "name": "stdout",
     "output_type": "stream",
     "text": [
      "(3, 5, 25) (1, 5, 25) (3,)\n",
      "(3, 5, 25) (1, 5, 25) (3,)\n",
      "(3, 5, 25) (1, 5, 25) (3,)\n",
      "(3, 5, 25) (1, 5, 25) (3,)\n",
      "(3, 5, 25) (1, 5, 25) (3,)\n",
      "(3, 5, 25) (1, 5, 25) (3,)\n",
      "(3, 5, 25) (1, 5, 25) (3,)\n",
      "(3, 5, 25) (1, 5, 25) (3,)\n",
      "(3, 5, 25) (1, 5, 25) (3,)\n",
      "(3, 5, 25) (1, 5, 25) (3,)\n",
      "(3, 5, 25) (1, 5, 25) (3,)\n",
      "(3, 5, 25) (1, 5, 25) (3,)\n",
      "(3, 4, 5, 25)\n"
     ]
    }
   ],
   "source": [
    "def _level_0(G, X, Y, contigs, alphas, block_size):\n",
    "    YB = []\n",
    "    bc = []\n",
    "    blocks = get_block_boundaries(contigs, block_size)\n",
    "    for i in range(blocks.size):\n",
    "        # Extract variants for this block\n",
    "        start, stop = blocks[i], blocks[i+1] if i+1 < blocks.size else None\n",
    "        bc.append(contigs[start])\n",
    "        GB = G[:, slice(start, stop)]\n",
    "        # Concatenate to static covariates\n",
    "        XB = np.concatenate((X, GB), axis=1)\n",
    "        # Solve, predict, and stack to (n_outcome, n_alpha, n_sample)\n",
    "        PB = np.stack([\n",
    "            Ridge(alpha=alphas[j], fit_intercept=False, normalize=False, random_state=0, solver='svd')\\\n",
    "            .fit(XB, Y).predict(XB).T\n",
    "            for j in range(alphas.size)\n",
    "        ], axis=1)\n",
    "        YB.append(PB)\n",
    "        \n",
    "    # (n_outcome, n_block, n_alpha, n_sample)\n",
    "    YB = np.stack(YB, axis=1)\n",
    "    bc = np.array(bc)\n",
    "    return YB, bc\n",
    "\n",
    "def _level_1(YB, Y, bc):\n",
    "    assert YB.ndim == 4\n",
    "    assert Y.ndim == 2\n",
    "    assert bc.ndim == 1\n",
    "    n_outcome, n_block, n_alpha, n_sample = YB.shape\n",
    "    assert bc.size == n_block\n",
    "    \n",
    "    for i in range(n_outcome):\n",
    "        for contig in np.unique(bc):\n",
    "            train_bidx = np.argwhere(bc != contig)[:,0]\n",
    "            pred_bidx = np.argwhere(bc == contig)[:,0]\n",
    "            # Extract (n_block_subset, n_sample, n_alpha)\n",
    "            X_train = YB[i, train_bidx]\n",
    "            X_pred = YB[i, pred_bidx]\n",
    "            Y_train = Y[i]\n",
    "            print(X_train.shape, X_pred.shape, Y_train.shape)\n",
    "    \n",
    "\n",
    "def regenie(G, X, Y, contigs, alphas=[0.01,0.25,0.50,0.75,0.99], block_size=None):\n",
    "    assert len(set(map(len, [G, X, Y]))) == 1\n",
    "    alphas = np.asarray(alphas)\n",
    "    assert alphas.ndim == 1\n",
    "    n_sample, n_variant = Y.shape[0], G.shape[1]\n",
    "    X = np.concatenate((np.ones(shape=(n_sample, 1)), X), axis=1)\n",
    "    \n",
    "    if block_size is None:\n",
    "        block_size = G.shape[1]\n",
    "    \n",
    "    YB, bc = _level_0(G, X, Y, contigs, alphas=alphas, block_size=block_size)\n",
    "    assert len(np.unique(bc)) == len(np.unique(contigs))\n",
    "    _level_1(YB, Y, bc)\n",
    "    print(YB.shape)\n",
    "\n",
    "regenie(G.T, X, Y, contigs, block_size=8)"
   ]
  },
  {
   "cell_type": "code",
   "execution_count": 52,
   "metadata": {},
   "outputs": [
    {
     "data": {
      "text/plain": [
       "array([ 0,  1,  3,  5,  6,  8, 10, 11, 13])"
      ]
     },
     "execution_count": 52,
     "metadata": {},
     "output_type": "execute_result"
    }
   ],
   "source": [
    "x = np.array([0, 1, 1, 2, 2, 2, 3, 3, 3, 3, 3, 4, 4, 4, 4])\n",
    "blocks = np.argwhere(np.diff(x, prepend=x[0])).squeeze()\n",
    "diffs = np.diff(blocks, prepend=0).squeeze()\n",
    "#blocks, diffs\n",
    "def get_block_boundaries(x, size):\n",
    "    assert x.ndim == 1\n",
    "    assert size > 0\n",
    "    blocks = np.argwhere(np.diff(x, prepend=x[0])).squeeze()\n",
    "    blocks = np.concatenate(([0], blocks, [x.size]))\n",
    "    return np.concatenate([\n",
    "        list(range(blocks[i], blocks[i+1], size))\n",
    "        for i in range(blocks.size-1)\n",
    "    ])\n",
    "\n",
    "idx = get_blocks(x, 2)\n",
    "idx"
   ]
  }
 ],
 "metadata": {
  "kernelspec": {
   "display_name": "Python 3",
   "language": "python",
   "name": "python3"
  },
  "language_info": {
   "codemirror_mode": {
    "name": "ipython",
    "version": 3
   },
   "file_extension": ".py",
   "mimetype": "text/x-python",
   "name": "python",
   "nbconvert_exporter": "python",
   "pygments_lexer": "ipython3",
   "version": "3.7.6"
  }
 },
 "nbformat": 4,
 "nbformat_minor": 4
}
