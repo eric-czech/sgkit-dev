{
 "cells": [
  {
   "cell_type": "code",
   "execution_count": 57,
   "metadata": {},
   "outputs": [],
   "source": [
    "import numpy as np\n",
    "import pandas as pd\n",
    "import dask.array as da\n",
    "from sklearn.linear_model import Ridge, RidgeCV"
   ]
  },
  {
   "cell_type": "code",
   "execution_count": 64,
   "metadata": {},
   "outputs": [
    {
     "data": {
      "text/plain": [
       "(array([2, 4, 6]),\n",
       " array([[1, 2, 3],\n",
       "        [1, 2, 3]]))"
      ]
     },
     "execution_count": 64,
     "metadata": {},
     "output_type": "execute_result"
    }
   ],
   "source": [
    "df = pd.DataFrame({'x': [np.array([1,2,3]), np.array([1,2,3])]})\n",
    "df['x'].sum(), np.vstack(df['x'].array)"
   ]
  },
  {
   "cell_type": "code",
   "execution_count": 168,
   "metadata": {},
   "outputs": [
    {
     "data": {
      "text/html": [
       "<table>\n",
       "<tr>\n",
       "<td>\n",
       "<table>\n",
       "  <thead>\n",
       "    <tr><td> </td><th> Array </th><th> Chunk </th></tr>\n",
       "  </thead>\n",
       "  <tbody>\n",
       "    <tr><th> Bytes </th><td> 800 B </td> <td> 200 B </td></tr>\n",
       "    <tr><th> Shape </th><td> (10, 10) </td> <td> (5, 5) </td></tr>\n",
       "    <tr><th> Count </th><td> 10 Tasks </td><td> 4 Chunks </td></tr>\n",
       "    <tr><th> Type </th><td> int64 </td><td> numpy.ndarray </td></tr>\n",
       "  </tbody>\n",
       "</table>\n",
       "</td>\n",
       "<td>\n",
       "<svg width=\"170\" height=\"170\" style=\"stroke:rgb(0,0,0);stroke-width:1\" >\n",
       "\n",
       "  <!-- Horizontal lines -->\n",
       "  <line x1=\"0\" y1=\"0\" x2=\"120\" y2=\"0\" style=\"stroke-width:2\" />\n",
       "  <line x1=\"0\" y1=\"60\" x2=\"120\" y2=\"60\" />\n",
       "  <line x1=\"0\" y1=\"120\" x2=\"120\" y2=\"120\" style=\"stroke-width:2\" />\n",
       "\n",
       "  <!-- Vertical lines -->\n",
       "  <line x1=\"0\" y1=\"0\" x2=\"0\" y2=\"120\" style=\"stroke-width:2\" />\n",
       "  <line x1=\"60\" y1=\"0\" x2=\"60\" y2=\"120\" />\n",
       "  <line x1=\"120\" y1=\"0\" x2=\"120\" y2=\"120\" style=\"stroke-width:2\" />\n",
       "\n",
       "  <!-- Colored Rectangle -->\n",
       "  <polygon points=\"0.000000,0.000000 120.000000,0.000000 120.000000,120.000000 0.000000,120.000000\" style=\"fill:#ECB172A0;stroke-width:0\"/>\n",
       "\n",
       "  <!-- Text -->\n",
       "  <text x=\"60.000000\" y=\"140.000000\" font-size=\"1.0rem\" font-weight=\"100\" text-anchor=\"middle\" >10</text>\n",
       "  <text x=\"140.000000\" y=\"60.000000\" font-size=\"1.0rem\" font-weight=\"100\" text-anchor=\"middle\" transform=\"rotate(0,140.000000,60.000000)\">10</text>\n",
       "</svg>\n",
       "</td>\n",
       "</tr>\n",
       "</table>"
      ],
      "text/plain": [
       "dask.array<rechunk-merge, shape=(10, 10), dtype=int64, chunksize=(5, 5), chunktype=numpy.ndarray>"
      ]
     },
     "execution_count": 168,
     "metadata": {},
     "output_type": "execute_result"
    }
   ],
   "source": [
    "x = da.arange(100).reshape(10, 10).rechunk(chunks=(5, 5))\n",
    "y = da.arange(50).reshape(10, 5).rechunk(chunks=(5, 5))\n",
    "x"
   ]
  },
  {
   "cell_type": "code",
   "execution_count": 173,
   "metadata": {},
   "outputs": [
    {
     "data": {
      "text/html": [
       "<table>\n",
       "<tr>\n",
       "<td>\n",
       "<table>\n",
       "  <thead>\n",
       "    <tr><td> </td><th> Array </th><th> Chunk </th></tr>\n",
       "  </thead>\n",
       "  <tbody>\n",
       "    <tr><th> Bytes </th><td> 800 B </td> <td> 800 B </td></tr>\n",
       "    <tr><th> Shape </th><td> (10, 10) </td> <td> (10, 10) </td></tr>\n",
       "    <tr><th> Count </th><td> 11 Tasks </td><td> 1 Chunks </td></tr>\n",
       "    <tr><th> Type </th><td> int64 </td><td> numpy.ndarray </td></tr>\n",
       "  </tbody>\n",
       "</table>\n",
       "</td>\n",
       "<td>\n",
       "<svg width=\"170\" height=\"170\" style=\"stroke:rgb(0,0,0);stroke-width:1\" >\n",
       "\n",
       "  <!-- Horizontal lines -->\n",
       "  <line x1=\"0\" y1=\"0\" x2=\"120\" y2=\"0\" style=\"stroke-width:2\" />\n",
       "  <line x1=\"0\" y1=\"120\" x2=\"120\" y2=\"120\" style=\"stroke-width:2\" />\n",
       "\n",
       "  <!-- Vertical lines -->\n",
       "  <line x1=\"0\" y1=\"0\" x2=\"0\" y2=\"120\" style=\"stroke-width:2\" />\n",
       "  <line x1=\"120\" y1=\"0\" x2=\"120\" y2=\"120\" style=\"stroke-width:2\" />\n",
       "\n",
       "  <!-- Colored Rectangle -->\n",
       "  <polygon points=\"0.000000,0.000000 120.000000,0.000000 120.000000,120.000000 0.000000,120.000000\" style=\"fill:#ECB172A0;stroke-width:0\"/>\n",
       "\n",
       "  <!-- Text -->\n",
       "  <text x=\"60.000000\" y=\"140.000000\" font-size=\"1.0rem\" font-weight=\"100\" text-anchor=\"middle\" >10</text>\n",
       "  <text x=\"140.000000\" y=\"60.000000\" font-size=\"1.0rem\" font-weight=\"100\" text-anchor=\"middle\" transform=\"rotate(0,140.000000,60.000000)\">10</text>\n",
       "</svg>\n",
       "</td>\n",
       "</tr>\n",
       "</table>"
      ],
      "text/plain": [
       "dask.array<rechunk-merge, shape=(10, 10), dtype=int64, chunksize=(10, 10), chunktype=numpy.ndarray>"
      ]
     },
     "execution_count": 173,
     "metadata": {},
     "output_type": "execute_result"
    }
   ],
   "source": [
    "x.rechunk(chunks=(10, -1))"
   ]
  },
  {
   "cell_type": "code",
   "execution_count": 144,
   "metadata": {},
   "outputs": [
    {
     "data": {
      "text/plain": [
       "array([[  0,   0,   0,   0,   0,  -5,  -5,  -5,  -5,  -5],\n",
       "       [ -5,  -5,  -5,  -5,  -5, -10, -10, -10, -10, -10],\n",
       "       [-10, -10, -10, -10, -10, -15, -15, -15, -15, -15],\n",
       "       [-15, -15, -15, -15, -15, -20, -20, -20, -20, -20],\n",
       "       [-20, -20, -20, -20, -20, -25, -25, -25, -25, -25],\n",
       "       [-25, -25, -25, -25, -25, -30, -30, -30, -30, -30],\n",
       "       [-30, -30, -30, -30, -30, -35, -35, -35, -35, -35],\n",
       "       [-35, -35, -35, -35, -35, -40, -40, -40, -40, -40],\n",
       "       [-40, -40, -40, -40, -40, -45, -45, -45, -45, -45],\n",
       "       [-45, -45, -45, -45, -45, -50, -50, -50, -50, -50]])"
      ]
     },
     "execution_count": 144,
     "metadata": {},
     "output_type": "execute_result"
    }
   ],
   "source": [
    "def fn(x, y):\n",
    "    return y - x\n",
    "da.map_blocks(fn, x, y).compute()"
   ]
  },
  {
   "cell_type": "markdown",
   "metadata": {},
   "source": [
    "### Helper Functions"
   ]
  },
  {
   "cell_type": "markdown",
   "metadata": {},
   "source": [
    "-----\n",
    "Finding boundaries within a contig:"
   ]
  },
  {
   "cell_type": "code",
   "execution_count": 152,
   "metadata": {},
   "outputs": [
    {
     "data": {
      "text/plain": [
       "array([0, 1])"
      ]
     },
     "execution_count": 152,
     "metadata": {},
     "output_type": "execute_result"
    }
   ],
   "source": [
    "np.diff([1, 1, 2])"
   ]
  },
  {
   "cell_type": "code",
   "execution_count": 163,
   "metadata": {},
   "outputs": [],
   "source": [
    "def get_block_boundaries(x, size):\n",
    "    assert x.ndim == 1\n",
    "    assert size > 0\n",
    "    breaks = np.argwhere(np.diff(x, prepend=x[0]))[:,0]\n",
    "    breaks = np.concatenate(([0], breaks, [x.size]))\n",
    "    index = np.concatenate([\n",
    "        np.arange(breaks[i], breaks[i+1], size)\n",
    "        for i in range(breaks.size-1)\n",
    "    ])\n",
    "    sizes = np.diff(index, append=x.size)\n",
    "    return index, sizes\n",
    "    \n",
    "\n",
    "def test_block_boundaries():\n",
    "    def check(x, size):\n",
    "        idx, sizes = get_block_boundaries(x, size)\n",
    "        assert sizes.sum() == x.size\n",
    "        assert idx.ndim == sizes.ndim == 1\n",
    "        assert idx.size == sizes.size\n",
    "        chunks = []\n",
    "        for i in range(idx.size):\n",
    "            start, stop = idx[i], idx[i] + sizes[i]\n",
    "            chunk = x[slice(start, stop)]\n",
    "            assert len(chunk) <= size\n",
    "            chunks.append(chunk)\n",
    "        np.testing.assert_equal(np.concatenate(chunks), x)\n",
    "\n",
    "    arrays = [\n",
    "        np.array([0]),\n",
    "        np.array([0, 0]),\n",
    "        np.array([0, 1]),\n",
    "        np.array([0, 1, 1, 1]),\n",
    "        np.array([0, 1, 1, 1, 1, 10]),\n",
    "        np.array([0, 1, 1, 1, 2, 2, 3, 5]),\n",
    "        np.array([0, 1, 1, 2, 2, 2, 5, 5, 5, 5, 5, 8, 8, 8, 8, 10])\n",
    "    ]\n",
    "    for x in arrays:\n",
    "        for size in [1, 2, 3]:\n",
    "            check(x, size)\n",
    "        check(x, x.size)\n",
    "\n",
    "test_block_boundaries()"
   ]
  },
  {
   "cell_type": "code",
   "execution_count": 165,
   "metadata": {},
   "outputs": [
    {
     "data": {
      "text/plain": [
       "(array([ 0,  1,  3,  5,  6,  8, 10]), array([1, 2, 2, 1, 2, 2, 1]))"
      ]
     },
     "execution_count": 165,
     "metadata": {},
     "output_type": "execute_result"
    }
   ],
   "source": [
    "get_block_boundaries(np.array([0, 1, 1, 5, 5, 5, 8, 8, 8, 8, 10]), 2)"
   ]
  },
  {
   "cell_type": "markdown",
   "metadata": {},
   "source": [
    "Ridge regression within blocks:"
   ]
  },
  {
   "cell_type": "code",
   "execution_count": 387,
   "metadata": {},
   "outputs": [
    {
     "name": "stdout",
     "output_type": "stream",
     "text": [
      "(20, 5) (20, 3) (5, 3)\n",
      "(7, 5, 3)\n"
     ]
    }
   ],
   "source": [
    "from sklearn.linear_model import Ridge\n",
    "\n",
    "def ridge_regression(X, Y, a):\n",
    "    \"\"\"Multi-phenotype + multi-parameter ridge regression.\"\"\"\n",
    "    U, s, Vt = np.linalg.svd(X, full_matrices=False)\n",
    "    UtY = np.dot(U.T, Y)\n",
    "    V = np.expand_dims(Vt.T, 0)\n",
    "    s = np.expand_dims(s, 0)\n",
    "    a = np.expand_dims(a, -1)\n",
    "    d = np.expand_dims(s / (s ** 2 + a), -1)\n",
    "    d_UtY = d * UtY\n",
    "    # returns (n_alpha, n_covariate, n_outcome)\n",
    "    return np.matmul(V, d_UtY)\n",
    "\n",
    "def test_ridge_regression():\n",
    "    n, p, y = 20, 5, 3\n",
    "    np.random.seed(0)\n",
    "    X = np.random.normal(size=(n, p))\n",
    "    B = np.random.normal(size=(p, y))\n",
    "    Y = X @ B \n",
    "    alphas = np.array([0., .001, .01, .1, 1, 10, 100])\n",
    "    # X, Y = X.T @ X, X.T @ Y # Regression is the same after projection -- move to separate test?\n",
    "    b = ridge_regression(X, Y, alphas)\n",
    "    assert b.ndim == 3\n",
    "    assert b.shape == (alphas.size,) + B.shape\n",
    "    # Check no regularization case\n",
    "    np.testing.assert_allclose(b[0], B)\n",
    "    for i, a in enumerate(alphas):\n",
    "        est = Ridge(alpha=a, fit_intercept=False, normalize=False, solver='svd')\n",
    "        est.fit(X, Y)\n",
    "        np.testing.assert_allclose(est.coef_.T, b[i])\n",
    "        \n",
    "test_ridge_regression()"
   ]
  },
  {
   "cell_type": "code",
   "execution_count": 336,
   "metadata": {},
   "outputs": [],
   "source": [
    "#ridge_regression(np.random.normal(size=(3, 10)), np.random.normal(size=(3, 2)), [.01, .1])"
   ]
  },
  {
   "cell_type": "markdown",
   "metadata": {},
   "source": [
    "### Implementation"
   ]
  },
  {
   "cell_type": "code",
   "execution_count": 361,
   "metadata": {},
   "outputs": [
    {
     "data": {
      "text/plain": [
       "((25, 2), (20, 25), (25, 3), (20,))"
      ]
     },
     "execution_count": 361,
     "metadata": {},
     "output_type": "execute_result"
    }
   ],
   "source": [
    "m, n, c, y = 20, 25, 2, 3\n",
    "np.random.seed(0)\n",
    "X = np.random.normal(size=(n, c))\n",
    "BX = np.random.normal(size=(X.shape[1], 1)) \n",
    "G = np.random.choice([0, 1, 2], size=(m, n))\n",
    "BG = np.random.normal(size=(m, y))\n",
    "#contigs = np.sort(np.arange(m) // 10)\n",
    "contigs = np.ones(m, dtype=int)\n",
    "\n",
    "Y = X @ BX + G.T @ BG + np.random.normal(size=(n, y), scale=.001)\n",
    "X.shape, G.shape, Y.shape, contigs.shape"
   ]
  },
  {
   "cell_type": "code",
   "execution_count": 362,
   "metadata": {},
   "outputs": [
    {
     "data": {
      "text/plain": [
       "array([1, 1, 1, 1, 1, 1, 1, 1, 1, 1, 1, 1, 1, 1, 1, 1, 1, 1, 1, 1])"
      ]
     },
     "execution_count": 362,
     "metadata": {},
     "output_type": "execute_result"
    }
   ],
   "source": [
    "contigs"
   ]
  },
  {
   "cell_type": "code",
   "execution_count": 363,
   "metadata": {},
   "outputs": [
    {
     "data": {
      "text/plain": [
       "(0, 1, 2)"
      ]
     },
     "execution_count": 363,
     "metadata": {},
     "output_type": "execute_result"
    }
   ],
   "source": [
    "tuple(i for i in range(3))"
   ]
  },
  {
   "cell_type": "code",
   "execution_count": 420,
   "metadata": {},
   "outputs": [
    {
     "data": {
      "text/plain": [
       "[(dask.array<rechunk-merge, shape=(25, 11), dtype=float64, chunksize=(5, 11), chunktype=numpy.ndarray>,\n",
       "  dask.array<lambda, shape=(25, 11, 3), dtype=float64, chunksize=(5, 11, 3), chunktype=numpy.ndarray>,\n",
       "  dask.array<lambda, shape=(25, 25, 3), dtype=float64, chunksize=(5, 5, 3), chunktype=numpy.ndarray>),\n",
       " (dask.array<rechunk-merge, shape=(25, 11), dtype=float64, chunksize=(5, 11), chunktype=numpy.ndarray>,\n",
       "  dask.array<lambda, shape=(25, 11, 3), dtype=float64, chunksize=(5, 11, 3), chunktype=numpy.ndarray>,\n",
       "  dask.array<lambda, shape=(25, 25, 3), dtype=float64, chunksize=(5, 5, 3), chunktype=numpy.ndarray>),\n",
       " (dask.array<rechunk-merge, shape=(25, 7), dtype=float64, chunksize=(5, 7), chunktype=numpy.ndarray>,\n",
       "  dask.array<lambda, shape=(25, 7, 3), dtype=float64, chunksize=(5, 7, 3), chunktype=numpy.ndarray>,\n",
       "  dask.array<lambda, shape=(25, 25, 3), dtype=float64, chunksize=(5, 5, 3), chunktype=numpy.ndarray>)]"
      ]
     },
     "execution_count": 420,
     "metadata": {},
     "output_type": "execute_result"
    }
   ],
   "source": [
    "def _alphas(n_cols):\n",
    "    # https://github.com/projectglow/glow/blob/f3edf5bb8fe9c2d2e1a374d4402032ba5ce08e29/python/glow/wgr/linear_model/ridge_model.py#L80\n",
    "    heritability_vals = [0.99, 0.75, 0.50, 0.25, 0.01]\n",
    "    return np.array([n_cols / h for h in heritability_vals])\n",
    "\n",
    "def ridge_regression_cv(X, Y, alphas):\n",
    "        assert alphas.ndim == 1\n",
    "        assert X.ndim == 2\n",
    "        assert Y.ndim == 2\n",
    "        assert X.numblocks[1] == 1\n",
    "        assert Y.numblocks[1] == 1\n",
    "        assert X.chunks[0] == Y.chunks[0]\n",
    "        # (n_covar, n_outcome)\n",
    "        XtY = da.map_blocks(lambda x, y: x.T @ y, X, Y, chunks=(X.shape[1], Y.shape[1]))\n",
    "        # (n_block, n_covar, n_outcome)\n",
    "        XtY = da.stack([XtY.blocks[i] for i in range(XtY.numblocks[0])])\n",
    "        # (n_block*n_covar, n_covar)\n",
    "        XtX = da.map_blocks(lambda x: x.T @ x, X, chunks=(X.shape[1],)*2)\n",
    "        # (n_block, n_covar, n_covar)\n",
    "        XtX = da.stack([XtX.blocks[i] for i in range(XtX.numblocks[0])])\n",
    "        # Subtract from sum across block dim\n",
    "        XtX = XtX.sum(axis=0) - XtX\n",
    "        # Regress for all outcomes/alphas\n",
    "        B = da.map_blocks(\n",
    "            # returns (n_alpha, n_covariate, n_outcome)\n",
    "            lambda x, y: ridge_regression(x[0], y[0], a=alphas),\n",
    "            XtX, XtY, chunks=(alphas.size, X.shape[1], Y.shape[1])\n",
    "        )\n",
    "        # Compute predictions for all outcomes/alphas\n",
    "        YP = da.map_blocks(\n",
    "            lambda x, b: x @ b, X, B, \n",
    "            chunks=(alphas.size, X.chunks[0], Y.shape[1])\n",
    "        )\n",
    "        return X, B, YP\n",
    "    \n",
    "def _level_0(G, X, Y, contigs):\n",
    "    assert G.ndim == 2\n",
    "    assert X.ndim == 2\n",
    "    assert Y.ndim == 2\n",
    "    assert len(set(map(len, [G, X, Y]))) == 1\n",
    "    n_sample, n_variant = G.shape\n",
    "    n_covar = X.shape[1]\n",
    "    alphas = _alphas(n_variant)\n",
    "    \n",
    "    # Should G be scaled first?\n",
    "    # https://github.com/projectglow/glow/blob/f3edf5bb8fe9c2d2e1a374d4402032ba5ce08e29/python/glow/wgr/linear_model/functions.py#L107\n",
    "    arrs = []\n",
    "    for vi in range(G.numblocks[1]):\n",
    "        # (n_samples, n_variant)\n",
    "        GB = G.blocks[:,vi]\n",
    "        # (n_samples, n_variant + n_covar)\n",
    "        XGB = da.concatenate((X, GB), axis=1)\n",
    "        XGB = XGB.rechunk(chunks=(None, -1))\n",
    "        arrs.append(ridge_regression_cv(XGB, Y, alphas))\n",
    "    return arrs\n",
    "    \n",
    "\n",
    "# def _level_1(YB, Y, bc):\n",
    "#     assert YB.ndim == 4\n",
    "#     assert Y.ndim == 2\n",
    "#     assert bc.ndim == 1\n",
    "#     n_outcome, n_block, n_alpha, n_sample = YB.shape\n",
    "#     assert bc.size == n_block\n",
    "#     # https://github.com/projectglow/glow/blob/f3edf5bb8fe9c2d2e1a374d4402032ba5ce08e29/python/glow/wgr/linear_model/ridge_model.py#L80\n",
    "#     alphas = _alphas(n_alpha * n_block)\n",
    "#     for i in range(n_outcome):\n",
    "#         for contig in np.unique(bc):\n",
    "#             train_bidx = np.argwhere(bc != contig)[:,0]\n",
    "#             pred_bidx = np.argwhere(bc == contig)[:,0]\n",
    "#             # Extract (n_block_subset, n_alpha, n_sample)\n",
    "#             X_train = YB[i, train_bidx]\n",
    "#             X_pred = YB[i, pred_bidx]\n",
    "#             Y_train = Y[:, i]\n",
    "#             print(X_train.shape, X_pred.shape, Y_train.shape)\n",
    "            \n",
    "#             RidgeCV(alphas=alphas, fit_intercept=False, normalize=False, scoring='r2')\n",
    "            \n",
    "\n",
    "def regenie(G, X, Y, contigs, variant_block_size, sample_block_size, orthogonalize=False, add_intercept=True):\n",
    "    assert len(set(map(len, [G, X, Y]))) == 1\n",
    "    n_sample, n_variant = Y.shape[0], G.shape[1]\n",
    "    \n",
    "    G, X, Y = da.asarray(G), da.asarray(X), da.asarray(Y)\n",
    "    if X is None:\n",
    "        X = da.zeros(shape=(n_sample, 0), dtype=G.dtype)\n",
    "    if add_intercept:\n",
    "        X = da.concatenate((da.ones(shape=(n_sample, 1), dtype=X.dtype), X), axis=1)\n",
    "    if orthogonalize:\n",
    "        G = G - X @ da.linalg.lstsq(X, G, rcond=None)[0]\n",
    "        Y = Y - X @ da.linalg.lstsq(X, Y, rcond=None)[0]\n",
    "        G = G / G.std(axis=0)\n",
    "        Y = Y / Y.std(axis=0)\n",
    "        X = da.zeros(shape=(n_sample, 0), dtype=G.dtype)\n",
    "        \n",
    "    variant_block_index, variant_block_size = get_block_boundaries(contigs, variant_block_size)\n",
    "    G = G.rechunk(chunks=(sample_block_size, tuple(variant_block_size)))\n",
    "    X = X.rechunk(chunks=(sample_block_size, -1))\n",
    "    Y = Y.rechunk(chunks=(sample_block_size, -1))\n",
    "  \n",
    "    R = _level_0(G, X, Y, contigs)\n",
    "    return G, X, Y, R\n",
    "#     YB, bc = _level_0(G, X, Y, contigs, block_size=block_size)\n",
    "#     assert len(np.unique(bc)) == len(np.unique(contigs))\n",
    "#     _level_1(YB, Y, bc)\n",
    "#     print(YB.shape)\n",
    "\n",
    "# TODO: mean scale Y\n",
    "res = regenie(G.T, X, Y, contigs, variant_block_size=8, sample_block_size=5)\n",
    "res[-1]"
   ]
  },
  {
   "cell_type": "code",
   "execution_count": 421,
   "metadata": {},
   "outputs": [
    {
     "data": {
      "text/html": [
       "<table>\n",
       "<tr>\n",
       "<td>\n",
       "<table>\n",
       "  <thead>\n",
       "    <tr><td> </td><th> Array </th><th> Chunk </th></tr>\n",
       "  </thead>\n",
       "  <tbody>\n",
       "    <tr><th> Bytes </th><td> 2.20 kB </td> <td> 440 B </td></tr>\n",
       "    <tr><th> Shape </th><td> (25, 11) </td> <td> (5, 11) </td></tr>\n",
       "    <tr><th> Count </th><td> 75 Tasks </td><td> 5 Chunks </td></tr>\n",
       "    <tr><th> Type </th><td> float64 </td><td> numpy.ndarray </td></tr>\n",
       "  </tbody>\n",
       "</table>\n",
       "</td>\n",
       "<td>\n",
       "<svg width=\"102\" height=\"170\" style=\"stroke:rgb(0,0,0);stroke-width:1\" >\n",
       "\n",
       "  <!-- Horizontal lines -->\n",
       "  <line x1=\"0\" y1=\"0\" x2=\"52\" y2=\"0\" style=\"stroke-width:2\" />\n",
       "  <line x1=\"0\" y1=\"24\" x2=\"52\" y2=\"24\" />\n",
       "  <line x1=\"0\" y1=\"48\" x2=\"52\" y2=\"48\" />\n",
       "  <line x1=\"0\" y1=\"72\" x2=\"52\" y2=\"72\" />\n",
       "  <line x1=\"0\" y1=\"96\" x2=\"52\" y2=\"96\" />\n",
       "  <line x1=\"0\" y1=\"120\" x2=\"52\" y2=\"120\" style=\"stroke-width:2\" />\n",
       "\n",
       "  <!-- Vertical lines -->\n",
       "  <line x1=\"0\" y1=\"0\" x2=\"0\" y2=\"120\" style=\"stroke-width:2\" />\n",
       "  <line x1=\"52\" y1=\"0\" x2=\"52\" y2=\"120\" style=\"stroke-width:2\" />\n",
       "\n",
       "  <!-- Colored Rectangle -->\n",
       "  <polygon points=\"0.000000,0.000000 52.800000,0.000000 52.800000,120.000000 0.000000,120.000000\" style=\"fill:#ECB172A0;stroke-width:0\"/>\n",
       "\n",
       "  <!-- Text -->\n",
       "  <text x=\"26.400000\" y=\"140.000000\" font-size=\"1.0rem\" font-weight=\"100\" text-anchor=\"middle\" >11</text>\n",
       "  <text x=\"72.800000\" y=\"60.000000\" font-size=\"1.0rem\" font-weight=\"100\" text-anchor=\"middle\" transform=\"rotate(0,72.800000,60.000000)\">25</text>\n",
       "</svg>\n",
       "</td>\n",
       "</tr>\n",
       "</table>"
      ],
      "text/plain": [
       "dask.array<rechunk-merge, shape=(25, 11), dtype=float64, chunksize=(5, 11), chunktype=numpy.ndarray>"
      ]
     },
     "execution_count": 421,
     "metadata": {},
     "output_type": "execute_result"
    }
   ],
   "source": [
    "a = res[-1][0][0]\n",
    "a"
   ]
  },
  {
   "cell_type": "code",
   "execution_count": 415,
   "metadata": {},
   "outputs": [
    {
     "data": {
      "text/html": [
       "<table>\n",
       "<tr>\n",
       "<td>\n",
       "<table>\n",
       "  <thead>\n",
       "    <tr><td> </td><th> Array </th><th> Chunk </th></tr>\n",
       "  </thead>\n",
       "  <tbody>\n",
       "    <tr><th> Bytes </th><td> 2.20 kB </td> <td> 440 B </td></tr>\n",
       "    <tr><th> Shape </th><td> (25, 11) </td> <td> (5, 11) </td></tr>\n",
       "    <tr><th> Count </th><td> 75 Tasks </td><td> 5 Chunks </td></tr>\n",
       "    <tr><th> Type </th><td> float64 </td><td> numpy.ndarray </td></tr>\n",
       "  </tbody>\n",
       "</table>\n",
       "</td>\n",
       "<td>\n",
       "<svg width=\"102\" height=\"170\" style=\"stroke:rgb(0,0,0);stroke-width:1\" >\n",
       "\n",
       "  <!-- Horizontal lines -->\n",
       "  <line x1=\"0\" y1=\"0\" x2=\"52\" y2=\"0\" style=\"stroke-width:2\" />\n",
       "  <line x1=\"0\" y1=\"24\" x2=\"52\" y2=\"24\" />\n",
       "  <line x1=\"0\" y1=\"48\" x2=\"52\" y2=\"48\" />\n",
       "  <line x1=\"0\" y1=\"72\" x2=\"52\" y2=\"72\" />\n",
       "  <line x1=\"0\" y1=\"96\" x2=\"52\" y2=\"96\" />\n",
       "  <line x1=\"0\" y1=\"120\" x2=\"52\" y2=\"120\" style=\"stroke-width:2\" />\n",
       "\n",
       "  <!-- Vertical lines -->\n",
       "  <line x1=\"0\" y1=\"0\" x2=\"0\" y2=\"120\" style=\"stroke-width:2\" />\n",
       "  <line x1=\"52\" y1=\"0\" x2=\"52\" y2=\"120\" style=\"stroke-width:2\" />\n",
       "\n",
       "  <!-- Colored Rectangle -->\n",
       "  <polygon points=\"0.000000,0.000000 52.800000,0.000000 52.800000,120.000000 0.000000,120.000000\" style=\"fill:#ECB172A0;stroke-width:0\"/>\n",
       "\n",
       "  <!-- Text -->\n",
       "  <text x=\"26.400000\" y=\"140.000000\" font-size=\"1.0rem\" font-weight=\"100\" text-anchor=\"middle\" >11</text>\n",
       "  <text x=\"72.800000\" y=\"60.000000\" font-size=\"1.0rem\" font-weight=\"100\" text-anchor=\"middle\" transform=\"rotate(0,72.800000,60.000000)\">25</text>\n",
       "</svg>\n",
       "</td>\n",
       "</tr>\n",
       "</table>"
      ],
      "text/plain": [
       "dask.array<rechunk-merge, shape=(25, 11), dtype=float64, chunksize=(5, 11), chunktype=numpy.ndarray>"
      ]
     },
     "execution_count": 415,
     "metadata": {},
     "output_type": "execute_result"
    }
   ],
   "source": [
    "res[-1][0][-3]"
   ]
  },
  {
   "cell_type": "code",
   "execution_count": 416,
   "metadata": {},
   "outputs": [
    {
     "data": {
      "text/html": [
       "<table>\n",
       "<tr>\n",
       "<td>\n",
       "<table>\n",
       "  <thead>\n",
       "    <tr><td> </td><th> Array </th><th> Chunk </th></tr>\n",
       "  </thead>\n",
       "  <tbody>\n",
       "    <tr><th> Bytes </th><td> 5.28 kB </td> <td> 1.06 kB </td></tr>\n",
       "    <tr><th> Shape </th><td> (20, 11, 3) </td> <td> (4, 11, 3) </td></tr>\n",
       "    <tr><th> Count </th><td> 134 Tasks </td><td> 5 Chunks </td></tr>\n",
       "    <tr><th> Type </th><td> float64 </td><td> numpy.ndarray </td></tr>\n",
       "  </tbody>\n",
       "</table>\n",
       "</td>\n",
       "<td>\n",
       "<svg width=\"171\" height=\"186\" style=\"stroke:rgb(0,0,0);stroke-width:1\" >\n",
       "\n",
       "  <!-- Horizontal lines -->\n",
       "  <line x1=\"10\" y1=\"0\" x2=\"80\" y2=\"70\" style=\"stroke-width:2\" />\n",
       "  <line x1=\"10\" y1=\"66\" x2=\"80\" y2=\"136\" style=\"stroke-width:2\" />\n",
       "\n",
       "  <!-- Vertical lines -->\n",
       "  <line x1=\"10\" y1=\"0\" x2=\"10\" y2=\"66\" style=\"stroke-width:2\" />\n",
       "  <line x1=\"24\" y1=\"14\" x2=\"24\" y2=\"80\" />\n",
       "  <line x1=\"38\" y1=\"28\" x2=\"38\" y2=\"94\" />\n",
       "  <line x1=\"52\" y1=\"42\" x2=\"52\" y2=\"108\" />\n",
       "  <line x1=\"66\" y1=\"56\" x2=\"66\" y2=\"122\" />\n",
       "  <line x1=\"80\" y1=\"70\" x2=\"80\" y2=\"136\" style=\"stroke-width:2\" />\n",
       "\n",
       "  <!-- Colored Rectangle -->\n",
       "  <polygon points=\"10.000000,0.000000 80.588235,70.588235 80.588235,136.588235 10.000000,66.000000\" style=\"fill:#ECB172A0;stroke-width:0\"/>\n",
       "\n",
       "  <!-- Horizontal lines -->\n",
       "  <line x1=\"10\" y1=\"0\" x2=\"50\" y2=\"0\" style=\"stroke-width:2\" />\n",
       "  <line x1=\"24\" y1=\"14\" x2=\"64\" y2=\"14\" />\n",
       "  <line x1=\"38\" y1=\"28\" x2=\"78\" y2=\"28\" />\n",
       "  <line x1=\"52\" y1=\"42\" x2=\"93\" y2=\"42\" />\n",
       "  <line x1=\"66\" y1=\"56\" x2=\"107\" y2=\"56\" />\n",
       "  <line x1=\"80\" y1=\"70\" x2=\"121\" y2=\"70\" style=\"stroke-width:2\" />\n",
       "\n",
       "  <!-- Vertical lines -->\n",
       "  <line x1=\"10\" y1=\"0\" x2=\"80\" y2=\"70\" style=\"stroke-width:2\" />\n",
       "  <line x1=\"50\" y1=\"0\" x2=\"121\" y2=\"70\" style=\"stroke-width:2\" />\n",
       "\n",
       "  <!-- Colored Rectangle -->\n",
       "  <polygon points=\"10.000000,0.000000 50.706369,0.000000 121.294605,70.588235 80.588235,70.588235\" style=\"fill:#ECB172A0;stroke-width:0\"/>\n",
       "\n",
       "  <!-- Horizontal lines -->\n",
       "  <line x1=\"80\" y1=\"70\" x2=\"121\" y2=\"70\" style=\"stroke-width:2\" />\n",
       "  <line x1=\"80\" y1=\"136\" x2=\"121\" y2=\"136\" style=\"stroke-width:2\" />\n",
       "\n",
       "  <!-- Vertical lines -->\n",
       "  <line x1=\"80\" y1=\"70\" x2=\"80\" y2=\"136\" style=\"stroke-width:2\" />\n",
       "  <line x1=\"121\" y1=\"70\" x2=\"121\" y2=\"136\" style=\"stroke-width:2\" />\n",
       "\n",
       "  <!-- Colored Rectangle -->\n",
       "  <polygon points=\"80.588235,70.588235 121.294605,70.588235 121.294605,136.588235 80.588235,136.588235\" style=\"fill:#ECB172A0;stroke-width:0\"/>\n",
       "\n",
       "  <!-- Text -->\n",
       "  <text x=\"100.941420\" y=\"156.588235\" font-size=\"1.0rem\" font-weight=\"100\" text-anchor=\"middle\" >3</text>\n",
       "  <text x=\"141.294605\" y=\"103.588235\" font-size=\"1.0rem\" font-weight=\"100\" text-anchor=\"middle\" transform=\"rotate(0,141.294605,103.588235)\">11</text>\n",
       "  <text x=\"35.294118\" y=\"121.294118\" font-size=\"1.0rem\" font-weight=\"100\" text-anchor=\"middle\" transform=\"rotate(45,35.294118,121.294118)\">20</text>\n",
       "</svg>\n",
       "</td>\n",
       "</tr>\n",
       "</table>"
      ],
      "text/plain": [
       "dask.array<lambda, shape=(20, 11, 3), dtype=float64, chunksize=(4, 11, 3), chunktype=numpy.ndarray>"
      ]
     },
     "execution_count": 416,
     "metadata": {},
     "output_type": "execute_result"
    }
   ],
   "source": [
    "res[-1][0][-2]"
   ]
  },
  {
   "cell_type": "code",
   "execution_count": 417,
   "metadata": {},
   "outputs": [
    {
     "data": {
      "text/html": [
       "<table>\n",
       "<tr>\n",
       "<td>\n",
       "<table>\n",
       "  <thead>\n",
       "    <tr><td> </td><th> Array </th><th> Chunk </th></tr>\n",
       "  </thead>\n",
       "  <tbody>\n",
       "    <tr><th> Bytes </th><td> 12.00 kB </td> <td> 480 B </td></tr>\n",
       "    <tr><th> Shape </th><td> (20, 25, 3) </td> <td> (4, 5, 3) </td></tr>\n",
       "    <tr><th> Count </th><td> 159 Tasks </td><td> 25 Chunks </td></tr>\n",
       "    <tr><th> Type </th><td> float64 </td><td> numpy.ndarray </td></tr>\n",
       "  </tbody>\n",
       "</table>\n",
       "</td>\n",
       "<td>\n",
       "<svg width=\"156\" height=\"226\" style=\"stroke:rgb(0,0,0);stroke-width:1\" >\n",
       "\n",
       "  <!-- Horizontal lines -->\n",
       "  <line x1=\"10\" y1=\"0\" x2=\"66\" y2=\"56\" style=\"stroke-width:2\" />\n",
       "  <line x1=\"10\" y1=\"24\" x2=\"66\" y2=\"80\" />\n",
       "  <line x1=\"10\" y1=\"48\" x2=\"66\" y2=\"104\" />\n",
       "  <line x1=\"10\" y1=\"72\" x2=\"66\" y2=\"128\" />\n",
       "  <line x1=\"10\" y1=\"96\" x2=\"66\" y2=\"152\" />\n",
       "  <line x1=\"10\" y1=\"120\" x2=\"66\" y2=\"176\" style=\"stroke-width:2\" />\n",
       "\n",
       "  <!-- Vertical lines -->\n",
       "  <line x1=\"10\" y1=\"0\" x2=\"10\" y2=\"120\" style=\"stroke-width:2\" />\n",
       "  <line x1=\"21\" y1=\"11\" x2=\"21\" y2=\"131\" />\n",
       "  <line x1=\"32\" y1=\"22\" x2=\"32\" y2=\"142\" />\n",
       "  <line x1=\"43\" y1=\"33\" x2=\"43\" y2=\"153\" />\n",
       "  <line x1=\"55\" y1=\"45\" x2=\"55\" y2=\"165\" />\n",
       "  <line x1=\"66\" y1=\"56\" x2=\"66\" y2=\"176\" style=\"stroke-width:2\" />\n",
       "\n",
       "  <!-- Colored Rectangle -->\n",
       "  <polygon points=\"10.000000,0.000000 66.470588,56.470588 66.470588,176.470588 10.000000,120.000000\" style=\"fill:#ECB172A0;stroke-width:0\"/>\n",
       "\n",
       "  <!-- Horizontal lines -->\n",
       "  <line x1=\"10\" y1=\"0\" x2=\"49\" y2=\"0\" style=\"stroke-width:2\" />\n",
       "  <line x1=\"21\" y1=\"11\" x2=\"60\" y2=\"11\" />\n",
       "  <line x1=\"32\" y1=\"22\" x2=\"72\" y2=\"22\" />\n",
       "  <line x1=\"43\" y1=\"33\" x2=\"83\" y2=\"33\" />\n",
       "  <line x1=\"55\" y1=\"45\" x2=\"94\" y2=\"45\" />\n",
       "  <line x1=\"66\" y1=\"56\" x2=\"106\" y2=\"56\" style=\"stroke-width:2\" />\n",
       "\n",
       "  <!-- Vertical lines -->\n",
       "  <line x1=\"10\" y1=\"0\" x2=\"66\" y2=\"56\" style=\"stroke-width:2\" />\n",
       "  <line x1=\"49\" y1=\"0\" x2=\"106\" y2=\"56\" style=\"stroke-width:2\" />\n",
       "\n",
       "  <!-- Colored Rectangle -->\n",
       "  <polygon points=\"10.000000,0.000000 49.581195,0.000000 106.051783,56.470588 66.470588,56.470588\" style=\"fill:#ECB172A0;stroke-width:0\"/>\n",
       "\n",
       "  <!-- Horizontal lines -->\n",
       "  <line x1=\"66\" y1=\"56\" x2=\"106\" y2=\"56\" style=\"stroke-width:2\" />\n",
       "  <line x1=\"66\" y1=\"80\" x2=\"106\" y2=\"80\" />\n",
       "  <line x1=\"66\" y1=\"104\" x2=\"106\" y2=\"104\" />\n",
       "  <line x1=\"66\" y1=\"128\" x2=\"106\" y2=\"128\" />\n",
       "  <line x1=\"66\" y1=\"152\" x2=\"106\" y2=\"152\" />\n",
       "  <line x1=\"66\" y1=\"176\" x2=\"106\" y2=\"176\" style=\"stroke-width:2\" />\n",
       "\n",
       "  <!-- Vertical lines -->\n",
       "  <line x1=\"66\" y1=\"56\" x2=\"66\" y2=\"176\" style=\"stroke-width:2\" />\n",
       "  <line x1=\"106\" y1=\"56\" x2=\"106\" y2=\"176\" style=\"stroke-width:2\" />\n",
       "\n",
       "  <!-- Colored Rectangle -->\n",
       "  <polygon points=\"66.470588,56.470588 106.051783,56.470588 106.051783,176.470588 66.470588,176.470588\" style=\"fill:#ECB172A0;stroke-width:0\"/>\n",
       "\n",
       "  <!-- Text -->\n",
       "  <text x=\"86.261186\" y=\"196.470588\" font-size=\"1.0rem\" font-weight=\"100\" text-anchor=\"middle\" >3</text>\n",
       "  <text x=\"126.051783\" y=\"116.470588\" font-size=\"1.0rem\" font-weight=\"100\" text-anchor=\"middle\" transform=\"rotate(0,126.051783,116.470588)\">25</text>\n",
       "  <text x=\"28.235294\" y=\"168.235294\" font-size=\"1.0rem\" font-weight=\"100\" text-anchor=\"middle\" transform=\"rotate(45,28.235294,168.235294)\">20</text>\n",
       "</svg>\n",
       "</td>\n",
       "</tr>\n",
       "</table>"
      ],
      "text/plain": [
       "dask.array<fn, shape=(20, 25, 3), dtype=float64, chunksize=(4, 5, 3), chunktype=numpy.ndarray>"
      ]
     },
     "execution_count": 417,
     "metadata": {},
     "output_type": "execute_result"
    }
   ],
   "source": [
    "res[-1][0][-1]"
   ]
  },
  {
   "cell_type": "code",
   "execution_count": 418,
   "metadata": {},
   "outputs": [
    {
     "name": "stdout",
     "output_type": "stream",
     "text": [
      "(5, 11)(5, 11) (4, 11, 3)\n",
      "(5, 11) (4, 11, 3)\n",
      "(5, 11)(5, 11) (4, 11, 3)\n",
      " (5, 11) (4, 11, 3)\n",
      "(4, 11, 3)\n",
      " (4, 11, 3)\n",
      "(5, 11) (4, 11, 3)\n",
      "(5, 11) (5, 11)(4, 11, 3)\n",
      " (4, 11, 3)\n"
     ]
    },
    {
     "data": {
      "text/plain": [
       "((4, 4, 4, 4, 4), (5, 5, 5, 5, 5), (3,))"
      ]
     },
     "execution_count": 418,
     "metadata": {},
     "output_type": "execute_result"
    }
   ],
   "source": [
    "res[-1][0][-1].compute_chunk_sizes().chunks"
   ]
  },
  {
   "cell_type": "code",
   "execution_count": 412,
   "metadata": {},
   "outputs": [
    {
     "name": "stdout",
     "output_type": "stream",
     "text": [
      "(5, 11) (4, 11, 3)\n",
      "(5, 11) (4, 11, 3)\n",
      "(5, 11) (4, 11, 3)\n",
      "(5, 11) (4, 11, 3)\n",
      "(5, 11) (4, 11, 3)\n",
      "(5, 11) (4, 11, 3)\n",
      "(5, 11) (4, 11, 3)\n",
      "(5, 11) (4, 11, 3)\n",
      "(5, 11) (4, 11, 3)\n",
      "(5, 11) (4, 11, 3)\n",
      "(5, 11) (4, 11, 3)\n",
      "(5, 11) (4, 11, 3)\n",
      "(5, 11) (4, 11, 3)\n",
      "(5, 11) (4, 11, 3)\n",
      "(5, 11) (4, 11, 3)\n",
      "(5, 11) (4, 11, 3)\n",
      "(5, 11) (4, 11, 3)\n",
      "(5, 11) (4, 11, 3)\n",
      "(5, 11) (4, 11, 3)\n",
      "(5, 11) (4, 11, 3)\n",
      "(5, 11) (4, 11, 3)\n",
      "(5, 11) (4, 11, 3)\n",
      "(5, 11) (4, 11, 3)\n",
      "(5, 11) (4, 11, 3)\n",
      "(5, 11) (4, 11, 3)\n"
     ]
    },
    {
     "data": {
      "text/plain": [
       "(20, 25, 3)"
      ]
     },
     "execution_count": 412,
     "metadata": {},
     "output_type": "execute_result"
    }
   ],
   "source": [
    "res[-1][0][-1].compute(scheduler='single-threaded').shape"
   ]
  }
 ],
 "metadata": {
  "kernelspec": {
   "display_name": "Python 3",
   "language": "python",
   "name": "python3"
  },
  "language_info": {
   "codemirror_mode": {
    "name": "ipython",
    "version": 3
   },
   "file_extension": ".py",
   "mimetype": "text/x-python",
   "name": "python",
   "nbconvert_exporter": "python",
   "pygments_lexer": "ipython3",
   "version": "3.7.6"
  }
 },
 "nbformat": 4,
 "nbformat_minor": 4
}
