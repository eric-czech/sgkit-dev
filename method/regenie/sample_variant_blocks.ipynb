{
 "cells": [
  {
   "cell_type": "code",
   "execution_count": 1,
   "metadata": {},
   "outputs": [],
   "source": [
    "import pandas as pd\n",
    "import numpy as np\n",
    "from pyspark.sql import SparkSession\n",
    "from pyspark.sql import functions as F\n",
    "from pyspark.sql.types import ArrayType, StringType\n",
    "spark = SparkSession.builder.getOrCreate()"
   ]
  },
  {
   "cell_type": "code",
   "execution_count": 10,
   "metadata": {},
   "outputs": [
    {
     "data": {
      "text/plain": [
       "DataFrame[values: array<bigint>]"
      ]
     },
     "execution_count": 10,
     "metadata": {},
     "output_type": "execute_result"
    }
   ],
   "source": [
    "spark.createDataFrame(pd.DataFrame({'values': [list(range(500))]}))"
   ]
  },
  {
   "cell_type": "code",
   "execution_count": 16,
   "metadata": {},
   "outputs": [
    {
     "data": {
      "text/plain": [
       "DataFrame[values: array<bigint>, fractionalSampleBlockSize: double, sample_block_id: int, values_slice: array<bigint>]"
      ]
     },
     "execution_count": 16,
     "metadata": {},
     "output_type": "execute_result"
    }
   ],
   "source": [
    "df = spark.createDataFrame(pd.DataFrame({'values': [list(range(10))]}))\n",
    "sampleBlockCount = 3\n",
    "# See: https://github.com/projectglow/glow/blob/354a40a576c7076affb085ff1e5a314f48c02e99/core/src/main/scala/io/projectglow/transformers/blockvariantsandsamples/VariantSampleBlockMaker.scala#L30\n",
    "df = (\n",
    "    df.withColumn(\n",
    "        \"fractionalSampleBlockSize\",\n",
    "        F.size(F.col('values')) / sampleBlockCount\n",
    "    )\n",
    "    .withColumn(\n",
    "        'sample_block_id',\n",
    "        F.explode(\n",
    "          F.sequence(\n",
    "            F.lit(1),\n",
    "            F.lit(sampleBlockCount)\n",
    "          )#.cast(ArrayType(StringType))\n",
    "        )\n",
    "    )\n",
    "    .withColumn(\n",
    "        'values_slice',\n",
    "        F.expr(\n",
    "          \"\"\"slice(\n",
    "                values,\n",
    "                round((sample_block_id - 1) * fractionalSampleBlockSize) + 1,\n",
    "                round(sample_block_id * fractionalSampleBlockSize) - round((sample_block_id - 1) * fractionalSampleBlockSize)\n",
    "            )\"\"\"\n",
    "        )\n",
    "    )\n",
    ")\n",
    "df"
   ]
  },
  {
   "cell_type": "code",
   "execution_count": 18,
   "metadata": {},
   "outputs": [
    {
     "name": "stdout",
     "output_type": "stream",
     "text": [
      "+------------------------------+-------------------------+---------------+------------+\n",
      "|values                        |fractionalSampleBlockSize|sample_block_id|values_slice|\n",
      "+------------------------------+-------------------------+---------------+------------+\n",
      "|[0, 1, 2, 3, 4, 5, 6, 7, 8, 9]|3.3333333333333335       |1              |[0, 1, 2]   |\n",
      "|[0, 1, 2, 3, 4, 5, 6, 7, 8, 9]|3.3333333333333335       |2              |[3, 4, 5, 6]|\n",
      "|[0, 1, 2, 3, 4, 5, 6, 7, 8, 9]|3.3333333333333335       |3              |[7, 8, 9]   |\n",
      "+------------------------------+-------------------------+---------------+------------+\n",
      "\n"
     ]
    }
   ],
   "source": [
    "df.show(10, truncate=False)"
   ]
  }
 ],
 "metadata": {
  "kernelspec": {
   "display_name": "glow",
   "language": "python",
   "name": "glow"
  },
  "language_info": {
   "codemirror_mode": {
    "name": "ipython",
    "version": 3
   },
   "file_extension": ".py",
   "mimetype": "text/x-python",
   "name": "python",
   "nbconvert_exporter": "python",
   "pygments_lexer": "ipython3",
   "version": "3.7.6"
  }
 },
 "nbformat": 4,
 "nbformat_minor": 4
}
