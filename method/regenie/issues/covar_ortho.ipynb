{
 "cells": [
  {
   "cell_type": "code",
   "execution_count": 18,
   "metadata": {},
   "outputs": [
    {
     "name": "stdout",
     "output_type": "stream",
     "text": [
      "False\n"
     ]
    }
   ],
   "source": [
    "import numpy as np\n",
    "\n",
    "def ridge_regression(X, Y, A):\n",
    "    XtX, XtY = X.T @ X, X.T @ Y\n",
    "    return np.linalg.inv(XtX + A) @ XtY\n",
    "\n",
    "np.random.seed(0)\n",
    "\n",
    "X1 = np.random.normal(size=(100, 2))\n",
    "X2 = np.random.normal(size=(100, 2))\n",
    "X = np.concatenate([X1, X2], 1)\n",
    "B = np.random.normal(size=(4, 1))\n",
    "Y = X @ B + np.random.normal(size=(100, 1), scale=.1)\n",
    "\n",
    "XP = X2 - X1 @ np.linalg.lstsq(X1, X2, rcond=None)[0]\n",
    "YP = Y - X1 @ np.linalg.lstsq(X1, Y, rcond=None)[0]\n",
    "\n",
    "B1 = ridge_regression(X, Y, np.diag([0]*4))[2:]\n",
    "B2 = ridge_regression(XP, YP, np.diag([0]*2))\n",
    "np.testing.assert_allclose(B1, B2)\n",
    "\n",
    "B1 = ridge_regression(X, Y, np.diag([0, 0, .1, .1]))[2:]\n",
    "B2 = ridge_regression(X, Y, np.diag([1, 1, .1, .1]))[2:]\n",
    "B3 = ridge_regression(XP, YP, np.diag([.1, .1]))\n",
    "\n",
    "# Result equal when covar alpha is zero\n",
    "np.testing.assert_allclose(B1, B3)\n",
    "# Not equal otherwise\n",
    "print(np.allclose(B2, B3)) # False"
   ]
  }
 ],
 "metadata": {
  "kernelspec": {
   "display_name": "Python 3",
   "language": "python",
   "name": "python3"
  },
  "language_info": {
   "codemirror_mode": {
    "name": "ipython",
    "version": 3
   },
   "file_extension": ".py",
   "mimetype": "text/x-python",
   "name": "python",
   "nbconvert_exporter": "python",
   "pygments_lexer": "ipython3",
   "version": "3.7.6"
  }
 },
 "nbformat": 4,
 "nbformat_minor": 4
}
