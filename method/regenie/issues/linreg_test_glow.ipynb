{
 "cells": [
  {
   "cell_type": "code",
   "execution_count": 1,
   "metadata": {},
   "outputs": [],
   "source": [
    "import glow\n",
    "from glow import linear_regression_gwas, expand_struct\n",
    "from pyspark.ml.linalg import DenseMatrix\n",
    "from pyspark.sql.session import SparkSession\n",
    "from pyspark.sql import Row\n",
    "from pyspark.sql import functions as F\n",
    "\n",
    "def spark_session():\n",
    "    spark = SparkSession.builder\\\n",
    "        .config('spark.jars.packages', 'io.projectglow:glow_2.11:0.5.0')\\\n",
    "        .config(\"spark.sql.execution.arrow.pyspark.enabled\", \"true\")\\\n",
    "        .getOrCreate()\n",
    "    glow.register(spark)\n",
    "    return spark\n",
    "\n",
    "spark = spark_session()\n",
    "glow.register(spark)"
   ]
  },
  {
   "cell_type": "code",
   "execution_count": 48,
   "metadata": {},
   "outputs": [],
   "source": [
    "phenotypes = [2, 3, 4, 3, 2, 1, 2, 3, 5, 6]\n",
    "genotypes =  [0, 1, 2, 2, 2, 0, 1, 1, 2, 2]\n",
    "covariates = [1, 1, 1, 1, 0, 0, 1, 1, 1, 1]\n",
    "covariates = [\n",
    "    [1] * (len(covariates) - 50) + [0] * 50,\n",
    "    covariates\n",
    "]"
   ]
  },
  {
   "cell_type": "code",
   "execution_count": 59,
   "metadata": {},
   "outputs": [
    {
     "data": {
      "text/plain": [
       "[Row(beta=0.04620364230197803, standardError=0.05474315729563003, pValue=0.3994818201238729)]"
      ]
     },
     "execution_count": 59,
     "metadata": {},
     "output_type": "execute_result"
    }
   ],
   "source": [
    "order = 'C'\n",
    "covars = np.array(covariates).T\n",
    "covars = DenseMatrix(numRows=covars.shape[0], numCols=covars.shape[1], values=covars.ravel(order).tolist(), isTransposed=False)\n",
    "df = spark.createDataFrame([Row(genotypes=genotypes, phenotypes=phenotypes, covariates=covars)])\n",
    "df.select(expand_struct(linear_regression_gwas('genotypes', 'phenotypes', 'covariates'))).collect()"
   ]
  },
  {
   "cell_type": "code",
   "execution_count": 60,
   "metadata": {},
   "outputs": [
    {
     "data": {
      "text/plain": [
       "[Row(beta=0.11579462606730816, standardError=0.07510350236316143, pValue=0.12440220506998934)]"
      ]
     },
     "execution_count": 60,
     "metadata": {},
     "output_type": "execute_result"
    }
   ],
   "source": [
    "order = 'F'\n",
    "covars = np.array(covariates).T\n",
    "covars = DenseMatrix(numRows=covars.shape[0], numCols=covars.shape[1], values=covars.ravel(order).tolist(), isTransposed=False)\n",
    "df = spark.createDataFrame([Row(genotypes=genotypes, phenotypes=phenotypes, covariates=covars)])\n",
    "df.select(expand_struct(linear_regression_gwas('genotypes', 'phenotypes', 'covariates'))).collect()"
   ]
  },
  {
   "cell_type": "code",
   "execution_count": 55,
   "metadata": {},
   "outputs": [
    {
     "data": {
      "text/plain": [
       "[Row(beta=0.04620364230197803, standardError=0.05474315729563003, pValue=0.3994818201238729)]"
      ]
     },
     "execution_count": 55,
     "metadata": {},
     "output_type": "execute_result"
    }
   ],
   "source": [
    "covars = np.array(covariates).T\n",
    "df = spark.createDataFrame([Row(genotypes=genotypes, phenotypes=phenotypes)])\n",
    "df.select(expand_struct(linear_regression_gwas('genotypes', 'phenotypes', F.lit(covars)))).collect()"
   ]
  }
 ],
 "metadata": {
  "kernelspec": {
   "display_name": "hail",
   "language": "python",
   "name": "hail"
  },
  "language_info": {
   "codemirror_mode": {
    "name": "ipython",
    "version": 3
   },
   "file_extension": ".py",
   "mimetype": "text/x-python",
   "name": "python",
   "nbconvert_exporter": "python",
   "pygments_lexer": "ipython3",
   "version": "3.7.6"
  }
 },
 "nbformat": 4,
 "nbformat_minor": 4
}
