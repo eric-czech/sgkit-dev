{
 "cells": [
  {
   "cell_type": "code",
   "execution_count": 1,
   "metadata": {},
   "outputs": [],
   "source": [
    "import os\n",
    "import sys\n",
    "import os.path as osp\n",
    "# Necessary for workers to use same conda environment\n",
    "# Otherwise you get \"module 'glow' not found\" errors when actually running jobs\n",
    "os.environ[\"PYSPARK_PYTHON\"] = sys.executable\n",
    "# export SPARK_DRIVER_MEMORY=64g\n",
    "# export ARROW_PRE_0_15_IPC_FORMAT=1\n",
    "import pyspark.sql.functions as F\n",
    "from pyspark.sql.session import SparkSession\n",
    "from glow import *\n",
    "from glow.wgr.functions import *\n",
    "from glow.wgr.linear_model import *\n",
    "import pandas as pd"
   ]
  },
  {
   "cell_type": "code",
   "execution_count": 8,
   "metadata": {},
   "outputs": [
    {
     "data": {
      "text/plain": [
       "'/home/jovyan/work/data/gwas/tutorial/1_QC_GWAS/HapMap_3_r3_1.bed'"
      ]
     },
     "execution_count": 8,
     "metadata": {},
     "output_type": "execute_result"
    }
   ],
   "source": [
    "path = osp.join(os.environ['WORK_DIR'], 'data/gwas/tutorial/1_QC_GWAS/HapMap_3_r3_1.bed')\n",
    "path"
   ]
  },
  {
   "cell_type": "code",
   "execution_count": 9,
   "metadata": {},
   "outputs": [],
   "source": [
    "#os.environ['PYSPARK_SUBMIT_ARGS'] = '--packages io.projectglow:glow_2.11:0.5.0' # does not work\n",
    "# Do in $SPARK_HOME/conf/spark-defaults.conf instead\n",
    "spark = SparkSession.builder\\\n",
    "    .config('spark.jars.packages', 'io.projectglow:glow_2.11:0.5.0')\\\n",
    "    .config(\"spark.sql.execution.arrow.pyspark.enabled\", \"true\")\\\n",
    "    .getOrCreate()"
   ]
  },
  {
   "cell_type": "code",
   "execution_count": 10,
   "metadata": {},
   "outputs": [],
   "source": [
    "import glow\n",
    "glow.register(spark)"
   ]
  },
  {
   "cell_type": "code",
   "execution_count": 11,
   "metadata": {},
   "outputs": [],
   "source": [
    "df = (\n",
    "    spark.read.format('plink')\n",
    "    .option(\"bimDelimiter\", \"\\t\")\n",
    "    .option(\"famDelimiter\", \" \")\n",
    "    .option(\"includeSampleIds\", True)\n",
    "    .option(\"mergeFidIid\", False)\n",
    "    .load(path)\n",
    ")"
   ]
  },
  {
   "cell_type": "code",
   "execution_count": 12,
   "metadata": {},
   "outputs": [
    {
     "name": "stdout",
     "output_type": "stream",
     "text": [
      "root\n",
      " |-- contigName: string (nullable = true)\n",
      " |-- names: array (nullable = true)\n",
      " |    |-- element: string (containsNull = true)\n",
      " |-- position: double (nullable = true)\n",
      " |-- start: long (nullable = true)\n",
      " |-- end: long (nullable = true)\n",
      " |-- referenceAllele: string (nullable = true)\n",
      " |-- alternateAlleles: array (nullable = true)\n",
      " |    |-- element: string (containsNull = true)\n",
      " |-- genotypes: array (nullable = true)\n",
      " |    |-- element: struct (containsNull = true)\n",
      " |    |    |-- sampleId: string (nullable = true)\n",
      " |    |    |-- calls: array (nullable = true)\n",
      " |    |    |    |-- element: integer (containsNull = true)\n",
      "\n"
     ]
    }
   ],
   "source": [
    "df.printSchema()"
   ]
  },
  {
   "cell_type": "code",
   "execution_count": 13,
   "metadata": {},
   "outputs": [
    {
     "name": "stdout",
     "output_type": "stream",
     "text": [
      "+----------+------------+--------+------+------+---------------+----------------+--------------------+\n",
      "|contigName|       names|position| start|   end|referenceAllele|alternateAlleles|           genotypes|\n",
      "+----------+------------+--------+------+------+---------------+----------------+--------------------+\n",
      "|         1| [rs2185539]|     0.0|556737|556738|              C|             [T]|[[NA06989, [0, 0]...|\n",
      "|         1|[rs11510103]|     0.0|557615|557616|              A|             [G]|[[NA06989, [0, 0]...|\n",
      "|         1|[rs11240767]|     0.0|718813|718814|              C|             [T]|[[NA06989, [0, 0]...|\n",
      "+----------+------------+--------+------+------+---------------+----------------+--------------------+\n",
      "only showing top 3 rows\n",
      "\n"
     ]
    }
   ],
   "source": [
    "df.show(3)"
   ]
  },
  {
   "cell_type": "code",
   "execution_count": 16,
   "metadata": {},
   "outputs": [
    {
     "name": "stdout",
     "output_type": "stream",
     "text": [
      "root\n",
      " |-- contigName: string (nullable = true)\n",
      " |-- names: array (nullable = true)\n",
      " |    |-- element: string (containsNull = true)\n",
      " |-- position: double (nullable = true)\n",
      " |-- start: long (nullable = true)\n",
      " |-- end: long (nullable = true)\n",
      " |-- referenceAllele: string (nullable = true)\n",
      " |-- alternateAlleles: array (nullable = true)\n",
      " |    |-- element: string (containsNull = true)\n",
      " |-- genotypes: array (nullable = true)\n",
      " |    |-- element: struct (containsNull = true)\n",
      " |    |    |-- sampleId: string (nullable = true)\n",
      " |    |    |-- calls: array (nullable = true)\n",
      " |    |    |    |-- element: integer (containsNull = true)\n",
      " |-- values: array (nullable = true)\n",
      " |    |-- element: double (containsNull = true)\n",
      "\n"
     ]
    }
   ],
   "source": [
    "dfv = df\\\n",
    "  .withColumn('values', mean_substitute(genotype_states(F.col('genotypes')))) \\\n",
    "  .filter(F.size(F.array_distinct('values')) > 1)\\\n",
    "  .filter(F.col('contigName') == F.lit('22'))\n",
    "dfv.printSchema()"
   ]
  },
  {
   "cell_type": "code",
   "execution_count": 17,
   "metadata": {},
   "outputs": [
    {
     "name": "stdout",
     "output_type": "stream",
     "text": [
      "+----------+------------+--------+--------+--------+---------------+----------------+--------------------+--------------------+\n",
      "|contigName|       names|position|   start|     end|referenceAllele|alternateAlleles|           genotypes|              values|\n",
      "+----------+------------+--------+--------+--------+---------------+----------------+--------------------+--------------------+\n",
      "|        22|[rs11089128]|     0.0|14560202|14560203|              A|             [G]|[[NA06989, [0, 0]...|[0.0, 1.0, 0.0, 0...|\n",
      "|        22| [rs7288972]|     0.0|14564327|14564328|              T|             [C]|[[NA06989, [0, 0]...|[0.0, 1.0, 1.0, 0...|\n",
      "|        22|[rs11167319]|     0.0|14850624|14850625|              T|             [G]|[[NA06989, [0, 1]...|[1.0, 0.0, 0.0, 0...|\n",
      "+----------+------------+--------+--------+--------+---------------+----------------+--------------------+--------------------+\n",
      "only showing top 3 rows\n",
      "\n"
     ]
    }
   ],
   "source": [
    "dfv.show(3)"
   ]
  },
  {
   "cell_type": "code",
   "execution_count": 18,
   "metadata": {},
   "outputs": [
    {
     "data": {
      "text/plain": [
       "18308"
      ]
     },
     "execution_count": 18,
     "metadata": {},
     "output_type": "execute_result"
    }
   ],
   "source": [
    "dfv.count()"
   ]
  },
  {
   "cell_type": "code",
   "execution_count": 11,
   "metadata": {},
   "outputs": [
    {
     "name": "stdout",
     "output_type": "stream",
     "text": [
      "165\n"
     ]
    },
    {
     "data": {
      "text/plain": [
       "['NA06989', 'NA11891', 'NA11843', 'NA12341', 'NA12739']"
      ]
     },
     "execution_count": 11,
     "metadata": {},
     "output_type": "execute_result"
    }
   ],
   "source": [
    "sample_ids = get_sample_ids(dfv)\n",
    "print(len(sample_ids))\n",
    "sample_ids[:5]"
   ]
  },
  {
   "cell_type": "code",
   "execution_count": 12,
   "metadata": {},
   "outputs": [
    {
     "name": "stdout",
     "output_type": "stream",
     "text": [
      "root\n",
      " |-- values: array (nullable = true)\n",
      " |    |-- element: string (containsNull = true)\n",
      " |-- fractionalSampleBlockSize: double (nullable = true)\n",
      " |-- sample_block: string (nullable = true)\n",
      "\n"
     ]
    }
   ],
   "source": [
    "block_df, sample_blocks = block_variants_and_samples(dfv, sample_ids, variants_per_block=5000, sample_block_count=5)"
   ]
  },
  {
   "cell_type": "code",
   "execution_count": 13,
   "metadata": {},
   "outputs": [
    {
     "name": "stdout",
     "output_type": "stream",
     "text": [
      "root\n",
      " |-- header: string (nullable = false)\n",
      " |-- size: integer (nullable = false)\n",
      " |-- values: array (nullable = true)\n",
      " |    |-- element: double (containsNull = true)\n",
      " |-- header_block: string (nullable = false)\n",
      " |-- sample_block: string (nullable = true)\n",
      " |-- sort_key: integer (nullable = true)\n",
      " |-- mu: double (nullable = true)\n",
      " |-- sig: double (nullable = true)\n",
      "\n"
     ]
    }
   ],
   "source": [
    "block_df.printSchema()"
   ]
  },
  {
   "cell_type": "code",
   "execution_count": 14,
   "metadata": {},
   "outputs": [
    {
     "data": {
      "text/plain": [
       "1    [NA06989, NA11891, NA11843, NA12341, NA12739, ...\n",
       "2    [NA12282, NA11920, NA12776, NA12283, NA07435, ...\n",
       "3    [NA12489, NA12399, NA12413, NA10843, NA12842, ...\n",
       "4    [NA11829, NA12239, NA12762, NA12716, NA12878, ...\n",
       "5    [NA06994, NA11993, NA11995, NA12891, NA12864, ...\n",
       "dtype: object"
      ]
     },
     "execution_count": 14,
     "metadata": {},
     "output_type": "execute_result"
    }
   ],
   "source": [
    "pd.Series(sample_blocks)"
   ]
  },
  {
   "cell_type": "code",
   "execution_count": 15,
   "metadata": {},
   "outputs": [
    {
     "data": {
      "text/plain": [
       "(165, 165)"
      ]
     },
     "execution_count": 15,
     "metadata": {},
     "output_type": "execute_result"
    }
   ],
   "source": [
    "len(sample_ids), len(set(sample_ids))"
   ]
  },
  {
   "cell_type": "code",
   "execution_count": 16,
   "metadata": {},
   "outputs": [
    {
     "data": {
      "text/html": [
       "<div>\n",
       "<style scoped>\n",
       "    .dataframe tbody tr th:only-of-type {\n",
       "        vertical-align: middle;\n",
       "    }\n",
       "\n",
       "    .dataframe tbody tr th {\n",
       "        vertical-align: top;\n",
       "    }\n",
       "\n",
       "    .dataframe thead th {\n",
       "        text-align: right;\n",
       "    }\n",
       "</style>\n",
       "<table border=\"1\" class=\"dataframe\">\n",
       "  <thead>\n",
       "    <tr style=\"text-align: right;\">\n",
       "      <th></th>\n",
       "      <th>trait_1</th>\n",
       "      <th>trait_2</th>\n",
       "    </tr>\n",
       "    <tr>\n",
       "      <th>sample_id</th>\n",
       "      <th></th>\n",
       "      <th></th>\n",
       "    </tr>\n",
       "  </thead>\n",
       "  <tbody>\n",
       "    <tr>\n",
       "      <th>NA06989</th>\n",
       "      <td>-0.078535</td>\n",
       "      <td>0.550310</td>\n",
       "    </tr>\n",
       "    <tr>\n",
       "      <th>NA11891</th>\n",
       "      <td>-0.419782</td>\n",
       "      <td>-0.050742</td>\n",
       "    </tr>\n",
       "    <tr>\n",
       "      <th>NA11843</th>\n",
       "      <td>0.774156</td>\n",
       "      <td>-2.126330</td>\n",
       "    </tr>\n",
       "    <tr>\n",
       "      <th>NA12341</th>\n",
       "      <td>0.771144</td>\n",
       "      <td>-1.314122</td>\n",
       "    </tr>\n",
       "    <tr>\n",
       "      <th>NA12739</th>\n",
       "      <td>0.402055</td>\n",
       "      <td>-0.865296</td>\n",
       "    </tr>\n",
       "    <tr>\n",
       "      <th>...</th>\n",
       "      <td>...</td>\n",
       "      <td>...</td>\n",
       "    </tr>\n",
       "    <tr>\n",
       "      <th>NA12752</th>\n",
       "      <td>1.005390</td>\n",
       "      <td>-0.517686</td>\n",
       "    </tr>\n",
       "    <tr>\n",
       "      <th>NA12043</th>\n",
       "      <td>0.534191</td>\n",
       "      <td>-0.535534</td>\n",
       "    </tr>\n",
       "    <tr>\n",
       "      <th>NA12264</th>\n",
       "      <td>-0.383037</td>\n",
       "      <td>0.109099</td>\n",
       "    </tr>\n",
       "    <tr>\n",
       "      <th>NA10854</th>\n",
       "      <td>-0.121615</td>\n",
       "      <td>-1.001846</td>\n",
       "    </tr>\n",
       "    <tr>\n",
       "      <th>NA12865</th>\n",
       "      <td>0.423931</td>\n",
       "      <td>1.675455</td>\n",
       "    </tr>\n",
       "  </tbody>\n",
       "</table>\n",
       "<p>165 rows × 2 columns</p>\n",
       "</div>"
      ],
      "text/plain": [
       "            trait_1   trait_2\n",
       "sample_id                    \n",
       "NA06989   -0.078535  0.550310\n",
       "NA11891   -0.419782 -0.050742\n",
       "NA11843    0.774156 -2.126330\n",
       "NA12341    0.771144 -1.314122\n",
       "NA12739    0.402055 -0.865296\n",
       "...             ...       ...\n",
       "NA12752    1.005390 -0.517686\n",
       "NA12043    0.534191 -0.535534\n",
       "NA12264   -0.383037  0.109099\n",
       "NA10854   -0.121615 -1.001846\n",
       "NA12865    0.423931  1.675455\n",
       "\n",
       "[165 rows x 2 columns]"
      ]
     },
     "execution_count": 16,
     "metadata": {},
     "output_type": "execute_result"
    }
   ],
   "source": [
    "#label_df = pd.read_csv(phenotypes_path, index_col='sample_id')\n",
    "label_df = pd.DataFrame({\n",
    "    'sample_id': sample_ids,\n",
    "    'trait_1': np.random.normal(size=len(sample_ids)),\n",
    "    'trait_2': np.random.normal(size=len(sample_ids))\n",
    "}).set_index('sample_id')\n",
    "label_df = ((label_df - label_df.mean()) / label_df.std(ddof=0))[['trait_1', 'trait_2']]\n",
    "label_df"
   ]
  },
  {
   "cell_type": "code",
   "execution_count": 17,
   "metadata": {},
   "outputs": [
    {
     "data": {
      "text/html": [
       "<div>\n",
       "<style scoped>\n",
       "    .dataframe tbody tr th:only-of-type {\n",
       "        vertical-align: middle;\n",
       "    }\n",
       "\n",
       "    .dataframe tbody tr th {\n",
       "        vertical-align: top;\n",
       "    }\n",
       "\n",
       "    .dataframe thead th {\n",
       "        text-align: right;\n",
       "    }\n",
       "</style>\n",
       "<table border=\"1\" class=\"dataframe\">\n",
       "  <thead>\n",
       "    <tr style=\"text-align: right;\">\n",
       "      <th></th>\n",
       "      <th>cov_1</th>\n",
       "      <th>cov_2</th>\n",
       "    </tr>\n",
       "    <tr>\n",
       "      <th>sample_id</th>\n",
       "      <th></th>\n",
       "      <th></th>\n",
       "    </tr>\n",
       "  </thead>\n",
       "  <tbody>\n",
       "    <tr>\n",
       "      <th>NA06989</th>\n",
       "      <td>-0.961607</td>\n",
       "      <td>-0.240424</td>\n",
       "    </tr>\n",
       "    <tr>\n",
       "      <th>NA11891</th>\n",
       "      <td>-1.312328</td>\n",
       "      <td>-0.032669</td>\n",
       "    </tr>\n",
       "    <tr>\n",
       "      <th>NA11843</th>\n",
       "      <td>0.720588</td>\n",
       "      <td>0.281981</td>\n",
       "    </tr>\n",
       "    <tr>\n",
       "      <th>NA12341</th>\n",
       "      <td>0.157190</td>\n",
       "      <td>-0.014216</td>\n",
       "    </tr>\n",
       "    <tr>\n",
       "      <th>NA12739</th>\n",
       "      <td>0.178456</td>\n",
       "      <td>-1.166741</td>\n",
       "    </tr>\n",
       "    <tr>\n",
       "      <th>...</th>\n",
       "      <td>...</td>\n",
       "      <td>...</td>\n",
       "    </tr>\n",
       "    <tr>\n",
       "      <th>NA12752</th>\n",
       "      <td>0.253341</td>\n",
       "      <td>-0.922501</td>\n",
       "    </tr>\n",
       "    <tr>\n",
       "      <th>NA12043</th>\n",
       "      <td>-0.030301</td>\n",
       "      <td>-0.419506</td>\n",
       "    </tr>\n",
       "    <tr>\n",
       "      <th>NA12264</th>\n",
       "      <td>-1.912005</td>\n",
       "      <td>0.365930</td>\n",
       "    </tr>\n",
       "    <tr>\n",
       "      <th>NA10854</th>\n",
       "      <td>0.596679</td>\n",
       "      <td>-0.790976</td>\n",
       "    </tr>\n",
       "    <tr>\n",
       "      <th>NA12865</th>\n",
       "      <td>-0.136813</td>\n",
       "      <td>-0.076938</td>\n",
       "    </tr>\n",
       "  </tbody>\n",
       "</table>\n",
       "<p>165 rows × 2 columns</p>\n",
       "</div>"
      ],
      "text/plain": [
       "              cov_1     cov_2\n",
       "sample_id                    \n",
       "NA06989   -0.961607 -0.240424\n",
       "NA11891   -1.312328 -0.032669\n",
       "NA11843    0.720588  0.281981\n",
       "NA12341    0.157190 -0.014216\n",
       "NA12739    0.178456 -1.166741\n",
       "...             ...       ...\n",
       "NA12752    0.253341 -0.922501\n",
       "NA12043   -0.030301 -0.419506\n",
       "NA12264   -1.912005  0.365930\n",
       "NA10854    0.596679 -0.790976\n",
       "NA12865   -0.136813 -0.076938\n",
       "\n",
       "[165 rows x 2 columns]"
      ]
     },
     "execution_count": 17,
     "metadata": {},
     "output_type": "execute_result"
    }
   ],
   "source": [
    "# covariates = pd.read_csv(covariates_path, index_col='sample_id')\n",
    "cov_df = pd.DataFrame({\n",
    "    'sample_id': sample_ids,\n",
    "    'cov_1': np.random.normal(size=len(sample_ids)),\n",
    "    'cov_2': np.random.normal(size=len(sample_ids))\n",
    "}).set_index('sample_id')\n",
    "cov_df = ((cov_df - cov_df.mean()) / cov_df.std(ddof=0))\n",
    "cov_df"
   ]
  },
  {
   "cell_type": "code",
   "execution_count": 18,
   "metadata": {},
   "outputs": [
    {
     "name": "stdout",
     "output_type": "stream",
     "text": [
      "Generated alphas: [1.29671818e+06 1.71166800e+06 2.56750200e+06 5.13500400e+06\n",
      " 1.28375100e+08]\n",
      "root\n",
      " |-- header: string (nullable = true)\n",
      " |-- size: integer (nullable = true)\n",
      " |-- values: array (nullable = true)\n",
      " |    |-- element: double (containsNull = true)\n",
      " |-- header_block: string (nullable = true)\n",
      " |-- sample_block: string (nullable = true)\n",
      " |-- sort_key: integer (nullable = true)\n",
      " |-- mu: double (nullable = true)\n",
      " |-- sig: double (nullable = true)\n",
      " |-- alpha: string (nullable = true)\n",
      " |-- label: string (nullable = true)\n",
      "\n"
     ]
    }
   ],
   "source": [
    "stack = RidgeReducer()\n",
    "reduced_block_df = stack.fit_transform(block_df, label_df, sample_blocks, cov_df)\n",
    "reduced_block_df.printSchema()"
   ]
  },
  {
   "cell_type": "code",
   "execution_count": null,
   "metadata": {},
   "outputs": [],
   "source": [
    "estimator = RidgeRegression()\n",
    "model_df, cv_df = estimator.fit(reduced_block_df, label_df, sample_blocks, cov_df)\n",
    "model_df.printSchema()\n",
    "cv_df.printSchema()"
   ]
  },
  {
   "cell_type": "code",
   "execution_count": null,
   "metadata": {},
   "outputs": [],
   "source": [
    "y_hat_df = estimator.transform(reduced_block_df, label_df, sample_blocks, model_df, cv_df, cov_df)\n",
    "y_hat_df.printSchema()"
   ]
  }
 ],
 "metadata": {
  "kernelspec": {
   "display_name": "hail",
   "language": "python",
   "name": "hail"
  },
  "language_info": {
   "codemirror_mode": {
    "name": "ipython",
    "version": 3
   },
   "file_extension": ".py",
   "mimetype": "text/x-python",
   "name": "python",
   "nbconvert_exporter": "python",
   "pygments_lexer": "ipython3",
   "version": "3.7.6"
  }
 },
 "nbformat": 4,
 "nbformat_minor": 4
}
