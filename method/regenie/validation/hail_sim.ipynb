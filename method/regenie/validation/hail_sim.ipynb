{
 "cells": [
  {
   "cell_type": "code",
   "execution_count": 1,
   "metadata": {},
   "outputs": [
    {
     "name": "stderr",
     "output_type": "stream",
     "text": [
      "Running on Apache Spark version 2.4.1\n",
      "SparkUI available at http://ab8c17508922:4040\n",
      "Welcome to\n",
      "     __  __     <>__\n",
      "    / /_/ /__  __/ /\n",
      "   / __  / _ `/ / /\n",
      "  /_/ /_/\\_,_/_/_/   version 0.2.47-d9e1f3a110c8\n",
      "LOGGING: writing to /home/jovyan/work/repos/sgkit-dev/method/regenie/validation/hail-20200721-1804-0.2.47-d9e1f3a110c8.log\n"
     ]
    }
   ],
   "source": [
    "import hail as hl\n",
    "import numpy as np\n",
    "import pandas as pd\n",
    "import shutil\n",
    "from pathlib import Path\n",
    "import yaml\n",
    "hl.init()"
   ]
  },
  {
   "cell_type": "code",
   "execution_count": 5,
   "metadata": {},
   "outputs": [
    {
     "name": "stdout",
     "output_type": "stream",
     "text": [
      "{'datasets': {'sim_01': {'n_variants': 1000, 'n_samples': 250, 'n_contigs': 1, 'n_covars': 3, 'n_traits': 1}}}\n"
     ]
    }
   ],
   "source": [
    "with open('config.yml') as fd:\n",
    "    config = yaml.load(fd, Loader=yaml.FullLoader)\n",
    "print(config)"
   ]
  },
  {
   "cell_type": "code",
   "execution_count": 2,
   "metadata": {},
   "outputs": [],
   "source": [
    "dataset_name = 'sim_01'\n",
    "n_variants = 1000\n",
    "n_samples = 250\n",
    "n_contigs = 1\n",
    "n_covars = 3\n",
    "n_traits = 1\n",
    "output_dir = 'data/sim_01'"
   ]
  },
  {
   "cell_type": "code",
   "execution_count": 3,
   "metadata": {},
   "outputs": [],
   "source": [
    "def add_default_plink_fields(mt):\n",
    "    return mt.annotate_rows(rsid=hl.null(hl.tstr)).annotate_cols(\n",
    "        fam_id=hl.null(hl.tstr),\n",
    "        pat_id=hl.null(hl.tstr),\n",
    "        mat_id=hl.null(hl.tstr),\n",
    "        is_female=hl.null(hl.tbool),\n",
    "        is_case=hl.null(hl.tbool),\n",
    "    )\n",
    "\n",
    "\n",
    "def get_plink_sim_dataset(n_variants=16, n_samples=4, n_contigs=2, seed=0):\n",
    "    data = []\n",
    "    rs = np.random.RandomState(seed)\n",
    "    for v in range(n_variants):\n",
    "        for s in range(n_samples):\n",
    "            for c in range(n_contigs):\n",
    "                data.append(\n",
    "                    {\n",
    "                        \"v\": f\"{c+1}:{v+1}:A:C\",\n",
    "                        \"s\": f\"S{s+1:07d}\",\n",
    "                        \"cm\": 0.1,\n",
    "                        \"GT\": hl.Call([rs.randint(0, 2), rs.randint(0, 2)]),\n",
    "                    }\n",
    "                )\n",
    "    ht = hl.Table.parallelize(\n",
    "        data, hl.dtype(\"struct{v: str, s: str, cm: float64, GT: call}\")\n",
    "    )\n",
    "    ht = ht.transmute(**hl.parse_variant(ht.v))\n",
    "    mt = ht.to_matrix_table(\n",
    "        row_key=[\"locus\", \"alleles\"], col_key=[\"s\"], row_fields=[\"cm\"]\n",
    "    )\n",
    "    return add_default_plink_fields(mt)"
   ]
  },
  {
   "cell_type": "code",
   "execution_count": 4,
   "metadata": {},
   "outputs": [
    {
     "name": "stdout",
     "output_type": "stream",
     "text": [
      "----------------------------------------\n",
      "Global fields:\n",
      "    None\n",
      "----------------------------------------\n",
      "Column fields:\n",
      "    's': str\n",
      "    'fam_id': str\n",
      "    'pat_id': str\n",
      "    'mat_id': str\n",
      "    'is_female': bool\n",
      "    'is_case': bool\n",
      "----------------------------------------\n",
      "Row fields:\n",
      "    'locus': locus<GRCh37>\n",
      "    'alleles': array<str>\n",
      "    'cm': float64\n",
      "    'rsid': str\n",
      "----------------------------------------\n",
      "Entry fields:\n",
      "    'GT': call\n",
      "----------------------------------------\n",
      "Column key: ['s']\n",
      "Row key: ['locus', 'alleles']\n",
      "----------------------------------------\n"
     ]
    }
   ],
   "source": [
    "mt = get_plink_sim_dataset(n_variants=n_variants, n_samples=n_samples, n_contigs=n_contigs)\n",
    "mt.describe()"
   ]
  },
  {
   "cell_type": "code",
   "execution_count": 5,
   "metadata": {},
   "outputs": [
    {
     "name": "stderr",
     "output_type": "stream",
     "text": [
      "2020-07-16 19:47:28 Hail: INFO: Ordering unsorted dataset with network shuffle\n",
      "2020-07-16 19:47:29 Hail: INFO: Wrote all 1 blocks of 1000 x 250 matrix with block size 4096.\n"
     ]
    },
    {
     "data": {
      "text/plain": [
       "(1000, 250)"
      ]
     },
     "execution_count": 5,
     "metadata": {},
     "output_type": "execute_result"
    }
   ],
   "source": [
    "gt = hl.linalg.BlockMatrix.from_entry_expr(mt.GT.n_alt_alleles()).to_numpy()\n",
    "gt.shape"
   ]
  },
  {
   "cell_type": "code",
   "execution_count": 6,
   "metadata": {},
   "outputs": [
    {
     "data": {
      "text/plain": [
       "array([[1., 1., 2., 2., 2.],\n",
       "       [2., 0., 1., 2., 0.],\n",
       "       [1., 1., 0., 1., 2.],\n",
       "       [2., 0., 1., 2., 1.],\n",
       "       [2., 0., 1., 0., 1.]])"
      ]
     },
     "execution_count": 6,
     "metadata": {},
     "output_type": "execute_result"
    }
   ],
   "source": [
    "gt[:5, :5]"
   ]
  },
  {
   "cell_type": "code",
   "execution_count": 7,
   "metadata": {},
   "outputs": [
    {
     "data": {
      "text/plain": [
       "['S0000001', 'S0000002', 'S0000003', 'S0000004', 'S0000005']"
      ]
     },
     "execution_count": 7,
     "metadata": {},
     "output_type": "execute_result"
    }
   ],
   "source": [
    "sample_ids = mt.s.collect()\n",
    "len(sample_ids)\n",
    "sample_ids[:5]"
   ]
  },
  {
   "cell_type": "code",
   "execution_count": 8,
   "metadata": {},
   "outputs": [
    {
     "name": "stdout",
     "output_type": "stream",
     "text": [
      "<class 'pandas.core.frame.DataFrame'>\n",
      "Index: 250 entries, S0000001 to S0000250\n",
      "Data columns (total 3 columns):\n",
      " #   Column  Non-Null Count  Dtype  \n",
      "---  ------  --------------  -----  \n",
      " 0   X000    250 non-null    float64\n",
      " 1   X001    250 non-null    float64\n",
      " 2   X002    250 non-null    float64\n",
      "dtypes: float64(3)\n",
      "memory usage: 7.8+ KB\n",
      "None\n"
     ]
    },
    {
     "data": {
      "text/html": [
       "<div>\n",
       "<style scoped>\n",
       "    .dataframe tbody tr th:only-of-type {\n",
       "        vertical-align: middle;\n",
       "    }\n",
       "\n",
       "    .dataframe tbody tr th {\n",
       "        vertical-align: top;\n",
       "    }\n",
       "\n",
       "    .dataframe thead th {\n",
       "        text-align: right;\n",
       "    }\n",
       "</style>\n",
       "<table border=\"1\" class=\"dataframe\">\n",
       "  <thead>\n",
       "    <tr style=\"text-align: right;\">\n",
       "      <th></th>\n",
       "      <th>X000</th>\n",
       "      <th>X001</th>\n",
       "      <th>X002</th>\n",
       "    </tr>\n",
       "    <tr>\n",
       "      <th>sample_id</th>\n",
       "      <th></th>\n",
       "      <th></th>\n",
       "      <th></th>\n",
       "    </tr>\n",
       "  </thead>\n",
       "  <tbody>\n",
       "    <tr>\n",
       "      <th>S0000001</th>\n",
       "      <td>1.764052</td>\n",
       "      <td>0.400157</td>\n",
       "      <td>0.978738</td>\n",
       "    </tr>\n",
       "    <tr>\n",
       "      <th>S0000002</th>\n",
       "      <td>2.240893</td>\n",
       "      <td>1.867558</td>\n",
       "      <td>-0.977278</td>\n",
       "    </tr>\n",
       "    <tr>\n",
       "      <th>S0000003</th>\n",
       "      <td>0.950088</td>\n",
       "      <td>-0.151357</td>\n",
       "      <td>-0.103219</td>\n",
       "    </tr>\n",
       "    <tr>\n",
       "      <th>S0000004</th>\n",
       "      <td>0.410599</td>\n",
       "      <td>0.144044</td>\n",
       "      <td>1.454274</td>\n",
       "    </tr>\n",
       "    <tr>\n",
       "      <th>S0000005</th>\n",
       "      <td>0.761038</td>\n",
       "      <td>0.121675</td>\n",
       "      <td>0.443863</td>\n",
       "    </tr>\n",
       "  </tbody>\n",
       "</table>\n",
       "</div>"
      ],
      "text/plain": [
       "               X000      X001      X002\n",
       "sample_id                              \n",
       "S0000001   1.764052  0.400157  0.978738\n",
       "S0000002   2.240893  1.867558 -0.977278\n",
       "S0000003   0.950088 -0.151357 -0.103219\n",
       "S0000004   0.410599  0.144044  1.454274\n",
       "S0000005   0.761038  0.121675  0.443863"
      ]
     },
     "execution_count": 8,
     "metadata": {},
     "output_type": "execute_result"
    }
   ],
   "source": [
    "def get_covariates(n, sample_ids, seed=0):\n",
    "    rs = np.random.RandomState(seed)\n",
    "    df = pd.DataFrame(\n",
    "        rs.normal(size=(len(sample_ids), n)), \n",
    "        columns=[f'X{i:03d}' for i in range(n)]\n",
    "    )\n",
    "    df = df.assign(sample_id=sample_ids).set_index('sample_id')\n",
    "    return df\n",
    "df_cov = get_covariates(n_covars, sample_ids)\n",
    "print(df_cov.info())\n",
    "df_cov.head()"
   ]
  },
  {
   "cell_type": "code",
   "execution_count": 9,
   "metadata": {},
   "outputs": [],
   "source": [
    "def get_betas(n_traits, gt, df_cov, seed=0):\n",
    "    rs = np.random.RandomState(seed)\n",
    "    n_covars = df_cov.shape[1]\n",
    "    n_variants = gt.shape[0]\n",
    "    traits = [f'Y{i:04d}' for i in range(n_traits)]\n",
    "    \n",
    "    beta_cov = rs.normal(loc=2.0, scale=1, size=(n_covars, n_traits))\n",
    "    beta_var = rs.normal(loc=-2.0, scale=1, size=(n_variants, n_traits))\n",
    "    # Set last half of all betas to 0\n",
    "    beta_cov[(beta_cov.shape[0]//2):,:] = 0\n",
    "    beta_var[(beta_var.shape[0]//2):,:] = 0\n",
    "    \n",
    "    df_beta_cov = pd.DataFrame(\n",
    "        beta_cov, \n",
    "        index=[f'B-{c}' for c in df_cov.columns], \n",
    "        columns=traits\n",
    "    )\n",
    "    df_beta_var = pd.DataFrame(\n",
    "        beta_var, \n",
    "        index=[f'B-V{i:07d}' for i in range(n_variants)], \n",
    "        columns=traits\n",
    "    )\n",
    "    return df_beta_cov, df_beta_var\n",
    "\n",
    "df_beta_cov, df_beta_var = get_betas(n_traits, gt, df_cov)"
   ]
  },
  {
   "cell_type": "code",
   "execution_count": 10,
   "metadata": {},
   "outputs": [
    {
     "name": "stdout",
     "output_type": "stream",
     "text": [
      "<class 'pandas.core.frame.DataFrame'>\n",
      "Index: 3 entries, B-X000 to B-X002\n",
      "Data columns (total 1 columns):\n",
      " #   Column  Non-Null Count  Dtype  \n",
      "---  ------  --------------  -----  \n",
      " 0   Y0000   3 non-null      float64\n",
      "dtypes: float64(1)\n",
      "memory usage: 48.0+ bytes\n",
      "None\n"
     ]
    },
    {
     "data": {
      "text/html": [
       "<div>\n",
       "<style scoped>\n",
       "    .dataframe tbody tr th:only-of-type {\n",
       "        vertical-align: middle;\n",
       "    }\n",
       "\n",
       "    .dataframe tbody tr th {\n",
       "        vertical-align: top;\n",
       "    }\n",
       "\n",
       "    .dataframe thead th {\n",
       "        text-align: right;\n",
       "    }\n",
       "</style>\n",
       "<table border=\"1\" class=\"dataframe\">\n",
       "  <thead>\n",
       "    <tr style=\"text-align: right;\">\n",
       "      <th></th>\n",
       "      <th>Y0000</th>\n",
       "    </tr>\n",
       "  </thead>\n",
       "  <tbody>\n",
       "    <tr>\n",
       "      <th>B-X000</th>\n",
       "      <td>3.764052</td>\n",
       "    </tr>\n",
       "    <tr>\n",
       "      <th>B-X001</th>\n",
       "      <td>0.000000</td>\n",
       "    </tr>\n",
       "    <tr>\n",
       "      <th>B-X002</th>\n",
       "      <td>0.000000</td>\n",
       "    </tr>\n",
       "  </tbody>\n",
       "</table>\n",
       "</div>"
      ],
      "text/plain": [
       "           Y0000\n",
       "B-X000  3.764052\n",
       "B-X001  0.000000\n",
       "B-X002  0.000000"
      ]
     },
     "execution_count": 10,
     "metadata": {},
     "output_type": "execute_result"
    }
   ],
   "source": [
    "print(df_beta_cov.info())\n",
    "df_beta_cov.head()"
   ]
  },
  {
   "cell_type": "code",
   "execution_count": 11,
   "metadata": {},
   "outputs": [
    {
     "name": "stdout",
     "output_type": "stream",
     "text": [
      "<class 'pandas.core.frame.DataFrame'>\n",
      "Index: 1000 entries, B-V0000000 to B-V0000999\n",
      "Data columns (total 1 columns):\n",
      " #   Column  Non-Null Count  Dtype  \n",
      "---  ------  --------------  -----  \n",
      " 0   Y0000   1000 non-null   float64\n",
      "dtypes: float64(1)\n",
      "memory usage: 15.6+ KB\n",
      "None\n"
     ]
    },
    {
     "data": {
      "text/html": [
       "<div>\n",
       "<style scoped>\n",
       "    .dataframe tbody tr th:only-of-type {\n",
       "        vertical-align: middle;\n",
       "    }\n",
       "\n",
       "    .dataframe tbody tr th {\n",
       "        vertical-align: top;\n",
       "    }\n",
       "\n",
       "    .dataframe thead th {\n",
       "        text-align: right;\n",
       "    }\n",
       "</style>\n",
       "<table border=\"1\" class=\"dataframe\">\n",
       "  <thead>\n",
       "    <tr style=\"text-align: right;\">\n",
       "      <th></th>\n",
       "      <th>Y0000</th>\n",
       "    </tr>\n",
       "  </thead>\n",
       "  <tbody>\n",
       "    <tr>\n",
       "      <th>B-V0000000</th>\n",
       "      <td>0.240893</td>\n",
       "    </tr>\n",
       "    <tr>\n",
       "      <th>B-V0000001</th>\n",
       "      <td>-0.132442</td>\n",
       "    </tr>\n",
       "    <tr>\n",
       "      <th>B-V0000002</th>\n",
       "      <td>-2.977278</td>\n",
       "    </tr>\n",
       "    <tr>\n",
       "      <th>B-V0000003</th>\n",
       "      <td>-1.049912</td>\n",
       "    </tr>\n",
       "    <tr>\n",
       "      <th>B-V0000004</th>\n",
       "      <td>-2.151357</td>\n",
       "    </tr>\n",
       "  </tbody>\n",
       "</table>\n",
       "</div>"
      ],
      "text/plain": [
       "               Y0000\n",
       "B-V0000000  0.240893\n",
       "B-V0000001 -0.132442\n",
       "B-V0000002 -2.977278\n",
       "B-V0000003 -1.049912\n",
       "B-V0000004 -2.151357"
      ]
     },
     "execution_count": 11,
     "metadata": {},
     "output_type": "execute_result"
    }
   ],
   "source": [
    "print(df_beta_var.info())\n",
    "df_beta_var.head()"
   ]
  },
  {
   "cell_type": "code",
   "execution_count": 12,
   "metadata": {},
   "outputs": [
    {
     "name": "stdout",
     "output_type": "stream",
     "text": [
      "<class 'pandas.core.frame.DataFrame'>\n",
      "Index: 250 entries, S0000001 to S0000250\n",
      "Data columns (total 1 columns):\n",
      " #   Column  Non-Null Count  Dtype  \n",
      "---  ------  --------------  -----  \n",
      " 0   Y0000   250 non-null    float64\n",
      "dtypes: float64(1)\n",
      "memory usage: 3.9+ KB\n",
      "None\n"
     ]
    },
    {
     "data": {
      "text/html": [
       "<div>\n",
       "<style scoped>\n",
       "    .dataframe tbody tr th:only-of-type {\n",
       "        vertical-align: middle;\n",
       "    }\n",
       "\n",
       "    .dataframe tbody tr th {\n",
       "        vertical-align: top;\n",
       "    }\n",
       "\n",
       "    .dataframe thead th {\n",
       "        text-align: right;\n",
       "    }\n",
       "</style>\n",
       "<table border=\"1\" class=\"dataframe\">\n",
       "  <thead>\n",
       "    <tr style=\"text-align: right;\">\n",
       "      <th></th>\n",
       "      <th>Y0000</th>\n",
       "    </tr>\n",
       "    <tr>\n",
       "      <th>sample_id</th>\n",
       "      <th></th>\n",
       "    </tr>\n",
       "  </thead>\n",
       "  <tbody>\n",
       "    <tr>\n",
       "      <th>S0000001</th>\n",
       "      <td>-1015.789060</td>\n",
       "    </tr>\n",
       "    <tr>\n",
       "      <th>S0000002</th>\n",
       "      <td>-956.278049</td>\n",
       "    </tr>\n",
       "    <tr>\n",
       "      <th>S0000003</th>\n",
       "      <td>-969.424269</td>\n",
       "    </tr>\n",
       "    <tr>\n",
       "      <th>S0000004</th>\n",
       "      <td>-1025.074713</td>\n",
       "    </tr>\n",
       "    <tr>\n",
       "      <th>S0000005</th>\n",
       "      <td>-990.430356</td>\n",
       "    </tr>\n",
       "  </tbody>\n",
       "</table>\n",
       "</div>"
      ],
      "text/plain": [
       "                 Y0000\n",
       "sample_id             \n",
       "S0000001  -1015.789060\n",
       "S0000002   -956.278049\n",
       "S0000003   -969.424269\n",
       "S0000004  -1025.074713\n",
       "S0000005   -990.430356"
      ]
     },
     "execution_count": 12,
     "metadata": {},
     "output_type": "execute_result"
    }
   ],
   "source": [
    "def get_traits(gt, df_cov, df_beta_var, df_beta_cov, scale=.001, seed=0):\n",
    "    n_variants, n_samples = gt.shape\n",
    "    assert gt.shape[1] == df_cov.shape[0]\n",
    "    assert df_beta_var.shape[1] == df_beta_cov.shape[1]\n",
    "    n_traits = df_beta_var.shape[1]\n",
    "    rs = np.random.RandomState(seed)\n",
    "    noise = rs.normal(scale=scale, loc=0, size=(n_samples, n_traits))\n",
    "    Y =  gt.T @ df_beta_var.values + df_cov.values @ df_beta_cov.values + noise\n",
    "    df_trait = pd.DataFrame(\n",
    "        Y,\n",
    "        index=df_cov.index,\n",
    "        columns=df_beta_cov.columns\n",
    "    )\n",
    "    assert df_trait.notnull().all().all()\n",
    "    return df_trait\n",
    "    \n",
    "df_trait = get_traits(gt, df_cov, df_beta_var, df_beta_cov, scale=.001)\n",
    "print(df_trait.info())\n",
    "df_trait.head()"
   ]
  },
  {
   "cell_type": "code",
   "execution_count": 13,
   "metadata": {},
   "outputs": [
    {
     "data": {
      "text/plain": [
       "PosixPath('data/sim_01')"
      ]
     },
     "execution_count": 13,
     "metadata": {},
     "output_type": "execute_result"
    }
   ],
   "source": [
    "output_path = Path(output_dir)\n",
    "if output_path.exists():\n",
    "    shutil.rmtree(output_path)\n",
    "output_path.mkdir(parents=True)\n",
    "output_path"
   ]
  },
  {
   "cell_type": "code",
   "execution_count": 14,
   "metadata": {},
   "outputs": [
    {
     "name": "stderr",
     "output_type": "stream",
     "text": [
      "2020-07-16 19:51:00 Hail: INFO: Ordering unsorted dataset with network shuffle\n",
      "2020-07-16 19:51:01 Hail: INFO: merging 17 files totalling 61.5K...\n",
      "2020-07-16 19:51:01 Hail: INFO: while writing:\n",
      "    data/sim_01/genotypes.bed\n",
      "  merge time: 11.587ms\n",
      "2020-07-16 19:51:01 Hail: INFO: merging 16 files totalling 23.2K...\n",
      "2020-07-16 19:51:01 Hail: INFO: while writing:\n",
      "    data/sim_01/genotypes.bim\n",
      "  merge time: 7.064ms\n",
      "2020-07-16 19:51:01 Hail: INFO: merging 16 files totalling 4.9K...\n",
      "2020-07-16 19:51:01 Hail: INFO: while writing:\n",
      "    data/sim_01/genotypes.fam\n",
      "  merge time: 5.692ms\n",
      "2020-07-16 19:51:01 Hail: INFO: wrote 1000 variants and 250 samples to 'data/sim_01/genotypes'\n"
     ]
    },
    {
     "data": {
      "text/plain": [
       "'data/sim_01/genotypes'"
      ]
     },
     "execution_count": 14,
     "metadata": {},
     "output_type": "execute_result"
    }
   ],
   "source": [
    "path = str(output_path / 'genotypes')\n",
    "hl.export_plink(mt, path)\n",
    "path"
   ]
  },
  {
   "cell_type": "code",
   "execution_count": 15,
   "metadata": {},
   "outputs": [
    {
     "data": {
      "text/plain": [
       "'data/sim_01/covariates.csv'"
      ]
     },
     "execution_count": 15,
     "metadata": {},
     "output_type": "execute_result"
    }
   ],
   "source": [
    "path = str(output_path / 'covariates.csv')\n",
    "df_cov.reset_index().to_csv(path, index=False)\n",
    "path"
   ]
  },
  {
   "cell_type": "code",
   "execution_count": 16,
   "metadata": {},
   "outputs": [
    {
     "data": {
      "text/plain": [
       "'data/sim_01/traits.csv'"
      ]
     },
     "execution_count": 16,
     "metadata": {},
     "output_type": "execute_result"
    }
   ],
   "source": [
    "path = str(output_path / 'traits.csv')\n",
    "df_trait.reset_index().to_csv(path, index=False)\n",
    "path"
   ]
  },
  {
   "cell_type": "code",
   "execution_count": 17,
   "metadata": {},
   "outputs": [
    {
     "data": {
      "text/plain": [
       "'data/sim_01/beta_covariate.csv'"
      ]
     },
     "execution_count": 17,
     "metadata": {},
     "output_type": "execute_result"
    }
   ],
   "source": [
    "path = str(output_path / 'beta_covariate.csv')\n",
    "df_beta_cov.to_csv(path, index=True)\n",
    "path"
   ]
  },
  {
   "cell_type": "code",
   "execution_count": 18,
   "metadata": {},
   "outputs": [
    {
     "data": {
      "text/plain": [
       "'data/sim_01/beta_variant.csv'"
      ]
     },
     "execution_count": 18,
     "metadata": {},
     "output_type": "execute_result"
    }
   ],
   "source": [
    "path = str(output_path / 'beta_variant.csv')\n",
    "df_beta_var.to_csv(path, index=True)\n",
    "path"
   ]
  },
  {
   "cell_type": "markdown",
   "metadata": {},
   "source": [
    "----------"
   ]
  },
  {
   "cell_type": "code",
   "execution_count": 2,
   "metadata": {},
   "outputs": [
    {
     "name": "stdout",
     "output_type": "stream",
     "text": [
      "# packages in environment at /opt/conda:\n",
      "#\n",
      "# Name                    Version                   Build  Channel\n",
      "_libgcc_mutex             0.1                 conda_forge    conda-forge\n",
      "_openmp_mutex             4.5                       0_gnu    conda-forge\n",
      "alembic                   1.4.2              pyh9f0ad1d_0    conda-forge\n",
      "appdirs                   1.4.4                    pypi_0    pypi\n",
      "astroid                   2.4.2            py37hc8dfbb8_0    conda-forge\n",
      "async_generator           1.10                       py_0    conda-forge\n",
      "attrs                     19.3.0                     py_0    conda-forge\n",
      "backcall                  0.2.0              pyh9f0ad1d_0    conda-forge\n",
      "backports-tempfile        1.0                      pypi_0    pypi\n",
      "backports-weakref         1.0.post1                pypi_0    pypi\n",
      "bgen-reader               4.0.4                    pypi_0    pypi\n",
      "black                     19.10b0                  py37_0    conda-forge\n",
      "bleach                    3.1.5              pyh9f0ad1d_0    conda-forge\n",
      "blinker                   1.4                        py_1    conda-forge\n",
      "brotlipy                  0.7.0           py37h8f50634_1000    conda-forge\n",
      "ca-certificates           2020.6.20            hecda079_0    conda-forge\n",
      "cachetools                4.1.1                    pypi_0    pypi\n",
      "cairo                     1.16.0            hcf35c78_1003    conda-forge\n",
      "certifi                   2020.6.20        py37hc8dfbb8_0    conda-forge\n",
      "certipy                   0.1.3                      py_0    conda-forge\n",
      "cffi                      1.14.0           py37hd463f26_0    conda-forge\n",
      "cfgv                      3.1.0                      py_0    conda-forge\n",
      "chardet                   3.0.4           py37hc8dfbb8_1006    conda-forge\n",
      "click                     7.1.2              pyh9f0ad1d_0    conda-forge\n",
      "cloudpickle               1.5.0                    pypi_0    pypi\n",
      "conda                     4.8.2                    py37_0    conda-forge\n",
      "conda-package-handling    1.6.0            py37h8f50634_2    conda-forge\n",
      "configurable-http-proxy   4.2.1           node13_he01fd0c_0    conda-forge\n",
      "coverage                  5.2              py37h8f50634_0    conda-forge\n",
      "cryptography              2.9.2            py37hb09aad4_0    conda-forge\n",
      "dask                      2.20.0                   pypi_0    pypi\n",
      "decorator                 4.4.2                      py_0    conda-forge\n",
      "defusedxml                0.6.0                      py_0    conda-forge\n",
      "dill                      0.3.2                    pypi_0    pypi\n",
      "distlib                   0.3.1              pyh9f0ad1d_0    conda-forge\n",
      "editdistance              0.5.3            py37h3340039_0    conda-forge\n",
      "entrypoints               0.3             py37hc8dfbb8_1001    conda-forge\n",
      "expat                     2.2.9                he1b5a44_2    conda-forge\n",
      "filelock                  3.0.12             pyh9f0ad1d_0    conda-forge\n",
      "flake8                    3.8.3              pyh9f0ad1d_0    conda-forge\n",
      "fontconfig                2.13.1            h86ecdb6_1001    conda-forge\n",
      "freetype                  2.10.2               he06d7ca_0    conda-forge\n",
      "fribidi                   1.0.9                h516909a_0    conda-forge\n",
      "fsspec                    0.7.4                    pypi_0    pypi\n",
      "gettext                   0.19.8.1          hc5be6a0_1002    conda-forge\n",
      "glib                      2.65.0               h6f030ca_0    conda-forge\n",
      "graphite2                 1.3.13            he1b5a44_1001    conda-forge\n",
      "graphviz                  2.42.3               h0511662_0    conda-forge\n",
      "gsl                       2.6                  h294904e_0    conda-forge\n",
      "h5py                      2.10.0          nompi_py37h90cd8ad_103    conda-forge\n",
      "harfbuzz                  2.4.0                h9f30f68_3    conda-forge\n",
      "hdf5                      1.10.6          nompi_h3c11f04_100    conda-forge\n",
      "icu                       64.2                 he1b5a44_1    conda-forge\n",
      "identify                  1.4.21             pyh9f0ad1d_0    conda-forge\n",
      "idna                      2.9                        py_1    conda-forge\n",
      "importlib-metadata        1.6.1            py37hc8dfbb8_0    conda-forge\n",
      "importlib_metadata        1.6.1                         0    conda-forge\n",
      "ipykernel                 5.3.0            py37h43977f1_0    conda-forge\n",
      "ipython                   7.15.0           py37hc8dfbb8_0    conda-forge\n",
      "ipython_genutils          0.2.0                      py_1    conda-forge\n",
      "isort                     4.3.21           py37hc8dfbb8_1    conda-forge\n",
      "jedi                      0.17.0           py37hc8dfbb8_0    conda-forge\n",
      "jinja2                    2.11.2             pyh9f0ad1d_0    conda-forge\n",
      "joblib                    0.16.0                     py_0    conda-forge\n",
      "jpeg                      9d                   h516909a_0    conda-forge\n",
      "json5                     0.9.4              pyh9f0ad1d_0    conda-forge\n",
      "jsonschema                3.2.0            py37hc8dfbb8_1    conda-forge\n",
      "jupyter_client            6.1.3                      py_0    conda-forge\n",
      "jupyter_core              4.6.3            py37hc8dfbb8_1    conda-forge\n",
      "jupyter_telemetry         0.0.5                      py_0    conda-forge\n",
      "jupyterhub                1.1.0                    py37_2    conda-forge\n",
      "jupyterhub-base           1.1.0                    py37_2    conda-forge\n",
      "jupyterlab                2.1.3                      py_0    conda-forge\n",
      "jupyterlab_server         1.1.5                      py_0    conda-forge\n",
      "krb5                      1.17.1               h2fd8d38_0    conda-forge\n",
      "lazy-object-proxy         1.4.3            py37h8f50634_2    conda-forge\n",
      "ld_impl_linux-64          2.34                 h53a641e_5    conda-forge\n",
      "libblas                   3.8.0               14_openblas    conda-forge\n",
      "libcblas                  3.8.0               14_openblas    conda-forge\n",
      "libcurl                   7.69.1               hf7181ac_0    conda-forge\n",
      "libedit                   3.1.20191231         h46ee950_0    conda-forge\n",
      "libffi                    3.2.1             he1b5a44_1007    conda-forge\n",
      "libgcc-ng                 9.2.0                h24d8f2e_2    conda-forge\n",
      "libgfortran-ng            7.5.0                hdf63c60_6    conda-forge\n",
      "libgomp                   9.2.0                h24d8f2e_2    conda-forge\n",
      "libiconv                  1.15              h516909a_1006    conda-forge\n",
      "liblapack                 3.8.0               14_openblas    conda-forge\n",
      "libllvm9                  9.0.1                he513fc3_1    conda-forge\n",
      "libopenblas               0.3.7                h5ec1e0e_6    conda-forge\n",
      "libpng                    1.6.37               hed695b0_1    conda-forge\n",
      "libsodium                 1.0.17               h516909a_0    conda-forge\n",
      "libssh2                   1.9.0                hab1572f_2    conda-forge\n",
      "libstdcxx-ng              9.2.0                hdf63c60_2    conda-forge\n",
      "libtiff                   4.1.0                hc7e4089_6    conda-forge\n",
      "libtool                   2.4.6             h14c3975_1002    conda-forge\n",
      "libuuid                   2.32.1            h14c3975_1000    conda-forge\n",
      "libuv                     1.34.0               h516909a_0    conda-forge\n",
      "libwebp-base              1.1.0                h516909a_3    conda-forge\n",
      "libxcb                    1.13              h14c3975_1002    conda-forge\n",
      "libxml2                   2.9.10               hee79883_0    conda-forge\n",
      "llvm-tools                9.0.1                he513fc3_1    conda-forge\n",
      "llvmdev                   9.0.1                he513fc3_1    conda-forge\n",
      "llvmlite                  0.33.0           py37h5202443_0    conda-forge\n",
      "locket                    0.2.0                    pypi_0    pypi\n",
      "lz4-c                     1.9.2                he1b5a44_1    conda-forge\n",
      "mako                      1.1.0                      py_0    conda-forge\n",
      "markupsafe                1.1.1            py37h8f50634_1    conda-forge\n",
      "mccabe                    0.6.1                      py_1    conda-forge\n",
      "mistune                   0.8.4           py37h8f50634_1001    conda-forge\n",
      "more-itertools            8.4.0                      py_0    conda-forge\n",
      "msprime                   0.7.5.dev302+gfeff00c4          pypi_0    pypi\n",
      "mypy                      0.782                      py_0    conda-forge\n",
      "mypy_extensions           0.4.3            py37hc8dfbb8_1    conda-forge\n",
      "nbconvert                 5.6.1            py37hc8dfbb8_1    conda-forge\n",
      "nbformat                  5.0.6                      py_0    conda-forge\n",
      "ncurses                   6.1               hf484d3e_1002    conda-forge\n",
      "newick                    1.0.0                    pypi_0    pypi\n",
      "nodeenv                   1.4.0              pyh9f0ad1d_0    conda-forge\n",
      "nodejs                    13.13.0              hf5d1a2b_0    conda-forge\n",
      "notebook                  6.0.3            py37hc8dfbb8_0    conda-forge\n",
      "numba                     0.50.1           py37h0da4684_0    conda-forge\n",
      "numpy                     1.19.0                   pypi_0    pypi\n",
      "oauthlib                  3.0.1                      py_0    conda-forge\n",
      "openssl                   1.1.1g               h516909a_0    conda-forge\n",
      "packaging                 20.4               pyh9f0ad1d_0    conda-forge\n",
      "pamela                    1.0.0                      py_0    conda-forge\n",
      "pandas                    1.0.5            py37h0da4684_0    conda-forge\n",
      "pandoc                    2.9.2.1                       0    conda-forge\n",
      "pandocfilters             1.4.2                      py_1    conda-forge\n",
      "pango                     1.42.4               h7062337_4    conda-forge\n",
      "parso                     0.7.0              pyh9f0ad1d_0    conda-forge\n",
      "partd                     1.1.0                    pypi_0    pypi\n",
      "pathspec                  0.8.0              pyh9f0ad1d_0    conda-forge\n",
      "patsy                     0.5.1                      py_0    conda-forge\n",
      "pcre                      8.44                 he1b5a44_0    conda-forge\n",
      "pexpect                   4.8.0            py37hc8dfbb8_1    conda-forge\n",
      "pickleshare               0.7.5           py37hc8dfbb8_1001    conda-forge\n",
      "pip                       20.1.1                     py_1    conda-forge\n",
      "pixman                    0.38.0            h516909a_1003    conda-forge\n",
      "pluggy                    0.13.1           py37hc8dfbb8_2    conda-forge\n",
      "pre-commit                2.6.0            py37hc8dfbb8_0    conda-forge\n",
      "prometheus_client         0.8.0              pyh9f0ad1d_0    conda-forge\n",
      "prompt-toolkit            3.0.5                      py_0    conda-forge\n",
      "psutil                    5.7.0            py37h8f50634_1    conda-forge\n",
      "pthread-stubs             0.4               h14c3975_1001    conda-forge\n",
      "ptyprocess                0.6.0                   py_1001    conda-forge\n",
      "py                        1.9.0              pyh9f0ad1d_0    conda-forge\n",
      "pycodestyle               2.6.0              pyh9f0ad1d_0    conda-forge\n",
      "pycosat                   0.6.3           py37h8f50634_1004    conda-forge\n",
      "pycparser                 2.20                       py_0    conda-forge\n",
      "pycurl                    7.43.0.5         py37h16ce93b_0    conda-forge\n",
      "pyflakes                  2.2.0              pyh9f0ad1d_0    conda-forge\n",
      "pygments                  2.6.1                      py_0    conda-forge\n",
      "pyjwt                     1.7.1                      py_0    conda-forge\n",
      "pylint                    2.5.3            py37hc8dfbb8_0    conda-forge\n",
      "pyopenssl                 19.1.0                     py_1    conda-forge\n",
      "pyparsing                 2.4.7              pyh9f0ad1d_0    conda-forge\n",
      "pyrsistent                0.16.0           py37h8f50634_0    conda-forge\n",
      "pysnptools                0.4.19                   pypi_0    pypi\n",
      "pysocks                   1.7.1            py37hc8dfbb8_1    conda-forge\n",
      "pytest                    5.4.3                    pypi_0    pypi\n",
      "pytest-cov                2.10.0             pyh9f0ad1d_0    conda-forge\n",
      "pytest-runner             5.2                      pypi_0    pypi\n",
      "python                    3.7.6           cpython_h8356626_6    conda-forge\n",
      "python-dateutil           2.8.1                      py_0    conda-forge\n",
      "python-dotenv             0.14.0             pyh9f0ad1d_0    conda-forge\n",
      "python-editor             1.0.4                      py_0    conda-forge\n",
      "python-graphviz           0.14               pyh9f0ad1d_0    conda-forge\n",
      "python-json-logger        0.1.11                     py_0    conda-forge\n",
      "python_abi                3.7                     1_cp37m    conda-forge\n",
      "pytz                      2020.1             pyh9f0ad1d_0    conda-forge\n",
      "pyyaml                    5.3.1                    pypi_0    pypi\n",
      "pyzmq                     19.0.1           py37hac76be4_0    conda-forge\n",
      "readline                  8.0                  hf8c457e_0    conda-forge\n",
      "regex                     2020.6.8         py37h8f50634_0    conda-forge\n",
      "requests                  2.24.0             pyh9f0ad1d_0    conda-forge\n",
      "ruamel.yaml               0.16.6           py37h8f50634_1    conda-forge\n",
      "ruamel.yaml.clib          0.2.0            py37h8f50634_1    conda-forge\n",
      "ruamel_yaml               0.15.80         py37h8f50634_1001    conda-forge\n",
      "scikit-learn              0.23.1           py37h8a51577_0    conda-forge\n",
      "scipy                     1.5.1                    pypi_0    pypi\n",
      "send2trash                1.5.0                      py_0    conda-forge\n",
      "setuptools                47.3.1           py37hc8dfbb8_0    conda-forge\n",
      "six                       1.15.0             pyh9f0ad1d_0    conda-forge\n",
      "sqlalchemy                1.3.17           py37h8f50634_0    conda-forge\n",
      "sqlite                    3.30.1               hcee41ef_0    conda-forge\n",
      "statsmodels               0.11.1           py37h8f50634_2    conda-forge\n",
      "svgwrite                  1.4                        py_2    conda-forge\n",
      "tabulate                  0.8.7              pyh9f0ad1d_0    conda-forge\n",
      "terminado                 0.8.3            py37hc8dfbb8_1    conda-forge\n",
      "testpath                  0.4.4                      py_0    conda-forge\n",
      "texttable                 1.6.2                    pypi_0    pypi\n",
      "threadpoolctl             2.1.0              pyh5ca1d4c_0    conda-forge\n",
      "tini                      0.18.0            h14c3975_1001    conda-forge\n",
      "tk                        8.6.10               hed695b0_0    conda-forge\n",
      "toml                      0.10.1             pyh9f0ad1d_0    conda-forge\n",
      "toolz                     0.10.0                   pypi_0    pypi\n",
      "tornado                   6.0.4            py37h8f50634_1    conda-forge\n",
      "tqdm                      4.46.1             pyh9f0ad1d_0    conda-forge\n",
      "traitlets                 4.3.3            py37hc8dfbb8_1    conda-forge\n",
      "tskit                     0.2.3            py37hc1659b7_0    conda-forge\n",
      "typed-ast                 1.4.1            py37h516909a_0    conda-forge\n",
      "typing_extensions         3.7.4.2                    py_0    conda-forge\n",
      "urllib3                   1.25.9                     py_0    conda-forge\n",
      "virtualenv                20.0.20          py37hc8dfbb8_1    conda-forge\n",
      "wcwidth                   0.2.4              pyh9f0ad1d_0    conda-forge\n",
      "webencodings              0.5.1                      py_1    conda-forge\n",
      "wheel                     0.34.2                     py_1    conda-forge\n",
      "wrapt                     1.11.2           py37h8f50634_0    conda-forge\n",
      "xarray                    0.15.1                   pypi_0    pypi\n",
      "xorg-kbproto              1.0.7             h14c3975_1002    conda-forge\n",
      "xorg-libice               1.0.10               h516909a_0    conda-forge\n",
      "xorg-libsm                1.2.3             h84519dc_1000    conda-forge\n",
      "xorg-libx11               1.6.9                h516909a_0    conda-forge\n",
      "xorg-libxau               1.0.9                h14c3975_0    conda-forge\n",
      "xorg-libxdmcp             1.1.3                h516909a_0    conda-forge\n",
      "xorg-libxext              1.3.4                h516909a_0    conda-forge\n",
      "xorg-libxpm               3.5.13               h516909a_0    conda-forge\n",
      "xorg-libxrender           0.9.10            h516909a_1002    conda-forge\n",
      "xorg-libxt                1.1.5             h516909a_1003    conda-forge\n",
      "xorg-renderproto          0.11.1            h14c3975_1002    conda-forge\n",
      "xorg-xextproto            7.3.0             h14c3975_1002    conda-forge\n",
      "xorg-xproto               7.0.31            h14c3975_1007    conda-forge\n",
      "xz                        5.2.5                h516909a_0    conda-forge\n",
      "yaml                      0.2.5                h516909a_0    conda-forge\n",
      "zeromq                    4.3.2                he1b5a44_2    conda-forge\n",
      "zipp                      3.1.0                      py_0    conda-forge\n",
      "zlib                      1.2.11            h516909a_1006    conda-forge\n",
      "zstd                      1.4.4                h6597ccf_3    conda-forge\n"
     ]
    }
   ],
   "source": [
    "!conda list"
   ]
  }
 ],
 "metadata": {
  "kernelspec": {
   "display_name": "hail",
   "language": "python",
   "name": "hail"
  },
  "language_info": {
   "codemirror_mode": {
    "name": "ipython",
    "version": 3
   },
   "file_extension": ".py",
   "mimetype": "text/x-python",
   "name": "python",
   "nbconvert_exporter": "python",
   "pygments_lexer": "ipython3",
   "version": "3.7.6"
  }
 },
 "nbformat": 4,
 "nbformat_minor": 4
}
