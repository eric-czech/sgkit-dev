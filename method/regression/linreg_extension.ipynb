{
 "cells": [
  {
   "cell_type": "markdown",
   "metadata": {},
   "source": [
    "### Linear Regression Extension\n",
    "\n",
    "Comparison of single outcome function to multi-outcome function"
   ]
  },
  {
   "cell_type": "code",
   "execution_count": 6,
   "metadata": {},
   "outputs": [],
   "source": [
    "import dask.array as da\n",
    "from dask.array import stats\n",
    "import numpy as np"
   ]
  },
  {
   "cell_type": "code",
   "execution_count": 7,
   "metadata": {},
   "outputs": [
    {
     "data": {
      "text/plain": [
       "((25, 2), (20, 25), (25, 3))"
      ]
     },
     "execution_count": 7,
     "metadata": {},
     "output_type": "execute_result"
    }
   ],
   "source": [
    "m, n, c, y = 20, 25, 2, 3\n",
    "np.random.seed(0)\n",
    "X = np.random.normal(size=(n, c))\n",
    "BX = np.random.normal(size=(X.shape[1], 1)) \n",
    "G = np.random.choice([0, 1, 2], size=(m, n))\n",
    "BG = np.random.normal(size=(m, y))\n",
    "\n",
    "Y = X @ BX + G.T @ BG + np.random.normal(size=(n, y), scale=.001)\n",
    "X.shape, G.shape, Y.shape"
   ]
  },
  {
   "cell_type": "code",
   "execution_count": 61,
   "metadata": {},
   "outputs": [
    {
     "data": {
      "text/plain": [
       "(20, 3)"
      ]
     },
     "execution_count": 61,
     "metadata": {},
     "output_type": "execute_result"
    }
   ],
   "source": [
    "def regression(G, X, Y):\n",
    "    G, X = da.asarray(G), da.asarray(X)  # Coerce for `lstsq`\n",
    "    if set([x.ndim for x in [G, X, Y]]) != {2}:\n",
    "        raise ValueError('All arguments must be two dimensional')\n",
    "    n_core_covar, n_loop_covar, n_obs, n_outcome = \\\n",
    "        X.shape[1], G.shape[1], Y.shape[0], Y.shape[1]\n",
    "    dof = n_obs - n_core_covar - 1\n",
    "    if dof < 1:\n",
    "        raise ValueError(\n",
    "            'Number of observations (N) too small to calculate sampling statistics. '\n",
    "            'N must be greater than number of core covariates (C) plus one. '\n",
    "            f'Arguments provided: N={n_obs}, C={n_core_covar}.'\n",
    "        )\n",
    "    \n",
    "    # Apply orthogonal projection to eliminate core covariates\n",
    "    # Note: QR factorization or SVD should be used here to find\n",
    "    # what are effectively OLS residuals rather than matrix inverse\n",
    "    # to avoid need for MxM array; additionally, dask.lstsq fails\n",
    "    # with numpy arrays\n",
    "    GP = G - X @ da.linalg.lstsq(X, G)[0]\n",
    "    assert GP.shape == (n_obs, n_loop_covar)\n",
    "    YP = Y - X @ da.linalg.lstsq(X, Y)[0]\n",
    "    assert YP.shape == (n_obs, n_outcome)\n",
    "\n",
    "    # Estimate coefficients for each loop covariate\n",
    "    # Note: A key assumption here is that 0-mean residuals\n",
    "    # from projection require no extra terms in variance\n",
    "    # estimate for loop covariates (columns of G), which is\n",
    "    # only true when an intercept is present.\n",
    "    GPS = (GP ** 2).sum(axis=0, keepdims=True).T\n",
    "    assert GPS.shape == (n_loop_covar, 1)\n",
    "    B = (GP.T @ YP) / GPS\n",
    "    assert B.shape == (n_loop_covar, n_outcome)\n",
    "\n",
    "    # Compute residuals for each loop covariate and outcome separately\n",
    "    YR = YP[:, np.newaxis, :] - GP[..., np.newaxis] * B[np.newaxis, ...]\n",
    "    assert YR.shape == (n_obs, n_loop_covar, n_outcome)\n",
    "    RSS = (YR ** 2).sum(axis=0)\n",
    "    assert RSS.shape == (n_loop_covar, n_outcome)\n",
    "    # Get t-statistics for coefficient estimates\n",
    "    T = B / np.sqrt(RSS / dof / GPS)\n",
    "    assert T.shape == (n_loop_covar, n_outcome)\n",
    "    # Match to p-values\n",
    "    # Note: t dist not implemented in Dask so this will\n",
    "    # coerce result to numpy (`T` will still be da.Array)\n",
    "    P = 2 * stats.distributions.t.sf(np.abs(T), dof)\n",
    "    assert P.shape == (n_loop_covar, n_outcome)\n",
    "    return B, T, P\n",
    "\n",
    "    \n",
    "B, T, P = regression(G.T, X, Y)\n",
    "P.shape"
   ]
  },
  {
   "cell_type": "code",
   "execution_count": 62,
   "metadata": {},
   "outputs": [
    {
     "data": {
      "text/plain": [
       "(20, 3)"
      ]
     },
     "execution_count": 62,
     "metadata": {},
     "output_type": "execute_result"
    }
   ],
   "source": [
    "def regression_single(G, X, y):\n",
    "    G, X = da.asarray(G), da.asarray(X)\n",
    "\n",
    "    # Apply orthogonal projection to eliminate core covariates\n",
    "    # Note: QR factorization or SVD should be used here to find\n",
    "    # what are effectively OLS residuals rather than matrix inverse\n",
    "    # to avoid need for MxM array; additionally, dask.lstsq will not\n",
    "    # work with numpy arrays\n",
    "    Gp = G - X @ da.linalg.lstsq(X, G)[0]\n",
    "    yp = y - X @ da.linalg.lstsq(X, y)[0]\n",
    "\n",
    "    # Estimate coefficients for each loop covariate\n",
    "    # Note: A key assumption here is that 0-mean residuals\n",
    "    # from projection require no extra terms in variance\n",
    "    # estimate for loop covariates (columns of G), which is\n",
    "    # only true when an intercept is present.\n",
    "    Gps = (Gp ** 2).sum(axis=0)\n",
    "    b = (Gp.T @ yp) / Gps\n",
    "\n",
    "    # Compute statistics and p values for each regression separately\n",
    "    dof = y.shape[0] - X.shape[1] - 1\n",
    "    y_resid = yp[:, np.newaxis] - Gp * b\n",
    "    rss = (y_resid ** 2).sum(axis=0)\n",
    "    t_val = b / np.sqrt(rss / dof / Gps)\n",
    "    p_val = 2 * stats.distributions.t.sf(np.abs(t_val), dof)\n",
    "    return b, t_val, p_val\n",
    "\n",
    "# Compare to individual regressions\n",
    "PS = np.stack([\n",
    "    regression_single(G.T, X, Y[:, i])[-1]\n",
    "    for i in range(Y.shape[1])\n",
    "], axis=1)\n",
    "PS.shape"
   ]
  },
  {
   "cell_type": "code",
   "execution_count": 63,
   "metadata": {},
   "outputs": [],
   "source": [
    "np.testing.assert_allclose(P, PS)"
   ]
  },
  {
   "cell_type": "code",
   "execution_count": 64,
   "metadata": {},
   "outputs": [
    {
     "data": {
      "text/plain": [
       "array([[-7.01245314, -5.39531762, -0.50627279],\n",
       "       [-7.49986849, -4.76582726, -0.99916552],\n",
       "       [-3.84843158, -4.94721653, -1.27098152],\n",
       "       [-4.89860156, -3.74223951,  0.67205359],\n",
       "       [-3.04283058, -5.61583047, -1.71197538],\n",
       "       [-8.28514785, -6.1363946 , -1.34811411],\n",
       "       [-3.69259499, -3.09104025, -2.1676783 ],\n",
       "       [-4.00525921, -5.03075027,  0.56599415],\n",
       "       [-2.54091026, -7.64289292, -0.07601142],\n",
       "       [-3.24016026, -5.42272435, -2.38751541],\n",
       "       [-4.24798628, -5.51651349, -1.96740872],\n",
       "       [-4.19257039, -6.17302875, -2.90175349],\n",
       "       [-3.1692477 , -4.47815777, -0.87970506],\n",
       "       [-2.93411117, -5.65576694, -2.79789092],\n",
       "       [-6.22892409, -4.59339143, -1.63120909],\n",
       "       [-4.97425675, -3.67790575, -1.74215976],\n",
       "       [-5.58661166, -5.37640233, -1.17616024],\n",
       "       [-5.86609168, -6.67038058, -0.7463263 ],\n",
       "       [-4.65452102, -6.12184637, -0.73481925],\n",
       "       [-3.94112122, -5.0070558 , -1.1259018 ]])"
      ]
     },
     "execution_count": 64,
     "metadata": {},
     "output_type": "execute_result"
    }
   ],
   "source": [
    "np.asarray(T)"
   ]
  },
  {
   "cell_type": "code",
   "execution_count": 65,
   "metadata": {},
   "outputs": [
    {
     "data": {
      "text/plain": [
       "array([[4.89092548e-07, 2.03402793e-05, 6.17701188e-01],\n",
       "       [1.69468215e-07, 9.30244563e-05, 3.28578260e-01],\n",
       "       [8.72233294e-04, 5.98718681e-05, 2.17010409e-01],\n",
       "       [6.73660878e-05, 1.12857068e-03, 5.08546564e-01],\n",
       "       [5.97033146e-03, 1.20292647e-05, 1.00963878e-01],\n",
       "       [3.28448880e-08, 3.54954972e-06, 1.91339486e-01],\n",
       "       [1.27266768e-03, 5.33567105e-03, 4.12773099e-02],\n",
       "       [5.95461247e-04, 4.89052902e-05, 5.77126049e-01],\n",
       "       [1.86214137e-02, 1.24918865e-07, 9.40097020e-01],\n",
       "       [3.75853993e-03, 1.90502654e-05, 2.59836305e-02],\n",
       "       [3.29246062e-04, 1.52314337e-05, 6.18710311e-02],\n",
       "       [3.76979714e-04, 3.26107258e-06, 8.27203719e-03],\n",
       "       [4.44218984e-03, 1.87617579e-04, 3.88527525e-01],\n",
       "       [7.67892594e-03, 1.09430424e-05, 1.04856567e-02],\n",
       "       [2.86631380e-06, 1.41611966e-04, 1.17080208e-01],\n",
       "       [5.60737842e-05, 1.31867952e-03, 9.54454614e-02],\n",
       "       [1.28929573e-05, 2.12820147e-05, 2.52101594e-01],\n",
       "       [6.66555303e-06, 1.04837984e-06, 4.63371600e-01],\n",
       "       [1.21997198e-04, 3.67122645e-06, 4.70210544e-01],\n",
       "       [6.96171392e-04, 5.17917502e-05, 2.72339880e-01]])"
      ]
     },
     "execution_count": 65,
     "metadata": {},
     "output_type": "execute_result"
    }
   ],
   "source": [
    "P"
   ]
  }
 ],
 "metadata": {
  "kernelspec": {
   "display_name": "Python 3",
   "language": "python",
   "name": "python3"
  },
  "language_info": {
   "codemirror_mode": {
    "name": "ipython",
    "version": 3
   },
   "file_extension": ".py",
   "mimetype": "text/x-python",
   "name": "python",
   "nbconvert_exporter": "python",
   "pygments_lexer": "ipython3",
   "version": "3.7.6"
  }
 },
 "nbformat": 4,
 "nbformat_minor": 4
}
