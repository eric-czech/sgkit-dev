{
 "cells": [
  {
   "cell_type": "code",
   "execution_count": 10,
   "metadata": {},
   "outputs": [],
   "source": [
    "import pandas as pd\n",
    "import numpy as np\n",
    "import dask.dataframe as dd\n",
    "import dask.array as da\n",
    "import os\n",
    "import os.path as osp\n",
    "import sgkit_plink \n",
    "from dotenv import load_dotenv; load_dotenv();"
   ]
  },
  {
   "cell_type": "code",
   "execution_count": 2,
   "metadata": {},
   "outputs": [
    {
     "data": {
      "text/plain": [
       "'/home/jovyan/work/data/gwas/tutorial/1_QC_GWAS/HapMap_3_r3_1'"
      ]
     },
     "execution_count": 2,
     "metadata": {},
     "output_type": "execute_result"
    }
   ],
   "source": [
    "path = osp.join(os.environ['GWAS_TUTORIAL_DIR'], 'HapMap_3_r3_1')\n",
    "path"
   ]
  },
  {
   "cell_type": "code",
   "execution_count": 88,
   "metadata": {},
   "outputs": [
    {
     "name": "stdout",
     "output_type": "stream",
     "text": [
      "CPU times: user 1.33 s, sys: 127 ms, total: 1.46 s\n",
      "Wall time: 1.45 s\n"
     ]
    },
    {
     "data": {
      "text/html": [
       "<pre>&lt;xarray.Dataset&gt;\n",
       "Dimensions:             (alleles: 2, ploidy: 2, samples: 165, variants: 1457897)\n",
       "Dimensions without coordinates: alleles, ploidy, samples, variants\n",
       "Data variables:\n",
       "    variant/contig      (variants) int16 0 0 0 0 0 0 0 ... 23 23 23 23 23 23 23\n",
       "    variant/position    (variants) int32 dask.array&lt;chunksize=(1457897,), meta=np.ndarray&gt;\n",
       "    variant/alleles     (variants, alleles) |S1 dask.array&lt;chunksize=(1457897, 1), meta=np.ndarray&gt;\n",
       "    sample/id           (samples) &lt;U1 dask.array&lt;chunksize=(165,), meta=np.ndarray&gt;\n",
       "    call/genotype       (variants, samples, ploidy) int8 dask.array&lt;chunksize=(208271, 165, 2), meta=np.ndarray&gt;\n",
       "    call/genotype_mask  (variants, samples, ploidy) bool dask.array&lt;chunksize=(208271, 165, 2), meta=np.ndarray&gt;\n",
       "    variant/id          (variants) &lt;U1 dask.array&lt;chunksize=(1457897,), meta=np.ndarray&gt;\n",
       "    sample/family_id    (samples) &lt;U1 dask.array&lt;chunksize=(165,), meta=np.ndarray&gt;\n",
       "    sample/paternal_id  (samples) &lt;U1 dask.array&lt;chunksize=(165,), meta=np.ndarray&gt;\n",
       "    sample/maternal_id  (samples) &lt;U1 dask.array&lt;chunksize=(165,), meta=np.ndarray&gt;\n",
       "    sample/sex          (samples) int8 dask.array&lt;chunksize=(165,), meta=np.ndarray&gt;\n",
       "    sample/phenotype    (samples) int8 dask.array&lt;chunksize=(165,), meta=np.ndarray&gt;\n",
       "Attributes:\n",
       "    contigs:  [&#x27;1&#x27;, &#x27;2&#x27;, &#x27;3&#x27;, &#x27;4&#x27;, &#x27;5&#x27;, &#x27;6&#x27;, &#x27;7&#x27;, &#x27;8&#x27;, &#x27;9&#x27;, &#x27;10&#x27;, &#x27;11&#x27;, &#x27;12&#x27;,...</pre>"
      ],
      "text/plain": [
       "<xarray.Dataset>\n",
       "Dimensions:             (alleles: 2, ploidy: 2, samples: 165, variants: 1457897)\n",
       "Dimensions without coordinates: alleles, ploidy, samples, variants\n",
       "Data variables:\n",
       "    variant/contig      (variants) int16 0 0 0 0 0 0 0 ... 23 23 23 23 23 23 23\n",
       "    variant/position    (variants) int32 dask.array<chunksize=(1457897,), meta=np.ndarray>\n",
       "    variant/alleles     (variants, alleles) |S1 dask.array<chunksize=(1457897, 1), meta=np.ndarray>\n",
       "    sample/id           (samples) <U1 dask.array<chunksize=(165,), meta=np.ndarray>\n",
       "    call/genotype       (variants, samples, ploidy) int8 dask.array<chunksize=(208271, 165, 2), meta=np.ndarray>\n",
       "    call/genotype_mask  (variants, samples, ploidy) bool dask.array<chunksize=(208271, 165, 2), meta=np.ndarray>\n",
       "    variant/id          (variants) <U1 dask.array<chunksize=(1457897,), meta=np.ndarray>\n",
       "    sample/family_id    (samples) <U1 dask.array<chunksize=(165,), meta=np.ndarray>\n",
       "    sample/paternal_id  (samples) <U1 dask.array<chunksize=(165,), meta=np.ndarray>\n",
       "    sample/maternal_id  (samples) <U1 dask.array<chunksize=(165,), meta=np.ndarray>\n",
       "    sample/sex          (samples) int8 dask.array<chunksize=(165,), meta=np.ndarray>\n",
       "    sample/phenotype    (samples) int8 dask.array<chunksize=(165,), meta=np.ndarray>\n",
       "Attributes:\n",
       "    contigs:  ['1', '2', '3', '4', '5', '6', '7', '8', '9', '10', '11', '12',..."
      ]
     },
     "execution_count": 88,
     "metadata": {},
     "output_type": "execute_result"
    }
   ],
   "source": [
    "%%time\n",
    "ds = sgkp.read_plink(path, bim_sep='\\t', fam_sep=' ', bim_int_contig=False)\n",
    "ds"
   ]
  },
  {
   "cell_type": "code",
   "execution_count": 89,
   "metadata": {},
   "outputs": [],
   "source": [
    "x = ds['call/genotype']"
   ]
  },
  {
   "cell_type": "code",
   "execution_count": 157,
   "metadata": {},
   "outputs": [],
   "source": [
    "import xarray as xr\n",
    "from xarray import Dataset\n",
    "from typing_extensions import Literal\n",
    "\n",
    "Dimension = Literal['samples', 'variants']\n",
    "\n",
    "def _swap(dim: Dimension) -> Dimension:\n",
    "    return 'samples' if dim == 'variants' else 'variants'\n",
    "\n",
    "def call_rate(ds: Dataset, dim: Dimension) -> Dataset:\n",
    "    odim = _swap(dim)[:-1]\n",
    "    n_called = (~ds['call/genotype_mask'].any(dim='ploidy')).sum(dim=dim)\n",
    "    return xr.Dataset({\n",
    "        f'{odim}/n_called': n_called,\n",
    "        f'{odim}/call_rate': n_called / ds.dims[dim]\n",
    "    })\n",
    "\n",
    "def genotype_count(ds: Dataset, dim: Dimension) -> Dataset:\n",
    "    odim = _swap(dim)[:-1]\n",
    "    mask, gt = ds['call/genotype_mask'].any(dim='ploidy'), ds['call/genotype']\n",
    "    non_ref = (gt > 0).any(dim='ploidy')\n",
    "    hom_alt = ((gt > 0) & (gt[..., 0] == gt)).all(dim='ploidy')\n",
    "    hom_ref = (gt == 0).all(dim='ploidy')\n",
    "    het = ~(hom_alt | hom_ref)\n",
    "    agg = lambda x: xr.where(mask, False, x).sum(dim=dim)\n",
    "    return xr.Dataset({\n",
    "        f'{odim}/n_het': agg(het),\n",
    "        f'{odim}/n_hom_ref': agg(hom_ref),\n",
    "        f'{odim}/n_hom_alt': agg(hom_alt),\n",
    "        f'{odim}/n_non_ref': agg(non_ref)\n",
    "    })\n",
    "\n",
    "def allele_count(ds: Dataset) -> Dataset:\n",
    "    # Collapse 3D calls into 2D array where calls are flattened into columns\n",
    "    gt = ds['call/genotype'].stack(calls=('samples', 'ploidy'))\n",
    "    mask = ds['call/genotype_mask'].stack(calls=('samples', 'ploidy'))\n",
    "    \n",
    "    # Count number of non-missing alleles (works with partial calls)\n",
    "    an = (~mask).sum(dim='calls')\n",
    "    # Count number of each individual allele \n",
    "    ac = xr.concat([\n",
    "        xr.where(mask, 0, gt == i).sum(dim='calls')\n",
    "        for i in range(ds.dims['alleles'])\n",
    "    ], dim='alleles').T\n",
    "    \n",
    "    return xr.Dataset({\n",
    "        'variant/allele_count': ac,\n",
    "        'variant/allele_total': an,\n",
    "        'variant/allele_frequency': ac / an\n",
    "    })\n",
    "\n",
    "def variant_stats(ds: Dataset) -> Dataset:\n",
    "    return xr.merge([\n",
    "        call_rate(ds, dim='samples'),\n",
    "        genotype_count(ds, dim='samples'),\n",
    "        allele_count(ds)\n",
    "    ])\n",
    "\n",
    "def sample_stats(ds: Dataset) -> Dataset:\n",
    "    return xr.merge([\n",
    "        call_rate(ds, dim='variants'),\n",
    "        genotype_count(ds, dim='variants')\n",
    "    ])"
   ]
  },
  {
   "cell_type": "code",
   "execution_count": 158,
   "metadata": {},
   "outputs": [
    {
     "data": {
      "text/plain": [
       "<xarray.core.options.set_options at 0x7f23ba1d9890>"
      ]
     },
     "execution_count": 158,
     "metadata": {},
     "output_type": "execute_result"
    }
   ],
   "source": [
    "xr.set_options(display_width=80, display_style='text')"
   ]
  },
  {
   "cell_type": "code",
   "execution_count": 159,
   "metadata": {},
   "outputs": [
    {
     "data": {
      "text/html": [
       "<pre>&lt;xarray.Dataset&gt;\n",
       "Dimensions:                   (alleles: 2, samples: 165, variants: 1457897)\n",
       "Dimensions without coordinates: alleles, samples, variants\n",
       "Data variables:\n",
       "    variant/n_called          (variants) int64 165 161 165 165 ... 162 165 164\n",
       "    variant/call_rate         (variants) float64 1.0 0.9758 1.0 ... 1.0 0.9939\n",
       "    variant/n_het             (variants) int64 0 0 0 46 37 46 ... 82 86 85 0 45\n",
       "    variant/n_hom_ref         (variants) int64 165 160 165 116 ... 40 39 165 116\n",
       "    variant/n_hom_alt         (variants) int64 0 1 0 3 3 3 3 ... 37 21 37 38 0 3\n",
       "    variant/n_non_ref         (variants) int64 0 1 0 49 40 ... 103 123 123 0 48\n",
       "    variant/allele_count      (variants, alleles) int64 330 0 320 2 ... 0 277 51\n",
       "    variant/allele_total      (variants) int64 330 322 330 330 ... 324 330 328\n",
       "    variant/allele_frequency  (variants, alleles) float64 1.0 0.0 ... 0.1555\n",
       "    sample/n_called           (samples) int64 1453694 1437110 ... 1455881\n",
       "    sample/call_rate          (samples) float64 0.9971 0.9857 ... 0.9835 0.9986\n",
       "    sample/n_het              (samples) int64 399167 384755 ... 391392 397963\n",
       "    sample/n_hom_ref          (samples) int64 959731 954114 ... 946913 962834\n",
       "    sample/n_hom_alt          (samples) int64 94796 98241 98518 ... 95568 95084\n",
       "    sample/n_non_ref          (samples) int64 493963 482996 ... 486960 493047</pre>"
      ],
      "text/plain": [
       "<xarray.Dataset>\n",
       "Dimensions:                   (alleles: 2, samples: 165, variants: 1457897)\n",
       "Dimensions without coordinates: alleles, samples, variants\n",
       "Data variables:\n",
       "    variant/n_called          (variants) int64 165 161 165 165 ... 162 165 164\n",
       "    variant/call_rate         (variants) float64 1.0 0.9758 1.0 ... 1.0 0.9939\n",
       "    variant/n_het             (variants) int64 0 0 0 46 37 46 ... 82 86 85 0 45\n",
       "    variant/n_hom_ref         (variants) int64 165 160 165 116 ... 40 39 165 116\n",
       "    variant/n_hom_alt         (variants) int64 0 1 0 3 3 3 3 ... 37 21 37 38 0 3\n",
       "    variant/n_non_ref         (variants) int64 0 1 0 49 40 ... 103 123 123 0 48\n",
       "    variant/allele_count      (variants, alleles) int64 330 0 320 2 ... 0 277 51\n",
       "    variant/allele_total      (variants) int64 330 322 330 330 ... 324 330 328\n",
       "    variant/allele_frequency  (variants, alleles) float64 1.0 0.0 ... 0.1555\n",
       "    sample/n_called           (samples) int64 1453694 1437110 ... 1455881\n",
       "    sample/call_rate          (samples) float64 0.9971 0.9857 ... 0.9835 0.9986\n",
       "    sample/n_het              (samples) int64 399167 384755 ... 391392 397963\n",
       "    sample/n_hom_ref          (samples) int64 959731 954114 ... 946913 962834\n",
       "    sample/n_hom_alt          (samples) int64 94796 98241 98518 ... 95568 95084\n",
       "    sample/n_non_ref          (samples) int64 493963 482996 ... 486960 493047"
      ]
     },
     "execution_count": 159,
     "metadata": {},
     "output_type": "execute_result"
    }
   ],
   "source": [
    "ds = sgkit_plink.read_plink(path, bim_sep='\\t', fam_sep=' ', bim_int_contig=False)\n",
    "xr.merge([variant_stats(ds), sample_stats(ds)]).compute()"
   ]
  },
  {
   "cell_type": "code",
   "execution_count": 160,
   "metadata": {},
   "outputs": [
    {
     "data": {
      "text/html": [
       "<pre>&lt;xarray.Dataset&gt;\n",
       "Dimensions:                   (alleles: 2, variants: 1457897)\n",
       "Dimensions without coordinates: alleles, variants\n",
       "Data variables:\n",
       "    variant/n_called          (variants) int64 dask.array&lt;chunksize=(208271,), meta=np.ndarray&gt;\n",
       "    variant/call_rate         (variants) float64 dask.array&lt;chunksize=(208271,), meta=np.ndarray&gt;\n",
       "    variant/n_het             (variants) int64 dask.array&lt;chunksize=(208271,), meta=np.ndarray&gt;\n",
       "    variant/n_hom_ref         (variants) int64 dask.array&lt;chunksize=(208271,), meta=np.ndarray&gt;\n",
       "    variant/n_hom_alt         (variants) int64 dask.array&lt;chunksize=(208271,), meta=np.ndarray&gt;\n",
       "    variant/n_non_ref         (variants) int64 dask.array&lt;chunksize=(208271,), meta=np.ndarray&gt;\n",
       "    variant/allele_count      (variants, alleles) int64 dask.array&lt;chunksize=(208271, 1), meta=np.ndarray&gt;\n",
       "    variant/allele_total      (variants) int64 dask.array&lt;chunksize=(208271,), meta=np.ndarray&gt;\n",
       "    variant/allele_frequency  (variants, alleles) float64 dask.array&lt;chunksize=(208271, 1), meta=np.ndarray&gt;</pre>"
      ],
      "text/plain": [
       "<xarray.Dataset>\n",
       "Dimensions:                   (alleles: 2, variants: 1457897)\n",
       "Dimensions without coordinates: alleles, variants\n",
       "Data variables:\n",
       "    variant/n_called          (variants) int64 dask.array<chunksize=(208271,), meta=np.ndarray>\n",
       "    variant/call_rate         (variants) float64 dask.array<chunksize=(208271,), meta=np.ndarray>\n",
       "    variant/n_het             (variants) int64 dask.array<chunksize=(208271,), meta=np.ndarray>\n",
       "    variant/n_hom_ref         (variants) int64 dask.array<chunksize=(208271,), meta=np.ndarray>\n",
       "    variant/n_hom_alt         (variants) int64 dask.array<chunksize=(208271,), meta=np.ndarray>\n",
       "    variant/n_non_ref         (variants) int64 dask.array<chunksize=(208271,), meta=np.ndarray>\n",
       "    variant/allele_count      (variants, alleles) int64 dask.array<chunksize=(208271, 1), meta=np.ndarray>\n",
       "    variant/allele_total      (variants) int64 dask.array<chunksize=(208271,), meta=np.ndarray>\n",
       "    variant/allele_frequency  (variants, alleles) float64 dask.array<chunksize=(208271, 1), meta=np.ndarray>"
      ]
     },
     "execution_count": 160,
     "metadata": {},
     "output_type": "execute_result"
    }
   ],
   "source": [
    "dss = variant_stats(ds)\n",
    "dss"
   ]
  },
  {
   "cell_type": "code",
   "execution_count": 161,
   "metadata": {},
   "outputs": [],
   "source": [
    "#ds_ac['variant/allele_frequency'].values[:10]"
   ]
  },
  {
   "cell_type": "code",
   "execution_count": 162,
   "metadata": {},
   "outputs": [],
   "source": [
    "import pytest\n",
    "import xarray as xr\n",
    "import numpy as np\n",
    "from numpy import ndarray\n",
    "from sgkit.testing import simulate_genotype_call_dataset\n",
    "from sgkit.stats.aggregation import allele_count\n",
    "\n",
    "def get_dataset(calls, **kwargs):\n",
    "    calls = np.asarray(calls)\n",
    "    ds = simulate_genotype_call_dataset(\n",
    "        n_variant=calls.shape[0], n_sample=calls.shape[1], **kwargs\n",
    "    )\n",
    "    dims = ds[\"call/genotype\"].dims\n",
    "    ds[\"call/genotype\"] = xr.DataArray(calls, dims=dims)\n",
    "    ds[\"call/genotype_mask\"] = xr.DataArray(calls < 0, dims=dims)\n",
    "    return ds"
   ]
  },
  {
   "cell_type": "code",
   "execution_count": 163,
   "metadata": {},
   "outputs": [],
   "source": [
    "ds = get_dataset([ \n",
    "    [[2, 2], [1, 1], [0, 0]],\n",
    "    [[0, 1], [1, 2], [2, 1]],\n",
    "    [[-1, 0], [-1, 1], [-1, 2]],\n",
    "    [[-1, -1], [-1, -1], [-1, -1]],\n",
    "])"
   ]
  },
  {
   "cell_type": "code",
   "execution_count": 165,
   "metadata": {},
   "outputs": [
    {
     "name": "stdout",
     "output_type": "stream",
     "text": [
      "|   variants |   variant/n_het |   variant/n_hom_ref |   variant/n_hom_alt |   variant/n_non_ref |\n",
      "|-----------:|----------------:|--------------------:|--------------------:|--------------------:|\n",
      "|          0 |               0 |                   1 |                   2 |                   2 |\n",
      "|          1 |               3 |                   0 |                   0 |                   3 |\n",
      "|          2 |               0 |                   0 |                   0 |                   0 |\n",
      "|          3 |               0 |                   0 |                   0 |                   0 |\n"
     ]
    }
   ],
   "source": [
    "print(genotype_count(ds, dim='samples').to_dataframe().to_markdown())"
   ]
  },
  {
   "cell_type": "code",
   "execution_count": 85,
   "metadata": {},
   "outputs": [
    {
     "data": {
      "text/html": [
       "<pre>&lt;xarray.Dataset&gt;\n",
       "Dimensions:               (alleles: 2, ploidy: 2, samples: 2, variants: 4)\n",
       "Dimensions without coordinates: alleles, ploidy, samples, variants\n",
       "Data variables:\n",
       "    variant/contig        (variants) int64 0 0 0 0\n",
       "    variant/position      (variants) int64 0 1 2 3\n",
       "    variant/alleles       (variants, alleles) |S1 b&#x27;T&#x27; b&#x27;C&#x27; b&#x27;T&#x27; ... b&#x27;A&#x27; b&#x27;C&#x27;\n",
       "    sample/id             (samples) &lt;U2 &#x27;S0&#x27; &#x27;S1&#x27;\n",
       "    call/genotype         (variants, samples, ploidy) int8 1 0 1 0 1 ... 0 0 0 0\n",
       "    call/genotype_mask    (variants, samples, ploidy) bool False False ... False\n",
       "    variant/allele_count  (variants, alleles) int64 2 2 1 3 2 2 4 0\n",
       "Attributes:\n",
       "    contigs:  [0]</pre>"
      ],
      "text/plain": [
       "<xarray.Dataset>\n",
       "Dimensions:               (alleles: 2, ploidy: 2, samples: 2, variants: 4)\n",
       "Dimensions without coordinates: alleles, ploidy, samples, variants\n",
       "Data variables:\n",
       "    variant/contig        (variants) int64 0 0 0 0\n",
       "    variant/position      (variants) int64 0 1 2 3\n",
       "    variant/alleles       (variants, alleles) |S1 b'T' b'C' b'T' ... b'A' b'C'\n",
       "    sample/id             (samples) <U2 'S0' 'S1'\n",
       "    call/genotype         (variants, samples, ploidy) int8 1 0 1 0 1 ... 0 0 0 0\n",
       "    call/genotype_mask    (variants, samples, ploidy) bool False False ... False\n",
       "    variant/allele_count  (variants, alleles) int64 2 2 1 3 2 2 4 0\n",
       "Attributes:\n",
       "    contigs:  [0]"
      ]
     },
     "execution_count": 85,
     "metadata": {},
     "output_type": "execute_result"
    }
   ],
   "source": [
    "def apply(ds, fn):\n",
    "    return ds.merge(fn(ds))\n",
    "ds.pipe(apply, allele_count)"
   ]
  }
 ],
 "metadata": {
  "kernelspec": {
   "display_name": "Python 3",
   "language": "python",
   "name": "python3"
  },
  "language_info": {
   "codemirror_mode": {
    "name": "ipython",
    "version": 3
   },
   "file_extension": ".py",
   "mimetype": "text/x-python",
   "name": "python",
   "nbconvert_exporter": "python",
   "pygments_lexer": "ipython3",
   "version": "3.7.6"
  }
 },
 "nbformat": 4,
 "nbformat_minor": 4
}
