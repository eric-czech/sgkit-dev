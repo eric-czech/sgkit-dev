{
 "cells": [
  {
   "cell_type": "code",
   "execution_count": 1,
   "metadata": {},
   "outputs": [
    {
     "name": "stderr",
     "output_type": "stream",
     "text": [
      "Running on Apache Spark version 2.4.1\n",
      "SparkUI available at http://45df7160f5c6:4040\n",
      "Welcome to\n",
      "     __  __     <>__\n",
      "    / /_/ /__  __/ /\n",
      "   / __  / _ `/ / /\n",
      "  /_/ /_/\\_,_/_/_/   version 0.2.47-d9e1f3a110c8\n",
      "LOGGING: writing to /home/jovyan/work/repos/sgkit-dev/notebook/plink/hail-20200705-2226-0.2.47-d9e1f3a110c8.log\n"
     ]
    }
   ],
   "source": [
    "import hail as hl\n",
    "hl.init()"
   ]
  },
  {
   "cell_type": "code",
   "execution_count": 2,
   "metadata": {},
   "outputs": [
    {
     "name": "stderr",
     "output_type": "stream",
     "text": [
      "2020-07-05 22:26:22 Hail: INFO: balding_nichols_model: generating genotypes for 1 populations, 10 samples, and 100 variants...\n"
     ]
    },
    {
     "name": "stdout",
     "output_type": "stream",
     "text": [
      "----------------------------------------\n",
      "Global fields:\n",
      "    'bn': struct {\n",
      "        n_populations: int32, \n",
      "        n_samples: int32, \n",
      "        n_variants: int32, \n",
      "        n_partitions: int32, \n",
      "        pop_dist: array<int32>, \n",
      "        fst: array<float64>, \n",
      "        mixture: bool\n",
      "    }\n",
      "----------------------------------------\n",
      "Column fields:\n",
      "    'sample_idx': int32\n",
      "    'pop': int32\n",
      "    's': str\n",
      "----------------------------------------\n",
      "Row fields:\n",
      "    'locus': locus<GRCh37>\n",
      "    'alleles': array<str>\n",
      "    'ancestral_af': float64\n",
      "    'af': array<float64>\n",
      "----------------------------------------\n",
      "Entry fields:\n",
      "    'GT': call\n",
      "----------------------------------------\n",
      "Column key: ['s']\n",
      "Row key: ['locus', 'alleles']\n",
      "----------------------------------------\n"
     ]
    }
   ],
   "source": [
    "mt = hl.balding_nichols_model(1, n_samples=10, n_variants=100)\n",
    "mt = mt.annotate_entries(GT=hl.if_else(hl.rand_unif(0, 1, seed=1) < .9, mt.GT, hl.null('call')))\n",
    "mt = mt.annotate_cols(s=hl.str(mt.sample_idx))\n",
    "mt = mt.key_cols_by('s')\n",
    "mt.describe()"
   ]
  },
  {
   "cell_type": "code",
   "execution_count": 3,
   "metadata": {},
   "outputs": [
    {
     "name": "stderr",
     "output_type": "stream",
     "text": [
      "2020-07-05 22:26:26 Hail: INFO: Coerced sorted dataset\n",
      "2020-07-05 22:26:26 Hail: INFO: merging 9 files totalling 300...\n",
      "2020-07-05 22:26:26 Hail: INFO: while writing:\n",
      "    /tmp/plink_sim_10s_100v_10pmiss.bed\n",
      "  merge time: 13.504ms\n",
      "2020-07-05 22:26:26 Hail: INFO: merging 8 files totalling 2.1K...\n",
      "2020-07-05 22:26:26 Hail: INFO: while writing:\n",
      "    /tmp/plink_sim_10s_100v_10pmiss.bim\n",
      "  merge time: 8.362ms\n",
      "2020-07-05 22:26:27 Hail: INFO: merging 16 files totalling 130...\n",
      "2020-07-05 22:26:27 Hail: INFO: while writing:\n",
      "    /tmp/plink_sim_10s_100v_10pmiss.fam\n",
      "  merge time: 10.048ms\n",
      "2020-07-05 22:26:27 Hail: INFO: wrote 100 variants and 10 samples to '/tmp/plink_sim_10s_100v_10pmiss'\n"
     ]
    }
   ],
   "source": [
    "hl.export_plink(mt, '/tmp/plink_sim_10s_100v_10pmiss')"
   ]
  },
  {
   "cell_type": "code",
   "execution_count": 16,
   "metadata": {},
   "outputs": [
    {
     "data": {
      "text/plain": [
       "[102, 95, 98, 94, 88, 91, 90, 98, 96, 103]"
      ]
     },
     "execution_count": 16,
     "metadata": {},
     "output_type": "execute_result"
    }
   ],
   "source": [
    "mtp = mt.annotate_cols(alt_allele_count=hl.agg.sum(mt.GT.n_alt_alleles()))\n",
    "mtp.alt_allele_count.collect()"
   ]
  },
  {
   "cell_type": "code",
   "execution_count": 17,
   "metadata": {},
   "outputs": [
    {
     "data": {
      "text/plain": [
       "[0.95, 0.9, 0.91, 0.87, 0.86, 0.83, 0.86, 0.87, 0.92, 0.92]"
      ]
     },
     "execution_count": 17,
     "metadata": {},
     "output_type": "execute_result"
    }
   ],
   "source": [
    "mtp = mt.annotate_cols(call_rate=hl.agg.mean(hl.is_defined(mt.GT.n_alt_alleles())))\n",
    "mtp.call_rate.collect()"
   ]
  }
 ],
 "metadata": {
  "kernelspec": {
   "display_name": "hail",
   "language": "python",
   "name": "hail"
  },
  "language_info": {
   "codemirror_mode": {
    "name": "ipython",
    "version": 3
   },
   "file_extension": ".py",
   "mimetype": "text/x-python",
   "name": "python",
   "nbconvert_exporter": "python",
   "pygments_lexer": "ipython3",
   "version": "3.7.6"
  }
 },
 "nbformat": 4,
 "nbformat_minor": 4
}
