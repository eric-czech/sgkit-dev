{
 "cells": [
  {
   "cell_type": "code",
   "execution_count": 1,
   "metadata": {},
   "outputs": [
    {
     "ename": "ImportError",
     "evalue": "cannot import name 'open_bgen' from 'bgen_reader' (/home/eczech/miniconda3/envs/pysnptools/lib/python3.7/site-packages/bgen_reader-4.0.4-py3.7-linux-x86_64.egg/bgen_reader/__init__.py)",
     "output_type": "error",
     "traceback": [
      "\u001b[0;31m---------------------------------------------------------------------------\u001b[0m",
      "\u001b[0;31mImportError\u001b[0m                               Traceback (most recent call last)",
      "\u001b[0;32m<ipython-input-1-70921867ab1a>\u001b[0m in \u001b[0;36m<module>\u001b[0;34m\u001b[0m\n\u001b[1;32m      1\u001b[0m \u001b[0;31m# Note: make sure to use separate environment with bgen beta\u001b[0m\u001b[0;34m\u001b[0m\u001b[0;34m\u001b[0m\u001b[0;34m\u001b[0m\u001b[0m\n\u001b[1;32m      2\u001b[0m \u001b[0;32mimport\u001b[0m \u001b[0mos\u001b[0m\u001b[0;34m\u001b[0m\u001b[0;34m\u001b[0m\u001b[0m\n\u001b[0;32m----> 3\u001b[0;31m \u001b[0;32mfrom\u001b[0m \u001b[0mbgen_reader\u001b[0m \u001b[0;32mimport\u001b[0m \u001b[0mopen_bgen\u001b[0m\u001b[0;34m\u001b[0m\u001b[0;34m\u001b[0m\u001b[0m\n\u001b[0m\u001b[1;32m      4\u001b[0m \u001b[0;32mfrom\u001b[0m \u001b[0mdotenv\u001b[0m \u001b[0;32mimport\u001b[0m \u001b[0mload_dotenv\u001b[0m\u001b[0;34m\u001b[0m\u001b[0;34m\u001b[0m\u001b[0m\n\u001b[1;32m      5\u001b[0m \u001b[0mload_dotenv\u001b[0m\u001b[0;34m(\u001b[0m\u001b[0mdotenv_path\u001b[0m\u001b[0;34m=\u001b[0m\u001b[0;34m'env'\u001b[0m\u001b[0;34m)\u001b[0m\u001b[0;34m;\u001b[0m\u001b[0;34m\u001b[0m\u001b[0;34m\u001b[0m\u001b[0m\n",
      "\u001b[0;31mImportError\u001b[0m: cannot import name 'open_bgen' from 'bgen_reader' (/home/eczech/miniconda3/envs/pysnptools/lib/python3.7/site-packages/bgen_reader-4.0.4-py3.7-linux-x86_64.egg/bgen_reader/__init__.py)"
     ]
    }
   ],
   "source": [
    "# Note: make sure to use separate environment with bgen beta\n",
    "import os\n",
    "from bgen_reader import open_bgen\n",
    "from dotenv import load_dotenv\n",
    "load_dotenv(dotenv_path='env');"
   ]
  },
  {
   "cell_type": "code",
   "execution_count": null,
   "metadata": {},
   "outputs": [],
   "source": [
    "path = os.environ['UKB_BGEN_XY_PATH']\n",
    "path"
   ]
  },
  {
   "cell_type": "code",
   "execution_count": null,
   "metadata": {},
   "outputs": [],
   "source": [
    "with open_bgen(path) as bgen:\n",
    "    val = bgen.read(slice(0, 100))"
   ]
  },
  {
   "cell_type": "code",
   "execution_count": null,
   "metadata": {},
   "outputs": [],
   "source": [
    "val.shape"
   ]
  },
  {
   "cell_type": "code",
   "execution_count": null,
   "metadata": {},
   "outputs": [],
   "source": [
    "val.dtype"
   ]
  },
  {
   "cell_type": "code",
   "execution_count": null,
   "metadata": {},
   "outputs": [],
   "source": [
    "from bgen_reader import example_filepath, open_bgen\n",
    "import tracemalloc\n",
    "import os\n",
    "import time\n",
    "\n",
    " \n",
    "\n",
    "tracemalloc.start() # May slow down the run slightly\n",
    "start = time.time()\n",
    "# filename = \"/mnt/m/deldir/genbgen/good/merged_487400x220000.bgen\"\n",
    "filename = \"/mnt/m/deldir/genbgen/good/merged_487400x1100000.bgen\"\n",
    "\n",
    "with open_bgen(filename) as bgen:\n",
    "    val = bgen.read(slice(1000000, 1000031))\n",
    "    # val = bgen.read(1000000)\n",
    "    # val = bgen.read((slice(200000,200031),slice(1000000,1000031)))\n",
    "    print(\"{0},{1:,}\".format(val.shape, val.shape[0] * val.shape[1]))\n",
    "\n",
    " \n",
    "\n",
    "current, peak = tracemalloc.get_traced_memory()\n",
    "print(f\"Current memory usage is {current / 10**6}MB; Peak was {peak / 10**6}MB\")\n",
    "print(\"Time = {0} seconds\".format(time.time() - start))\n",
    "tracemalloc.stop()"
   ]
  }
 ],
 "metadata": {
  "kernelspec": {
   "display_name": "pysnptools",
   "language": "python",
   "name": "pysnptools"
  },
  "language_info": {
   "codemirror_mode": {
    "name": "ipython",
    "version": 3
   },
   "file_extension": ".py",
   "mimetype": "text/x-python",
   "name": "python",
   "nbconvert_exporter": "python",
   "pygments_lexer": "ipython3",
   "version": "3.7.8"
  }
 },
 "nbformat": 4,
 "nbformat_minor": 4
}
