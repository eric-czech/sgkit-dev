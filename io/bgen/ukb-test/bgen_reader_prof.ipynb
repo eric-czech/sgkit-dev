{
 "cells": [
  {
   "cell_type": "code",
   "execution_count": 1,
   "metadata": {},
   "outputs": [
    {
     "data": {
      "text/html": [
       "\n",
       "    <div class=\"bk-root\">\n",
       "        <a href=\"https://bokeh.org\" target=\"_blank\" class=\"bk-logo bk-logo-small bk-logo-notebook\"></a>\n",
       "        <span id=\"1001\">Loading BokehJS ...</span>\n",
       "    </div>"
      ]
     },
     "metadata": {},
     "output_type": "display_data"
    },
    {
     "data": {
      "application/javascript": [
       "\n",
       "(function(root) {\n",
       "  function now() {\n",
       "    return new Date();\n",
       "  }\n",
       "\n",
       "  var force = true;\n",
       "\n",
       "  if (typeof root._bokeh_onload_callbacks === \"undefined\" || force === true) {\n",
       "    root._bokeh_onload_callbacks = [];\n",
       "    root._bokeh_is_loading = undefined;\n",
       "  }\n",
       "\n",
       "  var JS_MIME_TYPE = 'application/javascript';\n",
       "  var HTML_MIME_TYPE = 'text/html';\n",
       "  var EXEC_MIME_TYPE = 'application/vnd.bokehjs_exec.v0+json';\n",
       "  var CLASS_NAME = 'output_bokeh rendered_html';\n",
       "\n",
       "  /**\n",
       "   * Render data to the DOM node\n",
       "   */\n",
       "  function render(props, node) {\n",
       "    var script = document.createElement(\"script\");\n",
       "    node.appendChild(script);\n",
       "  }\n",
       "\n",
       "  /**\n",
       "   * Handle when an output is cleared or removed\n",
       "   */\n",
       "  function handleClearOutput(event, handle) {\n",
       "    var cell = handle.cell;\n",
       "\n",
       "    var id = cell.output_area._bokeh_element_id;\n",
       "    var server_id = cell.output_area._bokeh_server_id;\n",
       "    // Clean up Bokeh references\n",
       "    if (id != null && id in Bokeh.index) {\n",
       "      Bokeh.index[id].model.document.clear();\n",
       "      delete Bokeh.index[id];\n",
       "    }\n",
       "\n",
       "    if (server_id !== undefined) {\n",
       "      // Clean up Bokeh references\n",
       "      var cmd = \"from bokeh.io.state import curstate; print(curstate().uuid_to_server['\" + server_id + \"'].get_sessions()[0].document.roots[0]._id)\";\n",
       "      cell.notebook.kernel.execute(cmd, {\n",
       "        iopub: {\n",
       "          output: function(msg) {\n",
       "            var id = msg.content.text.trim();\n",
       "            if (id in Bokeh.index) {\n",
       "              Bokeh.index[id].model.document.clear();\n",
       "              delete Bokeh.index[id];\n",
       "            }\n",
       "          }\n",
       "        }\n",
       "      });\n",
       "      // Destroy server and session\n",
       "      var cmd = \"import bokeh.io.notebook as ion; ion.destroy_server('\" + server_id + \"')\";\n",
       "      cell.notebook.kernel.execute(cmd);\n",
       "    }\n",
       "  }\n",
       "\n",
       "  /**\n",
       "   * Handle when a new output is added\n",
       "   */\n",
       "  function handleAddOutput(event, handle) {\n",
       "    var output_area = handle.output_area;\n",
       "    var output = handle.output;\n",
       "\n",
       "    // limit handleAddOutput to display_data with EXEC_MIME_TYPE content only\n",
       "    if ((output.output_type != \"display_data\") || (!output.data.hasOwnProperty(EXEC_MIME_TYPE))) {\n",
       "      return\n",
       "    }\n",
       "\n",
       "    var toinsert = output_area.element.find(\".\" + CLASS_NAME.split(' ')[0]);\n",
       "\n",
       "    if (output.metadata[EXEC_MIME_TYPE][\"id\"] !== undefined) {\n",
       "      toinsert[toinsert.length - 1].firstChild.textContent = output.data[JS_MIME_TYPE];\n",
       "      // store reference to embed id on output_area\n",
       "      output_area._bokeh_element_id = output.metadata[EXEC_MIME_TYPE][\"id\"];\n",
       "    }\n",
       "    if (output.metadata[EXEC_MIME_TYPE][\"server_id\"] !== undefined) {\n",
       "      var bk_div = document.createElement(\"div\");\n",
       "      bk_div.innerHTML = output.data[HTML_MIME_TYPE];\n",
       "      var script_attrs = bk_div.children[0].attributes;\n",
       "      for (var i = 0; i < script_attrs.length; i++) {\n",
       "        toinsert[toinsert.length - 1].firstChild.setAttribute(script_attrs[i].name, script_attrs[i].value);\n",
       "        toinsert[toinsert.length - 1].firstChild.textContent = bk_div.children[0].textContent\n",
       "      }\n",
       "      // store reference to server id on output_area\n",
       "      output_area._bokeh_server_id = output.metadata[EXEC_MIME_TYPE][\"server_id\"];\n",
       "    }\n",
       "  }\n",
       "\n",
       "  function register_renderer(events, OutputArea) {\n",
       "\n",
       "    function append_mime(data, metadata, element) {\n",
       "      // create a DOM node to render to\n",
       "      var toinsert = this.create_output_subarea(\n",
       "        metadata,\n",
       "        CLASS_NAME,\n",
       "        EXEC_MIME_TYPE\n",
       "      );\n",
       "      this.keyboard_manager.register_events(toinsert);\n",
       "      // Render to node\n",
       "      var props = {data: data, metadata: metadata[EXEC_MIME_TYPE]};\n",
       "      render(props, toinsert[toinsert.length - 1]);\n",
       "      element.append(toinsert);\n",
       "      return toinsert\n",
       "    }\n",
       "\n",
       "    /* Handle when an output is cleared or removed */\n",
       "    events.on('clear_output.CodeCell', handleClearOutput);\n",
       "    events.on('delete.Cell', handleClearOutput);\n",
       "\n",
       "    /* Handle when a new output is added */\n",
       "    events.on('output_added.OutputArea', handleAddOutput);\n",
       "\n",
       "    /**\n",
       "     * Register the mime type and append_mime function with output_area\n",
       "     */\n",
       "    OutputArea.prototype.register_mime_type(EXEC_MIME_TYPE, append_mime, {\n",
       "      /* Is output safe? */\n",
       "      safe: true,\n",
       "      /* Index of renderer in `output_area.display_order` */\n",
       "      index: 0\n",
       "    });\n",
       "  }\n",
       "\n",
       "  // register the mime type if in Jupyter Notebook environment and previously unregistered\n",
       "  if (root.Jupyter !== undefined) {\n",
       "    var events = require('base/js/events');\n",
       "    var OutputArea = require('notebook/js/outputarea').OutputArea;\n",
       "\n",
       "    if (OutputArea.prototype.mime_types().indexOf(EXEC_MIME_TYPE) == -1) {\n",
       "      register_renderer(events, OutputArea);\n",
       "    }\n",
       "  }\n",
       "\n",
       "  \n",
       "  if (typeof (root._bokeh_timeout) === \"undefined\" || force === true) {\n",
       "    root._bokeh_timeout = Date.now() + 5000;\n",
       "    root._bokeh_failed_load = false;\n",
       "  }\n",
       "\n",
       "  var NB_LOAD_WARNING = {'data': {'text/html':\n",
       "     \"<div style='background-color: #fdd'>\\n\"+\n",
       "     \"<p>\\n\"+\n",
       "     \"BokehJS does not appear to have successfully loaded. If loading BokehJS from CDN, this \\n\"+\n",
       "     \"may be due to a slow or bad network connection. Possible fixes:\\n\"+\n",
       "     \"</p>\\n\"+\n",
       "     \"<ul>\\n\"+\n",
       "     \"<li>re-rerun `output_notebook()` to attempt to load from CDN again, or</li>\\n\"+\n",
       "     \"<li>use INLINE resources instead, as so:</li>\\n\"+\n",
       "     \"</ul>\\n\"+\n",
       "     \"<code>\\n\"+\n",
       "     \"from bokeh.resources import INLINE\\n\"+\n",
       "     \"output_notebook(resources=INLINE)\\n\"+\n",
       "     \"</code>\\n\"+\n",
       "     \"</div>\"}};\n",
       "\n",
       "  function display_loaded() {\n",
       "    var el = document.getElementById(\"1001\");\n",
       "    if (el != null) {\n",
       "      el.textContent = \"BokehJS is loading...\";\n",
       "    }\n",
       "    if (root.Bokeh !== undefined) {\n",
       "      if (el != null) {\n",
       "        el.textContent = \"BokehJS \" + root.Bokeh.version + \" successfully loaded.\";\n",
       "      }\n",
       "    } else if (Date.now() < root._bokeh_timeout) {\n",
       "      setTimeout(display_loaded, 100)\n",
       "    }\n",
       "  }\n",
       "\n",
       "\n",
       "  function run_callbacks() {\n",
       "    try {\n",
       "      root._bokeh_onload_callbacks.forEach(function(callback) {\n",
       "        if (callback != null)\n",
       "          callback();\n",
       "      });\n",
       "    } finally {\n",
       "      delete root._bokeh_onload_callbacks\n",
       "    }\n",
       "    console.debug(\"Bokeh: all callbacks have finished\");\n",
       "  }\n",
       "\n",
       "  function load_libs(css_urls, js_urls, callback) {\n",
       "    if (css_urls == null) css_urls = [];\n",
       "    if (js_urls == null) js_urls = [];\n",
       "\n",
       "    root._bokeh_onload_callbacks.push(callback);\n",
       "    if (root._bokeh_is_loading > 0) {\n",
       "      console.debug(\"Bokeh: BokehJS is being loaded, scheduling callback at\", now());\n",
       "      return null;\n",
       "    }\n",
       "    if (js_urls == null || js_urls.length === 0) {\n",
       "      run_callbacks();\n",
       "      return null;\n",
       "    }\n",
       "    console.debug(\"Bokeh: BokehJS not loaded, scheduling load and callback at\", now());\n",
       "    root._bokeh_is_loading = css_urls.length + js_urls.length;\n",
       "\n",
       "    function on_load() {\n",
       "      root._bokeh_is_loading--;\n",
       "      if (root._bokeh_is_loading === 0) {\n",
       "        console.debug(\"Bokeh: all BokehJS libraries/stylesheets loaded\");\n",
       "        run_callbacks()\n",
       "      }\n",
       "    }\n",
       "\n",
       "    function on_error() {\n",
       "      console.error(\"failed to load \" + url);\n",
       "    }\n",
       "\n",
       "    for (var i = 0; i < css_urls.length; i++) {\n",
       "      var url = css_urls[i];\n",
       "      const element = document.createElement(\"link\");\n",
       "      element.onload = on_load;\n",
       "      element.onerror = on_error;\n",
       "      element.rel = \"stylesheet\";\n",
       "      element.type = \"text/css\";\n",
       "      element.href = url;\n",
       "      console.debug(\"Bokeh: injecting link tag for BokehJS stylesheet: \", url);\n",
       "      document.body.appendChild(element);\n",
       "    }\n",
       "\n",
       "    const hashes = {\"https://cdn.bokeh.org/bokeh/release/bokeh-2.1.1.min.js\": \"kLr4fYcqcSpbuI95brIH3vnnYCquzzSxHPU6XGQCIkQRGJwhg0StNbj1eegrHs12\", \"https://cdn.bokeh.org/bokeh/release/bokeh-widgets-2.1.1.min.js\": \"xIGPmVtaOm+z0BqfSOMn4lOR6ciex448GIKG4eE61LsAvmGj48XcMQZtKcE/UXZe\", \"https://cdn.bokeh.org/bokeh/release/bokeh-tables-2.1.1.min.js\": \"Dc9u1wF/0zApGIWoBbH77iWEHtdmkuYWG839Uzmv8y8yBLXebjO9ZnERsde5Ln/P\", \"https://cdn.bokeh.org/bokeh/release/bokeh-gl-2.1.1.min.js\": \"cT9JaBz7GiRXdENrJLZNSC6eMNF3nh3fa5fTF51Svp+ukxPdwcU5kGXGPBgDCa2j\"};\n",
       "\n",
       "    for (var i = 0; i < js_urls.length; i++) {\n",
       "      var url = js_urls[i];\n",
       "      var element = document.createElement('script');\n",
       "      element.onload = on_load;\n",
       "      element.onerror = on_error;\n",
       "      element.async = false;\n",
       "      element.src = url;\n",
       "      if (url in hashes) {\n",
       "        element.crossOrigin = \"anonymous\";\n",
       "        element.integrity = \"sha384-\" + hashes[url];\n",
       "      }\n",
       "      console.debug(\"Bokeh: injecting script tag for BokehJS library: \", url);\n",
       "      document.head.appendChild(element);\n",
       "    }\n",
       "  };\n",
       "\n",
       "  function inject_raw_css(css) {\n",
       "    const element = document.createElement(\"style\");\n",
       "    element.appendChild(document.createTextNode(css));\n",
       "    document.body.appendChild(element);\n",
       "  }\n",
       "\n",
       "  \n",
       "  var js_urls = [\"https://cdn.bokeh.org/bokeh/release/bokeh-2.1.1.min.js\", \"https://cdn.bokeh.org/bokeh/release/bokeh-widgets-2.1.1.min.js\", \"https://cdn.bokeh.org/bokeh/release/bokeh-tables-2.1.1.min.js\", \"https://cdn.bokeh.org/bokeh/release/bokeh-gl-2.1.1.min.js\"];\n",
       "  var css_urls = [];\n",
       "  \n",
       "\n",
       "  var inline_js = [\n",
       "    function(Bokeh) {\n",
       "      Bokeh.set_log_level(\"info\");\n",
       "    },\n",
       "    function(Bokeh) {\n",
       "    \n",
       "    \n",
       "    }\n",
       "  ];\n",
       "\n",
       "  function run_inline_js() {\n",
       "    \n",
       "    if (root.Bokeh !== undefined || force === true) {\n",
       "      \n",
       "    for (var i = 0; i < inline_js.length; i++) {\n",
       "      inline_js[i].call(root, root.Bokeh);\n",
       "    }\n",
       "    if (force === true) {\n",
       "        display_loaded();\n",
       "      }} else if (Date.now() < root._bokeh_timeout) {\n",
       "      setTimeout(run_inline_js, 100);\n",
       "    } else if (!root._bokeh_failed_load) {\n",
       "      console.log(\"Bokeh: BokehJS failed to load within specified timeout.\");\n",
       "      root._bokeh_failed_load = true;\n",
       "    } else if (force !== true) {\n",
       "      var cell = $(document.getElementById(\"1001\")).parents('.cell').data().cell;\n",
       "      cell.output_area.append_execute_result(NB_LOAD_WARNING)\n",
       "    }\n",
       "\n",
       "  }\n",
       "\n",
       "  if (root._bokeh_is_loading === 0) {\n",
       "    console.debug(\"Bokeh: BokehJS loaded, going straight to plotting\");\n",
       "    run_inline_js();\n",
       "  } else {\n",
       "    load_libs(css_urls, js_urls, function() {\n",
       "      console.debug(\"Bokeh: BokehJS plotting callback run at\", now());\n",
       "      run_inline_js();\n",
       "    });\n",
       "  }\n",
       "}(window));"
      ],
      "application/vnd.bokehjs_load.v0+json": "\n(function(root) {\n  function now() {\n    return new Date();\n  }\n\n  var force = true;\n\n  if (typeof root._bokeh_onload_callbacks === \"undefined\" || force === true) {\n    root._bokeh_onload_callbacks = [];\n    root._bokeh_is_loading = undefined;\n  }\n\n  \n\n  \n  if (typeof (root._bokeh_timeout) === \"undefined\" || force === true) {\n    root._bokeh_timeout = Date.now() + 5000;\n    root._bokeh_failed_load = false;\n  }\n\n  var NB_LOAD_WARNING = {'data': {'text/html':\n     \"<div style='background-color: #fdd'>\\n\"+\n     \"<p>\\n\"+\n     \"BokehJS does not appear to have successfully loaded. If loading BokehJS from CDN, this \\n\"+\n     \"may be due to a slow or bad network connection. Possible fixes:\\n\"+\n     \"</p>\\n\"+\n     \"<ul>\\n\"+\n     \"<li>re-rerun `output_notebook()` to attempt to load from CDN again, or</li>\\n\"+\n     \"<li>use INLINE resources instead, as so:</li>\\n\"+\n     \"</ul>\\n\"+\n     \"<code>\\n\"+\n     \"from bokeh.resources import INLINE\\n\"+\n     \"output_notebook(resources=INLINE)\\n\"+\n     \"</code>\\n\"+\n     \"</div>\"}};\n\n  function display_loaded() {\n    var el = document.getElementById(\"1001\");\n    if (el != null) {\n      el.textContent = \"BokehJS is loading...\";\n    }\n    if (root.Bokeh !== undefined) {\n      if (el != null) {\n        el.textContent = \"BokehJS \" + root.Bokeh.version + \" successfully loaded.\";\n      }\n    } else if (Date.now() < root._bokeh_timeout) {\n      setTimeout(display_loaded, 100)\n    }\n  }\n\n\n  function run_callbacks() {\n    try {\n      root._bokeh_onload_callbacks.forEach(function(callback) {\n        if (callback != null)\n          callback();\n      });\n    } finally {\n      delete root._bokeh_onload_callbacks\n    }\n    console.debug(\"Bokeh: all callbacks have finished\");\n  }\n\n  function load_libs(css_urls, js_urls, callback) {\n    if (css_urls == null) css_urls = [];\n    if (js_urls == null) js_urls = [];\n\n    root._bokeh_onload_callbacks.push(callback);\n    if (root._bokeh_is_loading > 0) {\n      console.debug(\"Bokeh: BokehJS is being loaded, scheduling callback at\", now());\n      return null;\n    }\n    if (js_urls == null || js_urls.length === 0) {\n      run_callbacks();\n      return null;\n    }\n    console.debug(\"Bokeh: BokehJS not loaded, scheduling load and callback at\", now());\n    root._bokeh_is_loading = css_urls.length + js_urls.length;\n\n    function on_load() {\n      root._bokeh_is_loading--;\n      if (root._bokeh_is_loading === 0) {\n        console.debug(\"Bokeh: all BokehJS libraries/stylesheets loaded\");\n        run_callbacks()\n      }\n    }\n\n    function on_error() {\n      console.error(\"failed to load \" + url);\n    }\n\n    for (var i = 0; i < css_urls.length; i++) {\n      var url = css_urls[i];\n      const element = document.createElement(\"link\");\n      element.onload = on_load;\n      element.onerror = on_error;\n      element.rel = \"stylesheet\";\n      element.type = \"text/css\";\n      element.href = url;\n      console.debug(\"Bokeh: injecting link tag for BokehJS stylesheet: \", url);\n      document.body.appendChild(element);\n    }\n\n    const hashes = {\"https://cdn.bokeh.org/bokeh/release/bokeh-2.1.1.min.js\": \"kLr4fYcqcSpbuI95brIH3vnnYCquzzSxHPU6XGQCIkQRGJwhg0StNbj1eegrHs12\", \"https://cdn.bokeh.org/bokeh/release/bokeh-widgets-2.1.1.min.js\": \"xIGPmVtaOm+z0BqfSOMn4lOR6ciex448GIKG4eE61LsAvmGj48XcMQZtKcE/UXZe\", \"https://cdn.bokeh.org/bokeh/release/bokeh-tables-2.1.1.min.js\": \"Dc9u1wF/0zApGIWoBbH77iWEHtdmkuYWG839Uzmv8y8yBLXebjO9ZnERsde5Ln/P\", \"https://cdn.bokeh.org/bokeh/release/bokeh-gl-2.1.1.min.js\": \"cT9JaBz7GiRXdENrJLZNSC6eMNF3nh3fa5fTF51Svp+ukxPdwcU5kGXGPBgDCa2j\"};\n\n    for (var i = 0; i < js_urls.length; i++) {\n      var url = js_urls[i];\n      var element = document.createElement('script');\n      element.onload = on_load;\n      element.onerror = on_error;\n      element.async = false;\n      element.src = url;\n      if (url in hashes) {\n        element.crossOrigin = \"anonymous\";\n        element.integrity = \"sha384-\" + hashes[url];\n      }\n      console.debug(\"Bokeh: injecting script tag for BokehJS library: \", url);\n      document.head.appendChild(element);\n    }\n  };\n\n  function inject_raw_css(css) {\n    const element = document.createElement(\"style\");\n    element.appendChild(document.createTextNode(css));\n    document.body.appendChild(element);\n  }\n\n  \n  var js_urls = [\"https://cdn.bokeh.org/bokeh/release/bokeh-2.1.1.min.js\", \"https://cdn.bokeh.org/bokeh/release/bokeh-widgets-2.1.1.min.js\", \"https://cdn.bokeh.org/bokeh/release/bokeh-tables-2.1.1.min.js\", \"https://cdn.bokeh.org/bokeh/release/bokeh-gl-2.1.1.min.js\"];\n  var css_urls = [];\n  \n\n  var inline_js = [\n    function(Bokeh) {\n      Bokeh.set_log_level(\"info\");\n    },\n    function(Bokeh) {\n    \n    \n    }\n  ];\n\n  function run_inline_js() {\n    \n    if (root.Bokeh !== undefined || force === true) {\n      \n    for (var i = 0; i < inline_js.length; i++) {\n      inline_js[i].call(root, root.Bokeh);\n    }\n    if (force === true) {\n        display_loaded();\n      }} else if (Date.now() < root._bokeh_timeout) {\n      setTimeout(run_inline_js, 100);\n    } else if (!root._bokeh_failed_load) {\n      console.log(\"Bokeh: BokehJS failed to load within specified timeout.\");\n      root._bokeh_failed_load = true;\n    } else if (force !== true) {\n      var cell = $(document.getElementById(\"1001\")).parents('.cell').data().cell;\n      cell.output_area.append_execute_result(NB_LOAD_WARNING)\n    }\n\n  }\n\n  if (root._bokeh_is_loading === 0) {\n    console.debug(\"Bokeh: BokehJS loaded, going straight to plotting\");\n    run_inline_js();\n  } else {\n    load_libs(css_urls, js_urls, function() {\n      console.debug(\"Bokeh: BokehJS plotting callback run at\", now());\n      run_inline_js();\n    });\n  }\n}(window));"
     },
     "metadata": {},
     "output_type": "display_data"
    }
   ],
   "source": [
    "import os\n",
    "import bgen_reader_exec\n",
    "from dotenv import load_dotenv\n",
    "from bokeh.io import output_notebook\n",
    "from dask.diagnostics import ResourceProfiler\n",
    "load_dotenv(dotenv_path='env')\n",
    "output_notebook()"
   ]
  },
  {
   "cell_type": "code",
   "execution_count": 2,
   "metadata": {},
   "outputs": [
    {
     "data": {
      "text/plain": [
       "'/home/eczech/data/rs-ukb-local/bgen/ukb_imp_chrXY_v3.bgen'"
      ]
     },
     "execution_count": 2,
     "metadata": {},
     "output_type": "execute_result"
    }
   ],
   "source": [
    "path = os.environ['UKB_BGEN_XY_PATH']\n",
    "path"
   ]
  },
  {
   "cell_type": "code",
   "execution_count": 3,
   "metadata": {},
   "outputs": [
    {
     "name": "stdout",
     "output_type": "stream",
     "text": [
      "/home/eczech/data/rs-ukb-local/bgen/ukb_imp_chrXY_v3.bgen.metafile\n"
     ]
    }
   ],
   "source": [
    "!ls {path.replace('.bgen', '')}.bgen.metafile"
   ]
  },
  {
   "cell_type": "code",
   "execution_count": 4,
   "metadata": {},
   "outputs": [],
   "source": [
    "!rm -f {path.replace('.bgen', '')}.bgen.metafile"
   ]
  },
  {
   "cell_type": "code",
   "execution_count": 5,
   "metadata": {},
   "outputs": [
    {
     "name": "stderr",
     "output_type": "stream",
     "text": [
      "  0%|          | 3/45906 [00:00<32:02, 23.88it/s]"
     ]
    },
    {
     "name": "stdout",
     "output_type": "stream",
     "text": [
      "Found 45906 variants\n"
     ]
    },
    {
     "name": "stderr",
     "output_type": "stream",
     "text": [
      "100%|██████████| 45906/45906 [22:47<00:00, 33.57it/s]\n"
     ]
    },
    {
     "name": "stdout",
     "output_type": "stream",
     "text": [
      "Number of entries read: 22330652358\n",
      "CPU times: user 21min 55s, sys: 22.3 s, total: 22min 17s\n",
      "Wall time: 22min 50s\n"
     ]
    }
   ],
   "source": [
    "%%time\n",
    "with ResourceProfiler() as prof:\n",
    "    bgen_reader_exec.run(path)"
   ]
  },
  {
   "cell_type": "code",
   "execution_count": 6,
   "metadata": {},
   "outputs": [
    {
     "data": {
      "text/html": [
       "\n",
       "\n",
       "\n",
       "\n",
       "\n",
       "\n",
       "  <div class=\"bk-root\" id=\"8709a5f1-4062-411b-9db2-4f2f9a28ec3c\" data-root-id=\"1002\"></div>\n"
      ]
     },
     "metadata": {},
     "output_type": "display_data"
    },
    {
     "data": {
      "application/javascript": [
       "(function(root) {\n",
       "  function embed_document(root) {\n",
       "    \n",
       "  var docs_json = {\"9aa88314-4cc4-47f8-8ad9-59eec38f049b\":{\"roots\":{\"references\":[{\"attributes\":{\"below\":[{\"id\":\"1013\"}],\"center\":[{\"id\":\"1016\"},{\"id\":\"1020\"},{\"id\":\"1042\"}],\"extra_y_ranges\":{\"memory\":{\"id\":\"1044\"}},\"left\":[{\"id\":\"1017\"}],\"plot_height\":300,\"plot_width\":800,\"renderers\":[{\"id\":\"1033\"},{\"id\":\"1048\"}],\"right\":[{\"id\":\"1060\"}],\"title\":{\"id\":\"1003\"},\"toolbar\":{\"id\":\"1025\"},\"toolbar_location\":\"above\",\"x_range\":{\"id\":\"1005\"},\"x_scale\":{\"id\":\"1009\"},\"y_range\":{\"id\":\"1007\"},\"y_scale\":{\"id\":\"1011\"}},\"id\":\"1002\",\"subtype\":\"Figure\",\"type\":\"Plot\"},{\"attributes\":{\"dimensions\":\"width\"},\"id\":\"1023\",\"type\":\"WheelZoomTool\"},{\"attributes\":{\"end\":102.4},\"id\":\"1007\",\"type\":\"Range1d\"},{\"attributes\":{\"end\":1369.185255267},\"id\":\"1005\",\"type\":\"Range1d\"},{\"attributes\":{},\"id\":\"1022\",\"type\":\"ResetTool\"},{\"attributes\":{},\"id\":\"1040\",\"type\":\"Selection\"},{\"attributes\":{\"data_source\":{\"id\":\"1045\"},\"glyph\":{\"id\":\"1046\"},\"hover_glyph\":null,\"muted_glyph\":null,\"nonselection_glyph\":{\"id\":\"1047\"},\"selection_glyph\":null,\"view\":{\"id\":\"1049\"},\"y_range_name\":\"memory\"},\"id\":\"1048\",\"type\":\"GlyphRenderer\"},{\"attributes\":{},\"id\":\"1058\",\"type\":\"UnionRenderers\"},{\"attributes\":{},\"id\":\"1011\",\"type\":\"LinearScale\"},{\"attributes\":{\"source\":{\"id\":\"1030\"}},\"id\":\"1034\",\"type\":\"CDSView\"},{\"attributes\":{\"data\":{\"x\":[0.0,1.0015267419998963,2.003062534999799,3.0691545739998674,4.152459273999966,5.257005640999978,6.346583012999872,7.438825404999989,8.529222980999975,9.616525514999921,10.69479761699995,11.774624794999909,12.86510882499988,13.96781563699983,15.047759628999984,16.152221313999917,17.25392190599996,18.35383795299981,19.44476074399995,20.529744215999926,21.61803469399979,22.721960037999906,23.807853706999822,24.89293804299996,25.975954208999838,27.072375197999918,28.17591110599983,29.261978239999962,30.353432775999863,31.455486484999938,32.54509452699995,33.63691288399991,34.70943326299994,35.793600878999996,36.882191222999836,37.963034481999784,39.06479930699993,40.158731866999915,41.246559686999944,42.32004549599992,43.43863364799995,44.522279964999825,45.6087898039998,46.694082837999986,47.80033178899998,48.89584448099981,49.97964008599979,51.074542759999986,52.168448132999856,53.25065371299979,54.32764326399979,55.44694324599982,56.53252956399979,57.61272276999989,58.70010152999998,59.777213775999826,60.855204076999826,61.94484782399991,63.041248061999795,64.14999672499994,65.2481780149999,66.33899506599982,67.43780076899998,68.52623214799996,69.61121405899985,70.71548926299988,71.81812435500001,72.91197433999992,74.00926826,75.117192832,76.20605311700001,77.30438039799992,78.39065122099987,79.4846817629998,80.5787670379998,81.65400458199997,82.71864272799985,83.80119186899992,84.91013196799986,86.00357304999989,87.09739948499987,88.18693447299984,89.26853736999988,90.36932078199993,91.46552850199987,92.55326415399986,93.65921463199993,94.74534060799988,95.83206570699986,96.91554722299998,98.0013203919998,99.08702078499982,100.18490148599994,101.29065000799983,102.397136435,103.48490515200001,104.6073602859999,105.70092312799989,106.78385729599995,107.87131745899978,108.9556957939999,110.04717728599985,111.13257167799998,112.26168047099986,113.367157615,114.44768438699998,115.54653687099994,116.63584352399994,117.719275724,118.81098673799988,119.89984686799994,120.97848025199983,122.058274235,123.13187721199984,124.21013409399984,125.29710813099996,126.39046675299983,127.46107828699996,128.54745025499983,129.62664027999995,130.69591755199986,131.77420990999985,132.8520907279999,133.92563694599994,135.0189256929998,136.0967844769998,137.17955898699984,138.255777546,139.35324380299994,140.428560134,141.49688239099987,142.565585628,143.64382005499988,144.725666822,145.80483328599985,146.888817432,147.97642776999987,149.07249850899984,150.16844419899985,151.25377128399987,152.33739889499998,153.4156016899999,154.49926458899995,155.5947628939998,156.6987030109999,157.80882697499987,158.8897643969999,159.96547403399995,161.04242986299982,162.11458501699985,163.19186947999992,164.26738103399998,165.34412487099985,166.4249297309998,167.51407258299992,168.5919472029998,169.66993806899995,170.75698187499984,171.84875320399988,172.94651869299992,174.02975593899987,175.1334890659998,176.24687256899983,177.33448905699993,178.4427887569998,179.51992582699995,180.5890050869998,181.6727075509998,182.744313014,183.80288825899993,184.88896240999998,185.98007597699984,187.05356356499988,188.13130451099983,189.20542400699992,190.2888711889998,191.37192301899995,192.44365616799996,193.5332370489998,194.6262187299999,195.6874418169998,196.765000116,197.831389383,198.90553624199993,199.98743631499997,201.0698252699999,202.14163351399998,203.21634322299997,204.30230995499983,205.375586269,206.45283594099988,207.56422170899987,208.64745466499994,209.72415988599982,210.79856723199987,211.86720945499997,212.94571997599996,214.02679321799997,215.117654657,216.19606431399984,217.279137301,218.36892198199985,219.4652364179999,220.54575899899987,221.62743760499984,222.6976762119998,223.77766341099982,224.8726130179998,225.95643360999998,227.0414926479998,228.1305661299998,229.1950807359999,230.28005330099995,231.36862181399988,232.45777488099998,233.53690263299995,234.637280724,235.72230862699985,236.817327213,237.9159818029998,239.00182859099982,240.07747957599986,241.1772672259999,242.28558759999987,243.37138509499982,244.45605902199986,245.54005752599983,246.62849235599992,247.71716692299992,248.8066878499999,249.88649398999996,250.96301596299986,252.047736772,253.1213929669998,254.2141090829998,255.3090616909999,256.40983619099984,257.48471861099983,258.5595558189998,259.644742256,260.7270356009999,261.803339886,262.8650006229998,263.963443721,265.05412300299986,266.1504942759998,267.2297125519999,268.2928917039999,269.3729296949998,270.44155817599994,271.53225521699983,272.6087778379999,273.67845379999994,274.752873014,275.8194838909999,276.8974185779998,277.9745462389999,279.0513000369999,280.1643863529998,281.242778197,282.315939953,283.37691171999995,284.4548358999998,285.54247510799996,286.6392403519999,287.72163637699987,288.817398552,289.89626021699996,290.9697250019999,292.06525588399995,293.152095486,294.24957930999994,295.3238245189998,296.4155337929999,297.50409557399985,298.59231986099985,299.70157311899993,300.78659986699995,301.86415000399984,302.95246172199995,304.0376716379999,305.137553132,306.2309593949999,307.3351952769999,308.4427205709999,309.542336363,310.63470881299986,311.7248644659999,312.84775109399993,313.9370032059999,315.02251347699985,316.1128921719999,317.21035317299993,318.300772996,319.4038578069999,320.4813435599999,321.57714700999986,322.6740552429999,323.7905414869999,324.879672435,325.9602899099998,327.04418531399983,328.1280209659999,329.232971636,330.334184027,331.43663853199996,332.5216118049998,333.60987129599994,334.68777345399985,335.7814409619998,336.872590446,337.9769216729999,339.0725867079998,340.1503452919999,341.25501612799985,342.340960862,343.4367606229998,344.52625680999995,345.6383174819998,346.7155849179999,347.7970700619999,348.90491687099984,349.98506965699994,351.06026054099993,352.1314393739999,353.22765500499986,354.3001916359999,355.37038646099995,356.45059359699985,357.5226220929999,358.5962313069999,359.7095642779998,360.7996725429998,361.8752717749999,362.95911189599997,364.0512883959998,365.12272810699983,366.23074670899996,367.30473168899994,368.3910752779998,369.46190830399996,370.53314601399984,371.6329148729999,372.71086850999995,373.77981427299983,374.8566926929998,375.9534898669999,377.03311853499986,378.1009835099999,379.17690992999997,380.2584721349999,381.343601307,382.4320235339999,383.5197796529999,384.6116079469998,385.69982106999987,386.804819533,387.8882692369998,388.95081619999996,390.0252277499999,391.106500871,392.176007091,393.2499711879998,394.34192709299987,395.4227543469999,396.51401581999994,397.6055513059998,398.6845131419998,399.7712582649999,400.86531989499986,401.94484406699985,403.00806427099997,404.09105656299994,405.19234879299984,406.298622284,407.3901432299999,408.467430293,409.55127606299993,410.6406357149999,411.73849547299983,412.8462498859999,413.92907029699995,415.0154842459999,416.09937219699987,417.203058435,418.2969385829999,419.37971939299996,420.4722190829998,421.5637411349999,422.64892543999986,423.71872322499985,424.79979161999995,425.8783275819999,426.9554853349998,428.0372001009998,429.10256070499986,430.18488854199995,431.27796160899993,432.3705012209998,433.449699024,434.53176720099987,435.63401534399986,436.721660059,437.7994586499999,438.8845340769999,439.961082112,441.02712589299995,442.1088984209998,443.1965768509999,444.29113431199994,445.3734378109998,446.47726667999996,447.558481433,448.6518753199998,449.7346551979999,450.8222025839998,451.91401166699984,452.9972886809999,454.0898081409998,455.1761253569998,456.2426952469998,457.32823963399983,458.42422218799993,459.5018623159999,460.5705719389998,461.67741938799986,462.7794297629998,463.8683778129998,464.9448881819999,466.038437487,467.13716891299987,468.226503976,469.3255929259999,470.418939958,471.50442333499996,472.581191797,473.66591609199986,474.7615032199999,475.8403499269998,476.93499797999993,478.0163159389999,479.0931761029999,480.185415939,481.271036805,482.35890567399997,483.44908436699984,484.53871659599986,485.6279162149999,486.72954138299997,487.8230701819998,488.901846237,489.9809365079998,491.057288836,492.1367574809999,493.2252988779999,494.28280748099996,495.361017576,496.42299038399983,497.50901342199995,498.6112590209998,499.6839262189999,500.77383758999986,501.86741588099994,502.9668454969999,504.04883123499985,505.126529334,506.2124895929999,507.28751759399984,508.36026668599993,509.4479961569998,510.551169953,511.6402650189998,512.7151856619998,513.816089447,514.8928297999998,515.9722272909999,517.0612213959998,518.1420453989999,519.2268856629998,520.3064361349998,521.4010933759998,522.4592490999999,523.5208752609999,524.584739919,525.641700445,526.7183103549999,527.7995319479999,528.8692457549998,529.948226174,531.023501873,532.1001892109998,533.163744404,534.2330958989999,535.2886921129998,536.3660033399999,537.4449997199999,538.5166564729998,539.5915088639999,540.6645992419999,541.7469242239999,542.8441437889999,543.915505923,544.9969439269998,546.068460471,547.146649479,548.210212404,549.2847495829999,550.3611898949998,551.449986977,552.5203903529998,553.597210102,554.6908429309999,555.7584127109999,556.8266901439999,557.8917777049999,558.943722131,560.0279179419999,561.127078238,562.2068286169999,563.284837702,564.3564260359999,565.4254117559999,566.5152327029998,567.5692190369998,568.6164077639999,569.6691650339999,570.7695714259999,571.842925123,572.906509899,573.9873088039999,575.0559928349999,576.125381955,577.1780074269998,578.230724006,579.3071055429998,580.3814958819999,581.4666036179999,582.5380126719999,583.6169899019999,584.687723024,585.7711603349999,586.8406447619998,587.8968943999998,588.9680845949999,590.002322804,591.0583429639998,592.1356986019998,593.195679016,594.2700976829999,595.3506662769998,596.425180107,597.4821102709998,598.538859754,599.605430287,600.6907761109999,601.72949739,602.7715354089999,603.8432244889998,604.931271337,606.0044901079998,607.0896413139999,608.1668286019999,609.2428063969999,610.3274530399999,611.4189357169998,612.505243223,613.5941148319998,614.6898335589999,615.7565670839999,616.8448722969999,617.9380884089999,619.0222611279999,620.0965023889999,621.1790560299999,622.2599552909999,623.3223967479998,624.3966501309999,625.4565436229998,626.5377208519999,627.614815317,628.7011726129999,629.7843109589999,630.852051674,631.941616333,633.013209603,634.0996999859999,635.1664476469998,636.2510845099998,637.3316574839998,638.422964229,639.5116647959999,640.595958314,641.6789610479998,642.7635322909998,643.8683726539998,644.9617343959999,646.0366111239998,647.0918094419999,648.1420749239999,649.223383027,650.2903681979999,651.362121575,652.4446794429998,653.5160454989998,654.5915550469999,655.659817815,656.714274554,657.8001919459998,658.8728073699999,659.9359136129999,660.995845272,662.0779515019999,663.1644145159999,664.2676044729999,665.3874391459999,666.4618463489999,667.559060998,668.626494934,669.713657325,670.7956266269998,671.8933967429998,672.9682702089999,674.041072648,675.1118451379998,676.1845171399998,677.2648996119999,678.3445559889999,679.4293713929999,680.528023934,681.6114988769998,682.6996221509999,683.775909364,684.8521422729998,685.9575575669999,687.0546601709998,688.136898904,689.210597629,690.3183301299998,691.4043359779998,692.5224741309999,693.6007206139998,694.68246142,695.7462983359999,696.821223015,697.901700893,698.978126943,700.068362863,701.1441888939999,702.2287311129999,703.3147937849999,704.4408130709999,705.5274200449999,706.602754088,707.6755375719999,708.758084456,709.8524191619999,710.9796307899999,712.0670977949999,713.1668113579999,714.2791603609999,715.3592877859999,716.4445433059998,717.5416345879999,718.6269902639999,719.7060190569998,720.7986659239998,721.8816281679999,722.9778245619998,724.059004082,725.1449667489999,726.2154112249998,727.317412852,728.423154286,729.5017378729999,730.6043698229998,731.7207068589998,732.826562451,733.896832981,734.974566784,736.057879146,737.1561322339999,738.2266310409998,739.322892572,740.4026203239998,741.483812167,742.5576909919998,743.645905654,744.7410197729998,745.8276512069999,746.9234061349998,748.0220619779998,749.1115922059998,750.190892936,751.2706862589998,752.361670176,753.4453961989998,754.5331141749998,755.6032723989999,756.7020560039998,757.793836822,758.8992125689999,759.9810634769999,761.0613611009999,762.1537513879998,763.2445854369998,764.3362261129998,765.4214324899999,766.5120436109999,767.6265516249998,768.7383374669998,769.8374385709999,770.9392647729999,772.0197356429999,773.0985148579998,774.1864075859999,775.2605561959999,776.3380712179999,777.4174420129998,778.5200981209998,779.6056558089999,780.7042593729998,781.7902630079998,782.8850038879998,783.9721449319998,785.0527339909997,786.1330673729997,787.2341336060001,788.3220655289999,789.4144965059998,790.523061225,791.6074891989999,792.68183875,793.753370352,794.837223024,795.9253493230001,797.0170720169997,798.1132803939997,799.230143517,800.3085781090001,801.3722608539999,802.4716647449998,803.5217703279998,804.5965717859997,805.6808272169999,806.7932174119999,807.8892459589999,808.9811951599997,810.0711818950001,811.1640234859999,812.2751297009997,813.3423601339998,814.4096589909998,815.4935877360001,816.582824718,817.6479970580001,818.7208810730001,819.7951660470001,820.8709409800001,821.9411107559997,823.017436977,824.0691412369999,825.1421061359999,826.2223246249998,827.3050786880001,828.408612082,829.496011165,830.5852407289997,831.687286262,832.7618666669998,833.8166204510001,834.9013685140001,835.9823144139998,837.0407757779997,838.1063545119998,839.1855343340001,840.2802204799998,841.3577318340001,842.437629925,843.5256624589999,844.6108932039999,845.7161717189999,846.8158344819997,847.8996104159999,849.0002614799998,850.0699871049999,851.1491082059999,852.2392283799998,853.3189469010001,854.4095991279999,855.483837124,856.5869838619999,857.6620087029999,858.7355535280001,859.8204968960001,860.9339590869997,862.030890236,863.08989554,864.1671845859998,865.2634286259997,866.3519629239997,867.4329401009998,868.5076497449998,869.5784696049998,870.6583477789998,871.720995381,872.770437078,873.8509333479999,874.9355482459998,875.9996380770001,877.0909628910001,878.1876637009998,879.2865667369999,880.3838583459999,881.4807537429999,882.5481920129998,883.630871992,884.6943419809998,885.7914307089998,886.8758314619997,887.9632043159997,889.0369454129998,890.1307415459999,891.1980840989997,892.2964420820001,893.3819055679999,894.4669661979999,895.5631716529999,896.6951621249998,897.7806765029998,898.8760549020001,899.9642853019998,901.0467500279999,902.1249903139999,903.207359794,904.31507416,905.4103931439997,906.4996512770001,907.572229055,908.6476255149998,909.745971003,910.8357706169998,911.9209257229998,912.9990070470001,914.0810137689998,915.1715583829998,916.257185915,917.3287456850001,918.4103358350001,919.4963185059999,920.6012314439997,921.7042172029999,922.7843096270001,923.8703240019997,924.962812002,926.0439327709998,927.1449666819997,928.2404308099997,929.330534513,930.4215987,931.5019505039998,932.5893299359998,933.6836562010001,934.7866367609997,935.8731659009998,936.9605473670001,938.0559975119997,939.1366473549999,940.241109845,941.329971335,942.4296638210001,943.5372421459999,944.6099669409998,945.677417867,946.74021156,947.838064026,948.9346977329999,950.0025712629997,951.07346502,952.1583231520001,953.2549667119999,954.330297149,955.4209021859999,956.5287919129998,957.6052638869999,958.701209309,959.7892940179997,960.872576903,961.9468021079999,963.0249393409997,964.1145377969999,965.1907151959997,966.2865250079997,967.400485163,968.4921850620001,969.573601326,970.6573460269999,971.7418272709999,972.8210245409998,973.899419823,974.9790271439999,976.0791009039997,977.159951292,978.2549329359997,979.3362447459997,980.4260195740001,981.4992772849998,982.5589373350001,983.646808021,984.716699584,985.7848200219998,986.8893206719997,987.9585683580001,989.047788438,990.1307102379999,991.1995512410001,992.286840168,993.3665481239998,994.4431039799999,995.5398500260001,996.6356215129997,997.7491953339998,998.843176658,999.928775567,1001.0158783489999,1002.0942053329998,1003.1708020489998,1004.2463331440001,1005.3148362609998,1006.3912788639998,1007.4816504739999,1008.553174249,1009.6365810159998,1010.7279833529999,1011.81062038,1012.890278523,1013.9832453199999,1015.0623876479997,1016.145404569,1017.2593531939999,1018.3507324569998,1019.4531526180001,1020.5550922499999,1021.649575486,1022.7342354689997,1023.8307936049998,1024.9121484979999,1025.9970828379999,1027.0837144109998,1028.1873504829998,1029.287686932,1030.368895124,1031.4584156889998,1032.5482461049999,1033.6524147879998,1034.7204571269997,1035.811820489,1036.910417838,1038.0001875239998,1039.087892676,1040.1850398639997,1041.2728118909997,1042.360883744,1043.4445413249998,1044.52966433,1045.6199538459998,1046.722703352,1047.81707651,1048.902034545,1049.980209301,1051.0785701059997,1052.170627409,1053.2751173929998,1054.3963804029997,1055.491090972,1056.5712524549997,1057.650504677,1058.733767389,1059.825989914,1060.9168426129997,1062.002920484,1063.0859523709998,1064.1637271409998,1065.251599297,1066.3195860479998,1067.430008183,1068.54068656,1069.6216912069997,1070.69902436,1071.7932347559997,1072.886304858,1073.981809826,1075.0744553409997,1076.157335662,1077.24402614,1078.3439370190001,1079.4361305299997,1080.5222141699999,1081.6413557839999,1082.7267016529997,1083.805988064,1084.898891961,1085.9780915489998,1087.063593395,1088.143557578,1089.23047595,1090.3427778469998,1091.4265919869997,1092.5123136720001,1093.5998180039999,1094.6985594709997,1095.7688213549998,1096.858343648,1097.9455084979998,1099.0235973689998,1100.1160976029998,1101.2053258969997,1102.280322706,1103.368295213,1104.489441391,1105.569359504,1106.672303948,1107.764883942,1108.849506103,1109.9407885949997,1111.0316909359997,1112.1361601649999,1113.2428211909998,1114.3405328289998,1115.4361846669997,1116.5200274379997,1117.606054523,1118.695572808,1119.7792511249997,1120.856995293,1121.9575859529998,1123.0544138869998,1124.147762466,1125.2388190629997,1126.3150291929999,1127.410007485,1128.501318077,1129.5816029259997,1130.680455634,1131.7683939769997,1132.8446816059998,1133.9513938789999,1135.056752714,1136.1673823939998,1137.257172377,1138.34263154,1139.438657813,1140.5207160100001,1141.626771681,1142.7172954599998,1143.7939150099999,1144.899672062,1145.995635898,1147.0938696759997,1148.1790083439998,1149.277162612,1150.3782091649998,1151.4842395959997,1152.5676581139999,1153.655035563,1154.75170929,1155.8546848569997,1156.947777001,1158.041798169,1159.1370397919998,1160.234574619,1161.3184890969999,1162.4363048079997,1163.520718465,1164.6080449059998,1165.699530216,1166.8053930019998,1167.8884448809997,1168.9904812889997,1170.0779826309997,1171.1731680209998,1172.280271504,1173.374345301,1174.464078626,1175.555992663,1176.650383595,1177.732762769,1178.832248513,1179.9244606559998,1181.037376868,1182.1480259479997,1183.2512293909997,1184.377978784,1185.453547846,1186.533730504,1187.6169401639997,1188.6950207919997,1189.791536,1190.8746194469998,1191.958367089,1193.0198856619998,1194.12426584,1195.2266984299997,1196.30593999,1197.3793387419998,1198.466010718,1199.5477702199998,1200.664073789,1201.75524474,1202.8613408469998,1203.950344772,1205.0513850279997,1206.142120409,1207.2107567749997,1208.3035622579998,1209.403933964,1210.5096037789997,1211.5989775249998,1212.6911770109998,1213.7771077609998,1214.8684785959997,1215.957277744,1217.0593559659999,1218.157937928,1219.2548496769998,1220.3442485409998,1221.4276042459999,1222.542357699,1223.639520254,1224.7491156949998,1225.8314009939998,1226.914654421,1228.0179691739997,1229.1041543499998,1230.2070462609997,1231.298658462,1232.398261997,1233.4761710729997,1234.564650131,1235.636665063,1236.7158487619997,1237.7823606259997,1238.8573992149998,1239.9378224519999,1241.0223184529998,1242.084998055,1243.157192859,1244.2220676669997,1245.2787893759998,1246.353098193,1247.4171057639999,1248.4858796719998,1249.542086787,1250.6020148159998,1251.6515094129998,1252.6973135639998,1253.741191166,1254.837231888,1255.892945584,1256.985869551,1258.0592411649998,1259.0969303489999,1260.1468735729998,1261.2062169149997,1262.27109863,1263.353403416,1264.4238549579998,1265.499035476,1266.5529935719999,1267.633355111,1268.7080587029998,1269.7579409469997,1270.8180928639997,1271.8833481649997,1272.9531838329997,1274.028975385,1275.101271449,1276.1843839779997,1277.2708936719998,1278.344220745,1279.4219935999997,1280.4898761429997,1281.5653973389997,1282.6332179559997,1283.6837901309998,1284.7612857379997,1285.840494465,1286.91101955,1287.9646446949998,1289.0497438179998,1290.1152494279997,1291.202484578,1292.272930852,1293.3638230139998,1294.4353819629998,1295.4991380999998,1296.603124393,1297.6852754919998,1298.7605064769998,1299.8353405209998,1300.9312039599997,1301.993241628,1303.0733877679997,1304.164267943,1305.2415379429997,1306.3202912959998,1307.406540236,1308.478435617,1309.577056726,1310.677524302,1311.7531866439997,1312.831376882,1313.8925764529997,1314.9552570019998,1316.018583791,1317.093857615,1318.171317183,1319.2412221829998,1320.3350198189999,1321.4123070409998,1322.487849462,1323.572182613,1324.6704900819998,1325.7544672819997,1326.838008646,1327.908974751,1329.006382766,1330.0850783479998,1331.1754197349999,1332.2654214329998,1333.342700377,1334.447815702,1335.529135041,1336.639020287,1337.701004709,1338.803081063,1339.895938301,1340.9966381769998,1342.0906857029997,1343.177525549,1344.273386695,1345.352485571,1346.4344732389998,1347.497954369,1348.576468557,1349.6757357129998,1350.7477249629999,1351.8295897179999,1352.9108260749997,1354.0134059539998,1355.1101793189998,1356.192456378,1357.2794817259999,1358.3698659569998,1359.4496076929997,1360.511251864,1361.5907633519998,1362.6744617379998,1363.7491549509998,1364.843776716,1365.9166525409998,1366.997020825,1368.0822950619997,1369.185255267],\"y\":[205.795328,283.2384,342.482944,472.846336,482.615296,482.615296,482.615296,482.615296,473.673728,484.749312,484.749312,484.749312,485.019648,485.019648,537.923584,538.19392,548.458496,495.304704,495.304704,464.326656,485.126144,486.207488,486.207488,486.207488,538.279936,472.00256,472.00256,482.267136,482.271232,482.271232,471.683072,483.028992,483.028992,484.651008,484.651008,524.660736,536.276992,546.811904,546.811904,546.811904,546.811904,473.153536,482.87744,482.87744,482.87744,482.87744,526.462976,547.5328,547.5328,485.310464,485.310464,459.501568,483.540992,484.622336,484.622336,484.892672,484.892672,525.737984,547.078144,547.618816,547.618816,483.278848,460.550144,484.589568,484.589568,484.589568,484.589568,484.589568,476.622848,498.774016,498.774016,498.774016,498.774016,474.722304,485.257216,494.456832,495.538176,496.603136,496.603136,527.085568,464.326656,475.131904,484.855808,484.855808,462.004224,472.539136,482.26304,483.885056,483.885056,588.099584,474.636288,484.900864,495.16544,495.16544,519.958528,492.818432,491.454464,491.454464,491.7248,491.7248,499.064832,499.064832,499.064832,499.064832,499.064832,473.366528,473.366528,473.9072,473.9072,483.700736,511.328256,473.133056,484.007936,484.548608,484.548608,484.548608,484.548608,473.710592,483.434496,485.326848,485.326848,485.326848,485.326848,474.812416,486.699008,486.699008,497.23392,498.044928,498.044928,472.461312,472.731648,472.731648,482.996224,482.996224,482.996224,461.320192,468.963328,471.855104,482.115584,482.115584,524.673024,482.471936,482.471936,483.55328,483.55328,483.55328,474.595328,496.47616,496.47616,497.557504,497.557504,524.234752,482.226176,483.037184,483.037184,483.577856,484.6592,602.312704,548.069376,484.429824,484.429824,484.429824,484.429824,471.945216,482.279424,483.090432,483.090432,483.090432,453.210112,479.68256,479.68256,489.6768,489.6768,489.6768,512.909312,496.76288,498.11456,498.11456,498.11456,498.11456,498.11456,474.05056,496.472064,496.472064,496.472064,496.472064,496.472064,462.249984,462.249984,472.51456,482.578432,482.578432,482.578432,462.278656,472.539136,483.344384,483.344384,483.344384,486.121472,473.182208,483.172352,483.713024,483.713024,483.713024,463.269888,483.79904,483.79904,483.79904,483.79904,510.271488,476.069888,485.793792,485.793792,485.793792,485.793792,528.764928,484.917248,484.917248,484.917248,484.917248,484.917248,462.041088,482.906112,482.906112,482.906112,482.906112,510.676992,487.698432,496.881664,496.881664,496.881664,496.881664,473.411584,484.757504,494.55104,495.091712,495.90272,495.90272,463.486976,482.390016,483.201024,483.741696,483.741696,483.741696,485.650432,486.191104,497.876992,498.147328,498.958336,498.958336,465.309696,486.37952,486.37952,486.37952,486.37952,486.920192,462.782464,465.211392,486.621184,487.702528,487.702528,487.702528,486.7072,463.491072,471.87968,471.87968,471.87968,471.87968,461.45536,471.789568,472.33024,482.594816,482.865152,482.865152,474.861568,484.585472,484.585472,484.585472,484.585472,512.139264,465.874944,485.933056,485.933056,485.933056,485.933056,476.008448,485.462016,485.462016,485.462016,485.462016,485.76512,472.440832,482.77504,483.045376,483.045376,483.045376,466.665472,475.574272,475.574272,485.568512,485.568512,460.496896,471.36768,481.632256,481.632256,481.632256,510.8736,482.983936,482.983936,482.983936,482.983936,482.983936,461.303808,482.172928,482.7136,482.7136,482.7136,526.266368,472.551424,481.734656,481.734656,482.26304,483.074048,472.997888,483.602432,484.683776,484.683776,484.683776,484.683776,476.102656,487.174144,487.174144,497.168384,497.979392,498.249728,484.466688,485.277696,485.277696,485.277696,485.277696,485.277696,487.120896,496.029696,497.651712,497.651712,497.651712,497.651712,472.510464,483.115008,483.115008,483.115008,483.115008,483.115008,482.193408,482.193408,482.193408,483.274752,484.626432,538.656768,472.825856,482.816,482.816,483.356672,483.356672,483.356672,484.769792,485.310464,485.310464,485.310464,485.310464,485.310464,486.064128,497.74592,498.286592,498.286592,498.286592,524.562432,462.942208,474.288128,474.288128,484.818944,484.818944,476.377088,496.975872,496.975872,496.975872,496.975872,461.688832,471.949312,481.943552,482.484224,482.484224,484.10624,473.985024,496.201728,497.012736,497.012736,497.012736,497.012736,463.097856,472.82176,472.82176,482.271232,482.271232,482.811904,469.31968,481.476608,492.081152,492.081152,492.081152,525.176832,476.95872,496.9472,498.028544,498.028544,498.028544,474.624,495.49312,495.49312,496.033792,497.115136,497.115136,476.925952,497.721344,497.99168,498.262016,498.262016,498.262016,472.829952,482.824192,482.824192,482.824192,482.824192,465.293312,485.00736,485.548032,485.548032,485.548032,486.5024,472.317952,483.393536,483.663872,484.745216,484.745216,484.745216,487.325696,487.325696,487.325696,487.325696,487.325696,464.216064,486.703104,486.703104,487.243776,487.243776,487.243776,488.054784,466.59584,476.85632,486.580224,486.580224,486.580224,486.580224,478.28992,478.28992,489.1648,489.1648,489.1648,489.1648,477.188096,487.993344,497.17248,497.17248,497.17248,497.17248,496.873472,497.414144,498.495488,498.495488,498.495488,498.495488,473.100288,484.716544,485.257216,485.257216,485.257216,485.257216,485.257216,463.72864,485.138432,485.138432,485.138432,486.219776,486.219776,486.219776,497.168384,509.054976,509.054976,509.595648,509.595648,509.595648,473.964544,483.958784,484.22912,484.22912,485.5808,485.5808,590.266368,475.185152,485.449728,485.449728,485.449728,485.449728,485.449728,476.430336,498.3808,498.3808,498.3808,498.3808,498.3808,500.846592,474.99264,484.716544,485.797888,485.797888,485.797888,486.33856,486.33856,566.304768,474.329088,485.474304,485.474304,485.74464,485.74464,485.74464,485.74464,498.782208,498.782208,498.782208,498.782208,499.052544,499.052544,474.423296,485.298176,486.109184,486.109184,486.109184,486.109184,486.109184,486.109184,462.66368,485.081088,485.081088,485.081088,485.081088,485.081088,485.351424,485.351424,479.08864,499.417088,499.417088,500.228096,501.30944,501.30944,511.71328,463.413248,473.677824,473.677824,473.677824,473.677824,487.456768,473.489408,474.03008,485.445632,485.445632,485.445632,485.445632,530.051072,477.605888,488.951808,488.951808,488.951808,488.951808,488.951808,462.770176,485.261312,486.07232,486.07232,486.07232,486.07232,525.94688,482.627584,482.627584,482.627584,483.708928,483.708928,483.708928,463.785984,475.471872,475.471872,475.471872,485.736448,485.736448,485.736448,473.628672,474.169344,474.43968,474.43968,484.43392,484.43392,484.43392,473.665536,485.351424,485.351424,485.351424,485.351424,485.351424,465.973248,487.043072,487.043072,487.583744,488.394752,488.394752,536.858624,486.78912,496.78336,496.78336,496.78336,496.78336,525.279232,472.956928,483.762176,483.762176,484.302848,510.775296,461.811712,462.893056,472.61696,472.887296,472.887296,535.498752,472.936448,484.012032,485.363712,485.363712,485.363712,516.775936,497.004544,497.004544,497.004544,497.004544,497.004544,476.995584,477.536256,487.530496,487.530496,488.61184,531.64032,484.978688,495.5136,495.5136,495.5136,495.5136,462.17216,472.977408,473.247744,473.247744,484.052992,484.052992,462.88896,472.952832,472.952832,483.217408,483.217408,483.487744,462.569472,462.835712,483.364864,483.905536,484.446208,525.57824,473.41568,483.40992,483.40992,483.40992,483.680256,483.680256,462.712832,472.977408,483.241984,483.241984,483.241984,461.84448,482.983936,482.983936,482.983936,482.983936,482.983936,460.947456,483.094528,483.094528,483.094528,483.094528,483.094528,465.145856,487.366656,488.177664,488.177664,488.448,488.448,473.157632,482.881536,482.881536,482.881536,482.881536,509.087744,462.086144,472.621056,483.2256,483.766272,483.766272,474.148864,475.226112,485.220352,494.944256,494.944256,497.37728,472.65792,482.992128,482.992128,482.992128,483.803136,484.343808,474.157056,484.691968,495.49312,497.115136,497.115136,525.955072,472.80128,483.065856,483.606528,484.958208,485.228544,485.228544,461.63968,483.250176,484.33152,484.33152,484.33152,538.701824,464.908288,485.777408,485.777408,485.777408,486.588416,486.588416,486.641664,486.641664,488.259584,488.259584,499.064832,499.064832,499.064832,473.714688,483.508224,483.508224,484.589568,484.589568,484.589568,464.183296,475.529216,475.799552,476.340224,476.340224,486.064128,487.145472,537.010176,473.16992,483.233792,483.233792,483.233792,510.517248,473.034752,483.569664,483.569664,483.569664,484.651008,486.273024,486.899712,486.899712,496.693248,496.693248,496.693248,510.60736,475.070464,486.146048,486.68672,496.951296,497.221632,498.843648,484.425728,485.777408,485.777408,485.777408,485.777408,485.777408,512.249856,462.45888,473.264128,482.988032,484.069376,484.069376,501.665792,464.95744,474.750976,474.750976,475.291648,475.291648,512.442368,462.348288,482.607104,482.607104,483.147776,483.147776,524.693504,483.119104,483.119104,483.119104,483.119104,483.38944,467.144704,477.949952,488.214528,488.214528,488.214528,574.533632,472.90368,483.979264,483.979264,483.979264,483.979264,478.191616,488.456192,497.922048,497.922048,498.720768,499.802112,487.317504,487.317504,487.317504,487.317504,487.317504,463.835136,465.18272,475.17696,475.17696,475.17696,486.793216,477.77792,477.77792,487.837696,497.291264,497.291264,482.2016,472.666112,472.666112,482.930688,482.930688,482.930688,488.165376,488.165376,499.040256,499.040256,499.040256,499.040256,551.251968,472.735744,472.735744,472.735744,472.735744,483.00032,473.870336,495.550464,495.550464,495.550464,495.550464,496.091136,474.66496,485.199872,485.466112,496.27136,496.27136,496.27136,479.186944,499.785728,500.3264,500.3264,500.3264,500.3264,472.567808,473.10848,473.10848,483.10272,483.10272,536.190976,497.729536,497.729536,497.729536,497.729536,497.729536,497.729536,462.606336,483.135488,483.135488,483.135488,484.487168,484.487168,475.025408,495.894528,495.894528,495.894528,495.894528,452.857856,477.978624,489.59488,489.59488,489.59488,489.59488,489.59488,477.249536,487.313408,487.583744,498.118656,498.118656,461.402112,482.46784,483.549184,484.630528,484.630528,484.630528,462.974976,472.768512,484.384768,484.384768,484.384768,524.57472,467.390464,477.114368,477.114368,477.114368,477.114368,474.914816,475.185152,484.978688,484.978688,484.978688,499.634176,472.641536,473.182208,473.182208,473.182208,473.182208,485.1712,485.1712,495.435776,495.435776,495.435776,469.057536,480.13312,480.13312,480.13312,480.13312,480.13312,485.752832,485.752832,485.752832,485.752832,485.752832,461.80352,482.598912,483.139584,483.139584,483.139584,483.139584,465.752064,486.621184,487.161856,487.702528,487.702528,501.006336,488.370176,488.370176,499.175424,499.175424,499.175424,474.333184,485.138432,494.931968,494.931968,494.931968,524.45184,462.348288,482.87744,482.87744,482.87744,482.87744,461.807616,472.072192,481.869824,481.869824,481.869824,481.869824,472.334336,482.869248,482.869248,482.869248,482.869248,525.479936,536.625152,546.619392,546.619392,546.619392,546.619392,483.201024,483.201024,483.201024,483.201024,483.201024,525.402112,546.267136,546.267136,546.267136,546.267136,546.267136,473.194496,473.194496,473.194496,483.459072,483.459072,511.213568,525.500416,536.576,536.576,536.846336,536.846336,472.809472,483.61472,483.61472,483.61472,483.61472,537.145344,485.433344,495.497216,496.037888,496.037888,496.037888,472.850432,482.574336,482.574336,483.65568,484.196352,461.438976,472.244224,482.848768,482.848768,482.848768,482.848768,463.007744,473.27232,473.27232,482.996224,482.996224,527.777792,538.853376,540.418048,550.48192,550.48192,572.973056,483.856384,483.856384,483.856384,483.856384,483.856384,549.371904,549.371904,549.371904,549.371904,559.706112,536.092672,474.128384,483.323904,483.323904,483.323904,484.122624,526.819328,536.543232,546.607104,546.607104,547.418112,547.418112,473.37472,483.106816,483.106816,483.905536,483.905536,483.905536,541.523968,542.06464,552.329216,552.329216,552.329216,525.623296,474.89024,474.89024,474.89024,474.89024,483.528704,550.387712,560.451584,560.451584,560.451584,560.451584,487.727104,487.727104,487.727104,487.727104,496.365568,496.365568,559.091712,560.173056,560.173056,560.173056,560.173056,577.1264,474.693632,483.581952,483.581952,483.852288,484.933632,484.933632,551.030784,551.030784,551.030784,551.030784,551.030784,551.030784,577.306624,474.959872,474.959872,484.139008,484.139008,484.139008,484.139008,484.405248,484.405248,551.8336,552.644608,552.644608,552.644608,552.644608,552.644608,552.644608,552.644608,485.474304,485.474304,485.474304,485.474304,485.474304,485.74464,485.74464,553.009152,552.873984,552.873984,552.873984,552.873984,552.873984,552.873984,460.079104,475.025408,485.535744,485.535744,485.535744,485.535744,485.535744,528.318464,537.4976,549.183488,549.994496,549.994496,549.994496,549.994496,484.917248,485.45792,485.45792,485.45792,485.45792,485.45792,514.572288,548.134912,548.134912,548.134912,548.134912,548.675584,548.675584,475.398144,475.398144,484.036608,484.036608,484.036608,484.57728,540.270592,561.680384,562.221056,562.221056,562.221056,562.761728,563.3024,476.377088,476.377088,486.612992,486.612992,486.612992,486.612992,528.060416,547.577856,548.6592,548.6592,548.6592,548.6592,488.0384,488.0384,488.0384,496.676864,496.676864,497.217536,528.011264,547.254272,547.254272,548.605952,548.605952,549.41696,474.906624,484.335616,484.335616,484.876288,484.876288,484.876288,561.221632,561.221632,561.221632,561.762304,561.762304,561.762304,485.113856,485.654528,485.654528,485.654528,485.654528,485.654528,532.062208,552.660992,552.660992]},\"selected\":{\"id\":\"1057\"},\"selection_policy\":{\"id\":\"1058\"}},\"id\":\"1045\",\"type\":\"ColumnDataSource\"},{\"attributes\":{},\"id\":\"1014\",\"type\":\"BasicTicker\"},{\"attributes\":{\"dimensions\":\"width\"},\"id\":\"1024\",\"type\":\"PanTool\"},{\"attributes\":{\"source\":{\"id\":\"1045\"}},\"id\":\"1049\",\"type\":\"CDSView\"},{\"attributes\":{},\"id\":\"1009\",\"type\":\"LinearScale\"},{\"attributes\":{\"items\":[{\"id\":\"1043\"},{\"id\":\"1059\"}]},\"id\":\"1042\",\"type\":\"Legend\"},{\"attributes\":{\"axis\":{\"id\":\"1013\"},\"ticker\":null},\"id\":\"1016\",\"type\":\"Grid\"},{\"attributes\":{},\"id\":\"1064\",\"type\":\"BasicTicker\"},{\"attributes\":{\"axis_label\":\"Time (s)\",\"formatter\":{\"id\":\"1037\"},\"ticker\":{\"id\":\"1014\"}},\"id\":\"1013\",\"type\":\"LinearAxis\"},{\"attributes\":{},\"id\":\"1065\",\"type\":\"BasicTickFormatter\"},{\"attributes\":{},\"id\":\"1018\",\"type\":\"BasicTicker\"},{\"attributes\":{\"active_drag\":\"auto\",\"active_inspect\":\"auto\",\"active_multi\":null,\"active_scroll\":\"auto\",\"active_tap\":\"auto\",\"tools\":[{\"id\":\"1021\"},{\"id\":\"1022\"},{\"id\":\"1023\"},{\"id\":\"1024\"}]},\"id\":\"1025\",\"type\":\"Toolbar\"},{\"attributes\":{\"label\":{\"value\":\"% CPU\"},\"renderers\":[{\"id\":\"1033\"}]},\"id\":\"1043\",\"type\":\"LegendItem\"},{\"attributes\":{\"axis_label\":\"% CPU\",\"formatter\":{\"id\":\"1039\"},\"ticker\":{\"id\":\"1018\"}},\"id\":\"1017\",\"type\":\"LinearAxis\"},{\"attributes\":{\"line_alpha\":0.1,\"line_color\":\"#29788E\",\"line_width\":4,\"x\":{\"field\":\"x\"},\"y\":{\"field\":\"y\"}},\"id\":\"1047\",\"type\":\"Line\"},{\"attributes\":{\"label\":{\"value\":\"Memory\"},\"renderers\":[{\"id\":\"1048\"}]},\"id\":\"1059\",\"type\":\"LegendItem\"},{\"attributes\":{\"end\":602.312704,\"start\":205.795328},\"id\":\"1044\",\"type\":\"Range1d\"},{\"attributes\":{},\"id\":\"1037\",\"type\":\"BasicTickFormatter\"},{\"attributes\":{\"axis\":{\"id\":\"1017\"},\"dimension\":1,\"ticker\":null},\"id\":\"1020\",\"type\":\"Grid\"},{\"attributes\":{\"axis_label\":\"Memory (MB)\",\"formatter\":{\"id\":\"1065\"},\"ticker\":{\"id\":\"1064\"},\"y_range_name\":\"memory\"},\"id\":\"1060\",\"type\":\"LinearAxis\"},{\"attributes\":{\"line_color\":\"#29788E\",\"line_width\":4,\"x\":{\"field\":\"x\"},\"y\":{\"field\":\"y\"}},\"id\":\"1046\",\"type\":\"Line\"},{\"attributes\":{},\"id\":\"1057\",\"type\":\"Selection\"},{\"attributes\":{\"text\":\"Profile Results\"},\"id\":\"1003\",\"type\":\"Title\"},{\"attributes\":{\"line_alpha\":0.1,\"line_color\":\"#440154\",\"line_width\":4,\"x\":{\"field\":\"x\"},\"y\":{\"field\":\"y\"}},\"id\":\"1032\",\"type\":\"Line\"},{\"attributes\":{\"line_color\":\"#440154\",\"line_width\":4,\"x\":{\"field\":\"x\"},\"y\":{\"field\":\"y\"}},\"id\":\"1031\",\"type\":\"Line\"},{\"attributes\":{},\"id\":\"1021\",\"type\":\"SaveTool\"},{\"attributes\":{\"data\":{\"x\":[0.0,1.0015267419998963,2.003062534999799,3.0691545739998674,4.152459273999966,5.257005640999978,6.346583012999872,7.438825404999989,8.529222980999975,9.616525514999921,10.69479761699995,11.774624794999909,12.86510882499988,13.96781563699983,15.047759628999984,16.152221313999917,17.25392190599996,18.35383795299981,19.44476074399995,20.529744215999926,21.61803469399979,22.721960037999906,23.807853706999822,24.89293804299996,25.975954208999838,27.072375197999918,28.17591110599983,29.261978239999962,30.353432775999863,31.455486484999938,32.54509452699995,33.63691288399991,34.70943326299994,35.793600878999996,36.882191222999836,37.963034481999784,39.06479930699993,40.158731866999915,41.246559686999944,42.32004549599992,43.43863364799995,44.522279964999825,45.6087898039998,46.694082837999986,47.80033178899998,48.89584448099981,49.97964008599979,51.074542759999986,52.168448132999856,53.25065371299979,54.32764326399979,55.44694324599982,56.53252956399979,57.61272276999989,58.70010152999998,59.777213775999826,60.855204076999826,61.94484782399991,63.041248061999795,64.14999672499994,65.2481780149999,66.33899506599982,67.43780076899998,68.52623214799996,69.61121405899985,70.71548926299988,71.81812435500001,72.91197433999992,74.00926826,75.117192832,76.20605311700001,77.30438039799992,78.39065122099987,79.4846817629998,80.5787670379998,81.65400458199997,82.71864272799985,83.80119186899992,84.91013196799986,86.00357304999989,87.09739948499987,88.18693447299984,89.26853736999988,90.36932078199993,91.46552850199987,92.55326415399986,93.65921463199993,94.74534060799988,95.83206570699986,96.91554722299998,98.0013203919998,99.08702078499982,100.18490148599994,101.29065000799983,102.397136435,103.48490515200001,104.6073602859999,105.70092312799989,106.78385729599995,107.87131745899978,108.9556957939999,110.04717728599985,111.13257167799998,112.26168047099986,113.367157615,114.44768438699998,115.54653687099994,116.63584352399994,117.719275724,118.81098673799988,119.89984686799994,120.97848025199983,122.058274235,123.13187721199984,124.21013409399984,125.29710813099996,126.39046675299983,127.46107828699996,128.54745025499983,129.62664027999995,130.69591755199986,131.77420990999985,132.8520907279999,133.92563694599994,135.0189256929998,136.0967844769998,137.17955898699984,138.255777546,139.35324380299994,140.428560134,141.49688239099987,142.565585628,143.64382005499988,144.725666822,145.80483328599985,146.888817432,147.97642776999987,149.07249850899984,150.16844419899985,151.25377128399987,152.33739889499998,153.4156016899999,154.49926458899995,155.5947628939998,156.6987030109999,157.80882697499987,158.8897643969999,159.96547403399995,161.04242986299982,162.11458501699985,163.19186947999992,164.26738103399998,165.34412487099985,166.4249297309998,167.51407258299992,168.5919472029998,169.66993806899995,170.75698187499984,171.84875320399988,172.94651869299992,174.02975593899987,175.1334890659998,176.24687256899983,177.33448905699993,178.4427887569998,179.51992582699995,180.5890050869998,181.6727075509998,182.744313014,183.80288825899993,184.88896240999998,185.98007597699984,187.05356356499988,188.13130451099983,189.20542400699992,190.2888711889998,191.37192301899995,192.44365616799996,193.5332370489998,194.6262187299999,195.6874418169998,196.765000116,197.831389383,198.90553624199993,199.98743631499997,201.0698252699999,202.14163351399998,203.21634322299997,204.30230995499983,205.375586269,206.45283594099988,207.56422170899987,208.64745466499994,209.72415988599982,210.79856723199987,211.86720945499997,212.94571997599996,214.02679321799997,215.117654657,216.19606431399984,217.279137301,218.36892198199985,219.4652364179999,220.54575899899987,221.62743760499984,222.6976762119998,223.77766341099982,224.8726130179998,225.95643360999998,227.0414926479998,228.1305661299998,229.1950807359999,230.28005330099995,231.36862181399988,232.45777488099998,233.53690263299995,234.637280724,235.72230862699985,236.817327213,237.9159818029998,239.00182859099982,240.07747957599986,241.1772672259999,242.28558759999987,243.37138509499982,244.45605902199986,245.54005752599983,246.62849235599992,247.71716692299992,248.8066878499999,249.88649398999996,250.96301596299986,252.047736772,253.1213929669998,254.2141090829998,255.3090616909999,256.40983619099984,257.48471861099983,258.5595558189998,259.644742256,260.7270356009999,261.803339886,262.8650006229998,263.963443721,265.05412300299986,266.1504942759998,267.2297125519999,268.2928917039999,269.3729296949998,270.44155817599994,271.53225521699983,272.6087778379999,273.67845379999994,274.752873014,275.8194838909999,276.8974185779998,277.9745462389999,279.0513000369999,280.1643863529998,281.242778197,282.315939953,283.37691171999995,284.4548358999998,285.54247510799996,286.6392403519999,287.72163637699987,288.817398552,289.89626021699996,290.9697250019999,292.06525588399995,293.152095486,294.24957930999994,295.3238245189998,296.4155337929999,297.50409557399985,298.59231986099985,299.70157311899993,300.78659986699995,301.86415000399984,302.95246172199995,304.0376716379999,305.137553132,306.2309593949999,307.3351952769999,308.4427205709999,309.542336363,310.63470881299986,311.7248644659999,312.84775109399993,313.9370032059999,315.02251347699985,316.1128921719999,317.21035317299993,318.300772996,319.4038578069999,320.4813435599999,321.57714700999986,322.6740552429999,323.7905414869999,324.879672435,325.9602899099998,327.04418531399983,328.1280209659999,329.232971636,330.334184027,331.43663853199996,332.5216118049998,333.60987129599994,334.68777345399985,335.7814409619998,336.872590446,337.9769216729999,339.0725867079998,340.1503452919999,341.25501612799985,342.340960862,343.4367606229998,344.52625680999995,345.6383174819998,346.7155849179999,347.7970700619999,348.90491687099984,349.98506965699994,351.06026054099993,352.1314393739999,353.22765500499986,354.3001916359999,355.37038646099995,356.45059359699985,357.5226220929999,358.5962313069999,359.7095642779998,360.7996725429998,361.8752717749999,362.95911189599997,364.0512883959998,365.12272810699983,366.23074670899996,367.30473168899994,368.3910752779998,369.46190830399996,370.53314601399984,371.6329148729999,372.71086850999995,373.77981427299983,374.8566926929998,375.9534898669999,377.03311853499986,378.1009835099999,379.17690992999997,380.2584721349999,381.343601307,382.4320235339999,383.5197796529999,384.6116079469998,385.69982106999987,386.804819533,387.8882692369998,388.95081619999996,390.0252277499999,391.106500871,392.176007091,393.2499711879998,394.34192709299987,395.4227543469999,396.51401581999994,397.6055513059998,398.6845131419998,399.7712582649999,400.86531989499986,401.94484406699985,403.00806427099997,404.09105656299994,405.19234879299984,406.298622284,407.3901432299999,408.467430293,409.55127606299993,410.6406357149999,411.73849547299983,412.8462498859999,413.92907029699995,415.0154842459999,416.09937219699987,417.203058435,418.2969385829999,419.37971939299996,420.4722190829998,421.5637411349999,422.64892543999986,423.71872322499985,424.79979161999995,425.8783275819999,426.9554853349998,428.0372001009998,429.10256070499986,430.18488854199995,431.27796160899993,432.3705012209998,433.449699024,434.53176720099987,435.63401534399986,436.721660059,437.7994586499999,438.8845340769999,439.961082112,441.02712589299995,442.1088984209998,443.1965768509999,444.29113431199994,445.3734378109998,446.47726667999996,447.558481433,448.6518753199998,449.7346551979999,450.8222025839998,451.91401166699984,452.9972886809999,454.0898081409998,455.1761253569998,456.2426952469998,457.32823963399983,458.42422218799993,459.5018623159999,460.5705719389998,461.67741938799986,462.7794297629998,463.8683778129998,464.9448881819999,466.038437487,467.13716891299987,468.226503976,469.3255929259999,470.418939958,471.50442333499996,472.581191797,473.66591609199986,474.7615032199999,475.8403499269998,476.93499797999993,478.0163159389999,479.0931761029999,480.185415939,481.271036805,482.35890567399997,483.44908436699984,484.53871659599986,485.6279162149999,486.72954138299997,487.8230701819998,488.901846237,489.9809365079998,491.057288836,492.1367574809999,493.2252988779999,494.28280748099996,495.361017576,496.42299038399983,497.50901342199995,498.6112590209998,499.6839262189999,500.77383758999986,501.86741588099994,502.9668454969999,504.04883123499985,505.126529334,506.2124895929999,507.28751759399984,508.36026668599993,509.4479961569998,510.551169953,511.6402650189998,512.7151856619998,513.816089447,514.8928297999998,515.9722272909999,517.0612213959998,518.1420453989999,519.2268856629998,520.3064361349998,521.4010933759998,522.4592490999999,523.5208752609999,524.584739919,525.641700445,526.7183103549999,527.7995319479999,528.8692457549998,529.948226174,531.023501873,532.1001892109998,533.163744404,534.2330958989999,535.2886921129998,536.3660033399999,537.4449997199999,538.5166564729998,539.5915088639999,540.6645992419999,541.7469242239999,542.8441437889999,543.915505923,544.9969439269998,546.068460471,547.146649479,548.210212404,549.2847495829999,550.3611898949998,551.449986977,552.5203903529998,553.597210102,554.6908429309999,555.7584127109999,556.8266901439999,557.8917777049999,558.943722131,560.0279179419999,561.127078238,562.2068286169999,563.284837702,564.3564260359999,565.4254117559999,566.5152327029998,567.5692190369998,568.6164077639999,569.6691650339999,570.7695714259999,571.842925123,572.906509899,573.9873088039999,575.0559928349999,576.125381955,577.1780074269998,578.230724006,579.3071055429998,580.3814958819999,581.4666036179999,582.5380126719999,583.6169899019999,584.687723024,585.7711603349999,586.8406447619998,587.8968943999998,588.9680845949999,590.002322804,591.0583429639998,592.1356986019998,593.195679016,594.2700976829999,595.3506662769998,596.425180107,597.4821102709998,598.538859754,599.605430287,600.6907761109999,601.72949739,602.7715354089999,603.8432244889998,604.931271337,606.0044901079998,607.0896413139999,608.1668286019999,609.2428063969999,610.3274530399999,611.4189357169998,612.505243223,613.5941148319998,614.6898335589999,615.7565670839999,616.8448722969999,617.9380884089999,619.0222611279999,620.0965023889999,621.1790560299999,622.2599552909999,623.3223967479998,624.3966501309999,625.4565436229998,626.5377208519999,627.614815317,628.7011726129999,629.7843109589999,630.852051674,631.941616333,633.013209603,634.0996999859999,635.1664476469998,636.2510845099998,637.3316574839998,638.422964229,639.5116647959999,640.595958314,641.6789610479998,642.7635322909998,643.8683726539998,644.9617343959999,646.0366111239998,647.0918094419999,648.1420749239999,649.223383027,650.2903681979999,651.362121575,652.4446794429998,653.5160454989998,654.5915550469999,655.659817815,656.714274554,657.8001919459998,658.8728073699999,659.9359136129999,660.995845272,662.0779515019999,663.1644145159999,664.2676044729999,665.3874391459999,666.4618463489999,667.559060998,668.626494934,669.713657325,670.7956266269998,671.8933967429998,672.9682702089999,674.041072648,675.1118451379998,676.1845171399998,677.2648996119999,678.3445559889999,679.4293713929999,680.528023934,681.6114988769998,682.6996221509999,683.775909364,684.8521422729998,685.9575575669999,687.0546601709998,688.136898904,689.210597629,690.3183301299998,691.4043359779998,692.5224741309999,693.6007206139998,694.68246142,695.7462983359999,696.821223015,697.901700893,698.978126943,700.068362863,701.1441888939999,702.2287311129999,703.3147937849999,704.4408130709999,705.5274200449999,706.602754088,707.6755375719999,708.758084456,709.8524191619999,710.9796307899999,712.0670977949999,713.1668113579999,714.2791603609999,715.3592877859999,716.4445433059998,717.5416345879999,718.6269902639999,719.7060190569998,720.7986659239998,721.8816281679999,722.9778245619998,724.059004082,725.1449667489999,726.2154112249998,727.317412852,728.423154286,729.5017378729999,730.6043698229998,731.7207068589998,732.826562451,733.896832981,734.974566784,736.057879146,737.1561322339999,738.2266310409998,739.322892572,740.4026203239998,741.483812167,742.5576909919998,743.645905654,744.7410197729998,745.8276512069999,746.9234061349998,748.0220619779998,749.1115922059998,750.190892936,751.2706862589998,752.361670176,753.4453961989998,754.5331141749998,755.6032723989999,756.7020560039998,757.793836822,758.8992125689999,759.9810634769999,761.0613611009999,762.1537513879998,763.2445854369998,764.3362261129998,765.4214324899999,766.5120436109999,767.6265516249998,768.7383374669998,769.8374385709999,770.9392647729999,772.0197356429999,773.0985148579998,774.1864075859999,775.2605561959999,776.3380712179999,777.4174420129998,778.5200981209998,779.6056558089999,780.7042593729998,781.7902630079998,782.8850038879998,783.9721449319998,785.0527339909997,786.1330673729997,787.2341336060001,788.3220655289999,789.4144965059998,790.523061225,791.6074891989999,792.68183875,793.753370352,794.837223024,795.9253493230001,797.0170720169997,798.1132803939997,799.230143517,800.3085781090001,801.3722608539999,802.4716647449998,803.5217703279998,804.5965717859997,805.6808272169999,806.7932174119999,807.8892459589999,808.9811951599997,810.0711818950001,811.1640234859999,812.2751297009997,813.3423601339998,814.4096589909998,815.4935877360001,816.582824718,817.6479970580001,818.7208810730001,819.7951660470001,820.8709409800001,821.9411107559997,823.017436977,824.0691412369999,825.1421061359999,826.2223246249998,827.3050786880001,828.408612082,829.496011165,830.5852407289997,831.687286262,832.7618666669998,833.8166204510001,834.9013685140001,835.9823144139998,837.0407757779997,838.1063545119998,839.1855343340001,840.2802204799998,841.3577318340001,842.437629925,843.5256624589999,844.6108932039999,845.7161717189999,846.8158344819997,847.8996104159999,849.0002614799998,850.0699871049999,851.1491082059999,852.2392283799998,853.3189469010001,854.4095991279999,855.483837124,856.5869838619999,857.6620087029999,858.7355535280001,859.8204968960001,860.9339590869997,862.030890236,863.08989554,864.1671845859998,865.2634286259997,866.3519629239997,867.4329401009998,868.5076497449998,869.5784696049998,870.6583477789998,871.720995381,872.770437078,873.8509333479999,874.9355482459998,875.9996380770001,877.0909628910001,878.1876637009998,879.2865667369999,880.3838583459999,881.4807537429999,882.5481920129998,883.630871992,884.6943419809998,885.7914307089998,886.8758314619997,887.9632043159997,889.0369454129998,890.1307415459999,891.1980840989997,892.2964420820001,893.3819055679999,894.4669661979999,895.5631716529999,896.6951621249998,897.7806765029998,898.8760549020001,899.9642853019998,901.0467500279999,902.1249903139999,903.207359794,904.31507416,905.4103931439997,906.4996512770001,907.572229055,908.6476255149998,909.745971003,910.8357706169998,911.9209257229998,912.9990070470001,914.0810137689998,915.1715583829998,916.257185915,917.3287456850001,918.4103358350001,919.4963185059999,920.6012314439997,921.7042172029999,922.7843096270001,923.8703240019997,924.962812002,926.0439327709998,927.1449666819997,928.2404308099997,929.330534513,930.4215987,931.5019505039998,932.5893299359998,933.6836562010001,934.7866367609997,935.8731659009998,936.9605473670001,938.0559975119997,939.1366473549999,940.241109845,941.329971335,942.4296638210001,943.5372421459999,944.6099669409998,945.677417867,946.74021156,947.838064026,948.9346977329999,950.0025712629997,951.07346502,952.1583231520001,953.2549667119999,954.330297149,955.4209021859999,956.5287919129998,957.6052638869999,958.701209309,959.7892940179997,960.872576903,961.9468021079999,963.0249393409997,964.1145377969999,965.1907151959997,966.2865250079997,967.400485163,968.4921850620001,969.573601326,970.6573460269999,971.7418272709999,972.8210245409998,973.899419823,974.9790271439999,976.0791009039997,977.159951292,978.2549329359997,979.3362447459997,980.4260195740001,981.4992772849998,982.5589373350001,983.646808021,984.716699584,985.7848200219998,986.8893206719997,987.9585683580001,989.047788438,990.1307102379999,991.1995512410001,992.286840168,993.3665481239998,994.4431039799999,995.5398500260001,996.6356215129997,997.7491953339998,998.843176658,999.928775567,1001.0158783489999,1002.0942053329998,1003.1708020489998,1004.2463331440001,1005.3148362609998,1006.3912788639998,1007.4816504739999,1008.553174249,1009.6365810159998,1010.7279833529999,1011.81062038,1012.890278523,1013.9832453199999,1015.0623876479997,1016.145404569,1017.2593531939999,1018.3507324569998,1019.4531526180001,1020.5550922499999,1021.649575486,1022.7342354689997,1023.8307936049998,1024.9121484979999,1025.9970828379999,1027.0837144109998,1028.1873504829998,1029.287686932,1030.368895124,1031.4584156889998,1032.5482461049999,1033.6524147879998,1034.7204571269997,1035.811820489,1036.910417838,1038.0001875239998,1039.087892676,1040.1850398639997,1041.2728118909997,1042.360883744,1043.4445413249998,1044.52966433,1045.6199538459998,1046.722703352,1047.81707651,1048.902034545,1049.980209301,1051.0785701059997,1052.170627409,1053.2751173929998,1054.3963804029997,1055.491090972,1056.5712524549997,1057.650504677,1058.733767389,1059.825989914,1060.9168426129997,1062.002920484,1063.0859523709998,1064.1637271409998,1065.251599297,1066.3195860479998,1067.430008183,1068.54068656,1069.6216912069997,1070.69902436,1071.7932347559997,1072.886304858,1073.981809826,1075.0744553409997,1076.157335662,1077.24402614,1078.3439370190001,1079.4361305299997,1080.5222141699999,1081.6413557839999,1082.7267016529997,1083.805988064,1084.898891961,1085.9780915489998,1087.063593395,1088.143557578,1089.23047595,1090.3427778469998,1091.4265919869997,1092.5123136720001,1093.5998180039999,1094.6985594709997,1095.7688213549998,1096.858343648,1097.9455084979998,1099.0235973689998,1100.1160976029998,1101.2053258969997,1102.280322706,1103.368295213,1104.489441391,1105.569359504,1106.672303948,1107.764883942,1108.849506103,1109.9407885949997,1111.0316909359997,1112.1361601649999,1113.2428211909998,1114.3405328289998,1115.4361846669997,1116.5200274379997,1117.606054523,1118.695572808,1119.7792511249997,1120.856995293,1121.9575859529998,1123.0544138869998,1124.147762466,1125.2388190629997,1126.3150291929999,1127.410007485,1128.501318077,1129.5816029259997,1130.680455634,1131.7683939769997,1132.8446816059998,1133.9513938789999,1135.056752714,1136.1673823939998,1137.257172377,1138.34263154,1139.438657813,1140.5207160100001,1141.626771681,1142.7172954599998,1143.7939150099999,1144.899672062,1145.995635898,1147.0938696759997,1148.1790083439998,1149.277162612,1150.3782091649998,1151.4842395959997,1152.5676581139999,1153.655035563,1154.75170929,1155.8546848569997,1156.947777001,1158.041798169,1159.1370397919998,1160.234574619,1161.3184890969999,1162.4363048079997,1163.520718465,1164.6080449059998,1165.699530216,1166.8053930019998,1167.8884448809997,1168.9904812889997,1170.0779826309997,1171.1731680209998,1172.280271504,1173.374345301,1174.464078626,1175.555992663,1176.650383595,1177.732762769,1178.832248513,1179.9244606559998,1181.037376868,1182.1480259479997,1183.2512293909997,1184.377978784,1185.453547846,1186.533730504,1187.6169401639997,1188.6950207919997,1189.791536,1190.8746194469998,1191.958367089,1193.0198856619998,1194.12426584,1195.2266984299997,1196.30593999,1197.3793387419998,1198.466010718,1199.5477702199998,1200.664073789,1201.75524474,1202.8613408469998,1203.950344772,1205.0513850279997,1206.142120409,1207.2107567749997,1208.3035622579998,1209.403933964,1210.5096037789997,1211.5989775249998,1212.6911770109998,1213.7771077609998,1214.8684785959997,1215.957277744,1217.0593559659999,1218.157937928,1219.2548496769998,1220.3442485409998,1221.4276042459999,1222.542357699,1223.639520254,1224.7491156949998,1225.8314009939998,1226.914654421,1228.0179691739997,1229.1041543499998,1230.2070462609997,1231.298658462,1232.398261997,1233.4761710729997,1234.564650131,1235.636665063,1236.7158487619997,1237.7823606259997,1238.8573992149998,1239.9378224519999,1241.0223184529998,1242.084998055,1243.157192859,1244.2220676669997,1245.2787893759998,1246.353098193,1247.4171057639999,1248.4858796719998,1249.542086787,1250.6020148159998,1251.6515094129998,1252.6973135639998,1253.741191166,1254.837231888,1255.892945584,1256.985869551,1258.0592411649998,1259.0969303489999,1260.1468735729998,1261.2062169149997,1262.27109863,1263.353403416,1264.4238549579998,1265.499035476,1266.5529935719999,1267.633355111,1268.7080587029998,1269.7579409469997,1270.8180928639997,1271.8833481649997,1272.9531838329997,1274.028975385,1275.101271449,1276.1843839779997,1277.2708936719998,1278.344220745,1279.4219935999997,1280.4898761429997,1281.5653973389997,1282.6332179559997,1283.6837901309998,1284.7612857379997,1285.840494465,1286.91101955,1287.9646446949998,1289.0497438179998,1290.1152494279997,1291.202484578,1292.272930852,1293.3638230139998,1294.4353819629998,1295.4991380999998,1296.603124393,1297.6852754919998,1298.7605064769998,1299.8353405209998,1300.9312039599997,1301.993241628,1303.0733877679997,1304.164267943,1305.2415379429997,1306.3202912959998,1307.406540236,1308.478435617,1309.577056726,1310.677524302,1311.7531866439997,1312.831376882,1313.8925764529997,1314.9552570019998,1316.018583791,1317.093857615,1318.171317183,1319.2412221829998,1320.3350198189999,1321.4123070409998,1322.487849462,1323.572182613,1324.6704900819998,1325.7544672819997,1326.838008646,1327.908974751,1329.006382766,1330.0850783479998,1331.1754197349999,1332.2654214329998,1333.342700377,1334.447815702,1335.529135041,1336.639020287,1337.701004709,1338.803081063,1339.895938301,1340.9966381769998,1342.0906857029997,1343.177525549,1344.273386695,1345.352485571,1346.4344732389998,1347.497954369,1348.576468557,1349.6757357129998,1350.7477249629999,1351.8295897179999,1352.9108260749997,1354.0134059539998,1355.1101793189998,1356.192456378,1357.2794817259999,1358.3698659569998,1359.4496076929997,1360.511251864,1361.5907633519998,1362.6744617379998,1363.7491549509998,1364.843776716,1365.9166525409998,1366.997020825,1368.0822950619997,1369.185255267],\"y\":[0.0,99.9,101.8,100.4,101.5,99.6,101.9,100.7,100.9,100.2,102.0,100.0,101.8,100.7,100.0,101.4,100.8,100.9,100.8,101.4,101.1,100.6,101.3,100.5,100.6,100.3,101.5,100.4,101.7,100.7,101.0,99.8,100.7,101.5,101.0,100.8,100.7,100.6,101.1,100.6,101.9,100.6,100.3,100.4,101.2,100.4,101.5,100.5,101.5,100.7,100.3,101.0,100.4,100.9,100.2,101.2,101.1,101.0,100.3,101.0,101.1,100.8,100.1,102.0,100.5,100.5,100.7,101.5,100.2,100.2,101.0,102.0,101.3,99.6,101.5,100.4,100.5,101.6,100.1,100.6,101.5,101.0,99.9,101.7,100.4,101.1,101.3,100.4,100.3,101.5,101.3,100.4,101.1,101.3,100.3,101.1,100.7,100.6,100.7,102.1,99.6,101.7,100.4,100.1,102.2,100.0,101.9,101.0,100.6,99.8,101.0,101.1,100.0,100.6,102.0,99.4,101.5,100.9,100.3,101.0,101.9,100.2,100.2,101.5,101.5,100.2,100.7,101.3,101.1,100.4,100.2,101.1,101.1,100.8,101.0,100.6,101.1,101.3,100.4,100.4,101.5,101.1,99.7,102.2,100.6,100.9,100.8,99.5,102.1,99.8,101.2,101.3,100.3,100.9,101.0,101.1,101.1,100.3,100.8,101.1,100.6,100.6,101.5,100.2,100.2,101.2,100.1,101.5,100.8,100.1,101.3,100.8,100.6,100.2,101.5,100.6,100.6,101.7,100.0,101.6,99.9,101.2,100.3,100.5,100.7,101.6,100.8,100.5,100.4,101.6,100.3,100.8,101.6,100.3,100.5,101.1,101.1,100.8,99.9,101.1,100.6,100.9,101.2,100.9,100.8,100.9,100.9,100.5,100.6,101.4,101.0,100.5,101.4,100.1,101.0,101.0,100.0,101.4,101.4,100.1,100.4,101.3,100.9,101.1,101.3,100.5,100.6,101.1,102.0,100.0,100.9,101.3,100.5,100.6,101.6,100.5,100.8,100.5,100.5,101.4,100.7,101.3,99.8,101.1,100.9,101.2,100.1,100.6,100.0,101.1,100.9,101.3,101.0,100.5,100.3,101.1,101.2,100.3,101.5,100.1,100.6,100.9,101.1,101.1,100.3,99.8,100.4,102.0,100.6,100.4,101.2,100.2,101.5,101.7,99.2,102.0,100.1,101.4,100.2,102.0,99.5,100.9,102.4,99.6,101.1,100.9,100.7,100.0,101.5,100.1,102.3,100.0,101.1,100.0,101.5,100.2,101.3,102.1,100.3,101.0,99.9,101.5,100.6,100.5,101.7,100.7,100.5,101.1,101.1,99.7,101.7,101.4,100.4,101.1,101.4,99.5,101.3,101.0,100.7,100.3,101.7,101.1,100.0,100.4,101.8,100.3,101.6,100.0,100.9,100.7,100.6,100.6,100.9,100.4,101.5,100.7,99.9,101.1,101.5,101.3,99.9,100.8,100.9,101.1,100.1,101.2,101.2,100.0,101.1,100.4,101.7,100.4,101.1,101.1,100.7,101.1,100.5,100.6,101.6,99.6,101.7,100.0,100.6,100.7,100.8,100.8,100.8,101.0,101.2,100.5,100.0,101.6,100.6,100.8,101.2,100.8,101.2,100.6,101.0,101.1,101.1,100.7,100.3,100.6,101.5,100.6,101.6,100.7,99.9,100.4,101.9,100.8,100.1,101.2,100.8,101.4,99.8,101.5,100.7,101.0,100.7,99.8,101.1,101.1,101.4,100.3,101.3,100.8,100.2,101.4,100.7,101.5,100.8,101.5,100.7,101.1,99.8,101.5,101.6,100.3,101.3,100.4,101.3,100.2,101.1,100.3,101.6,100.1,100.3,101.5,98.3,98.2,100.1,96.9,100.4,96.6,97.7,101.3,88.1,95.9,98.0,95.6,95.2,94.0,93.8,96.3,97.3,100.1,98.0,100.6,98.3,96.4,94.8,97.3,90.0,83.2,90.9,91.3,97.6,98.9,92.3,100.9,96.9,97.3,99.8,91.9,97.6,97.7,97.9,98.4,93.4,100.1,97.7,94.5,99.4,96.3,98.3,92.5,89.4,95.4,94.1,86.0,92.3,96.8,81.4,99.4,97.1,99.1,94.5,96.7,93.8,85.6,77.6,88.1,95.6,101.0,96.1,100.5,89.5,98.9,99.3,97.1,89.7,94.3,95.5,97.8,89.3,98.5,98.3,97.2,96.6,98.8,92.7,91.7,88.3,89.4,99.6,98.3,101.0,98.3,88.7,90.7,89.0,89.2,76.4,82.6,100.0,88.5,96.8,100.9,90.8,92.6,89.3,94.0,96.6,94.0,98.6,98.9,98.2,95.3,95.1,92.6,94.7,99.9,83.2,86.2,93.7,95.3,98.7,96.2,91.2,81.4,81.4,90.9,95.8,78.0,89.2,98.9,99.3,89.5,94.0,97.5,96.7,95.9,94.4,98.5,101.0,100.4,91.9,101.1,97.9,97.8,93.1,96.1,94.4,85.7,87.5,97.2,83.2,86.3,93.0,96.0,90.8,89.9,94.3,83.8,92.8,97.7,96.2,99.9,101.0,99.6,97.0,93.1,95.9,94.2,95.8,86.2,87.6,92.5,94.7,90.5,96.1,94.3,96.7,88.9,82.5,93.0,95.1,82.8,93.4,94.3,93.0,97.9,100.9,92.1,93.9,86.2,97.5,99.8,94.7,90.2,95.1,92.5,91.4,99.0,100.0,94.9,100.1,98.8,98.3,97.6,92.9,100.4,94.8,97.9,98.7,100.2,100.4,101.1,96.5,91.5,88.4,94.9,95.3,95.7,100.0,101.3,97.7,98.5,100.4,97.6,100.4,98.8,94.2,100.5,100.2,100.2,100.0,94.4,99.1,100.4,100.3,93.1,89.0,94.3,99.7,100.3,97.1,97.6,89.7,97.1,100.4,89.0,99.8,99.4,97.7,89.7,90.0,89.5,101.1,92.5,92.1,95.4,91.6,96.8,97.4,99.5,99.4,99.5,96.5,98.2,95.4,95.4,99.0,88.6,100.2,93.4,99.2,100.8,96.8,96.1,96.3,97.0,100.8,99.8,97.7,101.8,100.5,87.2,100.1,99.8,97.2,97.3,98.4,95.9,91.9,95.4,97.9,96.7,101.0,96.7,96.8,99.3,98.1,95.3,100.8,98.4,98.9,99.2,97.7,97.7,96.1,100.6,100.2,100.8,97.6,95.8,97.4,87.4,99.1,96.2,99.6,97.8,98.9,97.6,97.1,94.5,98.8,99.0,91.8,94.6,100.6,101.0,91.1,90.4,89.4,98.5,88.8,88.3,80.8,96.9,100.9,97.0,97.0,99.3,97.3,100.7,96.8,85.3,99.6,88.8,90.7,81.6,89.9,99.6,91.9,94.5,99.3,100.4,99.5,98.2,100.6,98.1,85.1,93.6,93.6,100.0,93.5,99.6,98.8,94.9,88.5,96.8,97.0,93.9,85.0,92.8,100.3,92.8,93.4,93.0,91.5,89.8,89.4,82.9,88.8,99.6,86.5,99.9,101.2,95.5,92.0,100.3,89.0,92.4,92.2,99.4,95.0,94.7,95.0,99.7,92.8,100.1,100.4,98.6,88.5,99.8,94.9,98.6,99.2,99.8,96.5,98.9,100.2,101.3,100.1,92.3,93.9,99.2,100.9,97.7,101.1,98.0,97.2,101.3,90.5,95.2,100.4,100.5,97.9,99.1,98.5,94.3,99.0,99.9,101.3,100.0,98.1,97.2,90.1,101.4,100.6,96.6,101.2,100.4,90.7,96.9,101.0,100.9,100.2,90.4,86.2,71.5,95.6,97.6,82.4,93.4,92.2,98.5,90.2,99.9,101.1,96.6,97.6,95.6,97.9,94.0,100.2,87.2,94.8,95.8,99.6,95.3,100.8,97.8,100.5,98.2,97.4,100.0,100.9,99.9,97.7,99.0,94.5,100.6,86.8,89.2,90.7,88.9,96.0,92.6,100.1,96.0,92.6,101.2,92.6,94.7,96.6,95.8,99.7,100.5,94.9,95.7,93.7,99.4,96.7,96.4,100.3,99.0,97.1,101.5,100.8,99.8,99.1,100.6,97.3,97.9,100.5,100.8,97.1,100.7,98.7,98.6,99.4,95.3,101.4,95.7,99.7,100.9,99.9,101.0,100.0,96.0,85.2,100.8,99.2,96.4,101.1,99.3,101.1,99.3,100.6,101.4,100.0,95.2,101.4,97.7,100.2,94.7,101.6,97.8,99.9,100.5,99.1,99.1,98.8,99.8,99.9,101.3,99.7,90.0,99.3,90.8,100.0,100.8,98.1,96.5,97.8,100.6,100.4,99.8,97.0,97.5,100.0,99.8,102.2,99.2,100.4,94.5,100.6,93.6,98.6,100.0,101.2,100.7,99.6,100.4,94.7,91.9,91.6,95.5,91.1,98.3,100.7,101.0,96.7,100.2,99.9,99.1,99.7,100.7,99.6,97.1,100.8,101.4,100.3,97.5,96.7,96.9,99.4,101.0,96.9,97.4,100.9,98.5,99.7,99.0,94.8,99.5,101.7,96.3,101.0,99.3,94.8,101.2,100.4,99.9,94.5,100.4,101.3,99.8,95.8,98.1,93.8,100.4,100.4,99.2,100.4,100.2,99.0,100.4,98.8,92.0,101.2,97.9,99.7,100.5,97.7,101.1,98.7,100.2,92.2,97.5,101.7,99.5,97.0,98.9,100.2,98.6,101.2,97.8,99.1,97.1,97.8,91.5,100.0,101.6,95.2,100.8,99.7,101.2,96.7,100.9,98.8,96.5,98.5,100.6,101.5,89.5,96.0,100.7,100.1,89.4,85.6,100.8,100.3,100.8,99.5,94.6,96.3,97.2,84.2,96.1,97.2,98.6,96.4,100.7,100.4,98.0,99.2,98.9,99.2,102.1,97.3,100.6,96.0,100.3,100.0,97.0,84.9,97.0,97.6,100.6,96.2,97.3,100.2,97.4,97.0,100.1,92.8,96.7,95.3,99.6,94.1,93.3,94.8,94.6,91.2,94.0,96.4,88.1,91.5,88.6,84.1,85.3,98.5,90.9,99.7,86.6,81.9,84.8,88.7,95.8,92.4,90.6,92.1,82.5,86.1,98.6,92.4,99.0,92.0,90.7,95.7,89.5,92.3,93.0,95.0,99.3,95.5,96.7,91.8,93.3,96.5,85.2,94.3,81.6,95.8,85.4,98.4,98.1,98.1,96.1,99.6,96.0,99.8,99.5,95.8,97.6,87.6,87.0,96.3,92.8,83.4,90.2,98.0,97.4,99.1,92.0,96.5,95.2,94.1,88.4,93.9,89.1,95.3,91.4,95.6,93.9,94.1,96.5,95.0,94.1,95.2,95.7,100.1,97.2,96.3,99.3,100.4,100.8,100.0,89.5,92.6,95.2,100.8,98.7,98.5,100.4,92.7,98.0,83.7,96.4,99.2,89.6,99.8,97.1,97.0,93.9,95.2,101.2,100.0,98.2,81.0,91.7,98.7,91.2,100.5,97.9,100.0,100.4,100.6]},\"selected\":{\"id\":\"1040\"},\"selection_policy\":{\"id\":\"1041\"}},\"id\":\"1030\",\"type\":\"ColumnDataSource\"},{\"attributes\":{},\"id\":\"1039\",\"type\":\"BasicTickFormatter\"},{\"attributes\":{\"data_source\":{\"id\":\"1030\"},\"glyph\":{\"id\":\"1031\"},\"hover_glyph\":null,\"muted_glyph\":null,\"nonselection_glyph\":{\"id\":\"1032\"},\"selection_glyph\":null,\"view\":{\"id\":\"1034\"}},\"id\":\"1033\",\"type\":\"GlyphRenderer\"},{\"attributes\":{},\"id\":\"1041\",\"type\":\"UnionRenderers\"}],\"root_ids\":[\"1002\"]},\"title\":\"Bokeh Application\",\"version\":\"2.1.1\"}};\n",
       "  var render_items = [{\"docid\":\"9aa88314-4cc4-47f8-8ad9-59eec38f049b\",\"root_ids\":[\"1002\"],\"roots\":{\"1002\":\"8709a5f1-4062-411b-9db2-4f2f9a28ec3c\"}}];\n",
       "  root.Bokeh.embed.embed_items_notebook(docs_json, render_items);\n",
       "\n",
       "  }\n",
       "  if (root.Bokeh !== undefined) {\n",
       "    embed_document(root);\n",
       "  } else {\n",
       "    var attempts = 0;\n",
       "    var timer = setInterval(function(root) {\n",
       "      if (root.Bokeh !== undefined) {\n",
       "        clearInterval(timer);\n",
       "        embed_document(root);\n",
       "      } else {\n",
       "        attempts++;\n",
       "        if (attempts > 100) {\n",
       "          clearInterval(timer);\n",
       "          console.log(\"Bokeh: ERROR: Unable to run BokehJS code because BokehJS library is missing\");\n",
       "        }\n",
       "      }\n",
       "    }, 10, root)\n",
       "  }\n",
       "})(window);"
      ],
      "application/vnd.bokehjs_exec.v0+json": ""
     },
     "metadata": {
      "application/vnd.bokehjs_exec.v0+json": {
       "id": "1002"
      }
     },
     "output_type": "display_data"
    },
    {
     "data": {
      "text/html": [
       "<div style=\"display: table;\"><div style=\"display: table-row;\"><div style=\"display: table-cell;\"><b title=\"bokeh.plotting.figure.Figure\">Figure</b>(</div><div style=\"display: table-cell;\">id&nbsp;=&nbsp;'1002', <span id=\"1139\" style=\"cursor: pointer;\">&hellip;)</span></div></div><div class=\"1138\" style=\"display: none;\"><div style=\"display: table-cell;\"></div><div style=\"display: table-cell;\">above&nbsp;=&nbsp;[],</div></div><div class=\"1138\" style=\"display: none;\"><div style=\"display: table-cell;\"></div><div style=\"display: table-cell;\">align&nbsp;=&nbsp;'start',</div></div><div class=\"1138\" style=\"display: none;\"><div style=\"display: table-cell;\"></div><div style=\"display: table-cell;\">aspect_ratio&nbsp;=&nbsp;None,</div></div><div class=\"1138\" style=\"display: none;\"><div style=\"display: table-cell;\"></div><div style=\"display: table-cell;\">aspect_scale&nbsp;=&nbsp;1,</div></div><div class=\"1138\" style=\"display: none;\"><div style=\"display: table-cell;\"></div><div style=\"display: table-cell;\">background&nbsp;=&nbsp;None,</div></div><div class=\"1138\" style=\"display: none;\"><div style=\"display: table-cell;\"></div><div style=\"display: table-cell;\">background_fill_alpha&nbsp;=&nbsp;1.0,</div></div><div class=\"1138\" style=\"display: none;\"><div style=\"display: table-cell;\"></div><div style=\"display: table-cell;\">background_fill_color&nbsp;=&nbsp;'#ffffff',</div></div><div class=\"1138\" style=\"display: none;\"><div style=\"display: table-cell;\"></div><div style=\"display: table-cell;\">below&nbsp;=&nbsp;[LinearAxis(id='1013', ...)],</div></div><div class=\"1138\" style=\"display: none;\"><div style=\"display: table-cell;\"></div><div style=\"display: table-cell;\">border_fill_alpha&nbsp;=&nbsp;1.0,</div></div><div class=\"1138\" style=\"display: none;\"><div style=\"display: table-cell;\"></div><div style=\"display: table-cell;\">border_fill_color&nbsp;=&nbsp;'#ffffff',</div></div><div class=\"1138\" style=\"display: none;\"><div style=\"display: table-cell;\"></div><div style=\"display: table-cell;\">center&nbsp;=&nbsp;[Grid(id='1016', ...), Grid(id='1020', ...), Legend(id='1042', ...)],</div></div><div class=\"1138\" style=\"display: none;\"><div style=\"display: table-cell;\"></div><div style=\"display: table-cell;\">css_classes&nbsp;=&nbsp;[],</div></div><div class=\"1138\" style=\"display: none;\"><div style=\"display: table-cell;\"></div><div style=\"display: table-cell;\">disabled&nbsp;=&nbsp;False,</div></div><div class=\"1138\" style=\"display: none;\"><div style=\"display: table-cell;\"></div><div style=\"display: table-cell;\">extra_x_ranges&nbsp;=&nbsp;{},</div></div><div class=\"1138\" style=\"display: none;\"><div style=\"display: table-cell;\"></div><div style=\"display: table-cell;\">extra_y_ranges&nbsp;=&nbsp;{'memory': Range1d(id='1044', ...)},</div></div><div class=\"1138\" style=\"display: none;\"><div style=\"display: table-cell;\"></div><div style=\"display: table-cell;\">frame_height&nbsp;=&nbsp;None,</div></div><div class=\"1138\" style=\"display: none;\"><div style=\"display: table-cell;\"></div><div style=\"display: table-cell;\">frame_width&nbsp;=&nbsp;None,</div></div><div class=\"1138\" style=\"display: none;\"><div style=\"display: table-cell;\"></div><div style=\"display: table-cell;\">height&nbsp;=&nbsp;None,</div></div><div class=\"1138\" style=\"display: none;\"><div style=\"display: table-cell;\"></div><div style=\"display: table-cell;\">height_policy&nbsp;=&nbsp;'auto',</div></div><div class=\"1138\" style=\"display: none;\"><div style=\"display: table-cell;\"></div><div style=\"display: table-cell;\">hidpi&nbsp;=&nbsp;True,</div></div><div class=\"1138\" style=\"display: none;\"><div style=\"display: table-cell;\"></div><div style=\"display: table-cell;\">js_event_callbacks&nbsp;=&nbsp;{},</div></div><div class=\"1138\" style=\"display: none;\"><div style=\"display: table-cell;\"></div><div style=\"display: table-cell;\">js_property_callbacks&nbsp;=&nbsp;{},</div></div><div class=\"1138\" style=\"display: none;\"><div style=\"display: table-cell;\"></div><div style=\"display: table-cell;\">left&nbsp;=&nbsp;[LinearAxis(id='1017', ...)],</div></div><div class=\"1138\" style=\"display: none;\"><div style=\"display: table-cell;\"></div><div style=\"display: table-cell;\">lod_factor&nbsp;=&nbsp;10,</div></div><div class=\"1138\" style=\"display: none;\"><div style=\"display: table-cell;\"></div><div style=\"display: table-cell;\">lod_interval&nbsp;=&nbsp;300,</div></div><div class=\"1138\" style=\"display: none;\"><div style=\"display: table-cell;\"></div><div style=\"display: table-cell;\">lod_threshold&nbsp;=&nbsp;2000,</div></div><div class=\"1138\" style=\"display: none;\"><div style=\"display: table-cell;\"></div><div style=\"display: table-cell;\">lod_timeout&nbsp;=&nbsp;500,</div></div><div class=\"1138\" style=\"display: none;\"><div style=\"display: table-cell;\"></div><div style=\"display: table-cell;\">margin&nbsp;=&nbsp;(0, 0, 0, 0),</div></div><div class=\"1138\" style=\"display: none;\"><div style=\"display: table-cell;\"></div><div style=\"display: table-cell;\">match_aspect&nbsp;=&nbsp;False,</div></div><div class=\"1138\" style=\"display: none;\"><div style=\"display: table-cell;\"></div><div style=\"display: table-cell;\">max_height&nbsp;=&nbsp;None,</div></div><div class=\"1138\" style=\"display: none;\"><div style=\"display: table-cell;\"></div><div style=\"display: table-cell;\">max_width&nbsp;=&nbsp;None,</div></div><div class=\"1138\" style=\"display: none;\"><div style=\"display: table-cell;\"></div><div style=\"display: table-cell;\">min_border&nbsp;=&nbsp;5,</div></div><div class=\"1138\" style=\"display: none;\"><div style=\"display: table-cell;\"></div><div style=\"display: table-cell;\">min_border_bottom&nbsp;=&nbsp;None,</div></div><div class=\"1138\" style=\"display: none;\"><div style=\"display: table-cell;\"></div><div style=\"display: table-cell;\">min_border_left&nbsp;=&nbsp;None,</div></div><div class=\"1138\" style=\"display: none;\"><div style=\"display: table-cell;\"></div><div style=\"display: table-cell;\">min_border_right&nbsp;=&nbsp;None,</div></div><div class=\"1138\" style=\"display: none;\"><div style=\"display: table-cell;\"></div><div style=\"display: table-cell;\">min_border_top&nbsp;=&nbsp;None,</div></div><div class=\"1138\" style=\"display: none;\"><div style=\"display: table-cell;\"></div><div style=\"display: table-cell;\">min_height&nbsp;=&nbsp;None,</div></div><div class=\"1138\" style=\"display: none;\"><div style=\"display: table-cell;\"></div><div style=\"display: table-cell;\">min_width&nbsp;=&nbsp;None,</div></div><div class=\"1138\" style=\"display: none;\"><div style=\"display: table-cell;\"></div><div style=\"display: table-cell;\">name&nbsp;=&nbsp;None,</div></div><div class=\"1138\" style=\"display: none;\"><div style=\"display: table-cell;\"></div><div style=\"display: table-cell;\">outline_line_alpha&nbsp;=&nbsp;1.0,</div></div><div class=\"1138\" style=\"display: none;\"><div style=\"display: table-cell;\"></div><div style=\"display: table-cell;\">outline_line_cap&nbsp;=&nbsp;'butt',</div></div><div class=\"1138\" style=\"display: none;\"><div style=\"display: table-cell;\"></div><div style=\"display: table-cell;\">outline_line_color&nbsp;=&nbsp;'#e5e5e5',</div></div><div class=\"1138\" style=\"display: none;\"><div style=\"display: table-cell;\"></div><div style=\"display: table-cell;\">outline_line_dash&nbsp;=&nbsp;[],</div></div><div class=\"1138\" style=\"display: none;\"><div style=\"display: table-cell;\"></div><div style=\"display: table-cell;\">outline_line_dash_offset&nbsp;=&nbsp;0,</div></div><div class=\"1138\" style=\"display: none;\"><div style=\"display: table-cell;\"></div><div style=\"display: table-cell;\">outline_line_join&nbsp;=&nbsp;'bevel',</div></div><div class=\"1138\" style=\"display: none;\"><div style=\"display: table-cell;\"></div><div style=\"display: table-cell;\">outline_line_width&nbsp;=&nbsp;1,</div></div><div class=\"1138\" style=\"display: none;\"><div style=\"display: table-cell;\"></div><div style=\"display: table-cell;\">output_backend&nbsp;=&nbsp;'canvas',</div></div><div class=\"1138\" style=\"display: none;\"><div style=\"display: table-cell;\"></div><div style=\"display: table-cell;\">plot_height&nbsp;=&nbsp;300,</div></div><div class=\"1138\" style=\"display: none;\"><div style=\"display: table-cell;\"></div><div style=\"display: table-cell;\">plot_width&nbsp;=&nbsp;800,</div></div><div class=\"1138\" style=\"display: none;\"><div style=\"display: table-cell;\"></div><div style=\"display: table-cell;\">renderers&nbsp;=&nbsp;[GlyphRenderer(id='1033', ...), GlyphRenderer(id='1048', ...)],</div></div><div class=\"1138\" style=\"display: none;\"><div style=\"display: table-cell;\"></div><div style=\"display: table-cell;\">reset_policy&nbsp;=&nbsp;'standard',</div></div><div class=\"1138\" style=\"display: none;\"><div style=\"display: table-cell;\"></div><div style=\"display: table-cell;\">right&nbsp;=&nbsp;[LinearAxis(id='1060', ...)],</div></div><div class=\"1138\" style=\"display: none;\"><div style=\"display: table-cell;\"></div><div style=\"display: table-cell;\">sizing_mode&nbsp;=&nbsp;None,</div></div><div class=\"1138\" style=\"display: none;\"><div style=\"display: table-cell;\"></div><div style=\"display: table-cell;\">subscribed_events&nbsp;=&nbsp;[],</div></div><div class=\"1138\" style=\"display: none;\"><div style=\"display: table-cell;\"></div><div style=\"display: table-cell;\">tags&nbsp;=&nbsp;[],</div></div><div class=\"1138\" style=\"display: none;\"><div style=\"display: table-cell;\"></div><div style=\"display: table-cell;\">title&nbsp;=&nbsp;Title(id='1003', ...),</div></div><div class=\"1138\" style=\"display: none;\"><div style=\"display: table-cell;\"></div><div style=\"display: table-cell;\">title_location&nbsp;=&nbsp;'above',</div></div><div class=\"1138\" style=\"display: none;\"><div style=\"display: table-cell;\"></div><div style=\"display: table-cell;\">toolbar&nbsp;=&nbsp;Toolbar(id='1025', ...),</div></div><div class=\"1138\" style=\"display: none;\"><div style=\"display: table-cell;\"></div><div style=\"display: table-cell;\">toolbar_location&nbsp;=&nbsp;'above',</div></div><div class=\"1138\" style=\"display: none;\"><div style=\"display: table-cell;\"></div><div style=\"display: table-cell;\">toolbar_sticky&nbsp;=&nbsp;True,</div></div><div class=\"1138\" style=\"display: none;\"><div style=\"display: table-cell;\"></div><div style=\"display: table-cell;\">visible&nbsp;=&nbsp;True,</div></div><div class=\"1138\" style=\"display: none;\"><div style=\"display: table-cell;\"></div><div style=\"display: table-cell;\">width&nbsp;=&nbsp;None,</div></div><div class=\"1138\" style=\"display: none;\"><div style=\"display: table-cell;\"></div><div style=\"display: table-cell;\">width_policy&nbsp;=&nbsp;'auto',</div></div><div class=\"1138\" style=\"display: none;\"><div style=\"display: table-cell;\"></div><div style=\"display: table-cell;\">x_range&nbsp;=&nbsp;Range1d(id='1005', ...),</div></div><div class=\"1138\" style=\"display: none;\"><div style=\"display: table-cell;\"></div><div style=\"display: table-cell;\">x_scale&nbsp;=&nbsp;LinearScale(id='1009', ...),</div></div><div class=\"1138\" style=\"display: none;\"><div style=\"display: table-cell;\"></div><div style=\"display: table-cell;\">y_range&nbsp;=&nbsp;Range1d(id='1007', ...),</div></div><div class=\"1138\" style=\"display: none;\"><div style=\"display: table-cell;\"></div><div style=\"display: table-cell;\">y_scale&nbsp;=&nbsp;LinearScale(id='1011', ...))</div></div></div>\n",
       "<script>\n",
       "(function() {\n",
       "  var expanded = false;\n",
       "  var ellipsis = document.getElementById(\"1139\");\n",
       "  ellipsis.addEventListener(\"click\", function() {\n",
       "    var rows = document.getElementsByClassName(\"1138\");\n",
       "    for (var i = 0; i < rows.length; i++) {\n",
       "      var el = rows[i];\n",
       "      el.style.display = expanded ? \"none\" : \"table-row\";\n",
       "    }\n",
       "    ellipsis.innerHTML = expanded ? \"&hellip;)\" : \"&lsaquo;&lsaquo;&lsaquo;\";\n",
       "    expanded = !expanded;\n",
       "  });\n",
       "})();\n",
       "</script>\n"
      ],
      "text/plain": [
       "Figure(id='1002', ...)"
      ]
     },
     "execution_count": 6,
     "metadata": {},
     "output_type": "execute_result"
    }
   ],
   "source": [
    "prof.visualize()"
   ]
  }
 ],
 "metadata": {
  "kernelspec": {
   "display_name": "ukb-analysis",
   "language": "python",
   "name": "ukb-analysis"
  },
  "language_info": {
   "codemirror_mode": {
    "name": "ipython",
    "version": 3
   },
   "file_extension": ".py",
   "mimetype": "text/x-python",
   "name": "python",
   "nbconvert_exporter": "python",
   "pygments_lexer": "ipython3",
   "version": "3.7.8"
  }
 },
 "nbformat": 4,
 "nbformat_minor": 4
}
